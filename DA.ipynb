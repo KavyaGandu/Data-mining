{
  "nbformat": 4,
  "nbformat_minor": 0,
  "metadata": {
    "colab": {
      "provenance": [],
      "authorship_tag": "ABX9TyMcl51k0eU6KT3L1gskK4eC",
      "include_colab_link": true
    },
    "kernelspec": {
      "name": "ir",
      "display_name": "R"
    },
    "language_info": {
      "name": "R"
    }
  },
  "cells": [
    {
      "cell_type": "markdown",
      "metadata": {
        "id": "view-in-github",
        "colab_type": "text"
      },
      "source": [
        "<a href=\"https://colab.research.google.com/github/KavyaGandu/Data-mining/blob/main/DA.ipynb\" target=\"_parent\"><img src=\"https://colab.research.google.com/assets/colab-badge.svg\" alt=\"Open In Colab\"/></a>"
      ]
    },
    {
      "cell_type": "code",
      "execution_count": 17,
      "metadata": {
        "colab": {
          "base_uri": "https://localhost:8080/"
        },
        "id": "CXl9ibIHwcmR",
        "outputId": "0ae9629f-40bb-4c37-dfa6-ff7902804b6f"
      },
      "outputs": [
        {
          "output_type": "stream",
          "name": "stderr",
          "text": [
            "Installing package into ‘/usr/local/lib/R/site-library’\n",
            "(as ‘lib’ is unspecified)\n",
            "\n"
          ]
        }
      ],
      "source": [
        "install.packages(\"klaR\")\n",
        "\n",
        "library(\"klaR\")\n"
      ]
    },
    {
      "cell_type": "code",
      "source": [
        "install.packages(\"MASS\")"
      ],
      "metadata": {
        "colab": {
          "base_uri": "https://localhost:8080/"
        },
        "id": "__t5sDPbylnh",
        "outputId": "e09f15a2-1f4b-43ab-e151-34fc68221992"
      },
      "execution_count": 18,
      "outputs": [
        {
          "output_type": "stream",
          "name": "stderr",
          "text": [
            "Installing package into ‘/usr/local/lib/R/site-library’\n",
            "(as ‘lib’ is unspecified)\n",
            "\n"
          ]
        }
      ]
    },
    {
      "cell_type": "code",
      "source": [
        "library(MASS)"
      ],
      "metadata": {
        "id": "m6sK5poOysez"
      },
      "execution_count": 19,
      "outputs": []
    },
    {
      "cell_type": "code",
      "source": [
        "load(\"/content/pima.RData\")"
      ],
      "metadata": {
        "id": "lhsAl-F4yxND"
      },
      "execution_count": 20,
      "outputs": []
    },
    {
      "cell_type": "code",
      "source": [
        "head(pima)"
      ],
      "metadata": {
        "colab": {
          "base_uri": "https://localhost:8080/",
          "height": 303
        },
        "id": "F1eMRznqy6Pc",
        "outputId": "1c8a5085-f58b-44a9-8ff7-6057218822b0"
      },
      "execution_count": 21,
      "outputs": [
        {
          "output_type": "display_data",
          "data": {
            "text/html": [
              "<table class=\"dataframe\">\n",
              "<caption>A data.frame: 6 × 9</caption>\n",
              "<thead>\n",
              "\t<tr><th></th><th scope=col>npregnant</th><th scope=col>glucose</th><th scope=col>diastolic.bp</th><th scope=col>skinfold.thickness</th><th scope=col>bmi</th><th scope=col>pedigree</th><th scope=col>age</th><th scope=col>classdigit</th><th scope=col>class</th></tr>\n",
              "\t<tr><th></th><th scope=col>&lt;int&gt;</th><th scope=col>&lt;int&gt;</th><th scope=col>&lt;int&gt;</th><th scope=col>&lt;int&gt;</th><th scope=col>&lt;dbl&gt;</th><th scope=col>&lt;dbl&gt;</th><th scope=col>&lt;int&gt;</th><th scope=col>&lt;fct&gt;</th><th scope=col>&lt;fct&gt;</th></tr>\n",
              "</thead>\n",
              "<tbody>\n",
              "\t<tr><th scope=row>1</th><td>6</td><td>148</td><td>72</td><td>35</td><td>33.6</td><td>0.627</td><td>50</td><td>1</td><td>diabetic</td></tr>\n",
              "\t<tr><th scope=row>2</th><td>1</td><td> 85</td><td>66</td><td>29</td><td>26.6</td><td>0.351</td><td>31</td><td>0</td><td>normal  </td></tr>\n",
              "\t<tr><th scope=row>3</th><td>1</td><td> 89</td><td>66</td><td>23</td><td>28.1</td><td>0.167</td><td>21</td><td>0</td><td>normal  </td></tr>\n",
              "\t<tr><th scope=row>4</th><td>0</td><td>137</td><td>40</td><td>35</td><td>43.1</td><td>2.288</td><td>33</td><td>1</td><td>diabetic</td></tr>\n",
              "\t<tr><th scope=row>5</th><td>3</td><td> 78</td><td>50</td><td>32</td><td>31.0</td><td>0.248</td><td>26</td><td>1</td><td>diabetic</td></tr>\n",
              "\t<tr><th scope=row>6</th><td>2</td><td>197</td><td>70</td><td>45</td><td>30.5</td><td>0.158</td><td>53</td><td>1</td><td>diabetic</td></tr>\n",
              "</tbody>\n",
              "</table>\n"
            ],
            "text/markdown": "\nA data.frame: 6 × 9\n\n| <!--/--> | npregnant &lt;int&gt; | glucose &lt;int&gt; | diastolic.bp &lt;int&gt; | skinfold.thickness &lt;int&gt; | bmi &lt;dbl&gt; | pedigree &lt;dbl&gt; | age &lt;int&gt; | classdigit &lt;fct&gt; | class &lt;fct&gt; |\n|---|---|---|---|---|---|---|---|---|---|\n| 1 | 6 | 148 | 72 | 35 | 33.6 | 0.627 | 50 | 1 | diabetic |\n| 2 | 1 |  85 | 66 | 29 | 26.6 | 0.351 | 31 | 0 | normal   |\n| 3 | 1 |  89 | 66 | 23 | 28.1 | 0.167 | 21 | 0 | normal   |\n| 4 | 0 | 137 | 40 | 35 | 43.1 | 2.288 | 33 | 1 | diabetic |\n| 5 | 3 |  78 | 50 | 32 | 31.0 | 0.248 | 26 | 1 | diabetic |\n| 6 | 2 | 197 | 70 | 45 | 30.5 | 0.158 | 53 | 1 | diabetic |\n\n",
            "text/latex": "A data.frame: 6 × 9\n\\begin{tabular}{r|lllllllll}\n  & npregnant & glucose & diastolic.bp & skinfold.thickness & bmi & pedigree & age & classdigit & class\\\\\n  & <int> & <int> & <int> & <int> & <dbl> & <dbl> & <int> & <fct> & <fct>\\\\\n\\hline\n\t1 & 6 & 148 & 72 & 35 & 33.6 & 0.627 & 50 & 1 & diabetic\\\\\n\t2 & 1 &  85 & 66 & 29 & 26.6 & 0.351 & 31 & 0 & normal  \\\\\n\t3 & 1 &  89 & 66 & 23 & 28.1 & 0.167 & 21 & 0 & normal  \\\\\n\t4 & 0 & 137 & 40 & 35 & 43.1 & 2.288 & 33 & 1 & diabetic\\\\\n\t5 & 3 &  78 & 50 & 32 & 31.0 & 0.248 & 26 & 1 & diabetic\\\\\n\t6 & 2 & 197 & 70 & 45 & 30.5 & 0.158 & 53 & 1 & diabetic\\\\\n\\end{tabular}\n",
            "text/plain": [
              "  npregnant glucose diastolic.bp skinfold.thickness bmi  pedigree age\n",
              "1 6         148     72           35                 33.6 0.627    50 \n",
              "2 1          85     66           29                 26.6 0.351    31 \n",
              "3 1          89     66           23                 28.1 0.167    21 \n",
              "4 0         137     40           35                 43.1 2.288    33 \n",
              "5 3          78     50           32                 31.0 0.248    26 \n",
              "6 2         197     70           45                 30.5 0.158    53 \n",
              "  classdigit class   \n",
              "1 1          diabetic\n",
              "2 0          normal  \n",
              "3 0          normal  \n",
              "4 1          diabetic\n",
              "5 1          diabetic\n",
              "6 1          diabetic"
            ]
          },
          "metadata": {}
        }
      ]
    },
    {
      "cell_type": "code",
      "source": [
        "my_pima <- pima[ ,-8]"
      ],
      "metadata": {
        "id": "D4znyTMyzJ3y"
      },
      "execution_count": 22,
      "outputs": []
    },
    {
      "cell_type": "code",
      "source": [
        "head(my_pima)"
      ],
      "metadata": {
        "colab": {
          "base_uri": "https://localhost:8080/",
          "height": 303
        },
        "id": "yAGV5iOJzUVj",
        "outputId": "7edabc1a-f59e-45c1-ea43-fb2f1abcaef9"
      },
      "execution_count": 23,
      "outputs": [
        {
          "output_type": "display_data",
          "data": {
            "text/html": [
              "<table class=\"dataframe\">\n",
              "<caption>A data.frame: 6 × 8</caption>\n",
              "<thead>\n",
              "\t<tr><th></th><th scope=col>npregnant</th><th scope=col>glucose</th><th scope=col>diastolic.bp</th><th scope=col>skinfold.thickness</th><th scope=col>bmi</th><th scope=col>pedigree</th><th scope=col>age</th><th scope=col>class</th></tr>\n",
              "\t<tr><th></th><th scope=col>&lt;int&gt;</th><th scope=col>&lt;int&gt;</th><th scope=col>&lt;int&gt;</th><th scope=col>&lt;int&gt;</th><th scope=col>&lt;dbl&gt;</th><th scope=col>&lt;dbl&gt;</th><th scope=col>&lt;int&gt;</th><th scope=col>&lt;fct&gt;</th></tr>\n",
              "</thead>\n",
              "<tbody>\n",
              "\t<tr><th scope=row>1</th><td>6</td><td>148</td><td>72</td><td>35</td><td>33.6</td><td>0.627</td><td>50</td><td>diabetic</td></tr>\n",
              "\t<tr><th scope=row>2</th><td>1</td><td> 85</td><td>66</td><td>29</td><td>26.6</td><td>0.351</td><td>31</td><td>normal  </td></tr>\n",
              "\t<tr><th scope=row>3</th><td>1</td><td> 89</td><td>66</td><td>23</td><td>28.1</td><td>0.167</td><td>21</td><td>normal  </td></tr>\n",
              "\t<tr><th scope=row>4</th><td>0</td><td>137</td><td>40</td><td>35</td><td>43.1</td><td>2.288</td><td>33</td><td>diabetic</td></tr>\n",
              "\t<tr><th scope=row>5</th><td>3</td><td> 78</td><td>50</td><td>32</td><td>31.0</td><td>0.248</td><td>26</td><td>diabetic</td></tr>\n",
              "\t<tr><th scope=row>6</th><td>2</td><td>197</td><td>70</td><td>45</td><td>30.5</td><td>0.158</td><td>53</td><td>diabetic</td></tr>\n",
              "</tbody>\n",
              "</table>\n"
            ],
            "text/markdown": "\nA data.frame: 6 × 8\n\n| <!--/--> | npregnant &lt;int&gt; | glucose &lt;int&gt; | diastolic.bp &lt;int&gt; | skinfold.thickness &lt;int&gt; | bmi &lt;dbl&gt; | pedigree &lt;dbl&gt; | age &lt;int&gt; | class &lt;fct&gt; |\n|---|---|---|---|---|---|---|---|---|\n| 1 | 6 | 148 | 72 | 35 | 33.6 | 0.627 | 50 | diabetic |\n| 2 | 1 |  85 | 66 | 29 | 26.6 | 0.351 | 31 | normal   |\n| 3 | 1 |  89 | 66 | 23 | 28.1 | 0.167 | 21 | normal   |\n| 4 | 0 | 137 | 40 | 35 | 43.1 | 2.288 | 33 | diabetic |\n| 5 | 3 |  78 | 50 | 32 | 31.0 | 0.248 | 26 | diabetic |\n| 6 | 2 | 197 | 70 | 45 | 30.5 | 0.158 | 53 | diabetic |\n\n",
            "text/latex": "A data.frame: 6 × 8\n\\begin{tabular}{r|llllllll}\n  & npregnant & glucose & diastolic.bp & skinfold.thickness & bmi & pedigree & age & class\\\\\n  & <int> & <int> & <int> & <int> & <dbl> & <dbl> & <int> & <fct>\\\\\n\\hline\n\t1 & 6 & 148 & 72 & 35 & 33.6 & 0.627 & 50 & diabetic\\\\\n\t2 & 1 &  85 & 66 & 29 & 26.6 & 0.351 & 31 & normal  \\\\\n\t3 & 1 &  89 & 66 & 23 & 28.1 & 0.167 & 21 & normal  \\\\\n\t4 & 0 & 137 & 40 & 35 & 43.1 & 2.288 & 33 & diabetic\\\\\n\t5 & 3 &  78 & 50 & 32 & 31.0 & 0.248 & 26 & diabetic\\\\\n\t6 & 2 & 197 & 70 & 45 & 30.5 & 0.158 & 53 & diabetic\\\\\n\\end{tabular}\n",
            "text/plain": [
              "  npregnant glucose diastolic.bp skinfold.thickness bmi  pedigree age class   \n",
              "1 6         148     72           35                 33.6 0.627    50  diabetic\n",
              "2 1          85     66           29                 26.6 0.351    31  normal  \n",
              "3 1          89     66           23                 28.1 0.167    21  normal  \n",
              "4 0         137     40           35                 43.1 2.288    33  diabetic\n",
              "5 3          78     50           32                 31.0 0.248    26  diabetic\n",
              "6 2         197     70           45                 30.5 0.158    53  diabetic"
            ]
          },
          "metadata": {}
        }
      ]
    },
    {
      "cell_type": "code",
      "source": [],
      "metadata": {
        "id": "3yyB1U04zXb7"
      },
      "execution_count": 24,
      "outputs": []
    },
    {
      "cell_type": "code",
      "source": [
        "cor(my_pima[,1:7])"
      ],
      "metadata": {
        "colab": {
          "base_uri": "https://localhost:8080/",
          "height": 303
        },
        "id": "xxgBl4x-zaZD",
        "outputId": "1b4ad549-1590-40e9-c299-562f6e8aa383"
      },
      "execution_count": 25,
      "outputs": [
        {
          "output_type": "display_data",
          "data": {
            "text/html": [
              "<table class=\"dataframe\">\n",
              "<caption>A matrix: 7 × 7 of type dbl</caption>\n",
              "<thead>\n",
              "\t<tr><th></th><th scope=col>npregnant</th><th scope=col>glucose</th><th scope=col>diastolic.bp</th><th scope=col>skinfold.thickness</th><th scope=col>bmi</th><th scope=col>pedigree</th><th scope=col>age</th></tr>\n",
              "</thead>\n",
              "<tbody>\n",
              "\t<tr><th scope=row>npregnant</th><td>1.000000000</td><td>0.1253296</td><td>0.204663421</td><td>0.09508511</td><td>0.008576282</td><td>0.007435104</td><td>0.64074687</td></tr>\n",
              "\t<tr><th scope=row>glucose</th><td>0.125329647</td><td>1.0000000</td><td>0.219177950</td><td>0.22659042</td><td>0.247079294</td><td>0.165817411</td><td>0.27890711</td></tr>\n",
              "\t<tr><th scope=row>diastolic.bp</th><td>0.204663421</td><td>0.2191779</td><td>1.000000000</td><td>0.22607244</td><td>0.307356904</td><td>0.008047249</td><td>0.34693872</td></tr>\n",
              "\t<tr><th scope=row>skinfold.thickness</th><td>0.095085114</td><td>0.2265904</td><td>0.226072440</td><td>1.00000000</td><td>0.647422386</td><td>0.118635569</td><td>0.16133614</td></tr>\n",
              "\t<tr><th scope=row>bmi</th><td>0.008576282</td><td>0.2470793</td><td>0.307356904</td><td>0.64742239</td><td>1.000000000</td><td>0.151107136</td><td>0.07343826</td></tr>\n",
              "\t<tr><th scope=row>pedigree</th><td>0.007435104</td><td>0.1658174</td><td>0.008047249</td><td>0.11863557</td><td>0.151107136</td><td>1.000000000</td><td>0.07165413</td></tr>\n",
              "\t<tr><th scope=row>age</th><td>0.640746866</td><td>0.2789071</td><td>0.346938723</td><td>0.16133614</td><td>0.073438257</td><td>0.071654133</td><td>1.00000000</td></tr>\n",
              "</tbody>\n",
              "</table>\n"
            ],
            "text/markdown": "\nA matrix: 7 × 7 of type dbl\n\n| <!--/--> | npregnant | glucose | diastolic.bp | skinfold.thickness | bmi | pedigree | age |\n|---|---|---|---|---|---|---|---|\n| npregnant | 1.000000000 | 0.1253296 | 0.204663421 | 0.09508511 | 0.008576282 | 0.007435104 | 0.64074687 |\n| glucose | 0.125329647 | 1.0000000 | 0.219177950 | 0.22659042 | 0.247079294 | 0.165817411 | 0.27890711 |\n| diastolic.bp | 0.204663421 | 0.2191779 | 1.000000000 | 0.22607244 | 0.307356904 | 0.008047249 | 0.34693872 |\n| skinfold.thickness | 0.095085114 | 0.2265904 | 0.226072440 | 1.00000000 | 0.647422386 | 0.118635569 | 0.16133614 |\n| bmi | 0.008576282 | 0.2470793 | 0.307356904 | 0.64742239 | 1.000000000 | 0.151107136 | 0.07343826 |\n| pedigree | 0.007435104 | 0.1658174 | 0.008047249 | 0.11863557 | 0.151107136 | 1.000000000 | 0.07165413 |\n| age | 0.640746866 | 0.2789071 | 0.346938723 | 0.16133614 | 0.073438257 | 0.071654133 | 1.00000000 |\n\n",
            "text/latex": "A matrix: 7 × 7 of type dbl\n\\begin{tabular}{r|lllllll}\n  & npregnant & glucose & diastolic.bp & skinfold.thickness & bmi & pedigree & age\\\\\n\\hline\n\tnpregnant & 1.000000000 & 0.1253296 & 0.204663421 & 0.09508511 & 0.008576282 & 0.007435104 & 0.64074687\\\\\n\tglucose & 0.125329647 & 1.0000000 & 0.219177950 & 0.22659042 & 0.247079294 & 0.165817411 & 0.27890711\\\\\n\tdiastolic.bp & 0.204663421 & 0.2191779 & 1.000000000 & 0.22607244 & 0.307356904 & 0.008047249 & 0.34693872\\\\\n\tskinfold.thickness & 0.095085114 & 0.2265904 & 0.226072440 & 1.00000000 & 0.647422386 & 0.118635569 & 0.16133614\\\\\n\tbmi & 0.008576282 & 0.2470793 & 0.307356904 & 0.64742239 & 1.000000000 & 0.151107136 & 0.07343826\\\\\n\tpedigree & 0.007435104 & 0.1658174 & 0.008047249 & 0.11863557 & 0.151107136 & 1.000000000 & 0.07165413\\\\\n\tage & 0.640746866 & 0.2789071 & 0.346938723 & 0.16133614 & 0.073438257 & 0.071654133 & 1.00000000\\\\\n\\end{tabular}\n",
            "text/plain": [
              "                   npregnant   glucose   diastolic.bp skinfold.thickness\n",
              "npregnant          1.000000000 0.1253296 0.204663421  0.09508511        \n",
              "glucose            0.125329647 1.0000000 0.219177950  0.22659042        \n",
              "diastolic.bp       0.204663421 0.2191779 1.000000000  0.22607244        \n",
              "skinfold.thickness 0.095085114 0.2265904 0.226072440  1.00000000        \n",
              "bmi                0.008576282 0.2470793 0.307356904  0.64742239        \n",
              "pedigree           0.007435104 0.1658174 0.008047249  0.11863557        \n",
              "age                0.640746866 0.2789071 0.346938723  0.16133614        \n",
              "                   bmi         pedigree    age       \n",
              "npregnant          0.008576282 0.007435104 0.64074687\n",
              "glucose            0.247079294 0.165817411 0.27890711\n",
              "diastolic.bp       0.307356904 0.008047249 0.34693872\n",
              "skinfold.thickness 0.647422386 0.118635569 0.16133614\n",
              "bmi                1.000000000 0.151107136 0.07343826\n",
              "pedigree           0.151107136 1.000000000 0.07165413\n",
              "age                0.073438257 0.071654133 1.00000000"
            ]
          },
          "metadata": {}
        }
      ]
    },
    {
      "cell_type": "code",
      "source": [
        "#create a test and train\n",
        "\n",
        "set.seed(123)\n",
        "indis <- sample(1:nrow(my_pima),round(2/3*nrow(my_pima)))"
      ],
      "metadata": {
        "id": "Zdvp5GKHzknB"
      },
      "execution_count": 26,
      "outputs": []
    },
    {
      "cell_type": "code",
      "source": [
        "pima_train <- my_pima[indis,]\n",
        "pima_test <- my_pima[-indis,]"
      ],
      "metadata": {
        "id": "PMICKgog0T7o"
      },
      "execution_count": 27,
      "outputs": []
    },
    {
      "cell_type": "code",
      "source": [
        "dim(pima_train)\n",
        "dim(pima_test)"
      ],
      "metadata": {
        "colab": {
          "base_uri": "https://localhost:8080/",
          "height": 51
        },
        "id": "TpxZUcPx0mBM",
        "outputId": "31ddc401-2cea-4f43-88bc-5075a7458f15"
      },
      "execution_count": 28,
      "outputs": [
        {
          "output_type": "display_data",
          "data": {
            "text/html": [
              "<style>\n",
              ".list-inline {list-style: none; margin:0; padding: 0}\n",
              ".list-inline>li {display: inline-block}\n",
              ".list-inline>li:not(:last-child)::after {content: \"\\00b7\"; padding: 0 .5ex}\n",
              "</style>\n",
              "<ol class=list-inline><li>355</li><li>8</li></ol>\n"
            ],
            "text/markdown": "1. 355\n2. 8\n\n\n",
            "text/latex": "\\begin{enumerate*}\n\\item 355\n\\item 8\n\\end{enumerate*}\n",
            "text/plain": [
              "[1] 355   8"
            ]
          },
          "metadata": {}
        },
        {
          "output_type": "display_data",
          "data": {
            "text/html": [
              "<style>\n",
              ".list-inline {list-style: none; margin:0; padding: 0}\n",
              ".list-inline>li {display: inline-block}\n",
              ".list-inline>li:not(:last-child)::after {content: \"\\00b7\"; padding: 0 .5ex}\n",
              "</style>\n",
              "<ol class=list-inline><li>177</li><li>8</li></ol>\n"
            ],
            "text/markdown": "1. 177\n2. 8\n\n\n",
            "text/latex": "\\begin{enumerate*}\n\\item 177\n\\item 8\n\\end{enumerate*}\n",
            "text/plain": [
              "[1] 177   8"
            ]
          },
          "metadata": {}
        }
      ]
    },
    {
      "cell_type": "markdown",
      "source": [
        "LDA"
      ],
      "metadata": {
        "id": "VxvVTIV_0vI4"
      }
    },
    {
      "cell_type": "code",
      "source": [
        "lda.fit <- lda(class~.,data = pima_train)\n",
        "lda.fit"
      ],
      "metadata": {
        "colab": {
          "base_uri": "https://localhost:8080/",
          "height": 476
        },
        "id": "p0fIk4620wYN",
        "outputId": "0340f828-c21a-4897-cd68-094d43fa0086"
      },
      "execution_count": 30,
      "outputs": [
        {
          "output_type": "display_data",
          "data": {
            "text/plain": [
              "Call:\n",
              "lda(class ~ ., data = pima_train)\n",
              "\n",
              "Prior probabilities of groups:\n",
              " diabetic    normal \n",
              "0.3380282 0.6619718 \n",
              "\n",
              "Group means:\n",
              "         npregnant  glucose diastolic.bp skinfold.thickness      bmi  pedigree\n",
              "diabetic  4.616667 141.7417     74.75833           32.11667 35.76667 0.6414583\n",
              "normal    2.706383 110.9957     69.79574           27.32340 31.66170 0.4545149\n",
              "              age\n",
              "diabetic 36.55000\n",
              "normal   28.13191\n",
              "\n",
              "Coefficients of linear discriminants:\n",
              "                            LD1\n",
              "npregnant          -0.083211481\n",
              "glucose            -0.023241758\n",
              "diastolic.bp        0.006002505\n",
              "skinfold.thickness -0.003756776\n",
              "bmi                -0.052592238\n",
              "pedigree           -0.868890827\n",
              "age                -0.037953477"
            ]
          },
          "metadata": {}
        }
      ]
    },
    {
      "cell_type": "code",
      "source": [
        "quartz()\n",
        "plot(lda.fit)"
      ],
      "metadata": {
        "colab": {
          "base_uri": "https://localhost:8080/",
          "height": 471
        },
        "id": "GbJrU4Un1Uap",
        "outputId": "8fc1888e-cb4c-4fb9-adfa-1ee9d197b00f"
      },
      "execution_count": 31,
      "outputs": [
        {
          "output_type": "stream",
          "name": "stderr",
          "text": [
            "Warning message in quartz():\n",
            "“Quartz device is not available on this platform”\n"
          ]
        },
        {
          "output_type": "display_data",
          "data": {
            "text/plain": [
              "plot without title"
            ],
            "image/png": "[encoded data removed]"
          },
          "metadata": {
            "image/png": {
              "width": 420,
              "height": 420
            }
          }
        }
      ]
    },
    {
      "cell_type": "code",
      "source": [],
      "metadata": {
        "id": "IbMFQdqL1q5M"
      },
      "execution_count": null,
      "outputs": []
    },
    {
      "cell_type": "code",
      "source": [
        "#make predictions for test and training\n"
      ],
      "metadata": {
        "id": "Go7Arp_71rRZ"
      },
      "execution_count": null,
      "outputs": []
    },
    {
      "cell_type": "code",
      "source": [
        "test_pred <- predict(lda.fit, newdata = pima_test)"
      ],
      "metadata": {
        "id": "PxP-Ewxi1una"
      },
      "execution_count": 32,
      "outputs": []
    },
    {
      "cell_type": "code",
      "source": [
        "data.frame(test_pred$class,test_pred$posterior,test_pred$x)[1:5,]"
      ],
      "metadata": {
        "colab": {
          "base_uri": "https://localhost:8080/",
          "height": 252
        },
        "id": "vlXVSJoP2CZ1",
        "outputId": "edd26d8d-90ed-41f6-bfbe-831b05d3c00c"
      },
      "execution_count": 34,
      "outputs": [
        {
          "output_type": "display_data",
          "data": {
            "text/html": [
              "<table class=\"dataframe\">\n",
              "<caption>A data.frame: 5 × 4</caption>\n",
              "<thead>\n",
              "\t<tr><th></th><th scope=col>test_pred.class</th><th scope=col>diabetic</th><th scope=col>normal</th><th scope=col>LD1</th></tr>\n",
              "\t<tr><th></th><th scope=col>&lt;fct&gt;</th><th scope=col>&lt;dbl&gt;</th><th scope=col>&lt;dbl&gt;</th><th scope=col>&lt;dbl&gt;</th></tr>\n",
              "</thead>\n",
              "<tbody>\n",
              "\t<tr><th scope=row>1</th><td>diabetic</td><td>0.83089243</td><td>0.1691076</td><td>-1.704315</td></tr>\n",
              "\t<tr><th scope=row>2</th><td>normal  </td><td>0.03253717</td><td>0.9674628</td><td> 1.491574</td></tr>\n",
              "\t<tr><th scope=row>3</th><td>normal  </td><td>0.01797418</td><td>0.9820258</td><td> 1.881670</td></tr>\n",
              "\t<tr><th scope=row>6</th><td>diabetic</td><td>0.90150540</td><td>0.0984946</td><td>-2.103203</td></tr>\n",
              "\t<tr><th scope=row>8</th><td>diabetic</td><td>0.79997146</td><td>0.2000285</td><td>-1.572326</td></tr>\n",
              "</tbody>\n",
              "</table>\n"
            ],
            "text/markdown": "\nA data.frame: 5 × 4\n\n| <!--/--> | test_pred.class &lt;fct&gt; | diabetic &lt;dbl&gt; | normal &lt;dbl&gt; | LD1 &lt;dbl&gt; |\n|---|---|---|---|---|\n| 1 | diabetic | 0.83089243 | 0.1691076 | -1.704315 |\n| 2 | normal   | 0.03253717 | 0.9674628 |  1.491574 |\n| 3 | normal   | 0.01797418 | 0.9820258 |  1.881670 |\n| 6 | diabetic | 0.90150540 | 0.0984946 | -2.103203 |\n| 8 | diabetic | 0.79997146 | 0.2000285 | -1.572326 |\n\n",
            "text/latex": "A data.frame: 5 × 4\n\\begin{tabular}{r|llll}\n  & test\\_pred.class & diabetic & normal & LD1\\\\\n  & <fct> & <dbl> & <dbl> & <dbl>\\\\\n\\hline\n\t1 & diabetic & 0.83089243 & 0.1691076 & -1.704315\\\\\n\t2 & normal   & 0.03253717 & 0.9674628 &  1.491574\\\\\n\t3 & normal   & 0.01797418 & 0.9820258 &  1.881670\\\\\n\t6 & diabetic & 0.90150540 & 0.0984946 & -2.103203\\\\\n\t8 & diabetic & 0.79997146 & 0.2000285 & -1.572326\\\\\n\\end{tabular}\n",
            "text/plain": [
              "  test_pred.class diabetic   normal    LD1      \n",
              "1 diabetic        0.83089243 0.1691076 -1.704315\n",
              "2 normal          0.03253717 0.9674628  1.491574\n",
              "3 normal          0.01797418 0.9820258  1.881670\n",
              "6 diabetic        0.90150540 0.0984946 -2.103203\n",
              "8 diabetic        0.79997146 0.2000285 -1.572326"
            ]
          },
          "metadata": {}
        }
      ]
    },
    {
      "cell_type": "code",
      "source": [
        "train_pred <- predict(lda.fit, newdata = pima_train)"
      ],
      "metadata": {
        "id": "0d2NBIHR2cSJ"
      },
      "execution_count": 35,
      "outputs": []
    },
    {
      "cell_type": "code",
      "source": [
        "train_pred"
      ],
      "metadata": {
        "id": "DbmRSEfE2h2g"
      },
      "execution_count": null,
      "outputs": []
    },
    {
      "cell_type": "code",
      "source": [
        "#compute error rates"
      ],
      "metadata": {
        "id": "XNMnu7mx2lgH"
      },
      "execution_count": null,
      "outputs": []
    },
    {
      "cell_type": "code",
      "source": [
        "train_error <- (1/length(pima_train$class))*length(which(pima_train$class != train_pred$class))\n",
        "train_error"
      ],
      "metadata": {
        "colab": {
          "base_uri": "https://localhost:8080/",
          "height": 34
        },
        "id": "75somVtK2np5",
        "outputId": "402d4aa3-ab25-40c6-f92d-a5a61a3e3011"
      },
      "execution_count": 39,
      "outputs": [
        {
          "output_type": "display_data",
          "data": {
            "text/html": [
              "0.211267605633803"
            ],
            "text/markdown": "0.211267605633803",
            "text/latex": "0.211267605633803",
            "text/plain": [
              "[1] 0.2112676"
            ]
          },
          "metadata": {}
        }
      ]
    },
    {
      "cell_type": "code",
      "source": [],
      "metadata": {
        "id": "pWCsKkRT3ykz"
      },
      "execution_count": null,
      "outputs": []
    },
    {
      "cell_type": "code",
      "source": [
        "test_error <- (1/length(pima_test$class))*length(which(pima_test$class != test_pred$class))\n"
      ],
      "metadata": {
        "id": "T1hBwUAC3i3L"
      },
      "execution_count": 40,
      "outputs": []
    },
    {
      "cell_type": "code",
      "source": [
        "test_error"
      ],
      "metadata": {
        "colab": {
          "base_uri": "https://localhost:8080/",
          "height": 34
        },
        "id": "CxLTzOEm3zQn",
        "outputId": "ef03a576-ddb4-4d32-ba1d-b26941916f6c"
      },
      "execution_count": 41,
      "outputs": [
        {
          "output_type": "display_data",
          "data": {
            "text/html": [
              "0.242937853107345"
            ],
            "text/markdown": "0.242937853107345",
            "text/latex": "0.242937853107345",
            "text/plain": [
              "[1] 0.2429379"
            ]
          },
          "metadata": {}
        }
      ]
    },
    {
      "cell_type": "code",
      "source": [],
      "metadata": {
        "id": "RK4My_om34Zf"
      },
      "execution_count": null,
      "outputs": []
    },
    {
      "cell_type": "markdown",
      "source": [
        "QDA"
      ],
      "metadata": {
        "id": "tQCcKwsT35Em"
      }
    },
    {
      "cell_type": "code",
      "source": [
        "qda.fit <- qda(class~., data = pima_train)"
      ],
      "metadata": {
        "id": "d8aLxvB136O1"
      },
      "execution_count": 42,
      "outputs": []
    },
    {
      "cell_type": "code",
      "source": [
        "qda.fit"
      ],
      "metadata": {
        "colab": {
          "base_uri": "https://localhost:8080/",
          "height": 306
        },
        "id": "Gr7S33Oo4BX4",
        "outputId": "b5a5eac0-343c-4611-870f-be9ba86df645"
      },
      "execution_count": 43,
      "outputs": [
        {
          "output_type": "display_data",
          "data": {
            "text/plain": [
              "Call:\n",
              "qda(class ~ ., data = pima_train)\n",
              "\n",
              "Prior probabilities of groups:\n",
              " diabetic    normal \n",
              "0.3380282 0.6619718 \n",
              "\n",
              "Group means:\n",
              "         npregnant  glucose diastolic.bp skinfold.thickness      bmi  pedigree\n",
              "diabetic  4.616667 141.7417     74.75833           32.11667 35.76667 0.6414583\n",
              "normal    2.706383 110.9957     69.79574           27.32340 31.66170 0.4545149\n",
              "              age\n",
              "diabetic 36.55000\n",
              "normal   28.13191"
            ]
          },
          "metadata": {}
        }
      ]
    },
    {
      "cell_type": "code",
      "source": [
        "train_pred <- predict(qda.fit,newdata=pima_train)\n",
        "test_pred <- predict(qda.fit,newdata=pima_test)"
      ],
      "metadata": {
        "id": "9CPgvR6U4ELo"
      },
      "execution_count": 44,
      "outputs": []
    },
    {
      "cell_type": "code",
      "source": [
        "names(train_pred)"
      ],
      "metadata": {
        "colab": {
          "base_uri": "https://localhost:8080/",
          "height": 34
        },
        "id": "5L7-_R604N8N",
        "outputId": "12829d57-d553-42e5-b3eb-f0eacbb4f616"
      },
      "execution_count": 45,
      "outputs": [
        {
          "output_type": "display_data",
          "data": {
            "text/html": [
              "<style>\n",
              ".list-inline {list-style: none; margin:0; padding: 0}\n",
              ".list-inline>li {display: inline-block}\n",
              ".list-inline>li:not(:last-child)::after {content: \"\\00b7\"; padding: 0 .5ex}\n",
              "</style>\n",
              "<ol class=list-inline><li>'class'</li><li>'posterior'</li></ol>\n"
            ],
            "text/markdown": "1. 'class'\n2. 'posterior'\n\n\n",
            "text/latex": "\\begin{enumerate*}\n\\item 'class'\n\\item 'posterior'\n\\end{enumerate*}\n",
            "text/plain": [
              "[1] \"class\"     \"posterior\""
            ]
          },
          "metadata": {}
        }
      ]
    },
    {
      "cell_type": "code",
      "source": [
        "y_hat_train <- train_pred$class\n",
        "y_hat_test <- test_pred$class"
      ],
      "metadata": {
        "id": "z0NIIMlz4QcF"
      },
      "execution_count": 51,
      "outputs": []
    },
    {
      "cell_type": "code",
      "source": [
        "y_hat_test\n",
        "y_hat_train"
      ],
      "metadata": {
        "colab": {
          "base_uri": "https://localhost:8080/",
          "height": 901
        },
        "id": "2ZhRPHQe4akM",
        "outputId": "3ff1a3ec-23dc-4dee-ec38-77e114370c92"
      },
      "execution_count": 52,
      "outputs": [
        {
          "output_type": "display_data",
          "data": {
            "text/html": [
              "<style>\n",
              ".list-inline {list-style: none; margin:0; padding: 0}\n",
              ".list-inline>li {display: inline-block}\n",
              ".list-inline>li:not(:last-child)::after {content: \"\\00b7\"; padding: 0 .5ex}\n",
              "</style>\n",
              "<ol class=list-inline><li>diabetic</li><li>normal</li><li>normal</li><li>diabetic</li><li>diabetic</li><li>normal</li><li>diabetic</li><li>diabetic</li><li>diabetic</li><li>normal</li><li>diabetic</li><li>diabetic</li><li>normal</li><li>normal</li><li>diabetic</li><li>normal</li><li>normal</li><li>normal</li><li>normal</li><li>normal</li><li>normal</li><li>diabetic</li><li>diabetic</li><li>normal</li><li>normal</li><li>normal</li><li>normal</li><li>normal</li><li>normal</li><li>normal</li><li>normal</li><li>normal</li><li>diabetic</li><li>diabetic</li><li>normal</li><li>normal</li><li>normal</li><li>normal</li><li>normal</li><li>diabetic</li><li>diabetic</li><li>normal</li><li>normal</li><li>normal</li><li>diabetic</li><li>diabetic</li><li>diabetic</li><li>diabetic</li><li>normal</li><li>normal</li><li>normal</li><li>normal</li><li>diabetic</li><li>diabetic</li><li>diabetic</li><li>diabetic</li><li>diabetic</li><li>normal</li><li>normal</li><li>normal</li><li>normal</li><li>diabetic</li><li>normal</li><li>diabetic</li><li>normal</li><li>normal</li><li>normal</li><li>diabetic</li><li>diabetic</li><li>diabetic</li><li>normal</li><li>diabetic</li><li>normal</li><li>normal</li><li>diabetic</li><li>normal</li><li>normal</li><li>normal</li><li>normal</li><li>normal</li><li>normal</li><li>diabetic</li><li>normal</li><li>normal</li><li>normal</li><li>diabetic</li><li>normal</li><li>normal</li><li>normal</li><li>normal</li><li>normal</li><li>normal</li><li>normal</li><li>normal</li><li>normal</li><li>diabetic</li><li>normal</li><li>normal</li><li>normal</li><li>normal</li><li>normal</li><li>diabetic</li><li>diabetic</li><li>normal</li><li>normal</li><li>normal</li><li>normal</li><li>diabetic</li><li>normal</li><li>normal</li><li>diabetic</li><li>diabetic</li><li>normal</li><li>normal</li><li>normal</li><li>normal</li><li>diabetic</li><li>normal</li><li>normal</li><li>normal</li><li>normal</li><li>normal</li><li>normal</li><li>normal</li><li>normal</li><li>diabetic</li><li>normal</li><li>diabetic</li><li>normal</li><li>normal</li><li>normal</li><li>normal</li><li>normal</li><li>diabetic</li><li>diabetic</li><li>normal</li><li>normal</li><li>normal</li><li>diabetic</li><li>normal</li><li>normal</li><li>diabetic</li><li>normal</li><li>normal</li><li>diabetic</li><li>diabetic</li><li>normal</li><li>normal</li><li>diabetic</li><li>normal</li><li>diabetic</li><li>diabetic</li><li>diabetic</li><li>diabetic</li><li>normal</li><li>normal</li><li>normal</li><li>normal</li><li>normal</li><li>diabetic</li><li>diabetic</li><li>diabetic</li><li>normal</li><li>normal</li><li>normal</li><li>normal</li><li>normal</li><li>normal</li><li>normal</li><li>diabetic</li><li>diabetic</li><li>diabetic</li><li>normal</li><li>diabetic</li><li>diabetic</li><li>diabetic</li><li>normal</li></ol>\n",
              "\n",
              "<details>\n",
              "\t<summary style=display:list-item;cursor:pointer>\n",
              "\t\t<strong>Levels</strong>:\n",
              "\t</summary>\n",
              "\t<style>\n",
              "\t.list-inline {list-style: none; margin:0; padding: 0}\n",
              "\t.list-inline>li {display: inline-block}\n",
              "\t.list-inline>li:not(:last-child)::after {content: \"\\00b7\"; padding: 0 .5ex}\n",
              "\t</style>\n",
              "\t<ol class=list-inline><li>'diabetic'</li><li>'normal'</li></ol>\n",
              "</details>"
            ],
            "text/markdown": "1. diabetic\n2. normal\n3. normal\n4. diabetic\n5. diabetic\n6. normal\n7. diabetic\n8. diabetic\n9. diabetic\n10. normal\n11. diabetic\n12. diabetic\n13. normal\n14. normal\n15. diabetic\n16. normal\n17. normal\n18. normal\n19. normal\n20. normal\n21. normal\n22. diabetic\n23. diabetic\n24. normal\n25. normal\n26. normal\n27. normal\n28. normal\n29. normal\n30. normal\n31. normal\n32. normal\n33. diabetic\n34. diabetic\n35. normal\n36. normal\n37. normal\n38. normal\n39. normal\n40. diabetic\n41. diabetic\n42. normal\n43. normal\n44. normal\n45. diabetic\n46. diabetic\n47. diabetic\n48. diabetic\n49. normal\n50. normal\n51. normal\n52. normal\n53. diabetic\n54. diabetic\n55. diabetic\n56. diabetic\n57. diabetic\n58. normal\n59. normal\n60. normal\n61. normal\n62. diabetic\n63. normal\n64. diabetic\n65. normal\n66. normal\n67. normal\n68. diabetic\n69. diabetic\n70. diabetic\n71. normal\n72. diabetic\n73. normal\n74. normal\n75. diabetic\n76. normal\n77. normal\n78. normal\n79. normal\n80. normal\n81. normal\n82. diabetic\n83. normal\n84. normal\n85. normal\n86. diabetic\n87. normal\n88. normal\n89. normal\n90. normal\n91. normal\n92. normal\n93. normal\n94. normal\n95. normal\n96. diabetic\n97. normal\n98. normal\n99. normal\n100. normal\n101. normal\n102. diabetic\n103. diabetic\n104. normal\n105. normal\n106. normal\n107. normal\n108. diabetic\n109. normal\n110. normal\n111. diabetic\n112. diabetic\n113. normal\n114. normal\n115. normal\n116. normal\n117. diabetic\n118. normal\n119. normal\n120. normal\n121. normal\n122. normal\n123. normal\n124. normal\n125. normal\n126. diabetic\n127. normal\n128. diabetic\n129. normal\n130. normal\n131. normal\n132. normal\n133. normal\n134. diabetic\n135. diabetic\n136. normal\n137. normal\n138. normal\n139. diabetic\n140. normal\n141. normal\n142. diabetic\n143. normal\n144. normal\n145. diabetic\n146. diabetic\n147. normal\n148. normal\n149. diabetic\n150. normal\n151. diabetic\n152. diabetic\n153. diabetic\n154. diabetic\n155. normal\n156. normal\n157. normal\n158. normal\n159. normal\n160. diabetic\n161. diabetic\n162. diabetic\n163. normal\n164. normal\n165. normal\n166. normal\n167. normal\n168. normal\n169. normal\n170. diabetic\n171. diabetic\n172. diabetic\n173. normal\n174. diabetic\n175. diabetic\n176. diabetic\n177. normal\n\n\n\n**Levels**: 1. 'diabetic'\n2. 'normal'\n\n\n",
            "text/latex": "\\begin{enumerate*}\n\\item diabetic\n\\item normal\n\\item normal\n\\item diabetic\n\\item diabetic\n\\item normal\n\\item diabetic\n\\item diabetic\n\\item diabetic\n\\item normal\n\\item diabetic\n\\item diabetic\n\\item normal\n\\item normal\n\\item diabetic\n\\item normal\n\\item normal\n\\item normal\n\\item normal\n\\item normal\n\\item normal\n\\item diabetic\n\\item diabetic\n\\item normal\n\\item normal\n\\item normal\n\\item normal\n\\item normal\n\\item normal\n\\item normal\n\\item normal\n\\item normal\n\\item diabetic\n\\item diabetic\n\\item normal\n\\item normal\n\\item normal\n\\item normal\n\\item normal\n\\item diabetic\n\\item diabetic\n\\item normal\n\\item normal\n\\item normal\n\\item diabetic\n\\item diabetic\n\\item diabetic\n\\item diabetic\n\\item normal\n\\item normal\n\\item normal\n\\item normal\n\\item diabetic\n\\item diabetic\n\\item diabetic\n\\item diabetic\n\\item diabetic\n\\item normal\n\\item normal\n\\item normal\n\\item normal\n\\item diabetic\n\\item normal\n\\item diabetic\n\\item normal\n\\item normal\n\\item normal\n\\item diabetic\n\\item diabetic\n\\item diabetic\n\\item normal\n\\item diabetic\n\\item normal\n\\item normal\n\\item diabetic\n\\item normal\n\\item normal\n\\item normal\n\\item normal\n\\item normal\n\\item normal\n\\item diabetic\n\\item normal\n\\item normal\n\\item normal\n\\item diabetic\n\\item normal\n\\item normal\n\\item normal\n\\item normal\n\\item normal\n\\item normal\n\\item normal\n\\item normal\n\\item normal\n\\item diabetic\n\\item normal\n\\item normal\n\\item normal\n\\item normal\n\\item normal\n\\item diabetic\n\\item diabetic\n\\item normal\n\\item normal\n\\item normal\n\\item normal\n\\item diabetic\n\\item normal\n\\item normal\n\\item diabetic\n\\item diabetic\n\\item normal\n\\item normal\n\\item normal\n\\item normal\n\\item diabetic\n\\item normal\n\\item normal\n\\item normal\n\\item normal\n\\item normal\n\\item normal\n\\item normal\n\\item normal\n\\item diabetic\n\\item normal\n\\item diabetic\n\\item normal\n\\item normal\n\\item normal\n\\item normal\n\\item normal\n\\item diabetic\n\\item diabetic\n\\item normal\n\\item normal\n\\item normal\n\\item diabetic\n\\item normal\n\\item normal\n\\item diabetic\n\\item normal\n\\item normal\n\\item diabetic\n\\item diabetic\n\\item normal\n\\item normal\n\\item diabetic\n\\item normal\n\\item diabetic\n\\item diabetic\n\\item diabetic\n\\item diabetic\n\\item normal\n\\item normal\n\\item normal\n\\item normal\n\\item normal\n\\item diabetic\n\\item diabetic\n\\item diabetic\n\\item normal\n\\item normal\n\\item normal\n\\item normal\n\\item normal\n\\item normal\n\\item normal\n\\item diabetic\n\\item diabetic\n\\item diabetic\n\\item normal\n\\item diabetic\n\\item diabetic\n\\item diabetic\n\\item normal\n\\end{enumerate*}\n\n\\emph{Levels}: \\begin{enumerate*}\n\\item 'diabetic'\n\\item 'normal'\n\\end{enumerate*}\n",
            "text/plain": [
              "  [1] diabetic normal   normal   diabetic diabetic normal   diabetic diabetic\n",
              "  [9] diabetic normal   diabetic diabetic normal   normal   diabetic normal  \n",
              " [17] normal   normal   normal   normal   normal   diabetic diabetic normal  \n",
              " [25] normal   normal   normal   normal   normal   normal   normal   normal  \n",
              " [33] diabetic diabetic normal   normal   normal   normal   normal   diabetic\n",
              " [41] diabetic normal   normal   normal   diabetic diabetic diabetic diabetic\n",
              " [49] normal   normal   normal   normal   diabetic diabetic diabetic diabetic\n",
              " [57] diabetic normal   normal   normal   normal   diabetic normal   diabetic\n",
              " [65] normal   normal   normal   diabetic diabetic diabetic normal   diabetic\n",
              " [73] normal   normal   diabetic normal   normal   normal   normal   normal  \n",
              " [81] normal   diabetic normal   normal   normal   diabetic normal   normal  \n",
              " [89] normal   normal   normal   normal   normal   normal   normal   diabetic\n",
              " [97] normal   normal   normal   normal   normal   diabetic diabetic normal  \n",
              "[105] normal   normal   normal   diabetic normal   normal   diabetic diabetic\n",
              "[113] normal   normal   normal   normal   diabetic normal   normal   normal  \n",
              "[121] normal   normal   normal   normal   normal   diabetic normal   diabetic\n",
              "[129] normal   normal   normal   normal   normal   diabetic diabetic normal  \n",
              "[137] normal   normal   diabetic normal   normal   diabetic normal   normal  \n",
              "[145] diabetic diabetic normal   normal   diabetic normal   diabetic diabetic\n",
              "[153] diabetic diabetic normal   normal   normal   normal   normal   diabetic\n",
              "[161] diabetic diabetic normal   normal   normal   normal   normal   normal  \n",
              "[169] normal   diabetic diabetic diabetic normal   diabetic diabetic diabetic\n",
              "[177] normal  \n",
              "Levels: diabetic normal"
            ]
          },
          "metadata": {}
        },
        {
          "output_type": "display_data",
          "data": {
            "text/html": [
              "<style>\n",
              ".list-inline {list-style: none; margin:0; padding: 0}\n",
              ".list-inline>li {display: inline-block}\n",
              ".list-inline>li:not(:last-child)::after {content: \"\\00b7\"; padding: 0 .5ex}\n",
              "</style>\n",
              "<ol class=list-inline><li>normal</li><li>diabetic</li><li>normal</li><li>normal</li><li>normal</li><li>diabetic</li><li>normal</li><li>diabetic</li><li>diabetic</li><li>diabetic</li><li>normal</li><li>normal</li><li>diabetic</li><li>normal</li><li>diabetic</li><li>diabetic</li><li>normal</li><li>diabetic</li><li>normal</li><li>normal</li><li>normal</li><li>normal</li><li>normal</li><li>normal</li><li>normal</li><li>diabetic</li><li>normal</li><li>normal</li><li>normal</li><li>diabetic</li><li>normal</li><li>normal</li><li>normal</li><li>diabetic</li><li>normal</li><li>normal</li><li>diabetic</li><li>normal</li><li>normal</li><li>diabetic</li><li>normal</li><li>normal</li><li>normal</li><li>diabetic</li><li>diabetic</li><li>diabetic</li><li>diabetic</li><li>normal</li><li>normal</li><li>normal</li><li>diabetic</li><li>normal</li><li>normal</li><li>diabetic</li><li>normal</li><li>normal</li><li>normal</li><li>normal</li><li>normal</li><li>diabetic</li><li>diabetic</li><li>normal</li><li>normal</li><li>diabetic</li><li>normal</li><li>normal</li><li>normal</li><li>normal</li><li>normal</li><li>diabetic</li><li>diabetic</li><li>diabetic</li><li>normal</li><li>diabetic</li><li>diabetic</li><li>normal</li><li>normal</li><li>normal</li><li>normal</li><li>diabetic</li><li>normal</li><li>normal</li><li>normal</li><li>normal</li><li>normal</li><li>diabetic</li><li>diabetic</li><li>normal</li><li>normal</li><li>normal</li><li>normal</li><li>diabetic</li><li>normal</li><li>normal</li><li>diabetic</li><li>normal</li><li>normal</li><li>normal</li><li>normal</li><li>normal</li><li>diabetic</li><li>diabetic</li><li>normal</li><li>diabetic</li><li>diabetic</li><li>normal</li><li>normal</li><li>normal</li><li>normal</li><li>normal</li><li>normal</li><li>normal</li><li>normal</li><li>diabetic</li><li>diabetic</li><li>normal</li><li>diabetic</li><li>normal</li><li>normal</li><li>normal</li><li>normal</li><li>diabetic</li><li>normal</li><li>normal</li><li>diabetic</li><li>normal</li><li>diabetic</li><li>diabetic</li><li>diabetic</li><li>normal</li><li>normal</li><li>normal</li><li>diabetic</li><li>normal</li><li>normal</li><li>diabetic</li><li>normal</li><li>normal</li><li>normal</li><li>normal</li><li>normal</li><li>normal</li><li>normal</li><li>diabetic</li><li>normal</li><li>normal</li><li>normal</li><li>normal</li><li>normal</li><li>normal</li><li>normal</li><li>normal</li><li>normal</li><li>diabetic</li><li>normal</li><li>normal</li><li>normal</li><li>normal</li><li>diabetic</li><li>normal</li><li>diabetic</li><li>diabetic</li><li>normal</li><li>diabetic</li><li>normal</li><li>normal</li><li>normal</li><li>diabetic</li><li>normal</li><li>diabetic</li><li>normal</li><li>normal</li><li>diabetic</li><li>diabetic</li><li>normal</li><li>normal</li><li>diabetic</li><li>normal</li><li>normal</li><li>normal</li><li>normal</li><li>normal</li><li>diabetic</li><li>normal</li><li>normal</li><li>normal</li><li>normal</li><li>diabetic</li><li>normal</li><li>normal</li><li>normal</li><li>normal</li><li>normal</li><li>normal</li><li>normal</li><li>normal</li><li>diabetic</li><li>normal</li><li>normal</li><li>normal</li><li>normal</li><li>normal</li><li>normal</li><li>normal</li><li>diabetic</li><li>normal</li><li>diabetic</li><li>normal</li><li>diabetic</li><li>normal</li><li>normal</li><li>diabetic</li><li>normal</li><li>normal</li><li>normal</li><li>normal</li><li>diabetic</li><li>normal</li><li>normal</li><li>normal</li><li>normal</li><li>normal</li><li>diabetic</li><li>diabetic</li><li>normal</li><li>normal</li><li>diabetic</li><li>diabetic</li><li>normal</li><li>normal</li><li>normal</li><li>normal</li><li>diabetic</li><li>diabetic</li><li>diabetic</li><li>normal</li><li>normal</li><li>normal</li><li>diabetic</li><li>normal</li><li>normal</li><li>normal</li><li>normal</li><li>normal</li><li>normal</li><li>normal</li><li>diabetic</li><li>normal</li><li>normal</li><li>normal</li><li>normal</li><li>normal</li><li>normal</li><li>diabetic</li><li>normal</li><li>normal</li><li>normal</li><li>diabetic</li><li>normal</li><li>diabetic</li><li>normal</li><li>normal</li><li>normal</li><li>normal</li><li>normal</li><li>normal</li><li>normal</li><li>normal</li><li>normal</li><li>normal</li><li>normal</li><li>normal</li><li>diabetic</li><li>diabetic</li><li>normal</li><li>normal</li><li>diabetic</li><li>normal</li><li>diabetic</li><li>normal</li><li>diabetic</li><li>diabetic</li><li>normal</li><li>diabetic</li><li>diabetic</li><li>normal</li><li>normal</li><li>normal</li><li>diabetic</li><li>diabetic</li><li>diabetic</li><li>normal</li><li>normal</li><li>normal</li><li>normal</li><li>normal</li><li>normal</li><li>diabetic</li><li>normal</li><li>normal</li><li>normal</li><li>normal</li><li>diabetic</li><li>normal</li><li>diabetic</li><li>normal</li><li>diabetic</li><li>normal</li><li>normal</li><li>normal</li><li>normal</li><li>normal</li><li>diabetic</li><li>diabetic</li><li>normal</li><li>diabetic</li><li>normal</li><li>diabetic</li><li>diabetic</li><li>normal</li><li>diabetic</li><li>normal</li><li>diabetic</li><li>diabetic</li><li>normal</li><li>normal</li><li>normal</li><li>normal</li><li>normal</li><li>normal</li><li>diabetic</li><li>normal</li><li>normal</li><li>normal</li><li>normal</li><li>diabetic</li><li>diabetic</li><li>diabetic</li><li>normal</li><li>normal</li><li>normal</li><li>diabetic</li><li>normal</li><li>normal</li><li>normal</li><li>normal</li><li>diabetic</li><li>diabetic</li><li>normal</li><li>normal</li><li>normal</li><li>diabetic</li><li>normal</li><li>normal</li><li>normal</li></ol>\n",
              "\n",
              "<details>\n",
              "\t<summary style=display:list-item;cursor:pointer>\n",
              "\t\t<strong>Levels</strong>:\n",
              "\t</summary>\n",
              "\t<style>\n",
              "\t.list-inline {list-style: none; margin:0; padding: 0}\n",
              "\t.list-inline>li {display: inline-block}\n",
              "\t.list-inline>li:not(:last-child)::after {content: \"\\00b7\"; padding: 0 .5ex}\n",
              "\t</style>\n",
              "\t<ol class=list-inline><li>'diabetic'</li><li>'normal'</li></ol>\n",
              "</details>"
            ],
            "text/markdown": "1. normal\n2. diabetic\n3. normal\n4. normal\n5. normal\n6. diabetic\n7. normal\n8. diabetic\n9. diabetic\n10. diabetic\n11. normal\n12. normal\n13. diabetic\n14. normal\n15. diabetic\n16. diabetic\n17. normal\n18. diabetic\n19. normal\n20. normal\n21. normal\n22. normal\n23. normal\n24. normal\n25. normal\n26. diabetic\n27. normal\n28. normal\n29. normal\n30. diabetic\n31. normal\n32. normal\n33. normal\n34. diabetic\n35. normal\n36. normal\n37. diabetic\n38. normal\n39. normal\n40. diabetic\n41. normal\n42. normal\n43. normal\n44. diabetic\n45. diabetic\n46. diabetic\n47. diabetic\n48. normal\n49. normal\n50. normal\n51. diabetic\n52. normal\n53. normal\n54. diabetic\n55. normal\n56. normal\n57. normal\n58. normal\n59. normal\n60. diabetic\n61. diabetic\n62. normal\n63. normal\n64. diabetic\n65. normal\n66. normal\n67. normal\n68. normal\n69. normal\n70. diabetic\n71. diabetic\n72. diabetic\n73. normal\n74. diabetic\n75. diabetic\n76. normal\n77. normal\n78. normal\n79. normal\n80. diabetic\n81. normal\n82. normal\n83. normal\n84. normal\n85. normal\n86. diabetic\n87. diabetic\n88. normal\n89. normal\n90. normal\n91. normal\n92. diabetic\n93. normal\n94. normal\n95. diabetic\n96. normal\n97. normal\n98. normal\n99. normal\n100. normal\n101. diabetic\n102. diabetic\n103. normal\n104. diabetic\n105. diabetic\n106. normal\n107. normal\n108. normal\n109. normal\n110. normal\n111. normal\n112. normal\n113. normal\n114. diabetic\n115. diabetic\n116. normal\n117. diabetic\n118. normal\n119. normal\n120. normal\n121. normal\n122. diabetic\n123. normal\n124. normal\n125. diabetic\n126. normal\n127. diabetic\n128. diabetic\n129. diabetic\n130. normal\n131. normal\n132. normal\n133. diabetic\n134. normal\n135. normal\n136. diabetic\n137. normal\n138. normal\n139. normal\n140. normal\n141. normal\n142. normal\n143. normal\n144. diabetic\n145. normal\n146. normal\n147. normal\n148. normal\n149. normal\n150. normal\n151. normal\n152. normal\n153. normal\n154. diabetic\n155. normal\n156. normal\n157. normal\n158. normal\n159. diabetic\n160. normal\n161. diabetic\n162. diabetic\n163. normal\n164. diabetic\n165. normal\n166. normal\n167. normal\n168. diabetic\n169. normal\n170. diabetic\n171. normal\n172. normal\n173. diabetic\n174. diabetic\n175. normal\n176. normal\n177. diabetic\n178. normal\n179. normal\n180. normal\n181. normal\n182. normal\n183. diabetic\n184. normal\n185. normal\n186. normal\n187. normal\n188. diabetic\n189. normal\n190. normal\n191. normal\n192. normal\n193. normal\n194. normal\n195. normal\n196. normal\n197. diabetic\n198. normal\n199. normal\n200. normal\n201. normal\n202. normal\n203. normal\n204. normal\n205. diabetic\n206. normal\n207. diabetic\n208. normal\n209. diabetic\n210. normal\n211. normal\n212. diabetic\n213. normal\n214. normal\n215. normal\n216. normal\n217. diabetic\n218. normal\n219. normal\n220. normal\n221. normal\n222. normal\n223. diabetic\n224. diabetic\n225. normal\n226. normal\n227. diabetic\n228. diabetic\n229. normal\n230. normal\n231. normal\n232. normal\n233. diabetic\n234. diabetic\n235. diabetic\n236. normal\n237. normal\n238. normal\n239. diabetic\n240. normal\n241. normal\n242. normal\n243. normal\n244. normal\n245. normal\n246. normal\n247. diabetic\n248. normal\n249. normal\n250. normal\n251. normal\n252. normal\n253. normal\n254. diabetic\n255. normal\n256. normal\n257. normal\n258. diabetic\n259. normal\n260. diabetic\n261. normal\n262. normal\n263. normal\n264. normal\n265. normal\n266. normal\n267. normal\n268. normal\n269. normal\n270. normal\n271. normal\n272. normal\n273. diabetic\n274. diabetic\n275. normal\n276. normal\n277. diabetic\n278. normal\n279. diabetic\n280. normal\n281. diabetic\n282. diabetic\n283. normal\n284. diabetic\n285. diabetic\n286. normal\n287. normal\n288. normal\n289. diabetic\n290. diabetic\n291. diabetic\n292. normal\n293. normal\n294. normal\n295. normal\n296. normal\n297. normal\n298. diabetic\n299. normal\n300. normal\n301. normal\n302. normal\n303. diabetic\n304. normal\n305. diabetic\n306. normal\n307. diabetic\n308. normal\n309. normal\n310. normal\n311. normal\n312. normal\n313. diabetic\n314. diabetic\n315. normal\n316. diabetic\n317. normal\n318. diabetic\n319. diabetic\n320. normal\n321. diabetic\n322. normal\n323. diabetic\n324. diabetic\n325. normal\n326. normal\n327. normal\n328. normal\n329. normal\n330. normal\n331. diabetic\n332. normal\n333. normal\n334. normal\n335. normal\n336. diabetic\n337. diabetic\n338. diabetic\n339. normal\n340. normal\n341. normal\n342. diabetic\n343. normal\n344. normal\n345. normal\n346. normal\n347. diabetic\n348. diabetic\n349. normal\n350. normal\n351. normal\n352. diabetic\n353. normal\n354. normal\n355. normal\n\n\n\n**Levels**: 1. 'diabetic'\n2. 'normal'\n\n\n",
            "text/latex": "\\begin{enumerate*}\n\\item normal\n\\item diabetic\n\\item normal\n\\item normal\n\\item normal\n\\item diabetic\n\\item normal\n\\item diabetic\n\\item diabetic\n\\item diabetic\n\\item normal\n\\item normal\n\\item diabetic\n\\item normal\n\\item diabetic\n\\item diabetic\n\\item normal\n\\item diabetic\n\\item normal\n\\item normal\n\\item normal\n\\item normal\n\\item normal\n\\item normal\n\\item normal\n\\item diabetic\n\\item normal\n\\item normal\n\\item normal\n\\item diabetic\n\\item normal\n\\item normal\n\\item normal\n\\item diabetic\n\\item normal\n\\item normal\n\\item diabetic\n\\item normal\n\\item normal\n\\item diabetic\n\\item normal\n\\item normal\n\\item normal\n\\item diabetic\n\\item diabetic\n\\item diabetic\n\\item diabetic\n\\item normal\n\\item normal\n\\item normal\n\\item diabetic\n\\item normal\n\\item normal\n\\item diabetic\n\\item normal\n\\item normal\n\\item normal\n\\item normal\n\\item normal\n\\item diabetic\n\\item diabetic\n\\item normal\n\\item normal\n\\item diabetic\n\\item normal\n\\item normal\n\\item normal\n\\item normal\n\\item normal\n\\item diabetic\n\\item diabetic\n\\item diabetic\n\\item normal\n\\item diabetic\n\\item diabetic\n\\item normal\n\\item normal\n\\item normal\n\\item normal\n\\item diabetic\n\\item normal\n\\item normal\n\\item normal\n\\item normal\n\\item normal\n\\item diabetic\n\\item diabetic\n\\item normal\n\\item normal\n\\item normal\n\\item normal\n\\item diabetic\n\\item normal\n\\item normal\n\\item diabetic\n\\item normal\n\\item normal\n\\item normal\n\\item normal\n\\item normal\n\\item diabetic\n\\item diabetic\n\\item normal\n\\item diabetic\n\\item diabetic\n\\item normal\n\\item normal\n\\item normal\n\\item normal\n\\item normal\n\\item normal\n\\item normal\n\\item normal\n\\item diabetic\n\\item diabetic\n\\item normal\n\\item diabetic\n\\item normal\n\\item normal\n\\item normal\n\\item normal\n\\item diabetic\n\\item normal\n\\item normal\n\\item diabetic\n\\item normal\n\\item diabetic\n\\item diabetic\n\\item diabetic\n\\item normal\n\\item normal\n\\item normal\n\\item diabetic\n\\item normal\n\\item normal\n\\item diabetic\n\\item normal\n\\item normal\n\\item normal\n\\item normal\n\\item normal\n\\item normal\n\\item normal\n\\item diabetic\n\\item normal\n\\item normal\n\\item normal\n\\item normal\n\\item normal\n\\item normal\n\\item normal\n\\item normal\n\\item normal\n\\item diabetic\n\\item normal\n\\item normal\n\\item normal\n\\item normal\n\\item diabetic\n\\item normal\n\\item diabetic\n\\item diabetic\n\\item normal\n\\item diabetic\n\\item normal\n\\item normal\n\\item normal\n\\item diabetic\n\\item normal\n\\item diabetic\n\\item normal\n\\item normal\n\\item diabetic\n\\item diabetic\n\\item normal\n\\item normal\n\\item diabetic\n\\item normal\n\\item normal\n\\item normal\n\\item normal\n\\item normal\n\\item diabetic\n\\item normal\n\\item normal\n\\item normal\n\\item normal\n\\item diabetic\n\\item normal\n\\item normal\n\\item normal\n\\item normal\n\\item normal\n\\item normal\n\\item normal\n\\item normal\n\\item diabetic\n\\item normal\n\\item normal\n\\item normal\n\\item normal\n\\item normal\n\\item normal\n\\item normal\n\\item diabetic\n\\item normal\n\\item diabetic\n\\item normal\n\\item diabetic\n\\item normal\n\\item normal\n\\item diabetic\n\\item normal\n\\item normal\n\\item normal\n\\item normal\n\\item diabetic\n\\item normal\n\\item normal\n\\item normal\n\\item normal\n\\item normal\n\\item diabetic\n\\item diabetic\n\\item normal\n\\item normal\n\\item diabetic\n\\item diabetic\n\\item normal\n\\item normal\n\\item normal\n\\item normal\n\\item diabetic\n\\item diabetic\n\\item diabetic\n\\item normal\n\\item normal\n\\item normal\n\\item diabetic\n\\item normal\n\\item normal\n\\item normal\n\\item normal\n\\item normal\n\\item normal\n\\item normal\n\\item diabetic\n\\item normal\n\\item normal\n\\item normal\n\\item normal\n\\item normal\n\\item normal\n\\item diabetic\n\\item normal\n\\item normal\n\\item normal\n\\item diabetic\n\\item normal\n\\item diabetic\n\\item normal\n\\item normal\n\\item normal\n\\item normal\n\\item normal\n\\item normal\n\\item normal\n\\item normal\n\\item normal\n\\item normal\n\\item normal\n\\item normal\n\\item diabetic\n\\item diabetic\n\\item normal\n\\item normal\n\\item diabetic\n\\item normal\n\\item diabetic\n\\item normal\n\\item diabetic\n\\item diabetic\n\\item normal\n\\item diabetic\n\\item diabetic\n\\item normal\n\\item normal\n\\item normal\n\\item diabetic\n\\item diabetic\n\\item diabetic\n\\item normal\n\\item normal\n\\item normal\n\\item normal\n\\item normal\n\\item normal\n\\item diabetic\n\\item normal\n\\item normal\n\\item normal\n\\item normal\n\\item diabetic\n\\item normal\n\\item diabetic\n\\item normal\n\\item diabetic\n\\item normal\n\\item normal\n\\item normal\n\\item normal\n\\item normal\n\\item diabetic\n\\item diabetic\n\\item normal\n\\item diabetic\n\\item normal\n\\item diabetic\n\\item diabetic\n\\item normal\n\\item diabetic\n\\item normal\n\\item diabetic\n\\item diabetic\n\\item normal\n\\item normal\n\\item normal\n\\item normal\n\\item normal\n\\item normal\n\\item diabetic\n\\item normal\n\\item normal\n\\item normal\n\\item normal\n\\item diabetic\n\\item diabetic\n\\item diabetic\n\\item normal\n\\item normal\n\\item normal\n\\item diabetic\n\\item normal\n\\item normal\n\\item normal\n\\item normal\n\\item diabetic\n\\item diabetic\n\\item normal\n\\item normal\n\\item normal\n\\item diabetic\n\\item normal\n\\item normal\n\\item normal\n\\end{enumerate*}\n\n\\emph{Levels}: \\begin{enumerate*}\n\\item 'diabetic'\n\\item 'normal'\n\\end{enumerate*}\n",
            "text/plain": [
              "  [1] normal   diabetic normal   normal   normal   diabetic normal   diabetic\n",
              "  [9] diabetic diabetic normal   normal   diabetic normal   diabetic diabetic\n",
              " [17] normal   diabetic normal   normal   normal   normal   normal   normal  \n",
              " [25] normal   diabetic normal   normal   normal   diabetic normal   normal  \n",
              " [33] normal   diabetic normal   normal   diabetic normal   normal   diabetic\n",
              " [41] normal   normal   normal   diabetic diabetic diabetic diabetic normal  \n",
              " [49] normal   normal   diabetic normal   normal   diabetic normal   normal  \n",
              " [57] normal   normal   normal   diabetic diabetic normal   normal   diabetic\n",
              " [65] normal   normal   normal   normal   normal   diabetic diabetic diabetic\n",
              " [73] normal   diabetic diabetic normal   normal   normal   normal   diabetic\n",
              " [81] normal   normal   normal   normal   normal   diabetic diabetic normal  \n",
              " [89] normal   normal   normal   diabetic normal   normal   diabetic normal  \n",
              " [97] normal   normal   normal   normal   diabetic diabetic normal   diabetic\n",
              "[105] diabetic normal   normal   normal   normal   normal   normal   normal  \n",
              "[113] normal   diabetic diabetic normal   diabetic normal   normal   normal  \n",
              "[121] normal   diabetic normal   normal   diabetic normal   diabetic diabetic\n",
              "[129] diabetic normal   normal   normal   diabetic normal   normal   diabetic\n",
              "[137] normal   normal   normal   normal   normal   normal   normal   diabetic\n",
              "[145] normal   normal   normal   normal   normal   normal   normal   normal  \n",
              "[153] normal   diabetic normal   normal   normal   normal   diabetic normal  \n",
              "[161] diabetic diabetic normal   diabetic normal   normal   normal   diabetic\n",
              "[169] normal   diabetic normal   normal   diabetic diabetic normal   normal  \n",
              "[177] diabetic normal   normal   normal   normal   normal   diabetic normal  \n",
              "[185] normal   normal   normal   diabetic normal   normal   normal   normal  \n",
              "[193] normal   normal   normal   normal   diabetic normal   normal   normal  \n",
              "[201] normal   normal   normal   normal   diabetic normal   diabetic normal  \n",
              "[209] diabetic normal   normal   diabetic normal   normal   normal   normal  \n",
              "[217] diabetic normal   normal   normal   normal   normal   diabetic diabetic\n",
              "[225] normal   normal   diabetic diabetic normal   normal   normal   normal  \n",
              "[233] diabetic diabetic diabetic normal   normal   normal   diabetic normal  \n",
              "[241] normal   normal   normal   normal   normal   normal   diabetic normal  \n",
              "[249] normal   normal   normal   normal   normal   diabetic normal   normal  \n",
              "[257] normal   diabetic normal   diabetic normal   normal   normal   normal  \n",
              "[265] normal   normal   normal   normal   normal   normal   normal   normal  \n",
              "[273] diabetic diabetic normal   normal   diabetic normal   diabetic normal  \n",
              "[281] diabetic diabetic normal   diabetic diabetic normal   normal   normal  \n",
              "[289] diabetic diabetic diabetic normal   normal   normal   normal   normal  \n",
              "[297] normal   diabetic normal   normal   normal   normal   diabetic normal  \n",
              "[305] diabetic normal   diabetic normal   normal   normal   normal   normal  \n",
              "[313] diabetic diabetic normal   diabetic normal   diabetic diabetic normal  \n",
              "[321] diabetic normal   diabetic diabetic normal   normal   normal   normal  \n",
              "[329] normal   normal   diabetic normal   normal   normal   normal   diabetic\n",
              "[337] diabetic diabetic normal   normal   normal   diabetic normal   normal  \n",
              "[345] normal   normal   diabetic diabetic normal   normal   normal   diabetic\n",
              "[353] normal   normal   normal  \n",
              "Levels: diabetic normal"
            ]
          },
          "metadata": {}
        }
      ]
    },
    {
      "cell_type": "code",
      "source": [
        "y_true_train <- pima_train$class\n",
        "y_true_test <- pima_test$class"
      ],
      "metadata": {
        "id": "Jn3T48vt5Gkm"
      },
      "execution_count": 53,
      "outputs": []
    },
    {
      "cell_type": "code",
      "source": [
        "train_err <- (1/length(y_hat_train)) * length(which(y_true_train != y_hat_train))\n",
        "test_err <- (1/length(y_hat_test)) * length(which(y_true_test != y_hat_test))"
      ],
      "metadata": {
        "id": "U3jzrr4W4bEq"
      },
      "execution_count": 57,
      "outputs": []
    },
    {
      "cell_type": "code",
      "source": [
        "train_err\n",
        "test_err"
      ],
      "metadata": {
        "colab": {
          "base_uri": "https://localhost:8080/",
          "height": 51
        },
        "id": "o4QoF-DN5hFv",
        "outputId": "e52ab92c-100f-4a7c-ad9a-52d2fdbaa682"
      },
      "execution_count": 58,
      "outputs": [
        {
          "output_type": "display_data",
          "data": {
            "text/html": [
              "0.2"
            ],
            "text/markdown": "0.2",
            "text/latex": "0.2",
            "text/plain": [
              "[1] 0.2"
            ]
          },
          "metadata": {}
        },
        {
          "output_type": "display_data",
          "data": {
            "text/html": [
              "0.265536723163842"
            ],
            "text/markdown": "0.265536723163842",
            "text/latex": "0.265536723163842",
            "text/plain": [
              "[1] 0.2655367"
            ]
          },
          "metadata": {}
        }
      ]
    },
    {
      "cell_type": "code",
      "source": [
        "#lda is doing a better job"
      ],
      "metadata": {
        "id": "w7Ql-Iy558hT"
      },
      "execution_count": null,
      "outputs": []
    },
    {
      "cell_type": "markdown",
      "source": [
        "#RDA#"
      ],
      "metadata": {
        "id": "-0O_3Hvg6Abp"
      }
    },
    {
      "cell_type": "code",
      "source": [
        "lda_fit <- rda(class~.,data=pima_train,regularization = c(gamma=0,lamda=1))"
      ],
      "metadata": {
        "id": "Ri8_h9tw6CSI"
      },
      "execution_count": 60,
      "outputs": []
    },
    {
      "cell_type": "code",
      "source": [
        "qda_fit <- rda(class~.,data=pima_train,regularization = c(gamma=0,lamda=0))"
      ],
      "metadata": {
        "id": "P9bBgmWS6s6f"
      },
      "execution_count": 61,
      "outputs": []
    },
    {
      "cell_type": "code",
      "source": [
        "rda_fit <- rda(class~.,data=pima_train,regularization = c(gamma=0,lamda=0.5))"
      ],
      "metadata": {
        "id": "2mDT_Et_62Gw"
      },
      "execution_count": 62,
      "outputs": []
    },
    {
      "cell_type": "code",
      "source": [
        "rda_fit"
      ],
      "metadata": {
        "colab": {
          "base_uri": "https://localhost:8080/",
          "height": 255
        },
        "id": "J_TpYuBZ7Bdu",
        "outputId": "7f4babe9-6a7f-4d07-9c87-6d75b73f7ac1"
      },
      "execution_count": 63,
      "outputs": [
        {
          "output_type": "display_data",
          "data": {
            "text/plain": [
              "Call: \n",
              "rda(formula = class ~ ., data = pima_train, regularization = c(gamma = 0, \n",
              "    lamda = 0.5))\n",
              "\n",
              "Regularization parameters: \n",
              " gamma lambda \n",
              "   0.0    0.5 \n",
              "\n",
              "Prior probabilities of groups: \n",
              " diabetic    normal \n",
              "0.3380282 0.6619718 \n",
              "\n",
              "Misclassification rate: \n",
              "       apparent: 19.718 %"
            ]
          },
          "metadata": {}
        }
      ]
    },
    {
      "cell_type": "code",
      "source": [
        "qda_fit"
      ],
      "metadata": {
        "colab": {
          "base_uri": "https://localhost:8080/",
          "height": 255
        },
        "id": "vua7DJUv7FbF",
        "outputId": "75e96e2a-f96e-4372-c9d5-3346f8fec81a"
      },
      "execution_count": 64,
      "outputs": [
        {
          "output_type": "display_data",
          "data": {
            "text/plain": [
              "Call: \n",
              "rda(formula = class ~ ., data = pima_train, regularization = c(gamma = 0, \n",
              "    lamda = 0))\n",
              "\n",
              "Regularization parameters: \n",
              " gamma lambda \n",
              "     0      0 \n",
              "\n",
              "Prior probabilities of groups: \n",
              " diabetic    normal \n",
              "0.3380282 0.6619718 \n",
              "\n",
              "Misclassification rate: \n",
              "       apparent: 20 %"
            ]
          },
          "metadata": {}
        }
      ]
    },
    {
      "cell_type": "code",
      "source": [
        "lda_fit"
      ],
      "metadata": {
        "colab": {
          "base_uri": "https://localhost:8080/",
          "height": 255
        },
        "id": "pfpgbkN37HnS",
        "outputId": "c4301b71-b967-4bec-f892-b9a0ab351de9"
      },
      "execution_count": 65,
      "outputs": [
        {
          "output_type": "display_data",
          "data": {
            "text/plain": [
              "Call: \n",
              "rda(formula = class ~ ., data = pima_train, regularization = c(gamma = 0, \n",
              "    lamda = 1))\n",
              "\n",
              "Regularization parameters: \n",
              " gamma lambda \n",
              "     0      1 \n",
              "\n",
              "Prior probabilities of groups: \n",
              " diabetic    normal \n",
              "0.3380282 0.6619718 \n",
              "\n",
              "Misclassification rate: \n",
              "       apparent: 21.127 %"
            ]
          },
          "metadata": {}
        }
      ]
    },
    {
      "cell_type": "code",
      "source": [
        "lda_fit$error.rate\n",
        "qda_fit$error.rate\n",
        "rda_fit$error.rate"
      ],
      "metadata": {
        "colab": {
          "base_uri": "https://localhost:8080/",
          "height": 68
        },
        "id": "dVlWvB6J7NZC",
        "outputId": "1627480c-49b1-4d0e-f13e-728721f39d2e"
      },
      "execution_count": 68,
      "outputs": [
        {
          "output_type": "display_data",
          "data": {
            "text/html": [
              "<strong>APER:</strong> 0.211267605633803"
            ],
            "text/markdown": "**APER:** 0.211267605633803",
            "text/latex": "\\textbf{APER:} 0.211267605633803",
            "text/plain": [
              "     APER \n",
              "0.2112676 "
            ]
          },
          "metadata": {}
        },
        {
          "output_type": "display_data",
          "data": {
            "text/html": [
              "<strong>APER:</strong> 0.2"
            ],
            "text/markdown": "**APER:** 0.2",
            "text/latex": "\\textbf{APER:} 0.2",
            "text/plain": [
              "APER \n",
              " 0.2 "
            ]
          },
          "metadata": {}
        },
        {
          "output_type": "display_data",
          "data": {
            "text/html": [
              "<strong>APER:</strong> 0.197183098591549"
            ],
            "text/markdown": "**APER:** 0.197183098591549",
            "text/latex": "\\textbf{APER:} 0.197183098591549",
            "text/plain": [
              "     APER \n",
              "0.1971831 "
            ]
          },
          "metadata": {}
        }
      ]
    },
    {
      "cell_type": "code",
      "source": [
        "y_hat_lda_test <- predict(lda.fit,newdat=pima_test)$class\n",
        "y_hat_qda_test<- predict(lda.fit,newdat=pima_test)$class\n",
        "y_hat_rda_test <- predict(lda.fit,newdat=pima_test)$class"
      ],
      "metadata": {
        "id": "ToPkdZS_7c2L"
      },
      "execution_count": 76,
      "outputs": []
    },
    {
      "cell_type": "code",
      "source": [
        "y_hat_lda_test\n",
        "y_hat_qda_test\n",
        "y_hat_rda_test"
      ],
      "metadata": {
        "colab": {
          "base_uri": "https://localhost:8080/",
          "height": 935
        },
        "id": "MKLiWPlQ7wwW",
        "outputId": "9883352f-1528-4cad-f0d8-ddfdb9740e04"
      },
      "execution_count": 78,
      "outputs": [
        {
          "output_type": "display_data",
          "data": {
            "text/html": [
              "<style>\n",
              ".list-inline {list-style: none; margin:0; padding: 0}\n",
              ".list-inline>li {display: inline-block}\n",
              ".list-inline>li:not(:last-child)::after {content: \"\\00b7\"; padding: 0 .5ex}\n",
              "</style>\n",
              "<ol class=list-inline><li>diabetic</li><li>normal</li><li>normal</li><li>diabetic</li><li>diabetic</li><li>normal</li><li>normal</li><li>diabetic</li><li>diabetic</li><li>diabetic</li><li>diabetic</li><li>diabetic</li><li>normal</li><li>normal</li><li>diabetic</li><li>normal</li><li>normal</li><li>normal</li><li>normal</li><li>normal</li><li>normal</li><li>diabetic</li><li>diabetic</li><li>normal</li><li>normal</li><li>normal</li><li>normal</li><li>normal</li><li>normal</li><li>normal</li><li>normal</li><li>normal</li><li>diabetic</li><li>diabetic</li><li>normal</li><li>normal</li><li>normal</li><li>normal</li><li>normal</li><li>diabetic</li><li>diabetic</li><li>normal</li><li>normal</li><li>normal</li><li>normal</li><li>normal</li><li>diabetic</li><li>diabetic</li><li>normal</li><li>normal</li><li>normal</li><li>normal</li><li>diabetic</li><li>diabetic</li><li>normal</li><li>diabetic</li><li>diabetic</li><li>normal</li><li>normal</li><li>normal</li><li>normal</li><li>diabetic</li><li>diabetic</li><li>diabetic</li><li>normal</li><li>normal</li><li>normal</li><li>diabetic</li><li>diabetic</li><li>diabetic</li><li>normal</li><li>diabetic</li><li>normal</li><li>normal</li><li>diabetic</li><li>normal</li><li>normal</li><li>normal</li><li>normal</li><li>normal</li><li>normal</li><li>diabetic</li><li>normal</li><li>normal</li><li>normal</li><li>normal</li><li>normal</li><li>normal</li><li>normal</li><li>normal</li><li>normal</li><li>normal</li><li>normal</li><li>normal</li><li>normal</li><li>diabetic</li><li>normal</li><li>normal</li><li>normal</li><li>normal</li><li>diabetic</li><li>diabetic</li><li>diabetic</li><li>normal</li><li>normal</li><li>normal</li><li>normal</li><li>diabetic</li><li>normal</li><li>normal</li><li>diabetic</li><li>normal</li><li>normal</li><li>normal</li><li>normal</li><li>normal</li><li>diabetic</li><li>normal</li><li>normal</li><li>normal</li><li>normal</li><li>normal</li><li>normal</li><li>normal</li><li>normal</li><li>diabetic</li><li>normal</li><li>diabetic</li><li>normal</li><li>normal</li><li>normal</li><li>normal</li><li>normal</li><li>diabetic</li><li>diabetic</li><li>normal</li><li>normal</li><li>normal</li><li>diabetic</li><li>normal</li><li>normal</li><li>normal</li><li>normal</li><li>normal</li><li>diabetic</li><li>diabetic</li><li>normal</li><li>normal</li><li>diabetic</li><li>normal</li><li>diabetic</li><li>diabetic</li><li>normal</li><li>diabetic</li><li>normal</li><li>normal</li><li>normal</li><li>normal</li><li>normal</li><li>diabetic</li><li>diabetic</li><li>normal</li><li>normal</li><li>normal</li><li>normal</li><li>normal</li><li>normal</li><li>normal</li><li>normal</li><li>diabetic</li><li>normal</li><li>normal</li><li>normal</li><li>diabetic</li><li>diabetic</li><li>diabetic</li><li>normal</li></ol>\n",
              "\n",
              "<details>\n",
              "\t<summary style=display:list-item;cursor:pointer>\n",
              "\t\t<strong>Levels</strong>:\n",
              "\t</summary>\n",
              "\t<style>\n",
              "\t.list-inline {list-style: none; margin:0; padding: 0}\n",
              "\t.list-inline>li {display: inline-block}\n",
              "\t.list-inline>li:not(:last-child)::after {content: \"\\00b7\"; padding: 0 .5ex}\n",
              "\t</style>\n",
              "\t<ol class=list-inline><li>'diabetic'</li><li>'normal'</li></ol>\n",
              "</details>"
            ],
            "text/markdown": "1. diabetic\n2. normal\n3. normal\n4. diabetic\n5. diabetic\n6. normal\n7. normal\n8. diabetic\n9. diabetic\n10. diabetic\n11. diabetic\n12. diabetic\n13. normal\n14. normal\n15. diabetic\n16. normal\n17. normal\n18. normal\n19. normal\n20. normal\n21. normal\n22. diabetic\n23. diabetic\n24. normal\n25. normal\n26. normal\n27. normal\n28. normal\n29. normal\n30. normal\n31. normal\n32. normal\n33. diabetic\n34. diabetic\n35. normal\n36. normal\n37. normal\n38. normal\n39. normal\n40. diabetic\n41. diabetic\n42. normal\n43. normal\n44. normal\n45. normal\n46. normal\n47. diabetic\n48. diabetic\n49. normal\n50. normal\n51. normal\n52. normal\n53. diabetic\n54. diabetic\n55. normal\n56. diabetic\n57. diabetic\n58. normal\n59. normal\n60. normal\n61. normal\n62. diabetic\n63. diabetic\n64. diabetic\n65. normal\n66. normal\n67. normal\n68. diabetic\n69. diabetic\n70. diabetic\n71. normal\n72. diabetic\n73. normal\n74. normal\n75. diabetic\n76. normal\n77. normal\n78. normal\n79. normal\n80. normal\n81. normal\n82. diabetic\n83. normal\n84. normal\n85. normal\n86. normal\n87. normal\n88. normal\n89. normal\n90. normal\n91. normal\n92. normal\n93. normal\n94. normal\n95. normal\n96. diabetic\n97. normal\n98. normal\n99. normal\n100. normal\n101. diabetic\n102. diabetic\n103. diabetic\n104. normal\n105. normal\n106. normal\n107. normal\n108. diabetic\n109. normal\n110. normal\n111. diabetic\n112. normal\n113. normal\n114. normal\n115. normal\n116. normal\n117. diabetic\n118. normal\n119. normal\n120. normal\n121. normal\n122. normal\n123. normal\n124. normal\n125. normal\n126. diabetic\n127. normal\n128. diabetic\n129. normal\n130. normal\n131. normal\n132. normal\n133. normal\n134. diabetic\n135. diabetic\n136. normal\n137. normal\n138. normal\n139. diabetic\n140. normal\n141. normal\n142. normal\n143. normal\n144. normal\n145. diabetic\n146. diabetic\n147. normal\n148. normal\n149. diabetic\n150. normal\n151. diabetic\n152. diabetic\n153. normal\n154. diabetic\n155. normal\n156. normal\n157. normal\n158. normal\n159. normal\n160. diabetic\n161. diabetic\n162. normal\n163. normal\n164. normal\n165. normal\n166. normal\n167. normal\n168. normal\n169. normal\n170. diabetic\n171. normal\n172. normal\n173. normal\n174. diabetic\n175. diabetic\n176. diabetic\n177. normal\n\n\n\n**Levels**: 1. 'diabetic'\n2. 'normal'\n\n\n",
            "text/latex": "\\begin{enumerate*}\n\\item diabetic\n\\item normal\n\\item normal\n\\item diabetic\n\\item diabetic\n\\item normal\n\\item normal\n\\item diabetic\n\\item diabetic\n\\item diabetic\n\\item diabetic\n\\item diabetic\n\\item normal\n\\item normal\n\\item diabetic\n\\item normal\n\\item normal\n\\item normal\n\\item normal\n\\item normal\n\\item normal\n\\item diabetic\n\\item diabetic\n\\item normal\n\\item normal\n\\item normal\n\\item normal\n\\item normal\n\\item normal\n\\item normal\n\\item normal\n\\item normal\n\\item diabetic\n\\item diabetic\n\\item normal\n\\item normal\n\\item normal\n\\item normal\n\\item normal\n\\item diabetic\n\\item diabetic\n\\item normal\n\\item normal\n\\item normal\n\\item normal\n\\item normal\n\\item diabetic\n\\item diabetic\n\\item normal\n\\item normal\n\\item normal\n\\item normal\n\\item diabetic\n\\item diabetic\n\\item normal\n\\item diabetic\n\\item diabetic\n\\item normal\n\\item normal\n\\item normal\n\\item normal\n\\item diabetic\n\\item diabetic\n\\item diabetic\n\\item normal\n\\item normal\n\\item normal\n\\item diabetic\n\\item diabetic\n\\item diabetic\n\\item normal\n\\item diabetic\n\\item normal\n\\item normal\n\\item diabetic\n\\item normal\n\\item normal\n\\item normal\n\\item normal\n\\item normal\n\\item normal\n\\item diabetic\n\\item normal\n\\item normal\n\\item normal\n\\item normal\n\\item normal\n\\item normal\n\\item normal\n\\item normal\n\\item normal\n\\item normal\n\\item normal\n\\item normal\n\\item normal\n\\item diabetic\n\\item normal\n\\item normal\n\\item normal\n\\item normal\n\\item diabetic\n\\item diabetic\n\\item diabetic\n\\item normal\n\\item normal\n\\item normal\n\\item normal\n\\item diabetic\n\\item normal\n\\item normal\n\\item diabetic\n\\item normal\n\\item normal\n\\item normal\n\\item normal\n\\item normal\n\\item diabetic\n\\item normal\n\\item normal\n\\item normal\n\\item normal\n\\item normal\n\\item normal\n\\item normal\n\\item normal\n\\item diabetic\n\\item normal\n\\item diabetic\n\\item normal\n\\item normal\n\\item normal\n\\item normal\n\\item normal\n\\item diabetic\n\\item diabetic\n\\item normal\n\\item normal\n\\item normal\n\\item diabetic\n\\item normal\n\\item normal\n\\item normal\n\\item normal\n\\item normal\n\\item diabetic\n\\item diabetic\n\\item normal\n\\item normal\n\\item diabetic\n\\item normal\n\\item diabetic\n\\item diabetic\n\\item normal\n\\item diabetic\n\\item normal\n\\item normal\n\\item normal\n\\item normal\n\\item normal\n\\item diabetic\n\\item diabetic\n\\item normal\n\\item normal\n\\item normal\n\\item normal\n\\item normal\n\\item normal\n\\item normal\n\\item normal\n\\item diabetic\n\\item normal\n\\item normal\n\\item normal\n\\item diabetic\n\\item diabetic\n\\item diabetic\n\\item normal\n\\end{enumerate*}\n\n\\emph{Levels}: \\begin{enumerate*}\n\\item 'diabetic'\n\\item 'normal'\n\\end{enumerate*}\n",
            "text/plain": [
              "  [1] diabetic normal   normal   diabetic diabetic normal   normal   diabetic\n",
              "  [9] diabetic diabetic diabetic diabetic normal   normal   diabetic normal  \n",
              " [17] normal   normal   normal   normal   normal   diabetic diabetic normal  \n",
              " [25] normal   normal   normal   normal   normal   normal   normal   normal  \n",
              " [33] diabetic diabetic normal   normal   normal   normal   normal   diabetic\n",
              " [41] diabetic normal   normal   normal   normal   normal   diabetic diabetic\n",
              " [49] normal   normal   normal   normal   diabetic diabetic normal   diabetic\n",
              " [57] diabetic normal   normal   normal   normal   diabetic diabetic diabetic\n",
              " [65] normal   normal   normal   diabetic diabetic diabetic normal   diabetic\n",
              " [73] normal   normal   diabetic normal   normal   normal   normal   normal  \n",
              " [81] normal   diabetic normal   normal   normal   normal   normal   normal  \n",
              " [89] normal   normal   normal   normal   normal   normal   normal   diabetic\n",
              " [97] normal   normal   normal   normal   diabetic diabetic diabetic normal  \n",
              "[105] normal   normal   normal   diabetic normal   normal   diabetic normal  \n",
              "[113] normal   normal   normal   normal   diabetic normal   normal   normal  \n",
              "[121] normal   normal   normal   normal   normal   diabetic normal   diabetic\n",
              "[129] normal   normal   normal   normal   normal   diabetic diabetic normal  \n",
              "[137] normal   normal   diabetic normal   normal   normal   normal   normal  \n",
              "[145] diabetic diabetic normal   normal   diabetic normal   diabetic diabetic\n",
              "[153] normal   diabetic normal   normal   normal   normal   normal   diabetic\n",
              "[161] diabetic normal   normal   normal   normal   normal   normal   normal  \n",
              "[169] normal   diabetic normal   normal   normal   diabetic diabetic diabetic\n",
              "[177] normal  \n",
              "Levels: diabetic normal"
            ]
          },
          "metadata": {}
        },
        {
          "output_type": "display_data",
          "data": {
            "text/html": [
              "<style>\n",
              ".list-inline {list-style: none; margin:0; padding: 0}\n",
              ".list-inline>li {display: inline-block}\n",
              ".list-inline>li:not(:last-child)::after {content: \"\\00b7\"; padding: 0 .5ex}\n",
              "</style>\n",
              "<ol class=list-inline><li>diabetic</li><li>normal</li><li>normal</li><li>diabetic</li><li>diabetic</li><li>normal</li><li>normal</li><li>diabetic</li><li>diabetic</li><li>diabetic</li><li>diabetic</li><li>diabetic</li><li>normal</li><li>normal</li><li>diabetic</li><li>normal</li><li>normal</li><li>normal</li><li>normal</li><li>normal</li><li>normal</li><li>diabetic</li><li>diabetic</li><li>normal</li><li>normal</li><li>normal</li><li>normal</li><li>normal</li><li>normal</li><li>normal</li><li>normal</li><li>normal</li><li>diabetic</li><li>diabetic</li><li>normal</li><li>normal</li><li>normal</li><li>normal</li><li>normal</li><li>diabetic</li><li>diabetic</li><li>normal</li><li>normal</li><li>normal</li><li>normal</li><li>normal</li><li>diabetic</li><li>diabetic</li><li>normal</li><li>normal</li><li>normal</li><li>normal</li><li>diabetic</li><li>diabetic</li><li>normal</li><li>diabetic</li><li>diabetic</li><li>normal</li><li>normal</li><li>normal</li><li>normal</li><li>diabetic</li><li>diabetic</li><li>diabetic</li><li>normal</li><li>normal</li><li>normal</li><li>diabetic</li><li>diabetic</li><li>diabetic</li><li>normal</li><li>diabetic</li><li>normal</li><li>normal</li><li>diabetic</li><li>normal</li><li>normal</li><li>normal</li><li>normal</li><li>normal</li><li>normal</li><li>diabetic</li><li>normal</li><li>normal</li><li>normal</li><li>normal</li><li>normal</li><li>normal</li><li>normal</li><li>normal</li><li>normal</li><li>normal</li><li>normal</li><li>normal</li><li>normal</li><li>diabetic</li><li>normal</li><li>normal</li><li>normal</li><li>normal</li><li>diabetic</li><li>diabetic</li><li>diabetic</li><li>normal</li><li>normal</li><li>normal</li><li>normal</li><li>diabetic</li><li>normal</li><li>normal</li><li>diabetic</li><li>normal</li><li>normal</li><li>normal</li><li>normal</li><li>normal</li><li>diabetic</li><li>normal</li><li>normal</li><li>normal</li><li>normal</li><li>normal</li><li>normal</li><li>normal</li><li>normal</li><li>diabetic</li><li>normal</li><li>diabetic</li><li>normal</li><li>normal</li><li>normal</li><li>normal</li><li>normal</li><li>diabetic</li><li>diabetic</li><li>normal</li><li>normal</li><li>normal</li><li>diabetic</li><li>normal</li><li>normal</li><li>normal</li><li>normal</li><li>normal</li><li>diabetic</li><li>diabetic</li><li>normal</li><li>normal</li><li>diabetic</li><li>normal</li><li>diabetic</li><li>diabetic</li><li>normal</li><li>diabetic</li><li>normal</li><li>normal</li><li>normal</li><li>normal</li><li>normal</li><li>diabetic</li><li>diabetic</li><li>normal</li><li>normal</li><li>normal</li><li>normal</li><li>normal</li><li>normal</li><li>normal</li><li>normal</li><li>diabetic</li><li>normal</li><li>normal</li><li>normal</li><li>diabetic</li><li>diabetic</li><li>diabetic</li><li>normal</li></ol>\n",
              "\n",
              "<details>\n",
              "\t<summary style=display:list-item;cursor:pointer>\n",
              "\t\t<strong>Levels</strong>:\n",
              "\t</summary>\n",
              "\t<style>\n",
              "\t.list-inline {list-style: none; margin:0; padding: 0}\n",
              "\t.list-inline>li {display: inline-block}\n",
              "\t.list-inline>li:not(:last-child)::after {content: \"\\00b7\"; padding: 0 .5ex}\n",
              "\t</style>\n",
              "\t<ol class=list-inline><li>'diabetic'</li><li>'normal'</li></ol>\n",
              "</details>"
            ],
            "text/markdown": "1. diabetic\n2. normal\n3. normal\n4. diabetic\n5. diabetic\n6. normal\n7. normal\n8. diabetic\n9. diabetic\n10. diabetic\n11. diabetic\n12. diabetic\n13. normal\n14. normal\n15. diabetic\n16. normal\n17. normal\n18. normal\n19. normal\n20. normal\n21. normal\n22. diabetic\n23. diabetic\n24. normal\n25. normal\n26. normal\n27. normal\n28. normal\n29. normal\n30. normal\n31. normal\n32. normal\n33. diabetic\n34. diabetic\n35. normal\n36. normal\n37. normal\n38. normal\n39. normal\n40. diabetic\n41. diabetic\n42. normal\n43. normal\n44. normal\n45. normal\n46. normal\n47. diabetic\n48. diabetic\n49. normal\n50. normal\n51. normal\n52. normal\n53. diabetic\n54. diabetic\n55. normal\n56. diabetic\n57. diabetic\n58. normal\n59. normal\n60. normal\n61. normal\n62. diabetic\n63. diabetic\n64. diabetic\n65. normal\n66. normal\n67. normal\n68. diabetic\n69. diabetic\n70. diabetic\n71. normal\n72. diabetic\n73. normal\n74. normal\n75. diabetic\n76. normal\n77. normal\n78. normal\n79. normal\n80. normal\n81. normal\n82. diabetic\n83. normal\n84. normal\n85. normal\n86. normal\n87. normal\n88. normal\n89. normal\n90. normal\n91. normal\n92. normal\n93. normal\n94. normal\n95. normal\n96. diabetic\n97. normal\n98. normal\n99. normal\n100. normal\n101. diabetic\n102. diabetic\n103. diabetic\n104. normal\n105. normal\n106. normal\n107. normal\n108. diabetic\n109. normal\n110. normal\n111. diabetic\n112. normal\n113. normal\n114. normal\n115. normal\n116. normal\n117. diabetic\n118. normal\n119. normal\n120. normal\n121. normal\n122. normal\n123. normal\n124. normal\n125. normal\n126. diabetic\n127. normal\n128. diabetic\n129. normal\n130. normal\n131. normal\n132. normal\n133. normal\n134. diabetic\n135. diabetic\n136. normal\n137. normal\n138. normal\n139. diabetic\n140. normal\n141. normal\n142. normal\n143. normal\n144. normal\n145. diabetic\n146. diabetic\n147. normal\n148. normal\n149. diabetic\n150. normal\n151. diabetic\n152. diabetic\n153. normal\n154. diabetic\n155. normal\n156. normal\n157. normal\n158. normal\n159. normal\n160. diabetic\n161. diabetic\n162. normal\n163. normal\n164. normal\n165. normal\n166. normal\n167. normal\n168. normal\n169. normal\n170. diabetic\n171. normal\n172. normal\n173. normal\n174. diabetic\n175. diabetic\n176. diabetic\n177. normal\n\n\n\n**Levels**: 1. 'diabetic'\n2. 'normal'\n\n\n",
            "text/latex": "\\begin{enumerate*}\n\\item diabetic\n\\item normal\n\\item normal\n\\item diabetic\n\\item diabetic\n\\item normal\n\\item normal\n\\item diabetic\n\\item diabetic\n\\item diabetic\n\\item diabetic\n\\item diabetic\n\\item normal\n\\item normal\n\\item diabetic\n\\item normal\n\\item normal\n\\item normal\n\\item normal\n\\item normal\n\\item normal\n\\item diabetic\n\\item diabetic\n\\item normal\n\\item normal\n\\item normal\n\\item normal\n\\item normal\n\\item normal\n\\item normal\n\\item normal\n\\item normal\n\\item diabetic\n\\item diabetic\n\\item normal\n\\item normal\n\\item normal\n\\item normal\n\\item normal\n\\item diabetic\n\\item diabetic\n\\item normal\n\\item normal\n\\item normal\n\\item normal\n\\item normal\n\\item diabetic\n\\item diabetic\n\\item normal\n\\item normal\n\\item normal\n\\item normal\n\\item diabetic\n\\item diabetic\n\\item normal\n\\item diabetic\n\\item diabetic\n\\item normal\n\\item normal\n\\item normal\n\\item normal\n\\item diabetic\n\\item diabetic\n\\item diabetic\n\\item normal\n\\item normal\n\\item normal\n\\item diabetic\n\\item diabetic\n\\item diabetic\n\\item normal\n\\item diabetic\n\\item normal\n\\item normal\n\\item diabetic\n\\item normal\n\\item normal\n\\item normal\n\\item normal\n\\item normal\n\\item normal\n\\item diabetic\n\\item normal\n\\item normal\n\\item normal\n\\item normal\n\\item normal\n\\item normal\n\\item normal\n\\item normal\n\\item normal\n\\item normal\n\\item normal\n\\item normal\n\\item normal\n\\item diabetic\n\\item normal\n\\item normal\n\\item normal\n\\item normal\n\\item diabetic\n\\item diabetic\n\\item diabetic\n\\item normal\n\\item normal\n\\item normal\n\\item normal\n\\item diabetic\n\\item normal\n\\item normal\n\\item diabetic\n\\item normal\n\\item normal\n\\item normal\n\\item normal\n\\item normal\n\\item diabetic\n\\item normal\n\\item normal\n\\item normal\n\\item normal\n\\item normal\n\\item normal\n\\item normal\n\\item normal\n\\item diabetic\n\\item normal\n\\item diabetic\n\\item normal\n\\item normal\n\\item normal\n\\item normal\n\\item normal\n\\item diabetic\n\\item diabetic\n\\item normal\n\\item normal\n\\item normal\n\\item diabetic\n\\item normal\n\\item normal\n\\item normal\n\\item normal\n\\item normal\n\\item diabetic\n\\item diabetic\n\\item normal\n\\item normal\n\\item diabetic\n\\item normal\n\\item diabetic\n\\item diabetic\n\\item normal\n\\item diabetic\n\\item normal\n\\item normal\n\\item normal\n\\item normal\n\\item normal\n\\item diabetic\n\\item diabetic\n\\item normal\n\\item normal\n\\item normal\n\\item normal\n\\item normal\n\\item normal\n\\item normal\n\\item normal\n\\item diabetic\n\\item normal\n\\item normal\n\\item normal\n\\item diabetic\n\\item diabetic\n\\item diabetic\n\\item normal\n\\end{enumerate*}\n\n\\emph{Levels}: \\begin{enumerate*}\n\\item 'diabetic'\n\\item 'normal'\n\\end{enumerate*}\n",
            "text/plain": [
              "  [1] diabetic normal   normal   diabetic diabetic normal   normal   diabetic\n",
              "  [9] diabetic diabetic diabetic diabetic normal   normal   diabetic normal  \n",
              " [17] normal   normal   normal   normal   normal   diabetic diabetic normal  \n",
              " [25] normal   normal   normal   normal   normal   normal   normal   normal  \n",
              " [33] diabetic diabetic normal   normal   normal   normal   normal   diabetic\n",
              " [41] diabetic normal   normal   normal   normal   normal   diabetic diabetic\n",
              " [49] normal   normal   normal   normal   diabetic diabetic normal   diabetic\n",
              " [57] diabetic normal   normal   normal   normal   diabetic diabetic diabetic\n",
              " [65] normal   normal   normal   diabetic diabetic diabetic normal   diabetic\n",
              " [73] normal   normal   diabetic normal   normal   normal   normal   normal  \n",
              " [81] normal   diabetic normal   normal   normal   normal   normal   normal  \n",
              " [89] normal   normal   normal   normal   normal   normal   normal   diabetic\n",
              " [97] normal   normal   normal   normal   diabetic diabetic diabetic normal  \n",
              "[105] normal   normal   normal   diabetic normal   normal   diabetic normal  \n",
              "[113] normal   normal   normal   normal   diabetic normal   normal   normal  \n",
              "[121] normal   normal   normal   normal   normal   diabetic normal   diabetic\n",
              "[129] normal   normal   normal   normal   normal   diabetic diabetic normal  \n",
              "[137] normal   normal   diabetic normal   normal   normal   normal   normal  \n",
              "[145] diabetic diabetic normal   normal   diabetic normal   diabetic diabetic\n",
              "[153] normal   diabetic normal   normal   normal   normal   normal   diabetic\n",
              "[161] diabetic normal   normal   normal   normal   normal   normal   normal  \n",
              "[169] normal   diabetic normal   normal   normal   diabetic diabetic diabetic\n",
              "[177] normal  \n",
              "Levels: diabetic normal"
            ]
          },
          "metadata": {}
        },
        {
          "output_type": "display_data",
          "data": {
            "text/html": [
              "<style>\n",
              ".list-inline {list-style: none; margin:0; padding: 0}\n",
              ".list-inline>li {display: inline-block}\n",
              ".list-inline>li:not(:last-child)::after {content: \"\\00b7\"; padding: 0 .5ex}\n",
              "</style>\n",
              "<ol class=list-inline><li>diabetic</li><li>normal</li><li>normal</li><li>diabetic</li><li>diabetic</li><li>normal</li><li>normal</li><li>diabetic</li><li>diabetic</li><li>diabetic</li><li>diabetic</li><li>diabetic</li><li>normal</li><li>normal</li><li>diabetic</li><li>normal</li><li>normal</li><li>normal</li><li>normal</li><li>normal</li><li>normal</li><li>diabetic</li><li>diabetic</li><li>normal</li><li>normal</li><li>normal</li><li>normal</li><li>normal</li><li>normal</li><li>normal</li><li>normal</li><li>normal</li><li>diabetic</li><li>diabetic</li><li>normal</li><li>normal</li><li>normal</li><li>normal</li><li>normal</li><li>diabetic</li><li>diabetic</li><li>normal</li><li>normal</li><li>normal</li><li>normal</li><li>normal</li><li>diabetic</li><li>diabetic</li><li>normal</li><li>normal</li><li>normal</li><li>normal</li><li>diabetic</li><li>diabetic</li><li>normal</li><li>diabetic</li><li>diabetic</li><li>normal</li><li>normal</li><li>normal</li><li>normal</li><li>diabetic</li><li>diabetic</li><li>diabetic</li><li>normal</li><li>normal</li><li>normal</li><li>diabetic</li><li>diabetic</li><li>diabetic</li><li>normal</li><li>diabetic</li><li>normal</li><li>normal</li><li>diabetic</li><li>normal</li><li>normal</li><li>normal</li><li>normal</li><li>normal</li><li>normal</li><li>diabetic</li><li>normal</li><li>normal</li><li>normal</li><li>normal</li><li>normal</li><li>normal</li><li>normal</li><li>normal</li><li>normal</li><li>normal</li><li>normal</li><li>normal</li><li>normal</li><li>diabetic</li><li>normal</li><li>normal</li><li>normal</li><li>normal</li><li>diabetic</li><li>diabetic</li><li>diabetic</li><li>normal</li><li>normal</li><li>normal</li><li>normal</li><li>diabetic</li><li>normal</li><li>normal</li><li>diabetic</li><li>normal</li><li>normal</li><li>normal</li><li>normal</li><li>normal</li><li>diabetic</li><li>normal</li><li>normal</li><li>normal</li><li>normal</li><li>normal</li><li>normal</li><li>normal</li><li>normal</li><li>diabetic</li><li>normal</li><li>diabetic</li><li>normal</li><li>normal</li><li>normal</li><li>normal</li><li>normal</li><li>diabetic</li><li>diabetic</li><li>normal</li><li>normal</li><li>normal</li><li>diabetic</li><li>normal</li><li>normal</li><li>normal</li><li>normal</li><li>normal</li><li>diabetic</li><li>diabetic</li><li>normal</li><li>normal</li><li>diabetic</li><li>normal</li><li>diabetic</li><li>diabetic</li><li>normal</li><li>diabetic</li><li>normal</li><li>normal</li><li>normal</li><li>normal</li><li>normal</li><li>diabetic</li><li>diabetic</li><li>normal</li><li>normal</li><li>normal</li><li>normal</li><li>normal</li><li>normal</li><li>normal</li><li>normal</li><li>diabetic</li><li>normal</li><li>normal</li><li>normal</li><li>diabetic</li><li>diabetic</li><li>diabetic</li><li>normal</li></ol>\n",
              "\n",
              "<details>\n",
              "\t<summary style=display:list-item;cursor:pointer>\n",
              "\t\t<strong>Levels</strong>:\n",
              "\t</summary>\n",
              "\t<style>\n",
              "\t.list-inline {list-style: none; margin:0; padding: 0}\n",
              "\t.list-inline>li {display: inline-block}\n",
              "\t.list-inline>li:not(:last-child)::after {content: \"\\00b7\"; padding: 0 .5ex}\n",
              "\t</style>\n",
              "\t<ol class=list-inline><li>'diabetic'</li><li>'normal'</li></ol>\n",
              "</details>"
            ],
            "text/markdown": "1. diabetic\n2. normal\n3. normal\n4. diabetic\n5. diabetic\n6. normal\n7. normal\n8. diabetic\n9. diabetic\n10. diabetic\n11. diabetic\n12. diabetic\n13. normal\n14. normal\n15. diabetic\n16. normal\n17. normal\n18. normal\n19. normal\n20. normal\n21. normal\n22. diabetic\n23. diabetic\n24. normal\n25. normal\n26. normal\n27. normal\n28. normal\n29. normal\n30. normal\n31. normal\n32. normal\n33. diabetic\n34. diabetic\n35. normal\n36. normal\n37. normal\n38. normal\n39. normal\n40. diabetic\n41. diabetic\n42. normal\n43. normal\n44. normal\n45. normal\n46. normal\n47. diabetic\n48. diabetic\n49. normal\n50. normal\n51. normal\n52. normal\n53. diabetic\n54. diabetic\n55. normal\n56. diabetic\n57. diabetic\n58. normal\n59. normal\n60. normal\n61. normal\n62. diabetic\n63. diabetic\n64. diabetic\n65. normal\n66. normal\n67. normal\n68. diabetic\n69. diabetic\n70. diabetic\n71. normal\n72. diabetic\n73. normal\n74. normal\n75. diabetic\n76. normal\n77. normal\n78. normal\n79. normal\n80. normal\n81. normal\n82. diabetic\n83. normal\n84. normal\n85. normal\n86. normal\n87. normal\n88. normal\n89. normal\n90. normal\n91. normal\n92. normal\n93. normal\n94. normal\n95. normal\n96. diabetic\n97. normal\n98. normal\n99. normal\n100. normal\n101. diabetic\n102. diabetic\n103. diabetic\n104. normal\n105. normal\n106. normal\n107. normal\n108. diabetic\n109. normal\n110. normal\n111. diabetic\n112. normal\n113. normal\n114. normal\n115. normal\n116. normal\n117. diabetic\n118. normal\n119. normal\n120. normal\n121. normal\n122. normal\n123. normal\n124. normal\n125. normal\n126. diabetic\n127. normal\n128. diabetic\n129. normal\n130. normal\n131. normal\n132. normal\n133. normal\n134. diabetic\n135. diabetic\n136. normal\n137. normal\n138. normal\n139. diabetic\n140. normal\n141. normal\n142. normal\n143. normal\n144. normal\n145. diabetic\n146. diabetic\n147. normal\n148. normal\n149. diabetic\n150. normal\n151. diabetic\n152. diabetic\n153. normal\n154. diabetic\n155. normal\n156. normal\n157. normal\n158. normal\n159. normal\n160. diabetic\n161. diabetic\n162. normal\n163. normal\n164. normal\n165. normal\n166. normal\n167. normal\n168. normal\n169. normal\n170. diabetic\n171. normal\n172. normal\n173. normal\n174. diabetic\n175. diabetic\n176. diabetic\n177. normal\n\n\n\n**Levels**: 1. 'diabetic'\n2. 'normal'\n\n\n",
            "text/latex": "\\begin{enumerate*}\n\\item diabetic\n\\item normal\n\\item normal\n\\item diabetic\n\\item diabetic\n\\item normal\n\\item normal\n\\item diabetic\n\\item diabetic\n\\item diabetic\n\\item diabetic\n\\item diabetic\n\\item normal\n\\item normal\n\\item diabetic\n\\item normal\n\\item normal\n\\item normal\n\\item normal\n\\item normal\n\\item normal\n\\item diabetic\n\\item diabetic\n\\item normal\n\\item normal\n\\item normal\n\\item normal\n\\item normal\n\\item normal\n\\item normal\n\\item normal\n\\item normal\n\\item diabetic\n\\item diabetic\n\\item normal\n\\item normal\n\\item normal\n\\item normal\n\\item normal\n\\item diabetic\n\\item diabetic\n\\item normal\n\\item normal\n\\item normal\n\\item normal\n\\item normal\n\\item diabetic\n\\item diabetic\n\\item normal\n\\item normal\n\\item normal\n\\item normal\n\\item diabetic\n\\item diabetic\n\\item normal\n\\item diabetic\n\\item diabetic\n\\item normal\n\\item normal\n\\item normal\n\\item normal\n\\item diabetic\n\\item diabetic\n\\item diabetic\n\\item normal\n\\item normal\n\\item normal\n\\item diabetic\n\\item diabetic\n\\item diabetic\n\\item normal\n\\item diabetic\n\\item normal\n\\item normal\n\\item diabetic\n\\item normal\n\\item normal\n\\item normal\n\\item normal\n\\item normal\n\\item normal\n\\item diabetic\n\\item normal\n\\item normal\n\\item normal\n\\item normal\n\\item normal\n\\item normal\n\\item normal\n\\item normal\n\\item normal\n\\item normal\n\\item normal\n\\item normal\n\\item normal\n\\item diabetic\n\\item normal\n\\item normal\n\\item normal\n\\item normal\n\\item diabetic\n\\item diabetic\n\\item diabetic\n\\item normal\n\\item normal\n\\item normal\n\\item normal\n\\item diabetic\n\\item normal\n\\item normal\n\\item diabetic\n\\item normal\n\\item normal\n\\item normal\n\\item normal\n\\item normal\n\\item diabetic\n\\item normal\n\\item normal\n\\item normal\n\\item normal\n\\item normal\n\\item normal\n\\item normal\n\\item normal\n\\item diabetic\n\\item normal\n\\item diabetic\n\\item normal\n\\item normal\n\\item normal\n\\item normal\n\\item normal\n\\item diabetic\n\\item diabetic\n\\item normal\n\\item normal\n\\item normal\n\\item diabetic\n\\item normal\n\\item normal\n\\item normal\n\\item normal\n\\item normal\n\\item diabetic\n\\item diabetic\n\\item normal\n\\item normal\n\\item diabetic\n\\item normal\n\\item diabetic\n\\item diabetic\n\\item normal\n\\item diabetic\n\\item normal\n\\item normal\n\\item normal\n\\item normal\n\\item normal\n\\item diabetic\n\\item diabetic\n\\item normal\n\\item normal\n\\item normal\n\\item normal\n\\item normal\n\\item normal\n\\item normal\n\\item normal\n\\item diabetic\n\\item normal\n\\item normal\n\\item normal\n\\item diabetic\n\\item diabetic\n\\item diabetic\n\\item normal\n\\end{enumerate*}\n\n\\emph{Levels}: \\begin{enumerate*}\n\\item 'diabetic'\n\\item 'normal'\n\\end{enumerate*}\n",
            "text/plain": [
              "  [1] diabetic normal   normal   diabetic diabetic normal   normal   diabetic\n",
              "  [9] diabetic diabetic diabetic diabetic normal   normal   diabetic normal  \n",
              " [17] normal   normal   normal   normal   normal   diabetic diabetic normal  \n",
              " [25] normal   normal   normal   normal   normal   normal   normal   normal  \n",
              " [33] diabetic diabetic normal   normal   normal   normal   normal   diabetic\n",
              " [41] diabetic normal   normal   normal   normal   normal   diabetic diabetic\n",
              " [49] normal   normal   normal   normal   diabetic diabetic normal   diabetic\n",
              " [57] diabetic normal   normal   normal   normal   diabetic diabetic diabetic\n",
              " [65] normal   normal   normal   diabetic diabetic diabetic normal   diabetic\n",
              " [73] normal   normal   diabetic normal   normal   normal   normal   normal  \n",
              " [81] normal   diabetic normal   normal   normal   normal   normal   normal  \n",
              " [89] normal   normal   normal   normal   normal   normal   normal   diabetic\n",
              " [97] normal   normal   normal   normal   diabetic diabetic diabetic normal  \n",
              "[105] normal   normal   normal   diabetic normal   normal   diabetic normal  \n",
              "[113] normal   normal   normal   normal   diabetic normal   normal   normal  \n",
              "[121] normal   normal   normal   normal   normal   diabetic normal   diabetic\n",
              "[129] normal   normal   normal   normal   normal   diabetic diabetic normal  \n",
              "[137] normal   normal   diabetic normal   normal   normal   normal   normal  \n",
              "[145] diabetic diabetic normal   normal   diabetic normal   diabetic diabetic\n",
              "[153] normal   diabetic normal   normal   normal   normal   normal   diabetic\n",
              "[161] diabetic normal   normal   normal   normal   normal   normal   normal  \n",
              "[169] normal   diabetic normal   normal   normal   diabetic diabetic diabetic\n",
              "[177] normal  \n",
              "Levels: diabetic normal"
            ]
          },
          "metadata": {}
        }
      ]
    },
    {
      "cell_type": "code",
      "source": [
        "alpha = seq(from = 0,to = 1,by = .1)"
      ],
      "metadata": {
        "id": "Rs1Tf--t8JQn"
      },
      "execution_count": 84,
      "outputs": []
    },
    {
      "cell_type": "code",
      "source": [
        "err_store <- c()\n",
        "for(i in 1:length(alpha)){\n",
        "  rda_fit <- rda(class~.,data=pima_train,regularization = c(gamma=0,lamda=alpha[i]))\n",
        "  y_hat_test <- predict(rda_fit,newdata=pima_test)$class\n",
        "  err <- (1/length(y_hat_test))*length(which(y_hat_test != pima_test$class))\n",
        "  err_store <- c(err_store,err)\n",
        "}"
      ],
      "metadata": {
        "id": "YSLMyylL8TGi"
      },
      "execution_count": 85,
      "outputs": []
    },
    {
      "cell_type": "code",
      "source": [
        "err_store"
      ],
      "metadata": {
        "colab": {
          "base_uri": "https://localhost:8080/",
          "height": 68
        },
        "id": "My5wW9wCBQ-r",
        "outputId": "76a86977-186c-4e3e-e145-68c8b1d4b70d"
      },
      "execution_count": 86,
      "outputs": [
        {
          "output_type": "display_data",
          "data": {
            "text/html": [
              "<style>\n",
              ".list-inline {list-style: none; margin:0; padding: 0}\n",
              ".list-inline>li {display: inline-block}\n",
              ".list-inline>li:not(:last-child)::after {content: \"\\00b7\"; padding: 0 .5ex}\n",
              "</style>\n",
              "<ol class=list-inline><li>0.265536723163842</li><li>0.271186440677966</li><li>0.259887005649718</li><li>0.259887005649718</li><li>0.254237288135593</li><li>0.254237288135593</li><li>0.242937853107345</li><li>0.248587570621469</li><li>0.242937853107345</li><li>0.248587570621469</li><li>0.242937853107345</li></ol>\n"
            ],
            "text/markdown": "1. 0.265536723163842\n2. 0.271186440677966\n3. 0.259887005649718\n4. 0.259887005649718\n5. 0.254237288135593\n6. 0.254237288135593\n7. 0.242937853107345\n8. 0.248587570621469\n9. 0.242937853107345\n10. 0.248587570621469\n11. 0.242937853107345\n\n\n",
            "text/latex": "\\begin{enumerate*}\n\\item 0.265536723163842\n\\item 0.271186440677966\n\\item 0.259887005649718\n\\item 0.259887005649718\n\\item 0.254237288135593\n\\item 0.254237288135593\n\\item 0.242937853107345\n\\item 0.248587570621469\n\\item 0.242937853107345\n\\item 0.248587570621469\n\\item 0.242937853107345\n\\end{enumerate*}\n",
            "text/plain": [
              " [1] 0.2655367 0.2711864 0.2598870 0.2598870 0.2542373 0.2542373 0.2429379\n",
              " [8] 0.2485876 0.2429379 0.2485876 0.2429379"
            ]
          },
          "metadata": {}
        }
      ]
    },
    {
      "cell_type": "code",
      "source": [
        "quartz()\n",
        "plot(err_store,type= \"l\", xlab=\"alpha iteration\")"
      ],
      "metadata": {
        "colab": {
          "base_uri": "https://localhost:8080/",
          "height": 471
        },
        "id": "FiyykMR5BSpu",
        "outputId": "a8205f00-ec09-485f-ce87-1003564b4561"
      },
      "execution_count": 87,
      "outputs": [
        {
          "output_type": "stream",
          "name": "stderr",
          "text": [
            "Warning message in quartz():\n",
            "“Quartz device is not available on this platform”\n"
          ]
        },
        {
          "output_type": "display_data",
          "data": {
            "text/plain": [
              "plot without title"
            ],
            "image/png": "[encoded data removed]"
          },
          "metadata": {
            "image/png": {
              "width": 420,
              "height": 420
            }
          }
        }
      ]
    }
  ]
}