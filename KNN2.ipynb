{
  "nbformat": 4,
  "nbformat_minor": 0,
  "metadata": {
    "colab": {
      "provenance": [],
      "authorship_tag": "ABX9TyOCPV2MzijGY/6ZfXzuvn1Z",
      "include_colab_link": true
    },
    "kernelspec": {
      "name": "ir",
      "display_name": "R"
    },
    "language_info": {
      "name": "R"
    }
  },
  "cells": [
    {
      "cell_type": "markdown",
      "metadata": {
        "id": "view-in-github",
        "colab_type": "text"
      },
      "source": [
        "<a href=\"https://colab.research.google.com/github/KavyaGandu/Data-mining/blob/main/KNN2.ipynb\" target=\"_parent\"><img src=\"https://colab.research.google.com/assets/colab-badge.svg\" alt=\"Open In Colab\"/></a>"
      ]
    },
    {
      "cell_type": "markdown",
      "source": [
        "KNN-Practical example\n"
      ],
      "metadata": {
        "id": "DWpeOlCSzBWA"
      }
    },
    {
      "cell_type": "code",
      "source": [
        "install.packages(\"class\")"
      ],
      "metadata": {
        "colab": {
          "base_uri": "https://localhost:8080/"
        },
        "id": "WBIm3e1izGR4",
        "outputId": "052d67aa-5b21-49cf-c33c-52559def18ec"
      },
      "execution_count": 1,
      "outputs": [
        {
          "output_type": "stream",
          "name": "stderr",
          "text": [
            "Installing package into ‘/usr/local/lib/R/site-library’\n",
            "(as ‘lib’ is unspecified)\n",
            "\n"
          ]
        }
      ]
    },
    {
      "cell_type": "code",
      "source": [
        "library(class)"
      ],
      "metadata": {
        "id": "0zcA7-3EzS-c"
      },
      "execution_count": 2,
      "outputs": []
    },
    {
      "cell_type": "code",
      "source": [
        "data(iris)"
      ],
      "metadata": {
        "id": "SRejcqhUzWb5"
      },
      "execution_count": 3,
      "outputs": []
    },
    {
      "cell_type": "code",
      "source": [
        "head(iris)"
      ],
      "metadata": {
        "colab": {
          "base_uri": "https://localhost:8080/",
          "height": 283
        },
        "id": "LLOwa3x2zZKI",
        "outputId": "d05e4d47-e600-4d82-cbce-d9f10f697218"
      },
      "execution_count": 4,
      "outputs": [
        {
          "output_type": "display_data",
          "data": {
            "text/html": [
              "<table class=\"dataframe\">\n",
              "<caption>A data.frame: 6 × 5</caption>\n",
              "<thead>\n",
              "\t<tr><th></th><th scope=col>Sepal.Length</th><th scope=col>Sepal.Width</th><th scope=col>Petal.Length</th><th scope=col>Petal.Width</th><th scope=col>Species</th></tr>\n",
              "\t<tr><th></th><th scope=col>&lt;dbl&gt;</th><th scope=col>&lt;dbl&gt;</th><th scope=col>&lt;dbl&gt;</th><th scope=col>&lt;dbl&gt;</th><th scope=col>&lt;fct&gt;</th></tr>\n",
              "</thead>\n",
              "<tbody>\n",
              "\t<tr><th scope=row>1</th><td>5.1</td><td>3.5</td><td>1.4</td><td>0.2</td><td>setosa</td></tr>\n",
              "\t<tr><th scope=row>2</th><td>4.9</td><td>3.0</td><td>1.4</td><td>0.2</td><td>setosa</td></tr>\n",
              "\t<tr><th scope=row>3</th><td>4.7</td><td>3.2</td><td>1.3</td><td>0.2</td><td>setosa</td></tr>\n",
              "\t<tr><th scope=row>4</th><td>4.6</td><td>3.1</td><td>1.5</td><td>0.2</td><td>setosa</td></tr>\n",
              "\t<tr><th scope=row>5</th><td>5.0</td><td>3.6</td><td>1.4</td><td>0.2</td><td>setosa</td></tr>\n",
              "\t<tr><th scope=row>6</th><td>5.4</td><td>3.9</td><td>1.7</td><td>0.4</td><td>setosa</td></tr>\n",
              "</tbody>\n",
              "</table>\n"
            ],
            "text/markdown": "\nA data.frame: 6 × 5\n\n| <!--/--> | Sepal.Length &lt;dbl&gt; | Sepal.Width &lt;dbl&gt; | Petal.Length &lt;dbl&gt; | Petal.Width &lt;dbl&gt; | Species &lt;fct&gt; |\n|---|---|---|---|---|---|\n| 1 | 5.1 | 3.5 | 1.4 | 0.2 | setosa |\n| 2 | 4.9 | 3.0 | 1.4 | 0.2 | setosa |\n| 3 | 4.7 | 3.2 | 1.3 | 0.2 | setosa |\n| 4 | 4.6 | 3.1 | 1.5 | 0.2 | setosa |\n| 5 | 5.0 | 3.6 | 1.4 | 0.2 | setosa |\n| 6 | 5.4 | 3.9 | 1.7 | 0.4 | setosa |\n\n",
            "text/latex": "A data.frame: 6 × 5\n\\begin{tabular}{r|lllll}\n  & Sepal.Length & Sepal.Width & Petal.Length & Petal.Width & Species\\\\\n  & <dbl> & <dbl> & <dbl> & <dbl> & <fct>\\\\\n\\hline\n\t1 & 5.1 & 3.5 & 1.4 & 0.2 & setosa\\\\\n\t2 & 4.9 & 3.0 & 1.4 & 0.2 & setosa\\\\\n\t3 & 4.7 & 3.2 & 1.3 & 0.2 & setosa\\\\\n\t4 & 4.6 & 3.1 & 1.5 & 0.2 & setosa\\\\\n\t5 & 5.0 & 3.6 & 1.4 & 0.2 & setosa\\\\\n\t6 & 5.4 & 3.9 & 1.7 & 0.4 & setosa\\\\\n\\end{tabular}\n",
            "text/plain": [
              "  Sepal.Length Sepal.Width Petal.Length Petal.Width Species\n",
              "1 5.1          3.5         1.4          0.2         setosa \n",
              "2 4.9          3.0         1.4          0.2         setosa \n",
              "3 4.7          3.2         1.3          0.2         setosa \n",
              "4 4.6          3.1         1.5          0.2         setosa \n",
              "5 5.0          3.6         1.4          0.2         setosa \n",
              "6 5.4          3.9         1.7          0.4         setosa "
            ]
          },
          "metadata": {}
        }
      ]
    },
    {
      "cell_type": "markdown",
      "source": [
        "#dividing test and training"
      ],
      "metadata": {
        "id": "VOeVXMmpzuw6"
      }
    },
    {
      "cell_type": "code",
      "source": [
        "N = length(iris[,1])"
      ],
      "metadata": {
        "id": "dVlVVoH6znJG"
      },
      "execution_count": 5,
      "outputs": []
    },
    {
      "cell_type": "code",
      "source": [
        "N"
      ],
      "metadata": {
        "colab": {
          "base_uri": "https://localhost:8080/",
          "height": 34
        },
        "id": "e-rCDvbnz6Mm",
        "outputId": "dcdfbaf5-6414-4098-a30b-696c3f9d039d"
      },
      "execution_count": 6,
      "outputs": [
        {
          "output_type": "display_data",
          "data": {
            "text/html": [
              "150"
            ],
            "text/markdown": "150",
            "text/latex": "150",
            "text/plain": [
              "[1] 150"
            ]
          },
          "metadata": {}
        }
      ]
    },
    {
      "cell_type": "code",
      "source": [
        "set.seed(123)\n",
        "train_indis <- sample(1:N ,(2/3)*N,replace = FALSE)"
      ],
      "metadata": {
        "id": "puLe_r4X0BWt"
      },
      "execution_count": 8,
      "outputs": []
    },
    {
      "cell_type": "code",
      "source": [
        "train <- iris[train_indis,]\n",
        "test <- iris[-train_indis,]\n",
        "dim(train)\n",
        "dim(test)"
      ],
      "metadata": {
        "colab": {
          "base_uri": "https://localhost:8080/",
          "height": 51
        },
        "id": "eOXv-hSg0bQD",
        "outputId": "ccd6009c-015a-4a12-b0e6-e680260a4eb4"
      },
      "execution_count": 9,
      "outputs": [
        {
          "output_type": "display_data",
          "data": {
            "text/html": [
              "<style>\n",
              ".list-inline {list-style: none; margin:0; padding: 0}\n",
              ".list-inline>li {display: inline-block}\n",
              ".list-inline>li:not(:last-child)::after {content: \"\\00b7\"; padding: 0 .5ex}\n",
              "</style>\n",
              "<ol class=list-inline><li>100</li><li>5</li></ol>\n"
            ],
            "text/markdown": "1. 100\n2. 5\n\n\n",
            "text/latex": "\\begin{enumerate*}\n\\item 100\n\\item 5\n\\end{enumerate*}\n",
            "text/plain": [
              "[1] 100   5"
            ]
          },
          "metadata": {}
        },
        {
          "output_type": "display_data",
          "data": {
            "text/html": [
              "<style>\n",
              ".list-inline {list-style: none; margin:0; padding: 0}\n",
              ".list-inline>li {display: inline-block}\n",
              ".list-inline>li:not(:last-child)::after {content: \"\\00b7\"; padding: 0 .5ex}\n",
              "</style>\n",
              "<ol class=list-inline><li>50</li><li>5</li></ol>\n"
            ],
            "text/markdown": "1. 50\n2. 5\n\n\n",
            "text/latex": "\\begin{enumerate*}\n\\item 50\n\\item 5\n\\end{enumerate*}\n",
            "text/plain": [
              "[1] 50  5"
            ]
          },
          "metadata": {}
        }
      ]
    },
    {
      "cell_type": "code",
      "source": [
        "X_train <-train[,-5] #matrix\n",
        "Y_train <- train[,5] #vector\n",
        "\n",
        "X_test <- test[,-5]\n",
        "Y_test <- test[,5]"
      ],
      "metadata": {
        "id": "0fz6Nmem0ylG"
      },
      "execution_count": 11,
      "outputs": []
    },
    {
      "cell_type": "code",
      "source": [
        "Y_train"
      ],
      "metadata": {
        "colab": {
          "base_uri": "https://localhost:8080/",
          "height": 221
        },
        "id": "GgTbW65h1umi",
        "outputId": "d9d7d710-cac7-4c60-dd23-f7013448bd52"
      },
      "execution_count": 12,
      "outputs": [
        {
          "output_type": "display_data",
          "data": {
            "text/html": [
              "<style>\n",
              ".list-inline {list-style: none; margin:0; padding: 0}\n",
              ".list-inline>li {display: inline-block}\n",
              ".list-inline>li:not(:last-child)::after {content: \"\\00b7\"; padding: 0 .5ex}\n",
              "</style>\n",
              "<ol class=list-inline><li>setosa</li><li>setosa</li><li>virginica</li><li>setosa</li><li>virginica</li><li>virginica</li><li>versicolor</li><li>versicolor</li><li>virginica</li><li>versicolor</li><li>virginica</li><li>versicolor</li><li>versicolor</li><li>setosa</li><li>setosa</li><li>versicolor</li><li>versicolor</li><li>virginica</li><li>virginica</li><li>virginica</li><li>versicolor</li><li>setosa</li><li>virginica</li><li>virginica</li><li>virginica</li><li>setosa</li><li>setosa</li><li>versicolor</li><li>setosa</li><li>setosa</li><li>versicolor</li><li>versicolor</li><li>virginica</li><li>virginica</li><li>virginica</li><li>versicolor</li><li>setosa</li><li>versicolor</li><li>setosa</li><li>versicolor</li><li>versicolor</li><li>virginica</li><li>virginica</li><li>versicolor</li><li>setosa</li><li>versicolor</li><li>versicolor</li><li>virginica</li><li>setosa</li><li>virginica</li><li>setosa</li><li>versicolor</li><li>virginica</li><li>setosa</li><li>virginica</li><li>virginica</li><li>setosa</li><li>setosa</li><li>virginica</li><li>versicolor</li><li>virginica</li><li>setosa</li><li>setosa</li><li>virginica</li><li>virginica</li><li>virginica</li><li>setosa</li><li>virginica</li><li>virginica</li><li>virginica</li><li>versicolor</li><li>setosa</li><li>virginica</li><li>versicolor</li><li>setosa</li><li>setosa</li><li>setosa</li><li>setosa</li><li>versicolor</li><li>virginica</li><li>versicolor</li><li>virginica</li><li>versicolor</li><li>virginica</li><li>setosa</li><li>setosa</li><li>versicolor</li><li>setosa</li><li>virginica</li><li>setosa</li><li>setosa</li><li>versicolor</li><li>virginica</li><li>virginica</li><li>versicolor</li><li>setosa</li><li>setosa</li><li>setosa</li><li>versicolor</li><li>virginica</li></ol>\n",
              "\n",
              "<details>\n",
              "\t<summary style=display:list-item;cursor:pointer>\n",
              "\t\t<strong>Levels</strong>:\n",
              "\t</summary>\n",
              "\t<style>\n",
              "\t.list-inline {list-style: none; margin:0; padding: 0}\n",
              "\t.list-inline>li {display: inline-block}\n",
              "\t.list-inline>li:not(:last-child)::after {content: \"\\00b7\"; padding: 0 .5ex}\n",
              "\t</style>\n",
              "\t<ol class=list-inline><li>'setosa'</li><li>'versicolor'</li><li>'virginica'</li></ol>\n",
              "</details>"
            ],
            "text/markdown": "1. setosa\n2. setosa\n3. virginica\n4. setosa\n5. virginica\n6. virginica\n7. versicolor\n8. versicolor\n9. virginica\n10. versicolor\n11. virginica\n12. versicolor\n13. versicolor\n14. setosa\n15. setosa\n16. versicolor\n17. versicolor\n18. virginica\n19. virginica\n20. virginica\n21. versicolor\n22. setosa\n23. virginica\n24. virginica\n25. virginica\n26. setosa\n27. setosa\n28. versicolor\n29. setosa\n30. setosa\n31. versicolor\n32. versicolor\n33. virginica\n34. virginica\n35. virginica\n36. versicolor\n37. setosa\n38. versicolor\n39. setosa\n40. versicolor\n41. versicolor\n42. virginica\n43. virginica\n44. versicolor\n45. setosa\n46. versicolor\n47. versicolor\n48. virginica\n49. setosa\n50. virginica\n51. setosa\n52. versicolor\n53. virginica\n54. setosa\n55. virginica\n56. virginica\n57. setosa\n58. setosa\n59. virginica\n60. versicolor\n61. virginica\n62. setosa\n63. setosa\n64. virginica\n65. virginica\n66. virginica\n67. setosa\n68. virginica\n69. virginica\n70. virginica\n71. versicolor\n72. setosa\n73. virginica\n74. versicolor\n75. setosa\n76. setosa\n77. setosa\n78. setosa\n79. versicolor\n80. virginica\n81. versicolor\n82. virginica\n83. versicolor\n84. virginica\n85. setosa\n86. setosa\n87. versicolor\n88. setosa\n89. virginica\n90. setosa\n91. setosa\n92. versicolor\n93. virginica\n94. virginica\n95. versicolor\n96. setosa\n97. setosa\n98. setosa\n99. versicolor\n100. virginica\n\n\n\n**Levels**: 1. 'setosa'\n2. 'versicolor'\n3. 'virginica'\n\n\n",
            "text/latex": "\\begin{enumerate*}\n\\item setosa\n\\item setosa\n\\item virginica\n\\item setosa\n\\item virginica\n\\item virginica\n\\item versicolor\n\\item versicolor\n\\item virginica\n\\item versicolor\n\\item virginica\n\\item versicolor\n\\item versicolor\n\\item setosa\n\\item setosa\n\\item versicolor\n\\item versicolor\n\\item virginica\n\\item virginica\n\\item virginica\n\\item versicolor\n\\item setosa\n\\item virginica\n\\item virginica\n\\item virginica\n\\item setosa\n\\item setosa\n\\item versicolor\n\\item setosa\n\\item setosa\n\\item versicolor\n\\item versicolor\n\\item virginica\n\\item virginica\n\\item virginica\n\\item versicolor\n\\item setosa\n\\item versicolor\n\\item setosa\n\\item versicolor\n\\item versicolor\n\\item virginica\n\\item virginica\n\\item versicolor\n\\item setosa\n\\item versicolor\n\\item versicolor\n\\item virginica\n\\item setosa\n\\item virginica\n\\item setosa\n\\item versicolor\n\\item virginica\n\\item setosa\n\\item virginica\n\\item virginica\n\\item setosa\n\\item setosa\n\\item virginica\n\\item versicolor\n\\item virginica\n\\item setosa\n\\item setosa\n\\item virginica\n\\item virginica\n\\item virginica\n\\item setosa\n\\item virginica\n\\item virginica\n\\item virginica\n\\item versicolor\n\\item setosa\n\\item virginica\n\\item versicolor\n\\item setosa\n\\item setosa\n\\item setosa\n\\item setosa\n\\item versicolor\n\\item virginica\n\\item versicolor\n\\item virginica\n\\item versicolor\n\\item virginica\n\\item setosa\n\\item setosa\n\\item versicolor\n\\item setosa\n\\item virginica\n\\item setosa\n\\item setosa\n\\item versicolor\n\\item virginica\n\\item virginica\n\\item versicolor\n\\item setosa\n\\item setosa\n\\item setosa\n\\item versicolor\n\\item virginica\n\\end{enumerate*}\n\n\\emph{Levels}: \\begin{enumerate*}\n\\item 'setosa'\n\\item 'versicolor'\n\\item 'virginica'\n\\end{enumerate*}\n",
            "text/plain": [
              "  [1] setosa     setosa     virginica  setosa     virginica  virginica \n",
              "  [7] versicolor versicolor virginica  versicolor virginica  versicolor\n",
              " [13] versicolor setosa     setosa     versicolor versicolor virginica \n",
              " [19] virginica  virginica  versicolor setosa     virginica  virginica \n",
              " [25] virginica  setosa     setosa     versicolor setosa     setosa    \n",
              " [31] versicolor versicolor virginica  virginica  virginica  versicolor\n",
              " [37] setosa     versicolor setosa     versicolor versicolor virginica \n",
              " [43] virginica  versicolor setosa     versicolor versicolor virginica \n",
              " [49] setosa     virginica  setosa     versicolor virginica  setosa    \n",
              " [55] virginica  virginica  setosa     setosa     virginica  versicolor\n",
              " [61] virginica  setosa     setosa     virginica  virginica  virginica \n",
              " [67] setosa     virginica  virginica  virginica  versicolor setosa    \n",
              " [73] virginica  versicolor setosa     setosa     setosa     setosa    \n",
              " [79] versicolor virginica  versicolor virginica  versicolor virginica \n",
              " [85] setosa     setosa     versicolor setosa     virginica  setosa    \n",
              " [91] setosa     versicolor virginica  virginica  versicolor setosa    \n",
              " [97] setosa     setosa     versicolor virginica \n",
              "Levels: setosa versicolor virginica"
            ]
          },
          "metadata": {}
        }
      ]
    },
    {
      "cell_type": "code",
      "source": [
        "class(X_train)"
      ],
      "metadata": {
        "colab": {
          "base_uri": "https://localhost:8080/",
          "height": 34
        },
        "id": "ZqO26oTm1xzf",
        "outputId": "a76aac5f-15dc-474f-e04d-5c7d3b533788"
      },
      "execution_count": 15,
      "outputs": [
        {
          "output_type": "display_data",
          "data": {
            "text/html": [
              "'data.frame'"
            ],
            "text/markdown": "'data.frame'",
            "text/latex": "'data.frame'",
            "text/plain": [
              "[1] \"data.frame\""
            ]
          },
          "metadata": {}
        }
      ]
    },
    {
      "cell_type": "markdown",
      "source": [],
      "metadata": {
        "id": "-x9LlmQiy8ny"
      }
    },
    {
      "cell_type": "markdown",
      "source": [
        "traning error for k=3"
      ],
      "metadata": {
        "id": "xaQ1-UQ52A0g"
      }
    },
    {
      "cell_type": "code",
      "source": [
        "Y_train_hat <-knn(X_train ,X_train,Y_train,k=3)\n",
        "Y_train_hat"
      ],
      "metadata": {
        "colab": {
          "base_uri": "https://localhost:8080/",
          "height": 221
        },
        "id": "hm5rBzJh2EwM",
        "outputId": "12fc25d9-c0ab-4703-d4b6-ce4226b1b1c0"
      },
      "execution_count": 18,
      "outputs": [
        {
          "output_type": "display_data",
          "data": {
            "text/html": [
              "<style>\n",
              ".list-inline {list-style: none; margin:0; padding: 0}\n",
              ".list-inline>li {display: inline-block}\n",
              ".list-inline>li:not(:last-child)::after {content: \"\\00b7\"; padding: 0 .5ex}\n",
              "</style>\n",
              "<ol class=list-inline><li>setosa</li><li>setosa</li><li>virginica</li><li>setosa</li><li>virginica</li><li>virginica</li><li>versicolor</li><li>versicolor</li><li>virginica</li><li>versicolor</li><li>virginica</li><li>versicolor</li><li>versicolor</li><li>setosa</li><li>setosa</li><li>versicolor</li><li>versicolor</li><li>virginica</li><li>virginica</li><li>virginica</li><li>versicolor</li><li>setosa</li><li>virginica</li><li>virginica</li><li>virginica</li><li>setosa</li><li>setosa</li><li>versicolor</li><li>setosa</li><li>setosa</li><li>versicolor</li><li>versicolor</li><li>virginica</li><li>virginica</li><li>virginica</li><li>versicolor</li><li>setosa</li><li>versicolor</li><li>setosa</li><li>versicolor</li><li>versicolor</li><li>virginica</li><li>virginica</li><li>versicolor</li><li>setosa</li><li>versicolor</li><li>versicolor</li><li>virginica</li><li>setosa</li><li>virginica</li><li>setosa</li><li>versicolor</li><li>virginica</li><li>setosa</li><li>virginica</li><li>versicolor</li><li>setosa</li><li>setosa</li><li>virginica</li><li>versicolor</li><li>virginica</li><li>setosa</li><li>setosa</li><li>virginica</li><li>virginica</li><li>virginica</li><li>setosa</li><li>virginica</li><li>virginica</li><li>virginica</li><li>versicolor</li><li>setosa</li><li>virginica</li><li>versicolor</li><li>setosa</li><li>setosa</li><li>setosa</li><li>setosa</li><li>versicolor</li><li>virginica</li><li>versicolor</li><li>virginica</li><li>versicolor</li><li>virginica</li><li>setosa</li><li>setosa</li><li>versicolor</li><li>setosa</li><li>virginica</li><li>setosa</li><li>setosa</li><li>versicolor</li><li>versicolor</li><li>virginica</li><li>virginica</li><li>setosa</li><li>setosa</li><li>setosa</li><li>versicolor</li><li>virginica</li></ol>\n",
              "\n",
              "<details>\n",
              "\t<summary style=display:list-item;cursor:pointer>\n",
              "\t\t<strong>Levels</strong>:\n",
              "\t</summary>\n",
              "\t<style>\n",
              "\t.list-inline {list-style: none; margin:0; padding: 0}\n",
              "\t.list-inline>li {display: inline-block}\n",
              "\t.list-inline>li:not(:last-child)::after {content: \"\\00b7\"; padding: 0 .5ex}\n",
              "\t</style>\n",
              "\t<ol class=list-inline><li>'setosa'</li><li>'versicolor'</li><li>'virginica'</li></ol>\n",
              "</details>"
            ],
            "text/markdown": "1. setosa\n2. setosa\n3. virginica\n4. setosa\n5. virginica\n6. virginica\n7. versicolor\n8. versicolor\n9. virginica\n10. versicolor\n11. virginica\n12. versicolor\n13. versicolor\n14. setosa\n15. setosa\n16. versicolor\n17. versicolor\n18. virginica\n19. virginica\n20. virginica\n21. versicolor\n22. setosa\n23. virginica\n24. virginica\n25. virginica\n26. setosa\n27. setosa\n28. versicolor\n29. setosa\n30. setosa\n31. versicolor\n32. versicolor\n33. virginica\n34. virginica\n35. virginica\n36. versicolor\n37. setosa\n38. versicolor\n39. setosa\n40. versicolor\n41. versicolor\n42. virginica\n43. virginica\n44. versicolor\n45. setosa\n46. versicolor\n47. versicolor\n48. virginica\n49. setosa\n50. virginica\n51. setosa\n52. versicolor\n53. virginica\n54. setosa\n55. virginica\n56. versicolor\n57. setosa\n58. setosa\n59. virginica\n60. versicolor\n61. virginica\n62. setosa\n63. setosa\n64. virginica\n65. virginica\n66. virginica\n67. setosa\n68. virginica\n69. virginica\n70. virginica\n71. versicolor\n72. setosa\n73. virginica\n74. versicolor\n75. setosa\n76. setosa\n77. setosa\n78. setosa\n79. versicolor\n80. virginica\n81. versicolor\n82. virginica\n83. versicolor\n84. virginica\n85. setosa\n86. setosa\n87. versicolor\n88. setosa\n89. virginica\n90. setosa\n91. setosa\n92. versicolor\n93. versicolor\n94. virginica\n95. virginica\n96. setosa\n97. setosa\n98. setosa\n99. versicolor\n100. virginica\n\n\n\n**Levels**: 1. 'setosa'\n2. 'versicolor'\n3. 'virginica'\n\n\n",
            "text/latex": "\\begin{enumerate*}\n\\item setosa\n\\item setosa\n\\item virginica\n\\item setosa\n\\item virginica\n\\item virginica\n\\item versicolor\n\\item versicolor\n\\item virginica\n\\item versicolor\n\\item virginica\n\\item versicolor\n\\item versicolor\n\\item setosa\n\\item setosa\n\\item versicolor\n\\item versicolor\n\\item virginica\n\\item virginica\n\\item virginica\n\\item versicolor\n\\item setosa\n\\item virginica\n\\item virginica\n\\item virginica\n\\item setosa\n\\item setosa\n\\item versicolor\n\\item setosa\n\\item setosa\n\\item versicolor\n\\item versicolor\n\\item virginica\n\\item virginica\n\\item virginica\n\\item versicolor\n\\item setosa\n\\item versicolor\n\\item setosa\n\\item versicolor\n\\item versicolor\n\\item virginica\n\\item virginica\n\\item versicolor\n\\item setosa\n\\item versicolor\n\\item versicolor\n\\item virginica\n\\item setosa\n\\item virginica\n\\item setosa\n\\item versicolor\n\\item virginica\n\\item setosa\n\\item virginica\n\\item versicolor\n\\item setosa\n\\item setosa\n\\item virginica\n\\item versicolor\n\\item virginica\n\\item setosa\n\\item setosa\n\\item virginica\n\\item virginica\n\\item virginica\n\\item setosa\n\\item virginica\n\\item virginica\n\\item virginica\n\\item versicolor\n\\item setosa\n\\item virginica\n\\item versicolor\n\\item setosa\n\\item setosa\n\\item setosa\n\\item setosa\n\\item versicolor\n\\item virginica\n\\item versicolor\n\\item virginica\n\\item versicolor\n\\item virginica\n\\item setosa\n\\item setosa\n\\item versicolor\n\\item setosa\n\\item virginica\n\\item setosa\n\\item setosa\n\\item versicolor\n\\item versicolor\n\\item virginica\n\\item virginica\n\\item setosa\n\\item setosa\n\\item setosa\n\\item versicolor\n\\item virginica\n\\end{enumerate*}\n\n\\emph{Levels}: \\begin{enumerate*}\n\\item 'setosa'\n\\item 'versicolor'\n\\item 'virginica'\n\\end{enumerate*}\n",
            "text/plain": [
              "  [1] setosa     setosa     virginica  setosa     virginica  virginica \n",
              "  [7] versicolor versicolor virginica  versicolor virginica  versicolor\n",
              " [13] versicolor setosa     setosa     versicolor versicolor virginica \n",
              " [19] virginica  virginica  versicolor setosa     virginica  virginica \n",
              " [25] virginica  setosa     setosa     versicolor setosa     setosa    \n",
              " [31] versicolor versicolor virginica  virginica  virginica  versicolor\n",
              " [37] setosa     versicolor setosa     versicolor versicolor virginica \n",
              " [43] virginica  versicolor setosa     versicolor versicolor virginica \n",
              " [49] setosa     virginica  setosa     versicolor virginica  setosa    \n",
              " [55] virginica  versicolor setosa     setosa     virginica  versicolor\n",
              " [61] virginica  setosa     setosa     virginica  virginica  virginica \n",
              " [67] setosa     virginica  virginica  virginica  versicolor setosa    \n",
              " [73] virginica  versicolor setosa     setosa     setosa     setosa    \n",
              " [79] versicolor virginica  versicolor virginica  versicolor virginica \n",
              " [85] setosa     setosa     versicolor setosa     virginica  setosa    \n",
              " [91] setosa     versicolor versicolor virginica  virginica  setosa    \n",
              " [97] setosa     setosa     versicolor virginica \n",
              "Levels: setosa versicolor virginica"
            ]
          },
          "metadata": {}
        }
      ]
    },
    {
      "cell_type": "code",
      "source": [
        "data.frame(Y_train,Y_train_hat)"
      ],
      "metadata": {
        "colab": {
          "base_uri": "https://localhost:8080/",
          "height": 1000
        },
        "id": "4AJKGoij6gny",
        "outputId": "32ca9884-434f-41e0-a988-3ddad03b9eac"
      },
      "execution_count": 21,
      "outputs": [
        {
          "output_type": "display_data",
          "data": {
            "text/html": [
              "<table class=\"dataframe\">\n",
              "<caption>A data.frame: 100 × 2</caption>\n",
              "<thead>\n",
              "\t<tr><th scope=col>Y_train</th><th scope=col>Y_train_hat</th></tr>\n",
              "\t<tr><th scope=col>&lt;fct&gt;</th><th scope=col>&lt;fct&gt;</th></tr>\n",
              "</thead>\n",
              "<tbody>\n",
              "\t<tr><td>setosa    </td><td>setosa    </td></tr>\n",
              "\t<tr><td>setosa    </td><td>setosa    </td></tr>\n",
              "\t<tr><td>virginica </td><td>virginica </td></tr>\n",
              "\t<tr><td>setosa    </td><td>setosa    </td></tr>\n",
              "\t<tr><td>virginica </td><td>virginica </td></tr>\n",
              "\t<tr><td>virginica </td><td>virginica </td></tr>\n",
              "\t<tr><td>versicolor</td><td>versicolor</td></tr>\n",
              "\t<tr><td>versicolor</td><td>versicolor</td></tr>\n",
              "\t<tr><td>virginica </td><td>virginica </td></tr>\n",
              "\t<tr><td>versicolor</td><td>versicolor</td></tr>\n",
              "\t<tr><td>virginica </td><td>virginica </td></tr>\n",
              "\t<tr><td>versicolor</td><td>versicolor</td></tr>\n",
              "\t<tr><td>versicolor</td><td>versicolor</td></tr>\n",
              "\t<tr><td>setosa    </td><td>setosa    </td></tr>\n",
              "\t<tr><td>setosa    </td><td>setosa    </td></tr>\n",
              "\t<tr><td>versicolor</td><td>versicolor</td></tr>\n",
              "\t<tr><td>versicolor</td><td>versicolor</td></tr>\n",
              "\t<tr><td>virginica </td><td>virginica </td></tr>\n",
              "\t<tr><td>virginica </td><td>virginica </td></tr>\n",
              "\t<tr><td>virginica </td><td>virginica </td></tr>\n",
              "\t<tr><td>versicolor</td><td>versicolor</td></tr>\n",
              "\t<tr><td>setosa    </td><td>setosa    </td></tr>\n",
              "\t<tr><td>virginica </td><td>virginica </td></tr>\n",
              "\t<tr><td>virginica </td><td>virginica </td></tr>\n",
              "\t<tr><td>virginica </td><td>virginica </td></tr>\n",
              "\t<tr><td>setosa    </td><td>setosa    </td></tr>\n",
              "\t<tr><td>setosa    </td><td>setosa    </td></tr>\n",
              "\t<tr><td>versicolor</td><td>versicolor</td></tr>\n",
              "\t<tr><td>setosa    </td><td>setosa    </td></tr>\n",
              "\t<tr><td>setosa    </td><td>setosa    </td></tr>\n",
              "\t<tr><td>⋮</td><td>⋮</td></tr>\n",
              "\t<tr><td>versicolor</td><td>versicolor</td></tr>\n",
              "\t<tr><td>setosa    </td><td>setosa    </td></tr>\n",
              "\t<tr><td>virginica </td><td>virginica </td></tr>\n",
              "\t<tr><td>versicolor</td><td>versicolor</td></tr>\n",
              "\t<tr><td>setosa    </td><td>setosa    </td></tr>\n",
              "\t<tr><td>setosa    </td><td>setosa    </td></tr>\n",
              "\t<tr><td>setosa    </td><td>setosa    </td></tr>\n",
              "\t<tr><td>setosa    </td><td>setosa    </td></tr>\n",
              "\t<tr><td>versicolor</td><td>versicolor</td></tr>\n",
              "\t<tr><td>virginica </td><td>virginica </td></tr>\n",
              "\t<tr><td>versicolor</td><td>versicolor</td></tr>\n",
              "\t<tr><td>virginica </td><td>virginica </td></tr>\n",
              "\t<tr><td>versicolor</td><td>versicolor</td></tr>\n",
              "\t<tr><td>virginica </td><td>virginica </td></tr>\n",
              "\t<tr><td>setosa    </td><td>setosa    </td></tr>\n",
              "\t<tr><td>setosa    </td><td>setosa    </td></tr>\n",
              "\t<tr><td>versicolor</td><td>versicolor</td></tr>\n",
              "\t<tr><td>setosa    </td><td>setosa    </td></tr>\n",
              "\t<tr><td>virginica </td><td>virginica </td></tr>\n",
              "\t<tr><td>setosa    </td><td>setosa    </td></tr>\n",
              "\t<tr><td>setosa    </td><td>setosa    </td></tr>\n",
              "\t<tr><td>versicolor</td><td>versicolor</td></tr>\n",
              "\t<tr><td>virginica </td><td>versicolor</td></tr>\n",
              "\t<tr><td>virginica </td><td>virginica </td></tr>\n",
              "\t<tr><td>versicolor</td><td>virginica </td></tr>\n",
              "\t<tr><td>setosa    </td><td>setosa    </td></tr>\n",
              "\t<tr><td>setosa    </td><td>setosa    </td></tr>\n",
              "\t<tr><td>setosa    </td><td>setosa    </td></tr>\n",
              "\t<tr><td>versicolor</td><td>versicolor</td></tr>\n",
              "\t<tr><td>virginica </td><td>virginica </td></tr>\n",
              "</tbody>\n",
              "</table>\n"
            ],
            "text/markdown": "\nA data.frame: 100 × 2\n\n| Y_train &lt;fct&gt; | Y_train_hat &lt;fct&gt; |\n|---|---|\n| setosa     | setosa     |\n| setosa     | setosa     |\n| virginica  | virginica  |\n| setosa     | setosa     |\n| virginica  | virginica  |\n| virginica  | virginica  |\n| versicolor | versicolor |\n| versicolor | versicolor |\n| virginica  | virginica  |\n| versicolor | versicolor |\n| virginica  | virginica  |\n| versicolor | versicolor |\n| versicolor | versicolor |\n| setosa     | setosa     |\n| setosa     | setosa     |\n| versicolor | versicolor |\n| versicolor | versicolor |\n| virginica  | virginica  |\n| virginica  | virginica  |\n| virginica  | virginica  |\n| versicolor | versicolor |\n| setosa     | setosa     |\n| virginica  | virginica  |\n| virginica  | virginica  |\n| virginica  | virginica  |\n| setosa     | setosa     |\n| setosa     | setosa     |\n| versicolor | versicolor |\n| setosa     | setosa     |\n| setosa     | setosa     |\n| ⋮ | ⋮ |\n| versicolor | versicolor |\n| setosa     | setosa     |\n| virginica  | virginica  |\n| versicolor | versicolor |\n| setosa     | setosa     |\n| setosa     | setosa     |\n| setosa     | setosa     |\n| setosa     | setosa     |\n| versicolor | versicolor |\n| virginica  | virginica  |\n| versicolor | versicolor |\n| virginica  | virginica  |\n| versicolor | versicolor |\n| virginica  | virginica  |\n| setosa     | setosa     |\n| setosa     | setosa     |\n| versicolor | versicolor |\n| setosa     | setosa     |\n| virginica  | virginica  |\n| setosa     | setosa     |\n| setosa     | setosa     |\n| versicolor | versicolor |\n| virginica  | versicolor |\n| virginica  | virginica  |\n| versicolor | virginica  |\n| setosa     | setosa     |\n| setosa     | setosa     |\n| setosa     | setosa     |\n| versicolor | versicolor |\n| virginica  | virginica  |\n\n",
            "text/latex": "A data.frame: 100 × 2\n\\begin{tabular}{ll}\n Y\\_train & Y\\_train\\_hat\\\\\n <fct> & <fct>\\\\\n\\hline\n\t setosa     & setosa    \\\\\n\t setosa     & setosa    \\\\\n\t virginica  & virginica \\\\\n\t setosa     & setosa    \\\\\n\t virginica  & virginica \\\\\n\t virginica  & virginica \\\\\n\t versicolor & versicolor\\\\\n\t versicolor & versicolor\\\\\n\t virginica  & virginica \\\\\n\t versicolor & versicolor\\\\\n\t virginica  & virginica \\\\\n\t versicolor & versicolor\\\\\n\t versicolor & versicolor\\\\\n\t setosa     & setosa    \\\\\n\t setosa     & setosa    \\\\\n\t versicolor & versicolor\\\\\n\t versicolor & versicolor\\\\\n\t virginica  & virginica \\\\\n\t virginica  & virginica \\\\\n\t virginica  & virginica \\\\\n\t versicolor & versicolor\\\\\n\t setosa     & setosa    \\\\\n\t virginica  & virginica \\\\\n\t virginica  & virginica \\\\\n\t virginica  & virginica \\\\\n\t setosa     & setosa    \\\\\n\t setosa     & setosa    \\\\\n\t versicolor & versicolor\\\\\n\t setosa     & setosa    \\\\\n\t setosa     & setosa    \\\\\n\t ⋮ & ⋮\\\\\n\t versicolor & versicolor\\\\\n\t setosa     & setosa    \\\\\n\t virginica  & virginica \\\\\n\t versicolor & versicolor\\\\\n\t setosa     & setosa    \\\\\n\t setosa     & setosa    \\\\\n\t setosa     & setosa    \\\\\n\t setosa     & setosa    \\\\\n\t versicolor & versicolor\\\\\n\t virginica  & virginica \\\\\n\t versicolor & versicolor\\\\\n\t virginica  & virginica \\\\\n\t versicolor & versicolor\\\\\n\t virginica  & virginica \\\\\n\t setosa     & setosa    \\\\\n\t setosa     & setosa    \\\\\n\t versicolor & versicolor\\\\\n\t setosa     & setosa    \\\\\n\t virginica  & virginica \\\\\n\t setosa     & setosa    \\\\\n\t setosa     & setosa    \\\\\n\t versicolor & versicolor\\\\\n\t virginica  & versicolor\\\\\n\t virginica  & virginica \\\\\n\t versicolor & virginica \\\\\n\t setosa     & setosa    \\\\\n\t setosa     & setosa    \\\\\n\t setosa     & setosa    \\\\\n\t versicolor & versicolor\\\\\n\t virginica  & virginica \\\\\n\\end{tabular}\n",
            "text/plain": [
              "    Y_train    Y_train_hat\n",
              "1   setosa     setosa     \n",
              "2   setosa     setosa     \n",
              "3   virginica  virginica  \n",
              "4   setosa     setosa     \n",
              "5   virginica  virginica  \n",
              "6   virginica  virginica  \n",
              "7   versicolor versicolor \n",
              "8   versicolor versicolor \n",
              "9   virginica  virginica  \n",
              "10  versicolor versicolor \n",
              "11  virginica  virginica  \n",
              "12  versicolor versicolor \n",
              "13  versicolor versicolor \n",
              "14  setosa     setosa     \n",
              "15  setosa     setosa     \n",
              "16  versicolor versicolor \n",
              "17  versicolor versicolor \n",
              "18  virginica  virginica  \n",
              "19  virginica  virginica  \n",
              "20  virginica  virginica  \n",
              "21  versicolor versicolor \n",
              "22  setosa     setosa     \n",
              "23  virginica  virginica  \n",
              "24  virginica  virginica  \n",
              "25  virginica  virginica  \n",
              "26  setosa     setosa     \n",
              "27  setosa     setosa     \n",
              "28  versicolor versicolor \n",
              "29  setosa     setosa     \n",
              "30  setosa     setosa     \n",
              "⋮   ⋮          ⋮          \n",
              "71  versicolor versicolor \n",
              "72  setosa     setosa     \n",
              "73  virginica  virginica  \n",
              "74  versicolor versicolor \n",
              "75  setosa     setosa     \n",
              "76  setosa     setosa     \n",
              "77  setosa     setosa     \n",
              "78  setosa     setosa     \n",
              "79  versicolor versicolor \n",
              "80  virginica  virginica  \n",
              "81  versicolor versicolor \n",
              "82  virginica  virginica  \n",
              "83  versicolor versicolor \n",
              "84  virginica  virginica  \n",
              "85  setosa     setosa     \n",
              "86  setosa     setosa     \n",
              "87  versicolor versicolor \n",
              "88  setosa     setosa     \n",
              "89  virginica  virginica  \n",
              "90  setosa     setosa     \n",
              "91  setosa     setosa     \n",
              "92  versicolor versicolor \n",
              "93  virginica  versicolor \n",
              "94  virginica  virginica  \n",
              "95  versicolor virginica  \n",
              "96  setosa     setosa     \n",
              "97  setosa     setosa     \n",
              "98  setosa     setosa     \n",
              "99  versicolor versicolor \n",
              "100 virginica  virginica  "
            ]
          },
          "metadata": {}
        }
      ]
    },
    {
      "cell_type": "code",
      "source": [
        "table(Y_train,Y_train_hat)"
      ],
      "metadata": {
        "colab": {
          "base_uri": "https://localhost:8080/",
          "height": 102
        },
        "id": "AkR_XyTu66QY",
        "outputId": "f5a2b14b-a1f3-4b9e-94d4-219b1dde7934"
      },
      "execution_count": 22,
      "outputs": [
        {
          "output_type": "display_data",
          "data": {
            "text/plain": [
              "            Y_train_hat\n",
              "Y_train      setosa versicolor virginica\n",
              "  setosa         34          0         0\n",
              "  versicolor      0         28         1\n",
              "  virginica       0          2        35"
            ]
          },
          "metadata": {}
        }
      ]
    },
    {
      "cell_type": "code",
      "source": [
        "which(Y_train != Y_train_hat) # misclassification"
      ],
      "metadata": {
        "colab": {
          "base_uri": "https://localhost:8080/",
          "height": 34
        },
        "id": "wxAOkE0f7J55",
        "outputId": "786fed69-9c51-4a39-b7ed-931cf95b95fa"
      },
      "execution_count": 24,
      "outputs": [
        {
          "output_type": "display_data",
          "data": {
            "text/html": [
              "<style>\n",
              ".list-inline {list-style: none; margin:0; padding: 0}\n",
              ".list-inline>li {display: inline-block}\n",
              ".list-inline>li:not(:last-child)::after {content: \"\\00b7\"; padding: 0 .5ex}\n",
              "</style>\n",
              "<ol class=list-inline><li>56</li><li>93</li><li>95</li></ol>\n"
            ],
            "text/markdown": "1. 56\n2. 93\n3. 95\n\n\n",
            "text/latex": "\\begin{enumerate*}\n\\item 56\n\\item 93\n\\item 95\n\\end{enumerate*}\n",
            "text/plain": [
              "[1] 56 93 95"
            ]
          },
          "metadata": {}
        }
      ]
    },
    {
      "cell_type": "code",
      "source": [
        "length(which(Y_train != Y_train_hat)) #total classification"
      ],
      "metadata": {
        "colab": {
          "base_uri": "https://localhost:8080/",
          "height": 34
        },
        "id": "OUkgn1mm7T1L",
        "outputId": "f2c72d66-2ee0-4f57-beef-189ef367ebec"
      },
      "execution_count": 26,
      "outputs": [
        {
          "output_type": "display_data",
          "data": {
            "text/html": [
              "3"
            ],
            "text/markdown": "3",
            "text/latex": "3",
            "text/plain": [
              "[1] 3"
            ]
          },
          "metadata": {}
        }
      ]
    },
    {
      "cell_type": "code",
      "source": [
        "(1/length(Y_train))*length(which(Y_train != Y_train_hat)) #misclassification rate"
      ],
      "metadata": {
        "colab": {
          "base_uri": "https://localhost:8080/",
          "height": 34
        },
        "id": "wRbTGLth7qLT",
        "outputId": "4b359be4-5ba8-41df-fb97-7710014f95b7"
      },
      "execution_count": 30,
      "outputs": [
        {
          "output_type": "display_data",
          "data": {
            "text/html": [
              "0.03"
            ],
            "text/markdown": "0.03",
            "text/latex": "0.03",
            "text/plain": [
              "[1] 0.03"
            ]
          },
          "metadata": {}
        }
      ]
    },
    {
      "cell_type": "markdown",
      "source": [
        "Test error for k=3"
      ],
      "metadata": {
        "id": "mR7ZIh9G8Gxm"
      }
    },
    {
      "cell_type": "code",
      "source": [
        "Y_test_hat <-knn(X_test ,X_test,Y_test,k=3)\n",
        "Y_test_hat"
      ],
      "metadata": {
        "colab": {
          "base_uri": "https://localhost:8080/",
          "height": 136
        },
        "id": "zisVDsI08Lpj",
        "outputId": "1d57ed16-6922-4ad7-e0bf-f0eeb225eb95"
      },
      "execution_count": 31,
      "outputs": [
        {
          "output_type": "display_data",
          "data": {
            "text/html": [
              "<style>\n",
              ".list-inline {list-style: none; margin:0; padding: 0}\n",
              ".list-inline>li {display: inline-block}\n",
              ".list-inline>li:not(:last-child)::after {content: \"\\00b7\"; padding: 0 .5ex}\n",
              "</style>\n",
              "<ol class=list-inline><li>setosa</li><li>setosa</li><li>setosa</li><li>setosa</li><li>setosa</li><li>setosa</li><li>setosa</li><li>setosa</li><li>setosa</li><li>setosa</li><li>setosa</li><li>setosa</li><li>setosa</li><li>setosa</li><li>setosa</li><li>setosa</li><li>versicolor</li><li>versicolor</li><li>versicolor</li><li>versicolor</li><li>versicolor</li><li>versicolor</li><li>versicolor</li><li>versicolor</li><li>versicolor</li><li>versicolor</li><li>versicolor</li><li>versicolor</li><li>versicolor</li><li>versicolor</li><li>versicolor</li><li>versicolor</li><li>versicolor</li><li>versicolor</li><li>versicolor</li><li>versicolor</li><li>versicolor</li><li>virginica</li><li>virginica</li><li>virginica</li><li>virginica</li><li>virginica</li><li>virginica</li><li>virginica</li><li>virginica</li><li>virginica</li><li>virginica</li><li>virginica</li><li>virginica</li><li>virginica</li></ol>\n",
              "\n",
              "<details>\n",
              "\t<summary style=display:list-item;cursor:pointer>\n",
              "\t\t<strong>Levels</strong>:\n",
              "\t</summary>\n",
              "\t<style>\n",
              "\t.list-inline {list-style: none; margin:0; padding: 0}\n",
              "\t.list-inline>li {display: inline-block}\n",
              "\t.list-inline>li:not(:last-child)::after {content: \"\\00b7\"; padding: 0 .5ex}\n",
              "\t</style>\n",
              "\t<ol class=list-inline><li>'setosa'</li><li>'versicolor'</li><li>'virginica'</li></ol>\n",
              "</details>"
            ],
            "text/markdown": "1. setosa\n2. setosa\n3. setosa\n4. setosa\n5. setosa\n6. setosa\n7. setosa\n8. setosa\n9. setosa\n10. setosa\n11. setosa\n12. setosa\n13. setosa\n14. setosa\n15. setosa\n16. setosa\n17. versicolor\n18. versicolor\n19. versicolor\n20. versicolor\n21. versicolor\n22. versicolor\n23. versicolor\n24. versicolor\n25. versicolor\n26. versicolor\n27. versicolor\n28. versicolor\n29. versicolor\n30. versicolor\n31. versicolor\n32. versicolor\n33. versicolor\n34. versicolor\n35. versicolor\n36. versicolor\n37. versicolor\n38. virginica\n39. virginica\n40. virginica\n41. virginica\n42. virginica\n43. virginica\n44. virginica\n45. virginica\n46. virginica\n47. virginica\n48. virginica\n49. virginica\n50. virginica\n\n\n\n**Levels**: 1. 'setosa'\n2. 'versicolor'\n3. 'virginica'\n\n\n",
            "text/latex": "\\begin{enumerate*}\n\\item setosa\n\\item setosa\n\\item setosa\n\\item setosa\n\\item setosa\n\\item setosa\n\\item setosa\n\\item setosa\n\\item setosa\n\\item setosa\n\\item setosa\n\\item setosa\n\\item setosa\n\\item setosa\n\\item setosa\n\\item setosa\n\\item versicolor\n\\item versicolor\n\\item versicolor\n\\item versicolor\n\\item versicolor\n\\item versicolor\n\\item versicolor\n\\item versicolor\n\\item versicolor\n\\item versicolor\n\\item versicolor\n\\item versicolor\n\\item versicolor\n\\item versicolor\n\\item versicolor\n\\item versicolor\n\\item versicolor\n\\item versicolor\n\\item versicolor\n\\item versicolor\n\\item versicolor\n\\item virginica\n\\item virginica\n\\item virginica\n\\item virginica\n\\item virginica\n\\item virginica\n\\item virginica\n\\item virginica\n\\item virginica\n\\item virginica\n\\item virginica\n\\item virginica\n\\item virginica\n\\end{enumerate*}\n\n\\emph{Levels}: \\begin{enumerate*}\n\\item 'setosa'\n\\item 'versicolor'\n\\item 'virginica'\n\\end{enumerate*}\n",
            "text/plain": [
              " [1] setosa     setosa     setosa     setosa     setosa     setosa    \n",
              " [7] setosa     setosa     setosa     setosa     setosa     setosa    \n",
              "[13] setosa     setosa     setosa     setosa     versicolor versicolor\n",
              "[19] versicolor versicolor versicolor versicolor versicolor versicolor\n",
              "[25] versicolor versicolor versicolor versicolor versicolor versicolor\n",
              "[31] versicolor versicolor versicolor versicolor versicolor versicolor\n",
              "[37] versicolor virginica  virginica  virginica  virginica  virginica \n",
              "[43] virginica  virginica  virginica  virginica  virginica  virginica \n",
              "[49] virginica  virginica \n",
              "Levels: setosa versicolor virginica"
            ]
          },
          "metadata": {}
        }
      ]
    },
    {
      "cell_type": "code",
      "source": [
        "data.frame(Y_test,Y_test_hat)\n",
        "table(Y_test,Y_test_hat)"
      ],
      "metadata": {
        "colab": {
          "base_uri": "https://localhost:8080/",
          "height": 1000
        },
        "id": "Xa-4cUC08dRL",
        "outputId": "a9c78194-5492-465b-e4ba-6a4110220f29"
      },
      "execution_count": 32,
      "outputs": [
        {
          "output_type": "display_data",
          "data": {
            "text/html": [
              "<table class=\"dataframe\">\n",
              "<caption>A data.frame: 50 × 2</caption>\n",
              "<thead>\n",
              "\t<tr><th scope=col>Y_test</th><th scope=col>Y_test_hat</th></tr>\n",
              "\t<tr><th scope=col>&lt;fct&gt;</th><th scope=col>&lt;fct&gt;</th></tr>\n",
              "</thead>\n",
              "<tbody>\n",
              "\t<tr><td>setosa    </td><td>setosa    </td></tr>\n",
              "\t<tr><td>setosa    </td><td>setosa    </td></tr>\n",
              "\t<tr><td>setosa    </td><td>setosa    </td></tr>\n",
              "\t<tr><td>setosa    </td><td>setosa    </td></tr>\n",
              "\t<tr><td>setosa    </td><td>setosa    </td></tr>\n",
              "\t<tr><td>setosa    </td><td>setosa    </td></tr>\n",
              "\t<tr><td>setosa    </td><td>setosa    </td></tr>\n",
              "\t<tr><td>setosa    </td><td>setosa    </td></tr>\n",
              "\t<tr><td>setosa    </td><td>setosa    </td></tr>\n",
              "\t<tr><td>setosa    </td><td>setosa    </td></tr>\n",
              "\t<tr><td>setosa    </td><td>setosa    </td></tr>\n",
              "\t<tr><td>setosa    </td><td>setosa    </td></tr>\n",
              "\t<tr><td>setosa    </td><td>setosa    </td></tr>\n",
              "\t<tr><td>setosa    </td><td>setosa    </td></tr>\n",
              "\t<tr><td>setosa    </td><td>setosa    </td></tr>\n",
              "\t<tr><td>setosa    </td><td>setosa    </td></tr>\n",
              "\t<tr><td>versicolor</td><td>versicolor</td></tr>\n",
              "\t<tr><td>versicolor</td><td>versicolor</td></tr>\n",
              "\t<tr><td>versicolor</td><td>versicolor</td></tr>\n",
              "\t<tr><td>versicolor</td><td>versicolor</td></tr>\n",
              "\t<tr><td>versicolor</td><td>versicolor</td></tr>\n",
              "\t<tr><td>versicolor</td><td>versicolor</td></tr>\n",
              "\t<tr><td>versicolor</td><td>versicolor</td></tr>\n",
              "\t<tr><td>versicolor</td><td>versicolor</td></tr>\n",
              "\t<tr><td>versicolor</td><td>versicolor</td></tr>\n",
              "\t<tr><td>versicolor</td><td>versicolor</td></tr>\n",
              "\t<tr><td>versicolor</td><td>versicolor</td></tr>\n",
              "\t<tr><td>versicolor</td><td>versicolor</td></tr>\n",
              "\t<tr><td>versicolor</td><td>versicolor</td></tr>\n",
              "\t<tr><td>versicolor</td><td>versicolor</td></tr>\n",
              "\t<tr><td>versicolor</td><td>versicolor</td></tr>\n",
              "\t<tr><td>versicolor</td><td>versicolor</td></tr>\n",
              "\t<tr><td>versicolor</td><td>versicolor</td></tr>\n",
              "\t<tr><td>versicolor</td><td>versicolor</td></tr>\n",
              "\t<tr><td>versicolor</td><td>versicolor</td></tr>\n",
              "\t<tr><td>versicolor</td><td>versicolor</td></tr>\n",
              "\t<tr><td>versicolor</td><td>versicolor</td></tr>\n",
              "\t<tr><td>virginica </td><td>virginica </td></tr>\n",
              "\t<tr><td>virginica </td><td>virginica </td></tr>\n",
              "\t<tr><td>virginica </td><td>virginica </td></tr>\n",
              "\t<tr><td>virginica </td><td>virginica </td></tr>\n",
              "\t<tr><td>virginica </td><td>virginica </td></tr>\n",
              "\t<tr><td>virginica </td><td>virginica </td></tr>\n",
              "\t<tr><td>virginica </td><td>virginica </td></tr>\n",
              "\t<tr><td>virginica </td><td>virginica </td></tr>\n",
              "\t<tr><td>virginica </td><td>virginica </td></tr>\n",
              "\t<tr><td>virginica </td><td>virginica </td></tr>\n",
              "\t<tr><td>virginica </td><td>virginica </td></tr>\n",
              "\t<tr><td>virginica </td><td>virginica </td></tr>\n",
              "\t<tr><td>virginica </td><td>virginica </td></tr>\n",
              "</tbody>\n",
              "</table>\n"
            ],
            "text/markdown": "\nA data.frame: 50 × 2\n\n| Y_test &lt;fct&gt; | Y_test_hat &lt;fct&gt; |\n|---|---|\n| setosa     | setosa     |\n| setosa     | setosa     |\n| setosa     | setosa     |\n| setosa     | setosa     |\n| setosa     | setosa     |\n| setosa     | setosa     |\n| setosa     | setosa     |\n| setosa     | setosa     |\n| setosa     | setosa     |\n| setosa     | setosa     |\n| setosa     | setosa     |\n| setosa     | setosa     |\n| setosa     | setosa     |\n| setosa     | setosa     |\n| setosa     | setosa     |\n| setosa     | setosa     |\n| versicolor | versicolor |\n| versicolor | versicolor |\n| versicolor | versicolor |\n| versicolor | versicolor |\n| versicolor | versicolor |\n| versicolor | versicolor |\n| versicolor | versicolor |\n| versicolor | versicolor |\n| versicolor | versicolor |\n| versicolor | versicolor |\n| versicolor | versicolor |\n| versicolor | versicolor |\n| versicolor | versicolor |\n| versicolor | versicolor |\n| versicolor | versicolor |\n| versicolor | versicolor |\n| versicolor | versicolor |\n| versicolor | versicolor |\n| versicolor | versicolor |\n| versicolor | versicolor |\n| versicolor | versicolor |\n| virginica  | virginica  |\n| virginica  | virginica  |\n| virginica  | virginica  |\n| virginica  | virginica  |\n| virginica  | virginica  |\n| virginica  | virginica  |\n| virginica  | virginica  |\n| virginica  | virginica  |\n| virginica  | virginica  |\n| virginica  | virginica  |\n| virginica  | virginica  |\n| virginica  | virginica  |\n| virginica  | virginica  |\n\n",
            "text/latex": "A data.frame: 50 × 2\n\\begin{tabular}{ll}\n Y\\_test & Y\\_test\\_hat\\\\\n <fct> & <fct>\\\\\n\\hline\n\t setosa     & setosa    \\\\\n\t setosa     & setosa    \\\\\n\t setosa     & setosa    \\\\\n\t setosa     & setosa    \\\\\n\t setosa     & setosa    \\\\\n\t setosa     & setosa    \\\\\n\t setosa     & setosa    \\\\\n\t setosa     & setosa    \\\\\n\t setosa     & setosa    \\\\\n\t setosa     & setosa    \\\\\n\t setosa     & setosa    \\\\\n\t setosa     & setosa    \\\\\n\t setosa     & setosa    \\\\\n\t setosa     & setosa    \\\\\n\t setosa     & setosa    \\\\\n\t setosa     & setosa    \\\\\n\t versicolor & versicolor\\\\\n\t versicolor & versicolor\\\\\n\t versicolor & versicolor\\\\\n\t versicolor & versicolor\\\\\n\t versicolor & versicolor\\\\\n\t versicolor & versicolor\\\\\n\t versicolor & versicolor\\\\\n\t versicolor & versicolor\\\\\n\t versicolor & versicolor\\\\\n\t versicolor & versicolor\\\\\n\t versicolor & versicolor\\\\\n\t versicolor & versicolor\\\\\n\t versicolor & versicolor\\\\\n\t versicolor & versicolor\\\\\n\t versicolor & versicolor\\\\\n\t versicolor & versicolor\\\\\n\t versicolor & versicolor\\\\\n\t versicolor & versicolor\\\\\n\t versicolor & versicolor\\\\\n\t versicolor & versicolor\\\\\n\t versicolor & versicolor\\\\\n\t virginica  & virginica \\\\\n\t virginica  & virginica \\\\\n\t virginica  & virginica \\\\\n\t virginica  & virginica \\\\\n\t virginica  & virginica \\\\\n\t virginica  & virginica \\\\\n\t virginica  & virginica \\\\\n\t virginica  & virginica \\\\\n\t virginica  & virginica \\\\\n\t virginica  & virginica \\\\\n\t virginica  & virginica \\\\\n\t virginica  & virginica \\\\\n\t virginica  & virginica \\\\\n\\end{tabular}\n",
            "text/plain": [
              "   Y_test     Y_test_hat\n",
              "1  setosa     setosa    \n",
              "2  setosa     setosa    \n",
              "3  setosa     setosa    \n",
              "4  setosa     setosa    \n",
              "5  setosa     setosa    \n",
              "6  setosa     setosa    \n",
              "7  setosa     setosa    \n",
              "8  setosa     setosa    \n",
              "9  setosa     setosa    \n",
              "10 setosa     setosa    \n",
              "11 setosa     setosa    \n",
              "12 setosa     setosa    \n",
              "13 setosa     setosa    \n",
              "14 setosa     setosa    \n",
              "15 setosa     setosa    \n",
              "16 setosa     setosa    \n",
              "17 versicolor versicolor\n",
              "18 versicolor versicolor\n",
              "19 versicolor versicolor\n",
              "20 versicolor versicolor\n",
              "21 versicolor versicolor\n",
              "22 versicolor versicolor\n",
              "23 versicolor versicolor\n",
              "24 versicolor versicolor\n",
              "25 versicolor versicolor\n",
              "26 versicolor versicolor\n",
              "27 versicolor versicolor\n",
              "28 versicolor versicolor\n",
              "29 versicolor versicolor\n",
              "30 versicolor versicolor\n",
              "31 versicolor versicolor\n",
              "32 versicolor versicolor\n",
              "33 versicolor versicolor\n",
              "34 versicolor versicolor\n",
              "35 versicolor versicolor\n",
              "36 versicolor versicolor\n",
              "37 versicolor versicolor\n",
              "38 virginica  virginica \n",
              "39 virginica  virginica \n",
              "40 virginica  virginica \n",
              "41 virginica  virginica \n",
              "42 virginica  virginica \n",
              "43 virginica  virginica \n",
              "44 virginica  virginica \n",
              "45 virginica  virginica \n",
              "46 virginica  virginica \n",
              "47 virginica  virginica \n",
              "48 virginica  virginica \n",
              "49 virginica  virginica \n",
              "50 virginica  virginica "
            ]
          },
          "metadata": {}
        },
        {
          "output_type": "display_data",
          "data": {
            "text/plain": [
              "            Y_test_hat\n",
              "Y_test       setosa versicolor virginica\n",
              "  setosa         16          0         0\n",
              "  versicolor      0         21         0\n",
              "  virginica       0          0        13"
            ]
          },
          "metadata": {}
        }
      ]
    },
    {
      "cell_type": "code",
      "source": [],
      "metadata": {
        "id": "W9En5oZ_8wHp"
      },
      "execution_count": null,
      "outputs": []
    }
  ]
}