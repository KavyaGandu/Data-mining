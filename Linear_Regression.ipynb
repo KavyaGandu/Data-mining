{
  "nbformat": 4,
  "nbformat_minor": 0,
  "metadata": {
    "colab": {
      "provenance": [],
      "authorship_tag": "ABX9TyNZKa7ZOLkYimSXdvZoLuQO",
      "include_colab_link": true
    },
    "kernelspec": {
      "name": "ir",
      "display_name": "R"
    },
    "language_info": {
      "name": "R"
    }
  },
  "cells": [
    {
      "cell_type": "markdown",
      "metadata": {
        "id": "view-in-github",
        "colab_type": "text"
      },
      "source": [
        "<a href=\"https://colab.research.google.com/github/KavyaGandu/Data-mining/blob/main/Linear_Regression.ipynb\" target=\"_parent\"><img src=\"https://colab.research.google.com/assets/colab-badge.svg\" alt=\"Open In Colab\"/></a>"
      ]
    },
    {
      "cell_type": "code",
      "execution_count": 25,
      "metadata": {
        "id": "6wtD0bA39fiR"
      },
      "outputs": [],
      "source": [
        "dats <- read.delim(\"/content/Real estate.csv\",sep =\",\",header= TRUE)"
      ]
    },
    {
      "cell_type": "code",
      "source": [
        "head(dats)"
      ],
      "metadata": {
        "colab": {
          "base_uri": "https://localhost:8080/",
          "height": 303
        },
        "id": "aasRNTg2-XTN",
        "outputId": "cb2f9087-df14-47ff-b8cb-943ea84edee5"
      },
      "execution_count": 26,
      "outputs": [
        {
          "output_type": "display_data",
          "data": {
            "text/html": [
              "<table class=\"dataframe\">\n",
              "<caption>A data.frame: 6 × 8</caption>\n",
              "<thead>\n",
              "\t<tr><th></th><th scope=col>No</th><th scope=col>X1.transaction.date</th><th scope=col>X2.house.age</th><th scope=col>X3.distance.to.the.nearest.MRT.station</th><th scope=col>X4.number.of.convenience.stores</th><th scope=col>X5.latitude</th><th scope=col>X6.longitude</th><th scope=col>Y.house.price.of.unit.area</th></tr>\n",
              "\t<tr><th></th><th scope=col>&lt;int&gt;</th><th scope=col>&lt;dbl&gt;</th><th scope=col>&lt;dbl&gt;</th><th scope=col>&lt;dbl&gt;</th><th scope=col>&lt;int&gt;</th><th scope=col>&lt;dbl&gt;</th><th scope=col>&lt;dbl&gt;</th><th scope=col>&lt;dbl&gt;</th></tr>\n",
              "</thead>\n",
              "<tbody>\n",
              "\t<tr><th scope=row>1</th><td>1</td><td>2012.917</td><td>32.0</td><td>  84.87882</td><td>10</td><td>24.98298</td><td>121.5402</td><td>37.9</td></tr>\n",
              "\t<tr><th scope=row>2</th><td>2</td><td>2012.917</td><td>19.5</td><td> 306.59470</td><td> 9</td><td>24.98034</td><td>121.5395</td><td>42.2</td></tr>\n",
              "\t<tr><th scope=row>3</th><td>3</td><td>2013.583</td><td>13.3</td><td> 561.98450</td><td> 5</td><td>24.98746</td><td>121.5439</td><td>47.3</td></tr>\n",
              "\t<tr><th scope=row>4</th><td>4</td><td>2013.500</td><td>13.3</td><td> 561.98450</td><td> 5</td><td>24.98746</td><td>121.5439</td><td>54.8</td></tr>\n",
              "\t<tr><th scope=row>5</th><td>5</td><td>2012.833</td><td> 5.0</td><td> 390.56840</td><td> 5</td><td>24.97937</td><td>121.5425</td><td>43.1</td></tr>\n",
              "\t<tr><th scope=row>6</th><td>6</td><td>2012.667</td><td> 7.1</td><td>2175.03000</td><td> 3</td><td>24.96305</td><td>121.5125</td><td>32.1</td></tr>\n",
              "</tbody>\n",
              "</table>\n"
            ],
            "text/markdown": "\nA data.frame: 6 × 8\n\n| <!--/--> | No &lt;int&gt; | X1.transaction.date &lt;dbl&gt; | X2.house.age &lt;dbl&gt; | X3.distance.to.the.nearest.MRT.station &lt;dbl&gt; | X4.number.of.convenience.stores &lt;int&gt; | X5.latitude &lt;dbl&gt; | X6.longitude &lt;dbl&gt; | Y.house.price.of.unit.area &lt;dbl&gt; |\n|---|---|---|---|---|---|---|---|---|\n| 1 | 1 | 2012.917 | 32.0 |   84.87882 | 10 | 24.98298 | 121.5402 | 37.9 |\n| 2 | 2 | 2012.917 | 19.5 |  306.59470 |  9 | 24.98034 | 121.5395 | 42.2 |\n| 3 | 3 | 2013.583 | 13.3 |  561.98450 |  5 | 24.98746 | 121.5439 | 47.3 |\n| 4 | 4 | 2013.500 | 13.3 |  561.98450 |  5 | 24.98746 | 121.5439 | 54.8 |\n| 5 | 5 | 2012.833 |  5.0 |  390.56840 |  5 | 24.97937 | 121.5425 | 43.1 |\n| 6 | 6 | 2012.667 |  7.1 | 2175.03000 |  3 | 24.96305 | 121.5125 | 32.1 |\n\n",
            "text/latex": "A data.frame: 6 × 8\n\\begin{tabular}{r|llllllll}\n  & No & X1.transaction.date & X2.house.age & X3.distance.to.the.nearest.MRT.station & X4.number.of.convenience.stores & X5.latitude & X6.longitude & Y.house.price.of.unit.area\\\\\n  & <int> & <dbl> & <dbl> & <dbl> & <int> & <dbl> & <dbl> & <dbl>\\\\\n\\hline\n\t1 & 1 & 2012.917 & 32.0 &   84.87882 & 10 & 24.98298 & 121.5402 & 37.9\\\\\n\t2 & 2 & 2012.917 & 19.5 &  306.59470 &  9 & 24.98034 & 121.5395 & 42.2\\\\\n\t3 & 3 & 2013.583 & 13.3 &  561.98450 &  5 & 24.98746 & 121.5439 & 47.3\\\\\n\t4 & 4 & 2013.500 & 13.3 &  561.98450 &  5 & 24.98746 & 121.5439 & 54.8\\\\\n\t5 & 5 & 2012.833 &  5.0 &  390.56840 &  5 & 24.97937 & 121.5425 & 43.1\\\\\n\t6 & 6 & 2012.667 &  7.1 & 2175.03000 &  3 & 24.96305 & 121.5125 & 32.1\\\\\n\\end{tabular}\n",
            "text/plain": [
              "  No X1.transaction.date X2.house.age X3.distance.to.the.nearest.MRT.station\n",
              "1 1  2012.917            32.0           84.87882                            \n",
              "2 2  2012.917            19.5          306.59470                            \n",
              "3 3  2013.583            13.3          561.98450                            \n",
              "4 4  2013.500            13.3          561.98450                            \n",
              "5 5  2012.833             5.0          390.56840                            \n",
              "6 6  2012.667             7.1         2175.03000                            \n",
              "  X4.number.of.convenience.stores X5.latitude X6.longitude\n",
              "1 10                              24.98298    121.5402    \n",
              "2  9                              24.98034    121.5395    \n",
              "3  5                              24.98746    121.5439    \n",
              "4  5                              24.98746    121.5439    \n",
              "5  5                              24.97937    121.5425    \n",
              "6  3                              24.96305    121.5125    \n",
              "  Y.house.price.of.unit.area\n",
              "1 37.9                      \n",
              "2 42.2                      \n",
              "3 47.3                      \n",
              "4 54.8                      \n",
              "5 43.1                      \n",
              "6 32.1                      "
            ]
          },
          "metadata": {}
        }
      ]
    },
    {
      "cell_type": "code",
      "source": [
        "datsn <- dats[,-1] #eliminate the first column"
      ],
      "metadata": {
        "id": "83nMYIR7AI6i"
      },
      "execution_count": 34,
      "outputs": []
    },
    {
      "cell_type": "code",
      "source": [
        "head(datsn)"
      ],
      "metadata": {
        "colab": {
          "base_uri": "https://localhost:8080/",
          "height": 303
        },
        "id": "EO-iAffVANBU",
        "outputId": "743090b7-6582-4edd-a5e5-cc91f63e5ae2"
      },
      "execution_count": 30,
      "outputs": [
        {
          "output_type": "display_data",
          "data": {
            "text/html": [
              "<table class=\"dataframe\">\n",
              "<caption>A data.frame: 6 × 7</caption>\n",
              "<thead>\n",
              "\t<tr><th></th><th scope=col>X1.transaction.date</th><th scope=col>X2.house.age</th><th scope=col>X3.distance.to.the.nearest.MRT.station</th><th scope=col>X4.number.of.convenience.stores</th><th scope=col>X5.latitude</th><th scope=col>X6.longitude</th><th scope=col>Y.house.price.of.unit.area</th></tr>\n",
              "\t<tr><th></th><th scope=col>&lt;dbl&gt;</th><th scope=col>&lt;dbl&gt;</th><th scope=col>&lt;dbl&gt;</th><th scope=col>&lt;int&gt;</th><th scope=col>&lt;dbl&gt;</th><th scope=col>&lt;dbl&gt;</th><th scope=col>&lt;dbl&gt;</th></tr>\n",
              "</thead>\n",
              "<tbody>\n",
              "\t<tr><th scope=row>1</th><td>2012.917</td><td>32.0</td><td>  84.87882</td><td>10</td><td>24.98298</td><td>121.5402</td><td>37.9</td></tr>\n",
              "\t<tr><th scope=row>2</th><td>2012.917</td><td>19.5</td><td> 306.59470</td><td> 9</td><td>24.98034</td><td>121.5395</td><td>42.2</td></tr>\n",
              "\t<tr><th scope=row>3</th><td>2013.583</td><td>13.3</td><td> 561.98450</td><td> 5</td><td>24.98746</td><td>121.5439</td><td>47.3</td></tr>\n",
              "\t<tr><th scope=row>4</th><td>2013.500</td><td>13.3</td><td> 561.98450</td><td> 5</td><td>24.98746</td><td>121.5439</td><td>54.8</td></tr>\n",
              "\t<tr><th scope=row>5</th><td>2012.833</td><td> 5.0</td><td> 390.56840</td><td> 5</td><td>24.97937</td><td>121.5425</td><td>43.1</td></tr>\n",
              "\t<tr><th scope=row>6</th><td>2012.667</td><td> 7.1</td><td>2175.03000</td><td> 3</td><td>24.96305</td><td>121.5125</td><td>32.1</td></tr>\n",
              "</tbody>\n",
              "</table>\n"
            ],
            "text/markdown": "\nA data.frame: 6 × 7\n\n| <!--/--> | X1.transaction.date &lt;dbl&gt; | X2.house.age &lt;dbl&gt; | X3.distance.to.the.nearest.MRT.station &lt;dbl&gt; | X4.number.of.convenience.stores &lt;int&gt; | X5.latitude &lt;dbl&gt; | X6.longitude &lt;dbl&gt; | Y.house.price.of.unit.area &lt;dbl&gt; |\n|---|---|---|---|---|---|---|---|\n| 1 | 2012.917 | 32.0 |   84.87882 | 10 | 24.98298 | 121.5402 | 37.9 |\n| 2 | 2012.917 | 19.5 |  306.59470 |  9 | 24.98034 | 121.5395 | 42.2 |\n| 3 | 2013.583 | 13.3 |  561.98450 |  5 | 24.98746 | 121.5439 | 47.3 |\n| 4 | 2013.500 | 13.3 |  561.98450 |  5 | 24.98746 | 121.5439 | 54.8 |\n| 5 | 2012.833 |  5.0 |  390.56840 |  5 | 24.97937 | 121.5425 | 43.1 |\n| 6 | 2012.667 |  7.1 | 2175.03000 |  3 | 24.96305 | 121.5125 | 32.1 |\n\n",
            "text/latex": "A data.frame: 6 × 7\n\\begin{tabular}{r|lllllll}\n  & X1.transaction.date & X2.house.age & X3.distance.to.the.nearest.MRT.station & X4.number.of.convenience.stores & X5.latitude & X6.longitude & Y.house.price.of.unit.area\\\\\n  & <dbl> & <dbl> & <dbl> & <int> & <dbl> & <dbl> & <dbl>\\\\\n\\hline\n\t1 & 2012.917 & 32.0 &   84.87882 & 10 & 24.98298 & 121.5402 & 37.9\\\\\n\t2 & 2012.917 & 19.5 &  306.59470 &  9 & 24.98034 & 121.5395 & 42.2\\\\\n\t3 & 2013.583 & 13.3 &  561.98450 &  5 & 24.98746 & 121.5439 & 47.3\\\\\n\t4 & 2013.500 & 13.3 &  561.98450 &  5 & 24.98746 & 121.5439 & 54.8\\\\\n\t5 & 2012.833 &  5.0 &  390.56840 &  5 & 24.97937 & 121.5425 & 43.1\\\\\n\t6 & 2012.667 &  7.1 & 2175.03000 &  3 & 24.96305 & 121.5125 & 32.1\\\\\n\\end{tabular}\n",
            "text/plain": [
              "  X1.transaction.date X2.house.age X3.distance.to.the.nearest.MRT.station\n",
              "1 2012.917            32.0           84.87882                            \n",
              "2 2012.917            19.5          306.59470                            \n",
              "3 2013.583            13.3          561.98450                            \n",
              "4 2013.500            13.3          561.98450                            \n",
              "5 2012.833             5.0          390.56840                            \n",
              "6 2012.667             7.1         2175.03000                            \n",
              "  X4.number.of.convenience.stores X5.latitude X6.longitude\n",
              "1 10                              24.98298    121.5402    \n",
              "2  9                              24.98034    121.5395    \n",
              "3  5                              24.98746    121.5439    \n",
              "4  5                              24.98746    121.5439    \n",
              "5  5                              24.97937    121.5425    \n",
              "6  3                              24.96305    121.5125    \n",
              "  Y.house.price.of.unit.area\n",
              "1 37.9                      \n",
              "2 42.2                      \n",
              "3 47.3                      \n",
              "4 54.8                      \n",
              "5 43.1                      \n",
              "6 32.1                      "
            ]
          },
          "metadata": {}
        }
      ]
    },
    {
      "cell_type": "code",
      "source": [
        "dim(datsn)"
      ],
      "metadata": {
        "colab": {
          "base_uri": "https://localhost:8080/",
          "height": 34
        },
        "id": "XCPD671IAaBd",
        "outputId": "446c8a6f-2781-4c66-df86-e0d5d1e0aed0"
      },
      "execution_count": 31,
      "outputs": [
        {
          "output_type": "display_data",
          "data": {
            "text/html": [
              "<style>\n",
              ".list-inline {list-style: none; margin:0; padding: 0}\n",
              ".list-inline>li {display: inline-block}\n",
              ".list-inline>li:not(:last-child)::after {content: \"\\00b7\"; padding: 0 .5ex}\n",
              "</style>\n",
              "<ol class=list-inline><li>414</li><li>7</li></ol>\n"
            ],
            "text/markdown": "1. 414\n2. 7\n\n\n",
            "text/latex": "\\begin{enumerate*}\n\\item 414\n\\item 7\n\\end{enumerate*}\n",
            "text/plain": [
              "[1] 414   7"
            ]
          },
          "metadata": {}
        }
      ]
    },
    {
      "cell_type": "code",
      "source": [
        "colnames(datsn) #coulmn names"
      ],
      "metadata": {
        "colab": {
          "base_uri": "https://localhost:8080/",
          "height": 51
        },
        "id": "xwffLGhd_1k5",
        "outputId": "73f65db6-0cd7-43d0-8a96-411740e81141"
      },
      "execution_count": 33,
      "outputs": [
        {
          "output_type": "display_data",
          "data": {
            "text/html": [
              "<style>\n",
              ".list-inline {list-style: none; margin:0; padding: 0}\n",
              ".list-inline>li {display: inline-block}\n",
              ".list-inline>li:not(:last-child)::after {content: \"\\00b7\"; padding: 0 .5ex}\n",
              "</style>\n",
              "<ol class=list-inline><li>'X1.transaction.date'</li><li>'X2.house.age'</li><li>'X3.distance.to.the.nearest.MRT.station'</li><li>'X4.number.of.convenience.stores'</li><li>'X5.latitude'</li><li>'X6.longitude'</li><li>'Y.house.price.of.unit.area'</li></ol>\n"
            ],
            "text/markdown": "1. 'X1.transaction.date'\n2. 'X2.house.age'\n3. 'X3.distance.to.the.nearest.MRT.station'\n4. 'X4.number.of.convenience.stores'\n5. 'X5.latitude'\n6. 'X6.longitude'\n7. 'Y.house.price.of.unit.area'\n\n\n",
            "text/latex": "\\begin{enumerate*}\n\\item 'X1.transaction.date'\n\\item 'X2.house.age'\n\\item 'X3.distance.to.the.nearest.MRT.station'\n\\item 'X4.number.of.convenience.stores'\n\\item 'X5.latitude'\n\\item 'X6.longitude'\n\\item 'Y.house.price.of.unit.area'\n\\end{enumerate*}\n",
            "text/plain": [
              "[1] \"X1.transaction.date\"                   \n",
              "[2] \"X2.house.age\"                          \n",
              "[3] \"X3.distance.to.the.nearest.MRT.station\"\n",
              "[4] \"X4.number.of.convenience.stores\"       \n",
              "[5] \"X5.latitude\"                           \n",
              "[6] \"X6.longitude\"                          \n",
              "[7] \"Y.house.price.of.unit.area\"            "
            ]
          },
          "metadata": {}
        }
      ]
    },
    {
      "cell_type": "markdown",
      "source": [
        "redefine the variable names"
      ],
      "metadata": {
        "id": "zOfoQC6lA16h"
      }
    },
    {
      "cell_type": "code",
      "source": [
        "colnames(datsn) <- c(\"Trans.date\",\"House.age\",\"Dist.2.Transp\",\"No.stores\",\"Lat\",\"Long\",\"PriceUnit\")\n",
        "head(datsn)"
      ],
      "metadata": {
        "colab": {
          "base_uri": "https://localhost:8080/",
          "height": 303
        },
        "id": "-WAf9cWSAtOy",
        "outputId": "9c401ff1-ad21-45fd-c8c3-f9c0ce7910a6"
      },
      "execution_count": 36,
      "outputs": [
        {
          "output_type": "display_data",
          "data": {
            "text/html": [
              "<table class=\"dataframe\">\n",
              "<caption>A data.frame: 6 × 7</caption>\n",
              "<thead>\n",
              "\t<tr><th></th><th scope=col>Trans.date</th><th scope=col>House.age</th><th scope=col>Dist.2.Transp</th><th scope=col>No.stores</th><th scope=col>Lat</th><th scope=col>Long</th><th scope=col>PriceUnit</th></tr>\n",
              "\t<tr><th></th><th scope=col>&lt;dbl&gt;</th><th scope=col>&lt;dbl&gt;</th><th scope=col>&lt;dbl&gt;</th><th scope=col>&lt;int&gt;</th><th scope=col>&lt;dbl&gt;</th><th scope=col>&lt;dbl&gt;</th><th scope=col>&lt;dbl&gt;</th></tr>\n",
              "</thead>\n",
              "<tbody>\n",
              "\t<tr><th scope=row>1</th><td>2012.917</td><td>32.0</td><td>  84.87882</td><td>10</td><td>24.98298</td><td>121.5402</td><td>37.9</td></tr>\n",
              "\t<tr><th scope=row>2</th><td>2012.917</td><td>19.5</td><td> 306.59470</td><td> 9</td><td>24.98034</td><td>121.5395</td><td>42.2</td></tr>\n",
              "\t<tr><th scope=row>3</th><td>2013.583</td><td>13.3</td><td> 561.98450</td><td> 5</td><td>24.98746</td><td>121.5439</td><td>47.3</td></tr>\n",
              "\t<tr><th scope=row>4</th><td>2013.500</td><td>13.3</td><td> 561.98450</td><td> 5</td><td>24.98746</td><td>121.5439</td><td>54.8</td></tr>\n",
              "\t<tr><th scope=row>5</th><td>2012.833</td><td> 5.0</td><td> 390.56840</td><td> 5</td><td>24.97937</td><td>121.5425</td><td>43.1</td></tr>\n",
              "\t<tr><th scope=row>6</th><td>2012.667</td><td> 7.1</td><td>2175.03000</td><td> 3</td><td>24.96305</td><td>121.5125</td><td>32.1</td></tr>\n",
              "</tbody>\n",
              "</table>\n"
            ],
            "text/markdown": "\nA data.frame: 6 × 7\n\n| <!--/--> | Trans.date &lt;dbl&gt; | House.age &lt;dbl&gt; | Dist.2.Transp &lt;dbl&gt; | No.stores &lt;int&gt; | Lat &lt;dbl&gt; | Long &lt;dbl&gt; | PriceUnit &lt;dbl&gt; |\n|---|---|---|---|---|---|---|---|\n| 1 | 2012.917 | 32.0 |   84.87882 | 10 | 24.98298 | 121.5402 | 37.9 |\n| 2 | 2012.917 | 19.5 |  306.59470 |  9 | 24.98034 | 121.5395 | 42.2 |\n| 3 | 2013.583 | 13.3 |  561.98450 |  5 | 24.98746 | 121.5439 | 47.3 |\n| 4 | 2013.500 | 13.3 |  561.98450 |  5 | 24.98746 | 121.5439 | 54.8 |\n| 5 | 2012.833 |  5.0 |  390.56840 |  5 | 24.97937 | 121.5425 | 43.1 |\n| 6 | 2012.667 |  7.1 | 2175.03000 |  3 | 24.96305 | 121.5125 | 32.1 |\n\n",
            "text/latex": "A data.frame: 6 × 7\n\\begin{tabular}{r|lllllll}\n  & Trans.date & House.age & Dist.2.Transp & No.stores & Lat & Long & PriceUnit\\\\\n  & <dbl> & <dbl> & <dbl> & <int> & <dbl> & <dbl> & <dbl>\\\\\n\\hline\n\t1 & 2012.917 & 32.0 &   84.87882 & 10 & 24.98298 & 121.5402 & 37.9\\\\\n\t2 & 2012.917 & 19.5 &  306.59470 &  9 & 24.98034 & 121.5395 & 42.2\\\\\n\t3 & 2013.583 & 13.3 &  561.98450 &  5 & 24.98746 & 121.5439 & 47.3\\\\\n\t4 & 2013.500 & 13.3 &  561.98450 &  5 & 24.98746 & 121.5439 & 54.8\\\\\n\t5 & 2012.833 &  5.0 &  390.56840 &  5 & 24.97937 & 121.5425 & 43.1\\\\\n\t6 & 2012.667 &  7.1 & 2175.03000 &  3 & 24.96305 & 121.5125 & 32.1\\\\\n\\end{tabular}\n",
            "text/plain": [
              "  Trans.date House.age Dist.2.Transp No.stores Lat      Long     PriceUnit\n",
              "1 2012.917   32.0        84.87882    10        24.98298 121.5402 37.9     \n",
              "2 2012.917   19.5       306.59470     9        24.98034 121.5395 42.2     \n",
              "3 2013.583   13.3       561.98450     5        24.98746 121.5439 47.3     \n",
              "4 2013.500   13.3       561.98450     5        24.98746 121.5439 54.8     \n",
              "5 2012.833    5.0       390.56840     5        24.97937 121.5425 43.1     \n",
              "6 2012.667    7.1      2175.03000     3        24.96305 121.5125 32.1     "
            ]
          },
          "metadata": {}
        }
      ]
    },
    {
      "cell_type": "code",
      "source": [
        "#missing data"
      ],
      "metadata": {
        "id": "n2y33_pzBgLv"
      },
      "execution_count": null,
      "outputs": []
    },
    {
      "cell_type": "code",
      "source": [
        "is.na(datsn)"
      ],
      "metadata": {
        "colab": {
          "base_uri": "https://localhost:8080/",
          "height": 1000
        },
        "id": "ZJv80n70BhxR",
        "outputId": "02ac7e51-479f-4844-e3bb-89b3679c9da2"
      },
      "execution_count": 37,
      "outputs": [
        {
          "output_type": "display_data",
          "data": {
            "text/html": [
              "<table class=\"dataframe\">\n",
              "<caption>A matrix: 414 × 7 of type lgl</caption>\n",
              "<thead>\n",
              "\t<tr><th scope=col>Trans.date</th><th scope=col>House.age</th><th scope=col>Dist.2.Transp</th><th scope=col>No.stores</th><th scope=col>Lat</th><th scope=col>Long</th><th scope=col>PriceUnit</th></tr>\n",
              "</thead>\n",
              "<tbody>\n",
              "\t<tr><td>FALSE</td><td>FALSE</td><td>FALSE</td><td>FALSE</td><td>FALSE</td><td>FALSE</td><td>FALSE</td></tr>\n",
              "\t<tr><td>FALSE</td><td>FALSE</td><td>FALSE</td><td>FALSE</td><td>FALSE</td><td>FALSE</td><td>FALSE</td></tr>\n",
              "\t<tr><td>FALSE</td><td>FALSE</td><td>FALSE</td><td>FALSE</td><td>FALSE</td><td>FALSE</td><td>FALSE</td></tr>\n",
              "\t<tr><td>FALSE</td><td>FALSE</td><td>FALSE</td><td>FALSE</td><td>FALSE</td><td>FALSE</td><td>FALSE</td></tr>\n",
              "\t<tr><td>FALSE</td><td>FALSE</td><td>FALSE</td><td>FALSE</td><td>FALSE</td><td>FALSE</td><td>FALSE</td></tr>\n",
              "\t<tr><td>FALSE</td><td>FALSE</td><td>FALSE</td><td>FALSE</td><td>FALSE</td><td>FALSE</td><td>FALSE</td></tr>\n",
              "\t<tr><td>FALSE</td><td>FALSE</td><td>FALSE</td><td>FALSE</td><td>FALSE</td><td>FALSE</td><td>FALSE</td></tr>\n",
              "\t<tr><td>FALSE</td><td>FALSE</td><td>FALSE</td><td>FALSE</td><td>FALSE</td><td>FALSE</td><td>FALSE</td></tr>\n",
              "\t<tr><td>FALSE</td><td>FALSE</td><td>FALSE</td><td>FALSE</td><td>FALSE</td><td>FALSE</td><td>FALSE</td></tr>\n",
              "\t<tr><td>FALSE</td><td>FALSE</td><td>FALSE</td><td>FALSE</td><td>FALSE</td><td>FALSE</td><td>FALSE</td></tr>\n",
              "\t<tr><td>FALSE</td><td>FALSE</td><td>FALSE</td><td>FALSE</td><td>FALSE</td><td>FALSE</td><td>FALSE</td></tr>\n",
              "\t<tr><td>FALSE</td><td>FALSE</td><td>FALSE</td><td>FALSE</td><td>FALSE</td><td>FALSE</td><td>FALSE</td></tr>\n",
              "\t<tr><td>FALSE</td><td>FALSE</td><td>FALSE</td><td>FALSE</td><td>FALSE</td><td>FALSE</td><td>FALSE</td></tr>\n",
              "\t<tr><td>FALSE</td><td>FALSE</td><td>FALSE</td><td>FALSE</td><td>FALSE</td><td>FALSE</td><td>FALSE</td></tr>\n",
              "\t<tr><td>FALSE</td><td>FALSE</td><td>FALSE</td><td>FALSE</td><td>FALSE</td><td>FALSE</td><td>FALSE</td></tr>\n",
              "\t<tr><td>FALSE</td><td>FALSE</td><td>FALSE</td><td>FALSE</td><td>FALSE</td><td>FALSE</td><td>FALSE</td></tr>\n",
              "\t<tr><td>FALSE</td><td>FALSE</td><td>FALSE</td><td>FALSE</td><td>FALSE</td><td>FALSE</td><td>FALSE</td></tr>\n",
              "\t<tr><td>FALSE</td><td>FALSE</td><td>FALSE</td><td>FALSE</td><td>FALSE</td><td>FALSE</td><td>FALSE</td></tr>\n",
              "\t<tr><td>FALSE</td><td>FALSE</td><td>FALSE</td><td>FALSE</td><td>FALSE</td><td>FALSE</td><td>FALSE</td></tr>\n",
              "\t<tr><td>FALSE</td><td>FALSE</td><td>FALSE</td><td>FALSE</td><td>FALSE</td><td>FALSE</td><td>FALSE</td></tr>\n",
              "\t<tr><td>FALSE</td><td>FALSE</td><td>FALSE</td><td>FALSE</td><td>FALSE</td><td>FALSE</td><td>FALSE</td></tr>\n",
              "\t<tr><td>FALSE</td><td>FALSE</td><td>FALSE</td><td>FALSE</td><td>FALSE</td><td>FALSE</td><td>FALSE</td></tr>\n",
              "\t<tr><td>FALSE</td><td>FALSE</td><td>FALSE</td><td>FALSE</td><td>FALSE</td><td>FALSE</td><td>FALSE</td></tr>\n",
              "\t<tr><td>FALSE</td><td>FALSE</td><td>FALSE</td><td>FALSE</td><td>FALSE</td><td>FALSE</td><td>FALSE</td></tr>\n",
              "\t<tr><td>FALSE</td><td>FALSE</td><td>FALSE</td><td>FALSE</td><td>FALSE</td><td>FALSE</td><td>FALSE</td></tr>\n",
              "\t<tr><td>FALSE</td><td>FALSE</td><td>FALSE</td><td>FALSE</td><td>FALSE</td><td>FALSE</td><td>FALSE</td></tr>\n",
              "\t<tr><td>FALSE</td><td>FALSE</td><td>FALSE</td><td>FALSE</td><td>FALSE</td><td>FALSE</td><td>FALSE</td></tr>\n",
              "\t<tr><td>FALSE</td><td>FALSE</td><td>FALSE</td><td>FALSE</td><td>FALSE</td><td>FALSE</td><td>FALSE</td></tr>\n",
              "\t<tr><td>FALSE</td><td>FALSE</td><td>FALSE</td><td>FALSE</td><td>FALSE</td><td>FALSE</td><td>FALSE</td></tr>\n",
              "\t<tr><td>FALSE</td><td>FALSE</td><td>FALSE</td><td>FALSE</td><td>FALSE</td><td>FALSE</td><td>FALSE</td></tr>\n",
              "\t<tr><td>⋮</td><td>⋮</td><td>⋮</td><td>⋮</td><td>⋮</td><td>⋮</td><td>⋮</td></tr>\n",
              "\t<tr><td>FALSE</td><td>FALSE</td><td>FALSE</td><td>FALSE</td><td>FALSE</td><td>FALSE</td><td>FALSE</td></tr>\n",
              "\t<tr><td>FALSE</td><td>FALSE</td><td>FALSE</td><td>FALSE</td><td>FALSE</td><td>FALSE</td><td>FALSE</td></tr>\n",
              "\t<tr><td>FALSE</td><td>FALSE</td><td>FALSE</td><td>FALSE</td><td>FALSE</td><td>FALSE</td><td>FALSE</td></tr>\n",
              "\t<tr><td>FALSE</td><td>FALSE</td><td>FALSE</td><td>FALSE</td><td>FALSE</td><td>FALSE</td><td>FALSE</td></tr>\n",
              "\t<tr><td>FALSE</td><td>FALSE</td><td>FALSE</td><td>FALSE</td><td>FALSE</td><td>FALSE</td><td>FALSE</td></tr>\n",
              "\t<tr><td>FALSE</td><td>FALSE</td><td>FALSE</td><td>FALSE</td><td>FALSE</td><td>FALSE</td><td>FALSE</td></tr>\n",
              "\t<tr><td>FALSE</td><td>FALSE</td><td>FALSE</td><td>FALSE</td><td>FALSE</td><td>FALSE</td><td>FALSE</td></tr>\n",
              "\t<tr><td>FALSE</td><td>FALSE</td><td>FALSE</td><td>FALSE</td><td>FALSE</td><td>FALSE</td><td>FALSE</td></tr>\n",
              "\t<tr><td>FALSE</td><td>FALSE</td><td>FALSE</td><td>FALSE</td><td>FALSE</td><td>FALSE</td><td>FALSE</td></tr>\n",
              "\t<tr><td>FALSE</td><td>FALSE</td><td>FALSE</td><td>FALSE</td><td>FALSE</td><td>FALSE</td><td>FALSE</td></tr>\n",
              "\t<tr><td>FALSE</td><td>FALSE</td><td>FALSE</td><td>FALSE</td><td>FALSE</td><td>FALSE</td><td>FALSE</td></tr>\n",
              "\t<tr><td>FALSE</td><td>FALSE</td><td>FALSE</td><td>FALSE</td><td>FALSE</td><td>FALSE</td><td>FALSE</td></tr>\n",
              "\t<tr><td>FALSE</td><td>FALSE</td><td>FALSE</td><td>FALSE</td><td>FALSE</td><td>FALSE</td><td>FALSE</td></tr>\n",
              "\t<tr><td>FALSE</td><td>FALSE</td><td>FALSE</td><td>FALSE</td><td>FALSE</td><td>FALSE</td><td>FALSE</td></tr>\n",
              "\t<tr><td>FALSE</td><td>FALSE</td><td>FALSE</td><td>FALSE</td><td>FALSE</td><td>FALSE</td><td>FALSE</td></tr>\n",
              "\t<tr><td>FALSE</td><td>FALSE</td><td>FALSE</td><td>FALSE</td><td>FALSE</td><td>FALSE</td><td>FALSE</td></tr>\n",
              "\t<tr><td>FALSE</td><td>FALSE</td><td>FALSE</td><td>FALSE</td><td>FALSE</td><td>FALSE</td><td>FALSE</td></tr>\n",
              "\t<tr><td>FALSE</td><td>FALSE</td><td>FALSE</td><td>FALSE</td><td>FALSE</td><td>FALSE</td><td>FALSE</td></tr>\n",
              "\t<tr><td>FALSE</td><td>FALSE</td><td>FALSE</td><td>FALSE</td><td>FALSE</td><td>FALSE</td><td>FALSE</td></tr>\n",
              "\t<tr><td>FALSE</td><td>FALSE</td><td>FALSE</td><td>FALSE</td><td>FALSE</td><td>FALSE</td><td>FALSE</td></tr>\n",
              "\t<tr><td>FALSE</td><td>FALSE</td><td>FALSE</td><td>FALSE</td><td>FALSE</td><td>FALSE</td><td>FALSE</td></tr>\n",
              "\t<tr><td>FALSE</td><td>FALSE</td><td>FALSE</td><td>FALSE</td><td>FALSE</td><td>FALSE</td><td>FALSE</td></tr>\n",
              "\t<tr><td>FALSE</td><td>FALSE</td><td>FALSE</td><td>FALSE</td><td>FALSE</td><td>FALSE</td><td>FALSE</td></tr>\n",
              "\t<tr><td>FALSE</td><td>FALSE</td><td>FALSE</td><td>FALSE</td><td>FALSE</td><td>FALSE</td><td>FALSE</td></tr>\n",
              "\t<tr><td>FALSE</td><td>FALSE</td><td>FALSE</td><td>FALSE</td><td>FALSE</td><td>FALSE</td><td>FALSE</td></tr>\n",
              "\t<tr><td>FALSE</td><td>FALSE</td><td>FALSE</td><td>FALSE</td><td>FALSE</td><td>FALSE</td><td>FALSE</td></tr>\n",
              "\t<tr><td>FALSE</td><td>FALSE</td><td>FALSE</td><td>FALSE</td><td>FALSE</td><td>FALSE</td><td>FALSE</td></tr>\n",
              "\t<tr><td>FALSE</td><td>FALSE</td><td>FALSE</td><td>FALSE</td><td>FALSE</td><td>FALSE</td><td>FALSE</td></tr>\n",
              "\t<tr><td>FALSE</td><td>FALSE</td><td>FALSE</td><td>FALSE</td><td>FALSE</td><td>FALSE</td><td>FALSE</td></tr>\n",
              "\t<tr><td>FALSE</td><td>FALSE</td><td>FALSE</td><td>FALSE</td><td>FALSE</td><td>FALSE</td><td>FALSE</td></tr>\n",
              "</tbody>\n",
              "</table>\n"
            ],
            "text/markdown": "\nA matrix: 414 × 7 of type lgl\n\n| Trans.date | House.age | Dist.2.Transp | No.stores | Lat | Long | PriceUnit |\n|---|---|---|---|---|---|---|\n| FALSE | FALSE | FALSE | FALSE | FALSE | FALSE | FALSE |\n| FALSE | FALSE | FALSE | FALSE | FALSE | FALSE | FALSE |\n| FALSE | FALSE | FALSE | FALSE | FALSE | FALSE | FALSE |\n| FALSE | FALSE | FALSE | FALSE | FALSE | FALSE | FALSE |\n| FALSE | FALSE | FALSE | FALSE | FALSE | FALSE | FALSE |\n| FALSE | FALSE | FALSE | FALSE | FALSE | FALSE | FALSE |\n| FALSE | FALSE | FALSE | FALSE | FALSE | FALSE | FALSE |\n| FALSE | FALSE | FALSE | FALSE | FALSE | FALSE | FALSE |\n| FALSE | FALSE | FALSE | FALSE | FALSE | FALSE | FALSE |\n| FALSE | FALSE | FALSE | FALSE | FALSE | FALSE | FALSE |\n| FALSE | FALSE | FALSE | FALSE | FALSE | FALSE | FALSE |\n| FALSE | FALSE | FALSE | FALSE | FALSE | FALSE | FALSE |\n| FALSE | FALSE | FALSE | FALSE | FALSE | FALSE | FALSE |\n| FALSE | FALSE | FALSE | FALSE | FALSE | FALSE | FALSE |\n| FALSE | FALSE | FALSE | FALSE | FALSE | FALSE | FALSE |\n| FALSE | FALSE | FALSE | FALSE | FALSE | FALSE | FALSE |\n| FALSE | FALSE | FALSE | FALSE | FALSE | FALSE | FALSE |\n| FALSE | FALSE | FALSE | FALSE | FALSE | FALSE | FALSE |\n| FALSE | FALSE | FALSE | FALSE | FALSE | FALSE | FALSE |\n| FALSE | FALSE | FALSE | FALSE | FALSE | FALSE | FALSE |\n| FALSE | FALSE | FALSE | FALSE | FALSE | FALSE | FALSE |\n| FALSE | FALSE | FALSE | FALSE | FALSE | FALSE | FALSE |\n| FALSE | FALSE | FALSE | FALSE | FALSE | FALSE | FALSE |\n| FALSE | FALSE | FALSE | FALSE | FALSE | FALSE | FALSE |\n| FALSE | FALSE | FALSE | FALSE | FALSE | FALSE | FALSE |\n| FALSE | FALSE | FALSE | FALSE | FALSE | FALSE | FALSE |\n| FALSE | FALSE | FALSE | FALSE | FALSE | FALSE | FALSE |\n| FALSE | FALSE | FALSE | FALSE | FALSE | FALSE | FALSE |\n| FALSE | FALSE | FALSE | FALSE | FALSE | FALSE | FALSE |\n| FALSE | FALSE | FALSE | FALSE | FALSE | FALSE | FALSE |\n| ⋮ | ⋮ | ⋮ | ⋮ | ⋮ | ⋮ | ⋮ |\n| FALSE | FALSE | FALSE | FALSE | FALSE | FALSE | FALSE |\n| FALSE | FALSE | FALSE | FALSE | FALSE | FALSE | FALSE |\n| FALSE | FALSE | FALSE | FALSE | FALSE | FALSE | FALSE |\n| FALSE | FALSE | FALSE | FALSE | FALSE | FALSE | FALSE |\n| FALSE | FALSE | FALSE | FALSE | FALSE | FALSE | FALSE |\n| FALSE | FALSE | FALSE | FALSE | FALSE | FALSE | FALSE |\n| FALSE | FALSE | FALSE | FALSE | FALSE | FALSE | FALSE |\n| FALSE | FALSE | FALSE | FALSE | FALSE | FALSE | FALSE |\n| FALSE | FALSE | FALSE | FALSE | FALSE | FALSE | FALSE |\n| FALSE | FALSE | FALSE | FALSE | FALSE | FALSE | FALSE |\n| FALSE | FALSE | FALSE | FALSE | FALSE | FALSE | FALSE |\n| FALSE | FALSE | FALSE | FALSE | FALSE | FALSE | FALSE |\n| FALSE | FALSE | FALSE | FALSE | FALSE | FALSE | FALSE |\n| FALSE | FALSE | FALSE | FALSE | FALSE | FALSE | FALSE |\n| FALSE | FALSE | FALSE | FALSE | FALSE | FALSE | FALSE |\n| FALSE | FALSE | FALSE | FALSE | FALSE | FALSE | FALSE |\n| FALSE | FALSE | FALSE | FALSE | FALSE | FALSE | FALSE |\n| FALSE | FALSE | FALSE | FALSE | FALSE | FALSE | FALSE |\n| FALSE | FALSE | FALSE | FALSE | FALSE | FALSE | FALSE |\n| FALSE | FALSE | FALSE | FALSE | FALSE | FALSE | FALSE |\n| FALSE | FALSE | FALSE | FALSE | FALSE | FALSE | FALSE |\n| FALSE | FALSE | FALSE | FALSE | FALSE | FALSE | FALSE |\n| FALSE | FALSE | FALSE | FALSE | FALSE | FALSE | FALSE |\n| FALSE | FALSE | FALSE | FALSE | FALSE | FALSE | FALSE |\n| FALSE | FALSE | FALSE | FALSE | FALSE | FALSE | FALSE |\n| FALSE | FALSE | FALSE | FALSE | FALSE | FALSE | FALSE |\n| FALSE | FALSE | FALSE | FALSE | FALSE | FALSE | FALSE |\n| FALSE | FALSE | FALSE | FALSE | FALSE | FALSE | FALSE |\n| FALSE | FALSE | FALSE | FALSE | FALSE | FALSE | FALSE |\n| FALSE | FALSE | FALSE | FALSE | FALSE | FALSE | FALSE |\n\n",
            "text/latex": "A matrix: 414 × 7 of type lgl\n\\begin{tabular}{lllllll}\n Trans.date & House.age & Dist.2.Transp & No.stores & Lat & Long & PriceUnit\\\\\n\\hline\n\t FALSE & FALSE & FALSE & FALSE & FALSE & FALSE & FALSE\\\\\n\t FALSE & FALSE & FALSE & FALSE & FALSE & FALSE & FALSE\\\\\n\t FALSE & FALSE & FALSE & FALSE & FALSE & FALSE & FALSE\\\\\n\t FALSE & FALSE & FALSE & FALSE & FALSE & FALSE & FALSE\\\\\n\t FALSE & FALSE & FALSE & FALSE & FALSE & FALSE & FALSE\\\\\n\t FALSE & FALSE & FALSE & FALSE & FALSE & FALSE & FALSE\\\\\n\t FALSE & FALSE & FALSE & FALSE & FALSE & FALSE & FALSE\\\\\n\t FALSE & FALSE & FALSE & FALSE & FALSE & FALSE & FALSE\\\\\n\t FALSE & FALSE & FALSE & FALSE & FALSE & FALSE & FALSE\\\\\n\t FALSE & FALSE & FALSE & FALSE & FALSE & FALSE & FALSE\\\\\n\t FALSE & FALSE & FALSE & FALSE & FALSE & FALSE & FALSE\\\\\n\t FALSE & FALSE & FALSE & FALSE & FALSE & FALSE & FALSE\\\\\n\t FALSE & FALSE & FALSE & FALSE & FALSE & FALSE & FALSE\\\\\n\t FALSE & FALSE & FALSE & FALSE & FALSE & FALSE & FALSE\\\\\n\t FALSE & FALSE & FALSE & FALSE & FALSE & FALSE & FALSE\\\\\n\t FALSE & FALSE & FALSE & FALSE & FALSE & FALSE & FALSE\\\\\n\t FALSE & FALSE & FALSE & FALSE & FALSE & FALSE & FALSE\\\\\n\t FALSE & FALSE & FALSE & FALSE & FALSE & FALSE & FALSE\\\\\n\t FALSE & FALSE & FALSE & FALSE & FALSE & FALSE & FALSE\\\\\n\t FALSE & FALSE & FALSE & FALSE & FALSE & FALSE & FALSE\\\\\n\t FALSE & FALSE & FALSE & FALSE & FALSE & FALSE & FALSE\\\\\n\t FALSE & FALSE & FALSE & FALSE & FALSE & FALSE & FALSE\\\\\n\t FALSE & FALSE & FALSE & FALSE & FALSE & FALSE & FALSE\\\\\n\t FALSE & FALSE & FALSE & FALSE & FALSE & FALSE & FALSE\\\\\n\t FALSE & FALSE & FALSE & FALSE & FALSE & FALSE & FALSE\\\\\n\t FALSE & FALSE & FALSE & FALSE & FALSE & FALSE & FALSE\\\\\n\t FALSE & FALSE & FALSE & FALSE & FALSE & FALSE & FALSE\\\\\n\t FALSE & FALSE & FALSE & FALSE & FALSE & FALSE & FALSE\\\\\n\t FALSE & FALSE & FALSE & FALSE & FALSE & FALSE & FALSE\\\\\n\t FALSE & FALSE & FALSE & FALSE & FALSE & FALSE & FALSE\\\\\n\t ⋮ & ⋮ & ⋮ & ⋮ & ⋮ & ⋮ & ⋮\\\\\n\t FALSE & FALSE & FALSE & FALSE & FALSE & FALSE & FALSE\\\\\n\t FALSE & FALSE & FALSE & FALSE & FALSE & FALSE & FALSE\\\\\n\t FALSE & FALSE & FALSE & FALSE & FALSE & FALSE & FALSE\\\\\n\t FALSE & FALSE & FALSE & FALSE & FALSE & FALSE & FALSE\\\\\n\t FALSE & FALSE & FALSE & FALSE & FALSE & FALSE & FALSE\\\\\n\t FALSE & FALSE & FALSE & FALSE & FALSE & FALSE & FALSE\\\\\n\t FALSE & FALSE & FALSE & FALSE & FALSE & FALSE & FALSE\\\\\n\t FALSE & FALSE & FALSE & FALSE & FALSE & FALSE & FALSE\\\\\n\t FALSE & FALSE & FALSE & FALSE & FALSE & FALSE & FALSE\\\\\n\t FALSE & FALSE & FALSE & FALSE & FALSE & FALSE & FALSE\\\\\n\t FALSE & FALSE & FALSE & FALSE & FALSE & FALSE & FALSE\\\\\n\t FALSE & FALSE & FALSE & FALSE & FALSE & FALSE & FALSE\\\\\n\t FALSE & FALSE & FALSE & FALSE & FALSE & FALSE & FALSE\\\\\n\t FALSE & FALSE & FALSE & FALSE & FALSE & FALSE & FALSE\\\\\n\t FALSE & FALSE & FALSE & FALSE & FALSE & FALSE & FALSE\\\\\n\t FALSE & FALSE & FALSE & FALSE & FALSE & FALSE & FALSE\\\\\n\t FALSE & FALSE & FALSE & FALSE & FALSE & FALSE & FALSE\\\\\n\t FALSE & FALSE & FALSE & FALSE & FALSE & FALSE & FALSE\\\\\n\t FALSE & FALSE & FALSE & FALSE & FALSE & FALSE & FALSE\\\\\n\t FALSE & FALSE & FALSE & FALSE & FALSE & FALSE & FALSE\\\\\n\t FALSE & FALSE & FALSE & FALSE & FALSE & FALSE & FALSE\\\\\n\t FALSE & FALSE & FALSE & FALSE & FALSE & FALSE & FALSE\\\\\n\t FALSE & FALSE & FALSE & FALSE & FALSE & FALSE & FALSE\\\\\n\t FALSE & FALSE & FALSE & FALSE & FALSE & FALSE & FALSE\\\\\n\t FALSE & FALSE & FALSE & FALSE & FALSE & FALSE & FALSE\\\\\n\t FALSE & FALSE & FALSE & FALSE & FALSE & FALSE & FALSE\\\\\n\t FALSE & FALSE & FALSE & FALSE & FALSE & FALSE & FALSE\\\\\n\t FALSE & FALSE & FALSE & FALSE & FALSE & FALSE & FALSE\\\\\n\t FALSE & FALSE & FALSE & FALSE & FALSE & FALSE & FALSE\\\\\n\t FALSE & FALSE & FALSE & FALSE & FALSE & FALSE & FALSE\\\\\n\\end{tabular}\n",
            "text/plain": [
              "      Trans.date House.age Dist.2.Transp No.stores Lat   Long  PriceUnit\n",
              " [1,] FALSE      FALSE     FALSE         FALSE     FALSE FALSE FALSE    \n",
              " [2,] FALSE      FALSE     FALSE         FALSE     FALSE FALSE FALSE    \n",
              " [3,] FALSE      FALSE     FALSE         FALSE     FALSE FALSE FALSE    \n",
              " [4,] FALSE      FALSE     FALSE         FALSE     FALSE FALSE FALSE    \n",
              " [5,] FALSE      FALSE     FALSE         FALSE     FALSE FALSE FALSE    \n",
              " [6,] FALSE      FALSE     FALSE         FALSE     FALSE FALSE FALSE    \n",
              " [7,] FALSE      FALSE     FALSE         FALSE     FALSE FALSE FALSE    \n",
              " [8,] FALSE      FALSE     FALSE         FALSE     FALSE FALSE FALSE    \n",
              " [9,] FALSE      FALSE     FALSE         FALSE     FALSE FALSE FALSE    \n",
              "[10,] FALSE      FALSE     FALSE         FALSE     FALSE FALSE FALSE    \n",
              "[11,] FALSE      FALSE     FALSE         FALSE     FALSE FALSE FALSE    \n",
              "[12,] FALSE      FALSE     FALSE         FALSE     FALSE FALSE FALSE    \n",
              "[13,] FALSE      FALSE     FALSE         FALSE     FALSE FALSE FALSE    \n",
              "[14,] FALSE      FALSE     FALSE         FALSE     FALSE FALSE FALSE    \n",
              "[15,] FALSE      FALSE     FALSE         FALSE     FALSE FALSE FALSE    \n",
              "[16,] FALSE      FALSE     FALSE         FALSE     FALSE FALSE FALSE    \n",
              "[17,] FALSE      FALSE     FALSE         FALSE     FALSE FALSE FALSE    \n",
              "[18,] FALSE      FALSE     FALSE         FALSE     FALSE FALSE FALSE    \n",
              "[19,] FALSE      FALSE     FALSE         FALSE     FALSE FALSE FALSE    \n",
              "[20,] FALSE      FALSE     FALSE         FALSE     FALSE FALSE FALSE    \n",
              "[21,] FALSE      FALSE     FALSE         FALSE     FALSE FALSE FALSE    \n",
              "[22,] FALSE      FALSE     FALSE         FALSE     FALSE FALSE FALSE    \n",
              "[23,] FALSE      FALSE     FALSE         FALSE     FALSE FALSE FALSE    \n",
              "[24,] FALSE      FALSE     FALSE         FALSE     FALSE FALSE FALSE    \n",
              "[25,] FALSE      FALSE     FALSE         FALSE     FALSE FALSE FALSE    \n",
              "[26,] FALSE      FALSE     FALSE         FALSE     FALSE FALSE FALSE    \n",
              "[27,] FALSE      FALSE     FALSE         FALSE     FALSE FALSE FALSE    \n",
              "[28,] FALSE      FALSE     FALSE         FALSE     FALSE FALSE FALSE    \n",
              "[29,] FALSE      FALSE     FALSE         FALSE     FALSE FALSE FALSE    \n",
              "[30,] FALSE      FALSE     FALSE         FALSE     FALSE FALSE FALSE    \n",
              "[31,] ⋮          ⋮         ⋮             ⋮         ⋮     ⋮     ⋮        \n",
              "[32,] FALSE      FALSE     FALSE         FALSE     FALSE FALSE FALSE    \n",
              "[33,] FALSE      FALSE     FALSE         FALSE     FALSE FALSE FALSE    \n",
              "[34,] FALSE      FALSE     FALSE         FALSE     FALSE FALSE FALSE    \n",
              "[35,] FALSE      FALSE     FALSE         FALSE     FALSE FALSE FALSE    \n",
              "[36,] FALSE      FALSE     FALSE         FALSE     FALSE FALSE FALSE    \n",
              "[37,] FALSE      FALSE     FALSE         FALSE     FALSE FALSE FALSE    \n",
              "[38,] FALSE      FALSE     FALSE         FALSE     FALSE FALSE FALSE    \n",
              "[39,] FALSE      FALSE     FALSE         FALSE     FALSE FALSE FALSE    \n",
              "[40,] FALSE      FALSE     FALSE         FALSE     FALSE FALSE FALSE    \n",
              "[41,] FALSE      FALSE     FALSE         FALSE     FALSE FALSE FALSE    \n",
              "[42,] FALSE      FALSE     FALSE         FALSE     FALSE FALSE FALSE    \n",
              "[43,] FALSE      FALSE     FALSE         FALSE     FALSE FALSE FALSE    \n",
              "[44,] FALSE      FALSE     FALSE         FALSE     FALSE FALSE FALSE    \n",
              "[45,] FALSE      FALSE     FALSE         FALSE     FALSE FALSE FALSE    \n",
              "[46,] FALSE      FALSE     FALSE         FALSE     FALSE FALSE FALSE    \n",
              "[47,] FALSE      FALSE     FALSE         FALSE     FALSE FALSE FALSE    \n",
              "[48,] FALSE      FALSE     FALSE         FALSE     FALSE FALSE FALSE    \n",
              "[49,] FALSE      FALSE     FALSE         FALSE     FALSE FALSE FALSE    \n",
              "[50,] FALSE      FALSE     FALSE         FALSE     FALSE FALSE FALSE    \n",
              "[51,] FALSE      FALSE     FALSE         FALSE     FALSE FALSE FALSE    \n",
              "[52,] FALSE      FALSE     FALSE         FALSE     FALSE FALSE FALSE    \n",
              "[53,] FALSE      FALSE     FALSE         FALSE     FALSE FALSE FALSE    \n",
              "[54,] FALSE      FALSE     FALSE         FALSE     FALSE FALSE FALSE    \n",
              "[55,] FALSE      FALSE     FALSE         FALSE     FALSE FALSE FALSE    \n",
              "[56,] FALSE      FALSE     FALSE         FALSE     FALSE FALSE FALSE    \n",
              "[57,] FALSE      FALSE     FALSE         FALSE     FALSE FALSE FALSE    \n",
              "[58,] FALSE      FALSE     FALSE         FALSE     FALSE FALSE FALSE    \n",
              "[59,] FALSE      FALSE     FALSE         FALSE     FALSE FALSE FALSE    \n",
              "[60,] FALSE      FALSE     FALSE         FALSE     FALSE FALSE FALSE    \n",
              "[61,] FALSE      FALSE     FALSE         FALSE     FALSE FALSE FALSE    "
            ]
          },
          "metadata": {}
        }
      ]
    },
    {
      "cell_type": "code",
      "source": [
        "which(is.na(datsn)== TRUE)"
      ],
      "metadata": {
        "colab": {
          "base_uri": "https://localhost:8080/",
          "height": 17
        },
        "id": "wyORKVBcBsKz",
        "outputId": "a37ba9f6-b3da-46ae-c791-082c76d0b5a5"
      },
      "execution_count": 41,
      "outputs": [
        {
          "output_type": "display_data",
          "data": {
            "text/html": [],
            "text/markdown": "",
            "text/latex": "",
            "text/plain": [
              "integer(0)"
            ]
          },
          "metadata": {}
        }
      ]
    },
    {
      "cell_type": "code",
      "source": [
        "# na.omit - ANOTHER opt in the lm fun if any missing data is present"
      ],
      "metadata": {
        "id": "-Or7_t8DB_vA"
      },
      "execution_count": null,
      "outputs": []
    },
    {
      "cell_type": "markdown",
      "source": [
        "which class?\n"
      ],
      "metadata": {
        "id": "VvvmQYTdCM9_"
      }
    },
    {
      "cell_type": "code",
      "source": [
        "class(datsn)"
      ],
      "metadata": {
        "colab": {
          "base_uri": "https://localhost:8080/",
          "height": 34
        },
        "id": "anp_UUpkCMl5",
        "outputId": "36b52452-95d2-4ec2-948b-d609a49a694d"
      },
      "execution_count": 42,
      "outputs": [
        {
          "output_type": "display_data",
          "data": {
            "text/html": [
              "'data.frame'"
            ],
            "text/markdown": "'data.frame'",
            "text/latex": "'data.frame'",
            "text/plain": [
              "[1] \"data.frame\""
            ]
          },
          "metadata": {}
        }
      ]
    },
    {
      "cell_type": "code",
      "source": [
        "apply(datsn ,2,'class')"
      ],
      "metadata": {
        "colab": {
          "base_uri": "https://localhost:8080/",
          "height": 51
        },
        "id": "gSxCLF8ZCIKO",
        "outputId": "734633cd-5b0f-461a-9326-6905da6c38d9"
      },
      "execution_count": 43,
      "outputs": [
        {
          "output_type": "display_data",
          "data": {
            "text/html": [
              "<style>\n",
              ".dl-inline {width: auto; margin:0; padding: 0}\n",
              ".dl-inline>dt, .dl-inline>dd {float: none; width: auto; display: inline-block}\n",
              ".dl-inline>dt::after {content: \":\\0020\"; padding-right: .5ex}\n",
              ".dl-inline>dt:not(:first-of-type) {padding-left: .5ex}\n",
              "</style><dl class=dl-inline><dt>Trans.date</dt><dd>'numeric'</dd><dt>House.age</dt><dd>'numeric'</dd><dt>Dist.2.Transp</dt><dd>'numeric'</dd><dt>No.stores</dt><dd>'numeric'</dd><dt>Lat</dt><dd>'numeric'</dd><dt>Long</dt><dd>'numeric'</dd><dt>PriceUnit</dt><dd>'numeric'</dd></dl>\n"
            ],
            "text/markdown": "Trans.date\n:   'numeric'House.age\n:   'numeric'Dist.2.Transp\n:   'numeric'No.stores\n:   'numeric'Lat\n:   'numeric'Long\n:   'numeric'PriceUnit\n:   'numeric'\n\n",
            "text/latex": "\\begin{description*}\n\\item[Trans.date] 'numeric'\n\\item[House.age] 'numeric'\n\\item[Dist.2.Transp] 'numeric'\n\\item[No.stores] 'numeric'\n\\item[Lat] 'numeric'\n\\item[Long] 'numeric'\n\\item[PriceUnit] 'numeric'\n\\end{description*}\n",
            "text/plain": [
              "   Trans.date     House.age Dist.2.Transp     No.stores           Lat \n",
              "    \"numeric\"     \"numeric\"     \"numeric\"     \"numeric\"     \"numeric\" \n",
              "         Long     PriceUnit \n",
              "    \"numeric\"     \"numeric\" "
            ]
          },
          "metadata": {}
        }
      ]
    },
    {
      "cell_type": "markdown",
      "source": [
        "Simple Linear Regression\n"
      ],
      "metadata": {
        "id": "wLGKfwSLCd1w"
      }
    },
    {
      "cell_type": "code",
      "source": [
        "head(datsn)"
      ],
      "metadata": {
        "colab": {
          "base_uri": "https://localhost:8080/",
          "height": 303
        },
        "id": "BlfOFl8GC5kk",
        "outputId": "ae0166af-3b91-46b3-a62b-070a7299f3b2"
      },
      "execution_count": 46,
      "outputs": [
        {
          "output_type": "display_data",
          "data": {
            "text/html": [
              "<table class=\"dataframe\">\n",
              "<caption>A data.frame: 6 × 7</caption>\n",
              "<thead>\n",
              "\t<tr><th></th><th scope=col>Trans.date</th><th scope=col>House.age</th><th scope=col>Dist.2.Transp</th><th scope=col>No.stores</th><th scope=col>Lat</th><th scope=col>Long</th><th scope=col>PriceUnit</th></tr>\n",
              "\t<tr><th></th><th scope=col>&lt;dbl&gt;</th><th scope=col>&lt;dbl&gt;</th><th scope=col>&lt;dbl&gt;</th><th scope=col>&lt;int&gt;</th><th scope=col>&lt;dbl&gt;</th><th scope=col>&lt;dbl&gt;</th><th scope=col>&lt;dbl&gt;</th></tr>\n",
              "</thead>\n",
              "<tbody>\n",
              "\t<tr><th scope=row>1</th><td>2012.917</td><td>32.0</td><td>  84.87882</td><td>10</td><td>24.98298</td><td>121.5402</td><td>37.9</td></tr>\n",
              "\t<tr><th scope=row>2</th><td>2012.917</td><td>19.5</td><td> 306.59470</td><td> 9</td><td>24.98034</td><td>121.5395</td><td>42.2</td></tr>\n",
              "\t<tr><th scope=row>3</th><td>2013.583</td><td>13.3</td><td> 561.98450</td><td> 5</td><td>24.98746</td><td>121.5439</td><td>47.3</td></tr>\n",
              "\t<tr><th scope=row>4</th><td>2013.500</td><td>13.3</td><td> 561.98450</td><td> 5</td><td>24.98746</td><td>121.5439</td><td>54.8</td></tr>\n",
              "\t<tr><th scope=row>5</th><td>2012.833</td><td> 5.0</td><td> 390.56840</td><td> 5</td><td>24.97937</td><td>121.5425</td><td>43.1</td></tr>\n",
              "\t<tr><th scope=row>6</th><td>2012.667</td><td> 7.1</td><td>2175.03000</td><td> 3</td><td>24.96305</td><td>121.5125</td><td>32.1</td></tr>\n",
              "</tbody>\n",
              "</table>\n"
            ],
            "text/markdown": "\nA data.frame: 6 × 7\n\n| <!--/--> | Trans.date &lt;dbl&gt; | House.age &lt;dbl&gt; | Dist.2.Transp &lt;dbl&gt; | No.stores &lt;int&gt; | Lat &lt;dbl&gt; | Long &lt;dbl&gt; | PriceUnit &lt;dbl&gt; |\n|---|---|---|---|---|---|---|---|\n| 1 | 2012.917 | 32.0 |   84.87882 | 10 | 24.98298 | 121.5402 | 37.9 |\n| 2 | 2012.917 | 19.5 |  306.59470 |  9 | 24.98034 | 121.5395 | 42.2 |\n| 3 | 2013.583 | 13.3 |  561.98450 |  5 | 24.98746 | 121.5439 | 47.3 |\n| 4 | 2013.500 | 13.3 |  561.98450 |  5 | 24.98746 | 121.5439 | 54.8 |\n| 5 | 2012.833 |  5.0 |  390.56840 |  5 | 24.97937 | 121.5425 | 43.1 |\n| 6 | 2012.667 |  7.1 | 2175.03000 |  3 | 24.96305 | 121.5125 | 32.1 |\n\n",
            "text/latex": "A data.frame: 6 × 7\n\\begin{tabular}{r|lllllll}\n  & Trans.date & House.age & Dist.2.Transp & No.stores & Lat & Long & PriceUnit\\\\\n  & <dbl> & <dbl> & <dbl> & <int> & <dbl> & <dbl> & <dbl>\\\\\n\\hline\n\t1 & 2012.917 & 32.0 &   84.87882 & 10 & 24.98298 & 121.5402 & 37.9\\\\\n\t2 & 2012.917 & 19.5 &  306.59470 &  9 & 24.98034 & 121.5395 & 42.2\\\\\n\t3 & 2013.583 & 13.3 &  561.98450 &  5 & 24.98746 & 121.5439 & 47.3\\\\\n\t4 & 2013.500 & 13.3 &  561.98450 &  5 & 24.98746 & 121.5439 & 54.8\\\\\n\t5 & 2012.833 &  5.0 &  390.56840 &  5 & 24.97937 & 121.5425 & 43.1\\\\\n\t6 & 2012.667 &  7.1 & 2175.03000 &  3 & 24.96305 & 121.5125 & 32.1\\\\\n\\end{tabular}\n",
            "text/plain": [
              "  Trans.date House.age Dist.2.Transp No.stores Lat      Long     PriceUnit\n",
              "1 2012.917   32.0        84.87882    10        24.98298 121.5402 37.9     \n",
              "2 2012.917   19.5       306.59470     9        24.98034 121.5395 42.2     \n",
              "3 2013.583   13.3       561.98450     5        24.98746 121.5439 47.3     \n",
              "4 2013.500   13.3       561.98450     5        24.98746 121.5439 54.8     \n",
              "5 2012.833    5.0       390.56840     5        24.97937 121.5425 43.1     \n",
              "6 2012.667    7.1      2175.03000     3        24.96305 121.5125 32.1     "
            ]
          },
          "metadata": {}
        }
      ]
    },
    {
      "cell_type": "code",
      "source": [
        "lm.fit <-lm(PriceUnit ~House.age,data = datsn) #response var,predictor var"
      ],
      "metadata": {
        "id": "FjwImHyDCgj4"
      },
      "execution_count": 48,
      "outputs": []
    },
    {
      "cell_type": "code",
      "source": [
        "names(lm.fit)"
      ],
      "metadata": {
        "colab": {
          "base_uri": "https://localhost:8080/",
          "height": 51
        },
        "id": "FRiQz0xODEfd",
        "outputId": "e6726ae3-c4c2-427a-de57-b176a602b3c8"
      },
      "execution_count": 49,
      "outputs": [
        {
          "output_type": "display_data",
          "data": {
            "text/html": [
              "<style>\n",
              ".list-inline {list-style: none; margin:0; padding: 0}\n",
              ".list-inline>li {display: inline-block}\n",
              ".list-inline>li:not(:last-child)::after {content: \"\\00b7\"; padding: 0 .5ex}\n",
              "</style>\n",
              "<ol class=list-inline><li>'coefficients'</li><li>'residuals'</li><li>'effects'</li><li>'rank'</li><li>'fitted.values'</li><li>'assign'</li><li>'qr'</li><li>'df.residual'</li><li>'xlevels'</li><li>'call'</li><li>'terms'</li><li>'model'</li></ol>\n"
            ],
            "text/markdown": "1. 'coefficients'\n2. 'residuals'\n3. 'effects'\n4. 'rank'\n5. 'fitted.values'\n6. 'assign'\n7. 'qr'\n8. 'df.residual'\n9. 'xlevels'\n10. 'call'\n11. 'terms'\n12. 'model'\n\n\n",
            "text/latex": "\\begin{enumerate*}\n\\item 'coefficients'\n\\item 'residuals'\n\\item 'effects'\n\\item 'rank'\n\\item 'fitted.values'\n\\item 'assign'\n\\item 'qr'\n\\item 'df.residual'\n\\item 'xlevels'\n\\item 'call'\n\\item 'terms'\n\\item 'model'\n\\end{enumerate*}\n",
            "text/plain": [
              " [1] \"coefficients\"  \"residuals\"     \"effects\"       \"rank\"         \n",
              " [5] \"fitted.values\" \"assign\"        \"qr\"            \"df.residual\"  \n",
              " [9] \"xlevels\"       \"call\"          \"terms\"         \"model\"        "
            ]
          },
          "metadata": {}
        }
      ]
    },
    {
      "cell_type": "code",
      "source": [
        "lm.fit$coefficients"
      ],
      "metadata": {
        "colab": {
          "base_uri": "https://localhost:8080/",
          "height": 34
        },
        "id": "OEMAEta1D3h5",
        "outputId": "ff043d08-a061-42a6-c4af-c5f79ea273c3"
      },
      "execution_count": 50,
      "outputs": [
        {
          "output_type": "display_data",
          "data": {
            "text/html": [
              "<style>\n",
              ".dl-inline {width: auto; margin:0; padding: 0}\n",
              ".dl-inline>dt, .dl-inline>dd {float: none; width: auto; display: inline-block}\n",
              ".dl-inline>dt::after {content: \":\\0020\"; padding-right: .5ex}\n",
              ".dl-inline>dt:not(:first-of-type) {padding-left: .5ex}\n",
              "</style><dl class=dl-inline><dt>(Intercept)</dt><dd>42.4346970462629</dd><dt>House.age</dt><dd>-0.251488419085345</dd></dl>\n"
            ],
            "text/markdown": "(Intercept)\n:   42.4346970462629House.age\n:   -0.251488419085345\n\n",
            "text/latex": "\\begin{description*}\n\\item[(Intercept)] 42.4346970462629\n\\item[House.age] -0.251488419085345\n\\end{description*}\n",
            "text/plain": [
              "(Intercept)   House.age \n",
              " 42.4346970  -0.2514884 "
            ]
          },
          "metadata": {}
        }
      ]
    },
    {
      "cell_type": "code",
      "source": [
        "lm.fit$residuals"
      ],
      "metadata": {
        "colab": {
          "base_uri": "https://localhost:8080/",
          "height": 1000
        },
        "id": "aVhLKhAiD9Xk",
        "outputId": "a9f0bafd-1e62-419f-a7ca-75e80e156b39"
      },
      "execution_count": 51,
      "outputs": [
        {
          "output_type": "display_data",
          "data": {
            "text/html": [
              "<style>\n",
              ".dl-inline {width: auto; margin:0; padding: 0}\n",
              ".dl-inline>dt, .dl-inline>dd {float: none; width: auto; display: inline-block}\n",
              ".dl-inline>dt::after {content: \":\\0020\"; padding-right: .5ex}\n",
              ".dl-inline>dt:not(:first-of-type) {padding-left: .5ex}\n",
              "</style><dl class=dl-inline><dt>1</dt><dd>3.51293236446805</dd><dt>2</dt><dd>4.66932712590135</dd><dt>3</dt><dd>8.2100989275722</dd><dt>4</dt><dd>15.7100989275722</dd><dt>5</dt><dd>1.92274504916384</dd><dt>6</dt><dd>-8.54912927075694</dd><dt>7</dt><dd>6.54165341218152</dd><dt>8</dt><dd>9.37051786116962</dd><dt>9</dt><dd>-15.6625141612574</dd><dt>10</dt><dd>-15.8330543446352</dd><dt>11</dt><dd>7.71709993790713</dd><dt>12</dt><dd>17.2496799939748</dd><dt>13</dt><dd>0.134652401846595</dd><dt>14</dt><dd>-13.5043332969218</dd><dt>15</dt><dd>-4.81504991433634</dd><dt>16</dt><dd>17.0434395150839</dd><dt>17</dt><dd>27.6653029537371</dd><dt>18</dt><dd>-0.583352028452281</dd><dt>19</dt><dd>4.11545723627944</dd><dt>20</dt><dd>5.64253558236513</dd><dt>21</dt><dd>-12.0029991603788</dd><dt>22</dt><dd>11.8059313541332</dd><dt>23</dt><dd>-14.1378172857083</dd><dt>24</dt><dd>8.00533598649909</dd><dt>25</dt><dd>6.32424434951678</dd><dt>26</dt><dd>-8.06608636706227</dd><dt>27</dt><dd>14.5449170529017</dd><dt>28</dt><dd>-6.2192174877753</dd><dt>29</dt><dd>9.39388060017574</dd><dt>30</dt><dd>16.4508707292431</dd><dt>31</dt><dd>-13.8211469919524</dd><dt>32</dt><dd>-9.99063984133667</dd><dt>33</dt><dd>1.2967140370717</dd><dt>34</dt><dd>11.0148618686453</dd><dt>35</dt><dd>16.5382246076514</dd><dt>36</dt><dd>-11.6390080209766</dd><dt>37</dt><dd>-15.8378172857083</dd><dt>38</dt><dd>-14.1168360172387</dd><dt>39</dt><dd>6.04491705290168</dd><dt>40</dt><dd>7.83941534291971</dd><dt>41</dt><dd>-23.1144545467022</dd><dt>42</dt><dd>-20.0096916056291</dd><dt>43</dt><dd>1.34403488271808</dd><dt>44</dt><dd>0.31650457027299</dd><dt>45</dt><dd>12.1443216852675</dd><dt>46</dt><dd>5.06977909226075</dd><dt>47</dt><dd>5.0226016478891</dd><dt>48</dt><dd>28.093737198901</dd><dt>49</dt><dd>-22.9486773043975</dd><dt>50</dt><dd>-21.8409375251537</dd><dt>51</dt><dd>7.22260164788911</dd><dt>52</dt><dd>-13.8631095288916</dd><dt>53</dt><dd>-7.36191879362331</dd><dt>54</dt><dd>-0.1899010724278</dd><dt>55</dt><dd>13.3142665010112</dd><dt>56</dt><dd>-20.7625141612574</dd><dt>57</dt><dd>7.91531383500471</dd><dt>58</dt><dd>11.9455124205358</dd><dt>59</dt><dd>-12.2145979479769</dd><dt>60</dt><dd>3.3100989275722</dd><dt>61</dt><dd>-18.3683244363241</dd><dt>62</dt><dd>22.0981915748894</dd><dt>63</dt><dd>-10.409096237995</dd><dt>64</dt><dd>13.219172843359</dd><dt>65</dt><dd>-12.7336497122693</dd><dt>66</dt><dd>11.9499885590595</dd><dt>67</dt><dd>8.51679137282246</dd><dt>68</dt><dd>16.5029545159625</dd><dt>69</dt><dd>1.41055089393161</dd><dt>70</dt><dd>2.70890819230392</dd><dt>71</dt><dd>18.2251265197004</dd><dt>72</dt><dd>7.29314183126687</dd><dt>73</dt><dd>2.03867657401083</dd><dt>74</dt><dd>-18.9641568628851</dd><dt>75</dt><dd>13.6754242035175</dd><dt>76</dt><dd>-9.84138949151314</dd><dt>77</dt><dd>3.393737198901</dd><dt>78</dt><dd>-11.6791844550133</dd><dt>79</dt><dd>-3.0278394372027</dd><dt>80</dt><dd>-11.4079055027267</dd><dt>81</dt><dd>0.832866298944181</dd><dt>82</dt><dd>2.11114626156574</dd><dt>83</dt><dd>8.98495008566367</dd><dt>84</dt><dd>-18.3720400434037</dd><dt>85</dt><dd>5.06277808192583</dd><dt>86</dt><dd>8.36530295373711</dd><dt>87</dt><dd>-14.9820178919093</dd><dt>88</dt><dd>-19.8845427637206</dd><dt>89</dt><dd>7.80354988359668</dd><dt>90</dt><dd>-11.3504634072999</dd><dt>91</dt><dd>2.96530295373711</dd><dt>92</dt><dd>3.05384756741375</dd><dt>93</dt><dd>-15.4540356131048</dd><dt>94</dt><dd>-18.3122164774404</dd><dt>95</dt><dd>8.85117929432773</dd><dt>96</dt><dd>11.3772103064199</dd><dt>97</dt><dd>18.6748288358833</dd><dt>98</dt><dd>-0.692425944239082</dd><dt>99</dt><dd>12.6897130267368</dd><dt>100</dt><dd>21.3748288358833</dd><dt>101</dt><dd>0.166350287730655</dd><dt>102</dt><dd>-6.34079412387901</dd><dt>103</dt><dd>12.241940214731</dd><dt>104</dt><dd>3.26530295373711</dd><dt>105</dt><dd>-3.7110257421721</dd><dt>106</dt><dd>28.5653029537371</dd><dt>107</dt><dd>8.99090376200505</dd><dt>108</dt><dd>-12.7665383334217</dd><dt>109</dt><dd>-0.437960686983046</dd><dt>110</dt><dd>-13.0287433699215</dd><dt>111</dt><dd>11.2023591483284</dd><dt>112</dt><dd>5.33986730927911</dd><dt>113</dt><dd>-16.844961697318</dd><dt>114</dt><dd>-31.1126684437998</dd><dt>115</dt><dd>18.5608485777487</dd><dt>116</dt><dd>9.14596438689522</dd><dt>117</dt><dd>-22.4637048965257</dd><dt>118</dt><dd>-26.0144545467022</dd><dt>119</dt><dd>-5.47204004340365</dd><dt>120</dt><dd>21.3400107105538</dd><dt>121</dt><dd>-7.7899010724278</dd><dt>122</dt><dd>8.98554545329781</dd><dt>123</dt><dd>-2.01281184507451</dd><dt>124</dt><dd>3.06530295373711</dd><dt>125</dt><dd>17.455038302682</dd><dt>126</dt><dd>6.44194021473099</dd><dt>127</dt><dd>30.1727559304314</dd><dt>128</dt><dd>13.5209589462614</dd><dt>129</dt><dd>28.6517746619619</dd><dt>130</dt><dd>8.2476070885229</dd><dt>131</dt><dd>2.50936015866333</dd><dt>132</dt><dd>-10.7287433699215</dd><dt>133</dt><dd>1.7548949014073</dd><dt>134</dt><dd>1.59209449727332</dd><dt>135</dt><dd>8.16501615118765</dd><dt>136</dt><dd>-16.8815659255499</dd><dt>137</dt><dd>7.23227093131004</dd><dt>138</dt><dd>8.38554545329781</dd><dt>139</dt><dd>3.58018714459056</dd><dt>140</dt><dd>3.30950355993806</dd><dt>141</dt><dd>13.0394153429197</dd><dt>142</dt><dd>-12.2521061089276</dd><dt>143</dt><dd>0.0447736516269465</dd><dt>144</dt><dd>1.08554545329781</dd><dt>145</dt><dd>-11.0419848591473</dd><dt>146</dt><dd>3.59342863381633</dd><dt>147</dt><dd>9.76530295373711</dd><dt>148</dt><dd>1.57006589481022</dd><dt>149</dt><dd>6.78971302673677</dd><dt>150</dt><dd>6.04224877981566</dd><dt>151</dt><dd>15.0685883569925</dd><dt>152</dt><dd>3.4975962072553</dd><dt>153</dt><dd>-10.5168360172387</dd><dt>154</dt><dd>0.0999776777918512</dd><dt>155</dt><dd>-17.4845427637206</dd><dt>156</dt><dd>-23.3641568628851</dd><dt>157</dt><dd>-16.4140025803428</dd><dt>158</dt><dd>-2.78573349898883</dd><dt>159</dt><dd>-0.117431384872887</dd><dt>160</dt><dd>-1.13662655044004</dd><dt>161</dt><dd>16.2455124205358</dd><dt>162</dt><dd>1.99388060017574</dd><dt>163</dt><dd>-26.8108823408974</dd><dt>164</dt><dd>15.2029545159625</dd><dt>165</dt><dd>12.7653029537371</dd><dt>166</dt><dd>-8.38930570479366</dd><dt>167</dt><dd>31.1653029537371</dd><dt>168</dt><dd>8.05727637194385</dd><dt>169</dt><dd>1.90638332049264</dd><dt>170</dt><dd>-16.822194325946</dd><dt>171</dt><dd>-21.9989749882146</dd><dt>172</dt><dd>17.2706612624443</dd><dt>173</dt><dd>17.3251265197004</dd><dt>174</dt><dd>3.05177466196187</dd><dt>175</dt><dd>3.8467031558041</dd><dt>176</dt><dd>1.66025321011454</dd><dt>177</dt><dd>-19.7390080209766</dd><dt>178</dt><dd>7.86442078355351</dd><dt>179</dt><dd>-2.44019875624487</dd><dt>180</dt><dd>3.68614082093194</dd><dt>181</dt><dd>-20.1696585728671</dd><dt>182</dt><dd>16.3825686151271</dd><dt>183</dt><dd>-15.4396033886107</dd><dt>184</dt><dd>-19.359393921812</dd><dt>185</dt><dd>-17.0887103371595</dd><dt>186</dt><dd>-13.037960686983</dd><dt>187</dt><dd>-11.4785890873792</dd><dt>188</dt><dd>-18.1964501164033</dd><dt>189</dt><dd>10.6170999379071</dd><dt>190</dt><dd>-17.8354358151718</dd><dt>191</dt><dd>8.7428441474498</dd><dt>192</dt><dd>-1.31504991433634</dd><dt>193</dt><dd>11.2804957096752</dd><dt>194</dt><dd>9.30474061886495</dd><dt>195</dt><dd>-9.31207307616564</dd><dt>196</dt><dd>-4.01207307616564</dd><dt>197</dt><dd>-0.100761091117016</dd><dt>198</dt><dd>14.416504570273</dd><dt>199</dt><dd>5.21590920263885</dd><dt>200</dt><dd>-6.2576078189096</dd><dt>201</dt><dd>⋯</dd><dt>202</dt><dd>-16.9827566608181</dd><dt>203</dt><dd>10.4938806001757</dd><dt>204</dt><dd>6.77156519516317</dd><dt>205</dt><dd>5.40697868812678</dd><dt>206</dt><dd>4.7855454532978</dd><dt>207</dt><dd>5.13391363293773</dd><dt>208</dt><dd>45.220672143712</dd><dt>209</dt><dd>-1.67130127449478</dd><dt>210</dt><dd>13.7608485777487</dd><dt>211</dt><dd>2.15384756741375</dd><dt>212</dt><dd>12.2416534121815</dd><dt>213</dt><dd>6.84194021473099</dd><dt>214</dt><dd>-25.4851381313547</dd><dt>215</dt><dd>5.9135277321023</dd><dt>216</dt><dd>7.15801514085272</dd><dt>217</dt><dd>-15.6385560546172</dd><dt>218</dt><dd>-8.02874336992151</dd><dt>219</dt><dd>-23.6605846570803</dd><dt>220</dt><dd>-18.21936088905</dd><dt>221</dt><dd>-0.0506068085746809</dd><dt>222</dt><dd>-16.5227896935801</dd><dt>223</dt><dd>0.10950355993806</dd><dt>224</dt><dd>20.3706612624443</dd><dt>225</dt><dd>-0.165347598153402</dd><dt>226</dt><dd>1.38435471802953</dd><dt>227</dt><dd>-8.18275666081814</dd><dt>228</dt><dd>-10.8683244363241</dd><dt>229</dt><dd>2.41069429520634</dd><dt>230</dt><dd>-8.5317202080922</dd><dt>231</dt><dd>14.0141230997364</dd><dt>232</dt><dd>-19.5275526346532</dd><dt>233</dt><dd>0.251466096877195</dd><dt>234</dt><dd>2.28971302673677</dd><dt>235</dt><dd>-13.8773983521109</dd><dt>236</dt><dd>-15.3564170836413</dd><dt>237</dt><dd>-22.9079055027267</dd><dt>238</dt><dd>-2.57635101811735</dd><dt>239</dt><dd>-20.6625141612574</dd><dt>240</dt><dd>11.7490846263406</dd><dt>241</dt><dd>-8.88944910606839</dd><dt>242</dt><dd>9.64194021473098</dd><dt>243</dt><dd>-17.1128118450745</dd><dt>244</dt><dd>-12.2629661276168</dd><dt>245</dt><dd>5.81605260391358</dd><dt>246</dt><dd>20.8653029537371</dd><dt>247</dt><dd>-9.18335202845228</dd><dt>248</dt><dd>-7.45939392181202</dd><dt>249</dt><dd>-13.9605846570803</dd><dt>250</dt><dd>14.5639688171941</dd><dt>251</dt><dd>-9.75389221183005</dd><dt>252</dt><dd>6.36382541591937</dd><dt>253</dt><dd>-0.386328866622968</dd><dt>254</dt><dd>-14.2582031865437</dd><dt>255</dt><dd>7.3919510959986</dd><dt>256</dt><dd>1.99090376200505</dd><dt>257</dt><dd>-15.0085008703608</dd><dt>258</dt><dd>77.7813778798588</dd><dt>259</dt><dd>-11.4833520284523</dd><dt>260</dt><dd>1.3346524018466</dd><dt>261</dt><dd>-9.81504991433633</dd><dt>262</dt><dd>5.48123447858411</dd><dt>263</dt><dd>7.64253558236513</dd><dt>264</dt><dd>-3.6312682417328</dd><dt>265</dt><dd>-9.40314256165357</dd><dt>266</dt><dd>1.56530295373711</dd><dt>267</dt><dd>-10.680827156641</dd><dt>268</dt><dd>3.5437263176334</dd><dt>269</dt><dd>3.54729852343823</dd><dt>270</dt><dd>-16.3317202080922</dd><dt>271</dt><dd>-10.5098350069038</dd><dt>272</dt><dd>-4.26237075998271</dd><dt>273</dt><dd>20.435104368206</dd><dt>274</dt><dd>15.3490846263406</dd><dt>275</dt><dd>-4.70611939982426</dd><dt>276</dt><dd>12.7400107105538</dd><dt>277</dt><dd>5.56099197902341</dd><dt>278</dt><dd>4.04641635325463</dd><dt>279</dt><dd>12.8203635786273</dd><dt>280</dt><dd>-13.5336497122693</dd><dt>281</dt><dd>3.23405703421246</dd><dt>282</dt><dd>2.30459721759023</dd><dt>283</dt><dd>-16.0576078189096</dd><dt>284</dt><dd>-5.19109180769607</dd><dt>285</dt><dd>-5.15775122018434</dd><dt>286</dt><dd>-21.5348404475376</dd><dt>287</dt><dd>12.0147184673706</dd><dt>288</dt><dd>-4.90597599854953</dd><dt>289</dt><dd>2.82186287898024</dd><dt>290</dt><dd>-15.0851381313547</dd><dt>291</dt><dd>5.59730940470583</dd><dt>292</dt><dd>-8.00492866455599</dd><dt>293</dt><dd>16.6394153429197</dd><dt>294</dt><dd>11.3867361885661</dd><dt>295</dt><dd>-15.1443663296838</dd><dt>296</dt><dd>14.6897130267368</dd><dt>297</dt><dd>-15.7145979479769</dd><dt>298</dt><dd>-13.6102869732632</dd><dt>299</dt><dd>5.12200628025497</dd><dt>300</dt><dd>44.4679929893583</dd><dt>301</dt><dd>2.45265683214547</dd><dt>302</dt><dd>0.0958101043528875</dd><dt>303</dt><dd>-11.2114777085315</dd><dt>304</dt><dd>2.9100989275722</dd><dt>305</dt><dd>-1.0114777085315</dd><dt>306</dt><dd>9.15087072924306</dd><dt>307</dt><dd>-6.83319774590994</dd><dt>308</dt><dd>-20.4396033886107</dd><dt>309</dt><dd>-0.484542763720553</dd><dt>310</dt><dd>-6.09049644006194</dd><dt>311</dt><dd>7.25787173957799</dd><dt>312</dt><dd>-8.01624064960461</dd><dt>313</dt><dd>4.86977909226075</dd><dt>314</dt><dd>20.696405471987</dd><dt>315</dt><dd>-4.85448757946418</dd><dt>316</dt><dd>-14.8360311828059</dd><dt>317</dt><dd>-19.8144545467022</dd><dt>318</dt><dd>-21.5870676355318</dd><dt>319</dt><dd>-20.3965935176781</dd><dt>320</dt><dd>7.17454203333385</dd><dt>321</dt><dd>-2.0730873773972</dd><dt>322</dt><dd>-12.0900444737025</dd><dt>323</dt><dd>0.930936794767037</dd><dt>324</dt><dd>-5.55210610892763</dd><dt>325</dt><dd>-3.66310952889158</dd><dt>326</dt><dd>1.78718815492548</dd><dt>327</dt><dd>8.39283326618219</dd><dt>328</dt><dd>8.91531383500471</dd><dt>329</dt><dd>-2.1653475981534</dd><dt>330</dt><dd>12.4987869425236</dd><dt>331</dt><dd>12.5901649930962</dd><dt>332</dt><dd>7.46680225409006</dd><dt>333</dt><dd>-4.53469704626289</dd><dt>334</dt><dd>-8.31504991433633</dd><dt>335</dt><dd>-26.8587985541779</dd><dt>336</dt><dd>12.4221496815297</dd><dt>337</dt><dd>6.5269126226028</dd><dt>338</dt><dd>3.18495008566366</dd><dt>339</dt><dd>-12.8287433699215</dd><dt>340</dt><dd>-12.1073101350925</dd><dt>341</dt><dd>-10.103594528013</dd><dt>342</dt><dd>-9.26653833342168</dd><dt>343</dt><dd>19.2209589462614</dd><dt>344</dt><dd>5.45563367031616</dd><dt>345</dt><dd>2.46530295373711</dd><dt>346</dt><dd>2.94194021473099</dd><dt>347</dt><dd>-16.326361899385</dd><dt>348</dt><dd>12.939271941645</dd><dt>349</dt><dd>31.2769235038704</dd><dt>350</dt><dd>1.86575492009651</dd><dt>351</dt><dd>13.6883788901938</dd><dt>352</dt><dd>-0.457155852550199</dd><dt>353</dt><dd>-8.58394739608642</dd><dt>354</dt><dd>-14.063561495251</dd><dt>355</dt><dd>-17.7623707599827</dd><dt>356</dt><dd>5.2423921810904</dd><dt>357</dt><dd>-14.5546309807389</dd><dt>358</dt><dd>3.6639688171941</dd><dt>359</dt><dd>10.296405471987</dd><dt>360</dt><dd>7.59076036073032</dd><dt>361</dt><dd>9.76530295373711</dd><dt>362</dt><dd>8.42334041679797</dd><dt>363</dt><dd>-13.1773983521109</dd><dt>364</dt><dd>-8.23781728570832</dd><dt>365</dt><dd>15.34610778817</dd><dt>366</dt><dd>4.34582098562049</dd><dt>367</dt><dd>27.2653029537371</dd><dt>368</dt><dd>14.4112896628405</dd><dt>369</dt><dd>6.87721030641987</dd><dt>370</dt><dd>-9.03543581517176</dd><dt>371</dt><dd>5.18361594912066</dd><dt>372</dt><dd>-25.4857334989888</dd><dt>373</dt><dd>8.76754102299893</dd><dt>374</dt><dd>12.8653029537371</dd><dt>375</dt><dd>-12.7605846570803</dd><dt>376</dt><dd>-12.5192174877753</dd><dt>377</dt><dd>35.5511792943277</dd><dt>378</dt><dd>4.41412309973644</dd><dt>379</dt><dd>-9.57546884793375</dd><dt>380</dt><dd>3.60385844868135</dd><dt>381</dt><dd>2.11545723627944</dd><dt>382</dt><dd>-9.53617458408063</dd><dt>383</dt><dd>5.39685743834643</dd><dt>384</dt><dd>-1.20447669819658</dd><dt>385</dt><dd>-6.94019875624486</dd><dt>386</dt><dd>-15.7378172857083</dd><dt>387</dt><dd>-1.94079412387901</dd><dt>388</dt><dd>-0.194807414775637</dd><dt>389</dt><dd>-12.8233850612143</dd><dt>390</dt><dd>-10.740794123879</dd><dt>391</dt><dd>5.03629510347428</dd><dt>392</dt><dd>2.88971302673677</dd><dt>393</dt><dd>0.549536592700053</dd><dt>394</dt><dd>-1.45686905000074</dd><dt>395</dt><dd>-18.8269572670191</dd><dt>396</dt><dd>-9.682161293184</dd><dt>397</dt><dd>-23.5893057047937</dd><dt>398</dt><dd>8.97363810061504</dd><dt>399</dt><dd>2.8932852325416</dd><dt>400</dt><dd>12.1023591483284</dd><dt>401</dt><dd>23.0999776777919</dd></dl>\n"
            ],
            "text/markdown": "1\n:   3.512932364468052\n:   4.669327125901353\n:   8.21009892757224\n:   15.71009892757225\n:   1.922745049163846\n:   -8.549129270756947\n:   6.541653412181528\n:   9.370517861169629\n:   -15.662514161257410\n:   -15.833054344635211\n:   7.7170999379071312\n:   17.249679993974813\n:   0.13465240184659514\n:   -13.504333296921815\n:   -4.8150499143363416\n:   17.043439515083917\n:   27.665302953737118\n:   -0.58335202845228119\n:   4.1154572362794420\n:   5.6425355823651321\n:   -12.002999160378822\n:   11.805931354133223\n:   -14.137817285708324\n:   8.0053359864990925\n:   6.3242443495167826\n:   -8.0660863670622727\n:   14.544917052901728\n:   -6.219217487775329\n:   9.3938806001757430\n:   16.450870729243131\n:   -13.821146991952432\n:   -9.9906398413366733\n:   1.296714037071734\n:   11.014861868645335\n:   16.538224607651436\n:   -11.639008020976637\n:   -15.837817285708338\n:   -14.116836017238739\n:   6.0449170529016840\n:   7.8394153429197141\n:   -23.114454546702242\n:   -20.009691605629143\n:   1.3440348827180844\n:   0.3165045702729945\n:   12.144321685267546\n:   5.0697790922607547\n:   5.022601647889148\n:   28.09373719890149\n:   -22.948677304397550\n:   -21.840937525153751\n:   7.2226016478891152\n:   -13.863109528891653\n:   -7.3619187936233154\n:   -0.189901072427855\n:   13.314266501011256\n:   -20.762514161257457\n:   7.9153138350047158\n:   11.945512420535859\n:   -12.214597947976960\n:   3.310098927572261\n:   -18.368324436324162\n:   22.098191574889463\n:   -10.40909623799564\n:   13.21917284335965\n:   -12.733649712269366\n:   11.949988559059567\n:   8.5167913728224668\n:   16.502954515962569\n:   1.4105508939316170\n:   2.7089081923039271\n:   18.225126519700472\n:   7.2931418312668773\n:   2.0386765740108374\n:   -18.964156862885175\n:   13.675424203517576\n:   -9.8413894915131477\n:   3.39373719890178\n:   -11.679184455013379\n:   -3.027839437202780\n:   -11.407905502726781\n:   0.83286629894418182\n:   2.1111462615657483\n:   8.9849500856636784\n:   -18.372040043403785\n:   5.0627780819258386\n:   8.3653029537371187\n:   -14.982017891909388\n:   -19.884542763720689\n:   7.8035498835966890\n:   -11.350463407299991\n:   2.9653029537371192\n:   3.0538475674137593\n:   -15.454035613104894\n:   -18.312216477440495\n:   8.8511792943277396\n:   11.377210306419997\n:   18.674828835883398\n:   -0.69242594423908299\n:   12.6897130267368100\n:   21.3748288358833101\n:   0.166350287730655102\n:   -6.34079412387901103\n:   12.241940214731104\n:   3.26530295373711105\n:   -3.7110257421721106\n:   28.5653029537371107\n:   8.99090376200505108\n:   -12.7665383334217109\n:   -0.437960686983046110\n:   -13.0287433699215111\n:   11.2023591483284112\n:   5.33986730927911113\n:   -16.844961697318114\n:   -31.1126684437998115\n:   18.5608485777487116\n:   9.14596438689522117\n:   -22.4637048965257118\n:   -26.0144545467022119\n:   -5.47204004340365120\n:   21.3400107105538121\n:   -7.7899010724278122\n:   8.98554545329781123\n:   -2.01281184507451124\n:   3.06530295373711125\n:   17.455038302682126\n:   6.44194021473099127\n:   30.1727559304314128\n:   13.5209589462614129\n:   28.6517746619619130\n:   8.2476070885229131\n:   2.50936015866333132\n:   -10.7287433699215133\n:   1.7548949014073134\n:   1.59209449727332135\n:   8.16501615118765136\n:   -16.8815659255499137\n:   7.23227093131004138\n:   8.38554545329781139\n:   3.58018714459056140\n:   3.30950355993806141\n:   13.0394153429197142\n:   -12.2521061089276143\n:   0.0447736516269465144\n:   1.08554545329781145\n:   -11.0419848591473146\n:   3.59342863381633147\n:   9.76530295373711148\n:   1.57006589481022149\n:   6.78971302673677150\n:   6.04224877981566151\n:   15.0685883569925152\n:   3.4975962072553153\n:   -10.5168360172387154\n:   0.0999776777918512155\n:   -17.4845427637206156\n:   -23.3641568628851157\n:   -16.4140025803428158\n:   -2.78573349898883159\n:   -0.117431384872887160\n:   -1.13662655044004161\n:   16.2455124205358162\n:   1.99388060017574163\n:   -26.8108823408974164\n:   15.2029545159625165\n:   12.7653029537371166\n:   -8.38930570479366167\n:   31.1653029537371168\n:   8.05727637194385169\n:   1.90638332049264170\n:   -16.822194325946171\n:   -21.9989749882146172\n:   17.2706612624443173\n:   17.3251265197004174\n:   3.05177466196187175\n:   3.8467031558041176\n:   1.66025321011454177\n:   -19.7390080209766178\n:   7.86442078355351179\n:   -2.44019875624487180\n:   3.68614082093194181\n:   -20.1696585728671182\n:   16.3825686151271183\n:   -15.4396033886107184\n:   -19.359393921812185\n:   -17.0887103371595186\n:   -13.037960686983187\n:   -11.4785890873792188\n:   -18.1964501164033189\n:   10.6170999379071190\n:   -17.8354358151718191\n:   8.7428441474498192\n:   -1.31504991433634193\n:   11.2804957096752194\n:   9.30474061886495195\n:   -9.31207307616564196\n:   -4.01207307616564197\n:   -0.100761091117016198\n:   14.416504570273199\n:   5.21590920263885200\n:   -6.2576078189096201\n:   ⋯202\n:   -16.9827566608181203\n:   10.4938806001757204\n:   6.77156519516317205\n:   5.40697868812678206\n:   4.7855454532978207\n:   5.13391363293773208\n:   45.220672143712209\n:   -1.67130127449478210\n:   13.7608485777487211\n:   2.15384756741375212\n:   12.2416534121815213\n:   6.84194021473099214\n:   -25.4851381313547215\n:   5.9135277321023216\n:   7.15801514085272217\n:   -15.6385560546172218\n:   -8.02874336992151219\n:   -23.6605846570803220\n:   -18.21936088905221\n:   -0.0506068085746809222\n:   -16.5227896935801223\n:   0.10950355993806224\n:   20.3706612624443225\n:   -0.165347598153402226\n:   1.38435471802953227\n:   -8.18275666081814228\n:   -10.8683244363241229\n:   2.41069429520634230\n:   -8.5317202080922231\n:   14.0141230997364232\n:   -19.5275526346532233\n:   0.251466096877195234\n:   2.28971302673677235\n:   -13.8773983521109236\n:   -15.3564170836413237\n:   -22.9079055027267238\n:   -2.57635101811735239\n:   -20.6625141612574240\n:   11.7490846263406241\n:   -8.88944910606839242\n:   9.64194021473098243\n:   -17.1128118450745244\n:   -12.2629661276168245\n:   5.81605260391358246\n:   20.8653029537371247\n:   -9.18335202845228248\n:   -7.45939392181202249\n:   -13.9605846570803250\n:   14.5639688171941251\n:   -9.75389221183005252\n:   6.36382541591937253\n:   -0.386328866622968254\n:   -14.2582031865437255\n:   7.3919510959986256\n:   1.99090376200505257\n:   -15.0085008703608258\n:   77.7813778798588259\n:   -11.4833520284523260\n:   1.3346524018466261\n:   -9.81504991433633262\n:   5.48123447858411263\n:   7.64253558236513264\n:   -3.6312682417328265\n:   -9.40314256165357266\n:   1.56530295373711267\n:   -10.680827156641268\n:   3.5437263176334269\n:   3.54729852343823270\n:   -16.3317202080922271\n:   -10.5098350069038272\n:   -4.26237075998271273\n:   20.435104368206274\n:   15.3490846263406275\n:   -4.70611939982426276\n:   12.7400107105538277\n:   5.56099197902341278\n:   4.04641635325463279\n:   12.8203635786273280\n:   -13.5336497122693281\n:   3.23405703421246282\n:   2.30459721759023283\n:   -16.0576078189096284\n:   -5.19109180769607285\n:   -5.15775122018434286\n:   -21.5348404475376287\n:   12.0147184673706288\n:   -4.90597599854953289\n:   2.82186287898024290\n:   -15.0851381313547291\n:   5.59730940470583292\n:   -8.00492866455599293\n:   16.6394153429197294\n:   11.3867361885661295\n:   -15.1443663296838296\n:   14.6897130267368297\n:   -15.7145979479769298\n:   -13.6102869732632299\n:   5.12200628025497300\n:   44.4679929893583301\n:   2.45265683214547302\n:   0.0958101043528875303\n:   -11.2114777085315304\n:   2.9100989275722305\n:   -1.0114777085315306\n:   9.15087072924306307\n:   -6.83319774590994308\n:   -20.4396033886107309\n:   -0.484542763720553310\n:   -6.09049644006194311\n:   7.25787173957799312\n:   -8.01624064960461313\n:   4.86977909226075314\n:   20.696405471987315\n:   -4.85448757946418316\n:   -14.8360311828059317\n:   -19.8144545467022318\n:   -21.5870676355318319\n:   -20.3965935176781320\n:   7.17454203333385321\n:   -2.0730873773972322\n:   -12.0900444737025323\n:   0.930936794767037324\n:   -5.55210610892763325\n:   -3.66310952889158326\n:   1.78718815492548327\n:   8.39283326618219328\n:   8.91531383500471329\n:   -2.1653475981534330\n:   12.4987869425236331\n:   12.5901649930962332\n:   7.46680225409006333\n:   -4.53469704626289334\n:   -8.31504991433633335\n:   -26.8587985541779336\n:   12.4221496815297337\n:   6.5269126226028338\n:   3.18495008566366339\n:   -12.8287433699215340\n:   -12.1073101350925341\n:   -10.103594528013342\n:   -9.26653833342168343\n:   19.2209589462614344\n:   5.45563367031616345\n:   2.46530295373711346\n:   2.94194021473099347\n:   -16.326361899385348\n:   12.939271941645349\n:   31.2769235038704350\n:   1.86575492009651351\n:   13.6883788901938352\n:   -0.457155852550199353\n:   -8.58394739608642354\n:   -14.063561495251355\n:   -17.7623707599827356\n:   5.2423921810904357\n:   -14.5546309807389358\n:   3.6639688171941359\n:   10.296405471987360\n:   7.59076036073032361\n:   9.76530295373711362\n:   8.42334041679797363\n:   -13.1773983521109364\n:   -8.23781728570832365\n:   15.34610778817366\n:   4.34582098562049367\n:   27.2653029537371368\n:   14.4112896628405369\n:   6.87721030641987370\n:   -9.03543581517176371\n:   5.18361594912066372\n:   -25.4857334989888373\n:   8.76754102299893374\n:   12.8653029537371375\n:   -12.7605846570803376\n:   -12.5192174877753377\n:   35.5511792943277378\n:   4.41412309973644379\n:   -9.57546884793375380\n:   3.60385844868135381\n:   2.11545723627944382\n:   -9.53617458408063383\n:   5.39685743834643384\n:   -1.20447669819658385\n:   -6.94019875624486386\n:   -15.7378172857083387\n:   -1.94079412387901388\n:   -0.194807414775637389\n:   -12.8233850612143390\n:   -10.740794123879391\n:   5.03629510347428392\n:   2.88971302673677393\n:   0.549536592700053394\n:   -1.45686905000074395\n:   -18.8269572670191396\n:   -9.682161293184397\n:   -23.5893057047937398\n:   8.97363810061504399\n:   2.8932852325416400\n:   12.1023591483284401\n:   23.0999776777919\n\n",
            "text/latex": "\\begin{description*}\n\\item[1] 3.51293236446805\n\\item[2] 4.66932712590135\n\\item[3] 8.2100989275722\n\\item[4] 15.7100989275722\n\\item[5] 1.92274504916384\n\\item[6] -8.54912927075694\n\\item[7] 6.54165341218152\n\\item[8] 9.37051786116962\n\\item[9] -15.6625141612574\n\\item[10] -15.8330543446352\n\\item[11] 7.71709993790713\n\\item[12] 17.2496799939748\n\\item[13] 0.134652401846595\n\\item[14] -13.5043332969218\n\\item[15] -4.81504991433634\n\\item[16] 17.0434395150839\n\\item[17] 27.6653029537371\n\\item[18] -0.583352028452281\n\\item[19] 4.11545723627944\n\\item[20] 5.64253558236513\n\\item[21] -12.0029991603788\n\\item[22] 11.8059313541332\n\\item[23] -14.1378172857083\n\\item[24] 8.00533598649909\n\\item[25] 6.32424434951678\n\\item[26] -8.06608636706227\n\\item[27] 14.5449170529017\n\\item[28] -6.2192174877753\n\\item[29] 9.39388060017574\n\\item[30] 16.4508707292431\n\\item[31] -13.8211469919524\n\\item[32] -9.99063984133667\n\\item[33] 1.2967140370717\n\\item[34] 11.0148618686453\n\\item[35] 16.5382246076514\n\\item[36] -11.6390080209766\n\\item[37] -15.8378172857083\n\\item[38] -14.1168360172387\n\\item[39] 6.04491705290168\n\\item[40] 7.83941534291971\n\\item[41] -23.1144545467022\n\\item[42] -20.0096916056291\n\\item[43] 1.34403488271808\n\\item[44] 0.31650457027299\n\\item[45] 12.1443216852675\n\\item[46] 5.06977909226075\n\\item[47] 5.0226016478891\n\\item[48] 28.093737198901\n\\item[49] -22.9486773043975\n\\item[50] -21.8409375251537\n\\item[51] 7.22260164788911\n\\item[52] -13.8631095288916\n\\item[53] -7.36191879362331\n\\item[54] -0.1899010724278\n\\item[55] 13.3142665010112\n\\item[56] -20.7625141612574\n\\item[57] 7.91531383500471\n\\item[58] 11.9455124205358\n\\item[59] -12.2145979479769\n\\item[60] 3.3100989275722\n\\item[61] -18.3683244363241\n\\item[62] 22.0981915748894\n\\item[63] -10.409096237995\n\\item[64] 13.219172843359\n\\item[65] -12.7336497122693\n\\item[66] 11.9499885590595\n\\item[67] 8.51679137282246\n\\item[68] 16.5029545159625\n\\item[69] 1.41055089393161\n\\item[70] 2.70890819230392\n\\item[71] 18.2251265197004\n\\item[72] 7.29314183126687\n\\item[73] 2.03867657401083\n\\item[74] -18.9641568628851\n\\item[75] 13.6754242035175\n\\item[76] -9.84138949151314\n\\item[77] 3.393737198901\n\\item[78] -11.6791844550133\n\\item[79] -3.0278394372027\n\\item[80] -11.4079055027267\n\\item[81] 0.832866298944181\n\\item[82] 2.11114626156574\n\\item[83] 8.98495008566367\n\\item[84] -18.3720400434037\n\\item[85] 5.06277808192583\n\\item[86] 8.36530295373711\n\\item[87] -14.9820178919093\n\\item[88] -19.8845427637206\n\\item[89] 7.80354988359668\n\\item[90] -11.3504634072999\n\\item[91] 2.96530295373711\n\\item[92] 3.05384756741375\n\\item[93] -15.4540356131048\n\\item[94] -18.3122164774404\n\\item[95] 8.85117929432773\n\\item[96] 11.3772103064199\n\\item[97] 18.6748288358833\n\\item[98] -0.692425944239082\n\\item[99] 12.6897130267368\n\\item[100] 21.3748288358833\n\\item[101] 0.166350287730655\n\\item[102] -6.34079412387901\n\\item[103] 12.241940214731\n\\item[104] 3.26530295373711\n\\item[105] -3.7110257421721\n\\item[106] 28.5653029537371\n\\item[107] 8.99090376200505\n\\item[108] -12.7665383334217\n\\item[109] -0.437960686983046\n\\item[110] -13.0287433699215\n\\item[111] 11.2023591483284\n\\item[112] 5.33986730927911\n\\item[113] -16.844961697318\n\\item[114] -31.1126684437998\n\\item[115] 18.5608485777487\n\\item[116] 9.14596438689522\n\\item[117] -22.4637048965257\n\\item[118] -26.0144545467022\n\\item[119] -5.47204004340365\n\\item[120] 21.3400107105538\n\\item[121] -7.7899010724278\n\\item[122] 8.98554545329781\n\\item[123] -2.01281184507451\n\\item[124] 3.06530295373711\n\\item[125] 17.455038302682\n\\item[126] 6.44194021473099\n\\item[127] 30.1727559304314\n\\item[128] 13.5209589462614\n\\item[129] 28.6517746619619\n\\item[130] 8.2476070885229\n\\item[131] 2.50936015866333\n\\item[132] -10.7287433699215\n\\item[133] 1.7548949014073\n\\item[134] 1.59209449727332\n\\item[135] 8.16501615118765\n\\item[136] -16.8815659255499\n\\item[137] 7.23227093131004\n\\item[138] 8.38554545329781\n\\item[139] 3.58018714459056\n\\item[140] 3.30950355993806\n\\item[141] 13.0394153429197\n\\item[142] -12.2521061089276\n\\item[143] 0.0447736516269465\n\\item[144] 1.08554545329781\n\\item[145] -11.0419848591473\n\\item[146] 3.59342863381633\n\\item[147] 9.76530295373711\n\\item[148] 1.57006589481022\n\\item[149] 6.78971302673677\n\\item[150] 6.04224877981566\n\\item[151] 15.0685883569925\n\\item[152] 3.4975962072553\n\\item[153] -10.5168360172387\n\\item[154] 0.0999776777918512\n\\item[155] -17.4845427637206\n\\item[156] -23.3641568628851\n\\item[157] -16.4140025803428\n\\item[158] -2.78573349898883\n\\item[159] -0.117431384872887\n\\item[160] -1.13662655044004\n\\item[161] 16.2455124205358\n\\item[162] 1.99388060017574\n\\item[163] -26.8108823408974\n\\item[164] 15.2029545159625\n\\item[165] 12.7653029537371\n\\item[166] -8.38930570479366\n\\item[167] 31.1653029537371\n\\item[168] 8.05727637194385\n\\item[169] 1.90638332049264\n\\item[170] -16.822194325946\n\\item[171] -21.9989749882146\n\\item[172] 17.2706612624443\n\\item[173] 17.3251265197004\n\\item[174] 3.05177466196187\n\\item[175] 3.8467031558041\n\\item[176] 1.66025321011454\n\\item[177] -19.7390080209766\n\\item[178] 7.86442078355351\n\\item[179] -2.44019875624487\n\\item[180] 3.68614082093194\n\\item[181] -20.1696585728671\n\\item[182] 16.3825686151271\n\\item[183] -15.4396033886107\n\\item[184] -19.359393921812\n\\item[185] -17.0887103371595\n\\item[186] -13.037960686983\n\\item[187] -11.4785890873792\n\\item[188] -18.1964501164033\n\\item[189] 10.6170999379071\n\\item[190] -17.8354358151718\n\\item[191] 8.7428441474498\n\\item[192] -1.31504991433634\n\\item[193] 11.2804957096752\n\\item[194] 9.30474061886495\n\\item[195] -9.31207307616564\n\\item[196] -4.01207307616564\n\\item[197] -0.100761091117016\n\\item[198] 14.416504570273\n\\item[199] 5.21590920263885\n\\item[200] -6.2576078189096\n\\item[201] ⋯\n\\item[202] -16.9827566608181\n\\item[203] 10.4938806001757\n\\item[204] 6.77156519516317\n\\item[205] 5.40697868812678\n\\item[206] 4.7855454532978\n\\item[207] 5.13391363293773\n\\item[208] 45.220672143712\n\\item[209] -1.67130127449478\n\\item[210] 13.7608485777487\n\\item[211] 2.15384756741375\n\\item[212] 12.2416534121815\n\\item[213] 6.84194021473099\n\\item[214] -25.4851381313547\n\\item[215] 5.9135277321023\n\\item[216] 7.15801514085272\n\\item[217] -15.6385560546172\n\\item[218] -8.02874336992151\n\\item[219] -23.6605846570803\n\\item[220] -18.21936088905\n\\item[221] -0.0506068085746809\n\\item[222] -16.5227896935801\n\\item[223] 0.10950355993806\n\\item[224] 20.3706612624443\n\\item[225] -0.165347598153402\n\\item[226] 1.38435471802953\n\\item[227] -8.18275666081814\n\\item[228] -10.8683244363241\n\\item[229] 2.41069429520634\n\\item[230] -8.5317202080922\n\\item[231] 14.0141230997364\n\\item[232] -19.5275526346532\n\\item[233] 0.251466096877195\n\\item[234] 2.28971302673677\n\\item[235] -13.8773983521109\n\\item[236] -15.3564170836413\n\\item[237] -22.9079055027267\n\\item[238] -2.57635101811735\n\\item[239] -20.6625141612574\n\\item[240] 11.7490846263406\n\\item[241] -8.88944910606839\n\\item[242] 9.64194021473098\n\\item[243] -17.1128118450745\n\\item[244] -12.2629661276168\n\\item[245] 5.81605260391358\n\\item[246] 20.8653029537371\n\\item[247] -9.18335202845228\n\\item[248] -7.45939392181202\n\\item[249] -13.9605846570803\n\\item[250] 14.5639688171941\n\\item[251] -9.75389221183005\n\\item[252] 6.36382541591937\n\\item[253] -0.386328866622968\n\\item[254] -14.2582031865437\n\\item[255] 7.3919510959986\n\\item[256] 1.99090376200505\n\\item[257] -15.0085008703608\n\\item[258] 77.7813778798588\n\\item[259] -11.4833520284523\n\\item[260] 1.3346524018466\n\\item[261] -9.81504991433633\n\\item[262] 5.48123447858411\n\\item[263] 7.64253558236513\n\\item[264] -3.6312682417328\n\\item[265] -9.40314256165357\n\\item[266] 1.56530295373711\n\\item[267] -10.680827156641\n\\item[268] 3.5437263176334\n\\item[269] 3.54729852343823\n\\item[270] -16.3317202080922\n\\item[271] -10.5098350069038\n\\item[272] -4.26237075998271\n\\item[273] 20.435104368206\n\\item[274] 15.3490846263406\n\\item[275] -4.70611939982426\n\\item[276] 12.7400107105538\n\\item[277] 5.56099197902341\n\\item[278] 4.04641635325463\n\\item[279] 12.8203635786273\n\\item[280] -13.5336497122693\n\\item[281] 3.23405703421246\n\\item[282] 2.30459721759023\n\\item[283] -16.0576078189096\n\\item[284] -5.19109180769607\n\\item[285] -5.15775122018434\n\\item[286] -21.5348404475376\n\\item[287] 12.0147184673706\n\\item[288] -4.90597599854953\n\\item[289] 2.82186287898024\n\\item[290] -15.0851381313547\n\\item[291] 5.59730940470583\n\\item[292] -8.00492866455599\n\\item[293] 16.6394153429197\n\\item[294] 11.3867361885661\n\\item[295] -15.1443663296838\n\\item[296] 14.6897130267368\n\\item[297] -15.7145979479769\n\\item[298] -13.6102869732632\n\\item[299] 5.12200628025497\n\\item[300] 44.4679929893583\n\\item[301] 2.45265683214547\n\\item[302] 0.0958101043528875\n\\item[303] -11.2114777085315\n\\item[304] 2.9100989275722\n\\item[305] -1.0114777085315\n\\item[306] 9.15087072924306\n\\item[307] -6.83319774590994\n\\item[308] -20.4396033886107\n\\item[309] -0.484542763720553\n\\item[310] -6.09049644006194\n\\item[311] 7.25787173957799\n\\item[312] -8.01624064960461\n\\item[313] 4.86977909226075\n\\item[314] 20.696405471987\n\\item[315] -4.85448757946418\n\\item[316] -14.8360311828059\n\\item[317] -19.8144545467022\n\\item[318] -21.5870676355318\n\\item[319] -20.3965935176781\n\\item[320] 7.17454203333385\n\\item[321] -2.0730873773972\n\\item[322] -12.0900444737025\n\\item[323] 0.930936794767037\n\\item[324] -5.55210610892763\n\\item[325] -3.66310952889158\n\\item[326] 1.78718815492548\n\\item[327] 8.39283326618219\n\\item[328] 8.91531383500471\n\\item[329] -2.1653475981534\n\\item[330] 12.4987869425236\n\\item[331] 12.5901649930962\n\\item[332] 7.46680225409006\n\\item[333] -4.53469704626289\n\\item[334] -8.31504991433633\n\\item[335] -26.8587985541779\n\\item[336] 12.4221496815297\n\\item[337] 6.5269126226028\n\\item[338] 3.18495008566366\n\\item[339] -12.8287433699215\n\\item[340] -12.1073101350925\n\\item[341] -10.103594528013\n\\item[342] -9.26653833342168\n\\item[343] 19.2209589462614\n\\item[344] 5.45563367031616\n\\item[345] 2.46530295373711\n\\item[346] 2.94194021473099\n\\item[347] -16.326361899385\n\\item[348] 12.939271941645\n\\item[349] 31.2769235038704\n\\item[350] 1.86575492009651\n\\item[351] 13.6883788901938\n\\item[352] -0.457155852550199\n\\item[353] -8.58394739608642\n\\item[354] -14.063561495251\n\\item[355] -17.7623707599827\n\\item[356] 5.2423921810904\n\\item[357] -14.5546309807389\n\\item[358] 3.6639688171941\n\\item[359] 10.296405471987\n\\item[360] 7.59076036073032\n\\item[361] 9.76530295373711\n\\item[362] 8.42334041679797\n\\item[363] -13.1773983521109\n\\item[364] -8.23781728570832\n\\item[365] 15.34610778817\n\\item[366] 4.34582098562049\n\\item[367] 27.2653029537371\n\\item[368] 14.4112896628405\n\\item[369] 6.87721030641987\n\\item[370] -9.03543581517176\n\\item[371] 5.18361594912066\n\\item[372] -25.4857334989888\n\\item[373] 8.76754102299893\n\\item[374] 12.8653029537371\n\\item[375] -12.7605846570803\n\\item[376] -12.5192174877753\n\\item[377] 35.5511792943277\n\\item[378] 4.41412309973644\n\\item[379] -9.57546884793375\n\\item[380] 3.60385844868135\n\\item[381] 2.11545723627944\n\\item[382] -9.53617458408063\n\\item[383] 5.39685743834643\n\\item[384] -1.20447669819658\n\\item[385] -6.94019875624486\n\\item[386] -15.7378172857083\n\\item[387] -1.94079412387901\n\\item[388] -0.194807414775637\n\\item[389] -12.8233850612143\n\\item[390] -10.740794123879\n\\item[391] 5.03629510347428\n\\item[392] 2.88971302673677\n\\item[393] 0.549536592700053\n\\item[394] -1.45686905000074\n\\item[395] -18.8269572670191\n\\item[396] -9.682161293184\n\\item[397] -23.5893057047937\n\\item[398] 8.97363810061504\n\\item[399] 2.8932852325416\n\\item[400] 12.1023591483284\n\\item[401] 23.0999776777919\n\\end{description*}\n",
            "text/plain": [
              "           1            2            3            4            5            6 \n",
              "  3.51293236   4.66932713   8.21009893  15.71009893   1.92274505  -8.54912927 \n",
              "           7            8            9           10           11           12 \n",
              "  6.54165341   9.37051786 -15.66251416 -15.83305434   7.71709994  17.24967999 \n",
              "          13           14           15           16           17           18 \n",
              "  0.13465240 -13.50433330  -4.81504991  17.04343952  27.66530295  -0.58335203 \n",
              "          19           20           21           22           23           24 \n",
              "  4.11545724   5.64253558 -12.00299916  11.80593135 -14.13781729   8.00533599 \n",
              "          25           26           27           28           29           30 \n",
              "  6.32424435  -8.06608637  14.54491705  -6.21921749   9.39388060  16.45087073 \n",
              "          31           32           33           34           35           36 \n",
              "-13.82114699  -9.99063984   1.29671404  11.01486187  16.53822461 -11.63900802 \n",
              "          37           38           39           40           41           42 \n",
              "-15.83781729 -14.11683602   6.04491705   7.83941534 -23.11445455 -20.00969161 \n",
              "          43           44           45           46           47           48 \n",
              "  1.34403488   0.31650457  12.14432169   5.06977909   5.02260165  28.09373720 \n",
              "          49           50           51           52           53           54 \n",
              "-22.94867730 -21.84093753   7.22260165 -13.86310953  -7.36191879  -0.18990107 \n",
              "          55           56           57           58           59           60 \n",
              " 13.31426650 -20.76251416   7.91531384  11.94551242 -12.21459795   3.31009893 \n",
              "          61           62           63           64           65           66 \n",
              "-18.36832444  22.09819157 -10.40909624  13.21917284 -12.73364971  11.94998856 \n",
              "          67           68           69           70           71           72 \n",
              "  8.51679137  16.50295452   1.41055089   2.70890819  18.22512652   7.29314183 \n",
              "          73           74           75           76           77           78 \n",
              "  2.03867657 -18.96415686  13.67542420  -9.84138949   3.39373720 -11.67918446 \n",
              "          79           80           81           82           83           84 \n",
              " -3.02783944 -11.40790550   0.83286630   2.11114626   8.98495009 -18.37204004 \n",
              "          85           86           87           88           89           90 \n",
              "  5.06277808   8.36530295 -14.98201789 -19.88454276   7.80354988 -11.35046341 \n",
              "          91           92           93           94           95           96 \n",
              "  2.96530295   3.05384757 -15.45403561 -18.31221648   8.85117929  11.37721031 \n",
              "          97           98           99          100          101          102 \n",
              " 18.67482884  -0.69242594  12.68971303  21.37482884   0.16635029  -6.34079412 \n",
              "         103          104          105          106          107          108 \n",
              " 12.24194021   3.26530295  -3.71102574  28.56530295   8.99090376 -12.76653833 \n",
              "         109          110          111          112          113          114 \n",
              " -0.43796069 -13.02874337  11.20235915   5.33986731 -16.84496170 -31.11266844 \n",
              "         115          116          117          118          119          120 \n",
              " 18.56084858   9.14596439 -22.46370490 -26.01445455  -5.47204004  21.34001071 \n",
              "         121          122          123          124          125          126 \n",
              " -7.78990107   8.98554545  -2.01281185   3.06530295  17.45503830   6.44194021 \n",
              "         127          128          129          130          131          132 \n",
              " 30.17275593  13.52095895  28.65177466   8.24760709   2.50936016 -10.72874337 \n",
              "         133          134          135          136          137          138 \n",
              "  1.75489490   1.59209450   8.16501615 -16.88156593   7.23227093   8.38554545 \n",
              "         139          140          141          142          143          144 \n",
              "  3.58018714   3.30950356  13.03941534 -12.25210611   0.04477365   1.08554545 \n",
              "         145          146          147          148          149          150 \n",
              "-11.04198486   3.59342863   9.76530295   1.57006589   6.78971303   6.04224878 \n",
              "         151          152          153          154          155          156 \n",
              " 15.06858836   3.49759621 -10.51683602   0.09997768 -17.48454276 -23.36415686 \n",
              "         157          158          159          160          161          162 \n",
              "-16.41400258  -2.78573350  -0.11743138  -1.13662655  16.24551242   1.99388060 \n",
              "         163          164          165          166          167          168 \n",
              "-26.81088234  15.20295452  12.76530295  -8.38930570  31.16530295   8.05727637 \n",
              "         169          170          171          172          173          174 \n",
              "  1.90638332 -16.82219433 -21.99897499  17.27066126  17.32512652   3.05177466 \n",
              "         175          176          177          178          179          180 \n",
              "  3.84670316   1.66025321 -19.73900802   7.86442078  -2.44019876   3.68614082 \n",
              "         181          182          183          184          185          186 \n",
              "-20.16965857  16.38256862 -15.43960339 -19.35939392 -17.08871034 -13.03796069 \n",
              "         187          188          189          190          191          192 \n",
              "-11.47858909 -18.19645012  10.61709994 -17.83543582   8.74284415  -1.31504991 \n",
              "         193          194          195          196          197          198 \n",
              " 11.28049571   9.30474062  -9.31207308  -4.01207308  -0.10076109  14.41650457 \n",
              "         199          200          201          202          203          204 \n",
              "  5.21590920  -6.25760782 -12.55879855   6.75980124  -1.30269060   7.58852229 \n",
              "         205          206          207          208          209          210 \n",
              "-11.30790550 -17.81564528   7.14834586   1.44760709 -13.34258023   7.21709994 \n",
              "         211          212          213          214          215          216 \n",
              " 11.07304273   1.06530295  -6.90850087  17.12453115 -16.98275666  10.49388060 \n",
              "         217          218          219          220          221          222 \n",
              "  6.77156520   5.40697869   4.78554545   5.13391363  45.22067214  -1.67130127 \n",
              "         223          224          225          226          227          228 \n",
              " 13.76084858   2.15384757  12.24165341   6.84194021 -25.48513813   5.91352773 \n",
              "         229          230          231          232          233          234 \n",
              "  7.15801514 -15.63855605  -8.02874337 -23.66058466 -18.21936089  -0.05060681 \n",
              "         235          236          237          238          239          240 \n",
              "-16.52278969   0.10950356  20.37066126  -0.16534760   1.38435472  -8.18275666 \n",
              "         241          242          243          244          245          246 \n",
              "-10.86832444   2.41069430  -8.53172021  14.01412310 -19.52755263   0.25146610 \n",
              "         247          248          249          250          251          252 \n",
              "  2.28971303 -13.87739835 -15.35641708 -22.90790550  -2.57635102 -20.66251416 \n",
              "         253          254          255          256          257          258 \n",
              " 11.74908463  -8.88944911   9.64194021 -17.11281185 -12.26296613   5.81605260 \n",
              "         259          260          261          262          263          264 \n",
              " 20.86530295  -9.18335203  -7.45939392 -13.96058466  14.56396882  -9.75389221 \n",
              "         265          266          267          268          269          270 \n",
              "  6.36382542  -0.38632887 -14.25820319   7.39195110   1.99090376 -15.00850087 \n",
              "         271          272          273          274          275          276 \n",
              " 77.78137788 -11.48335203   1.33465240  -9.81504991   5.48123448   7.64253558 \n",
              "         277          278          279          280          281          282 \n",
              " -3.63126824  -9.40314256   1.56530295 -10.68082716   3.54372632   3.54729852 \n",
              "         283          284          285          286          287          288 \n",
              "-16.33172021 -10.50983501  -4.26237076  20.43510437  15.34908463  -4.70611940 \n",
              "         289          290          291          292          293          294 \n",
              " 12.74001071   5.56099198   4.04641635  12.82036358 -13.53364971   3.23405703 \n",
              "         295          296          297          298          299          300 \n",
              "  2.30459722 -16.05760782  -5.19109181  -5.15775122 -21.53484045  12.01471847 \n",
              "         301          302          303          304          305          306 \n",
              " -4.90597600   2.82186288 -15.08513813   5.59730940  -8.00492866  16.63941534 \n",
              "         307          308          309          310          311          312 \n",
              " 11.38673619 -15.14436633  14.68971303 -15.71459795 -13.61028697   5.12200628 \n",
              "         313          314          315          316          317          318 \n",
              " 44.46799299   2.45265683   0.09581010 -11.21147771   2.91009893  -1.01147771 \n",
              "         319          320          321          322          323          324 \n",
              "  9.15087073  -6.83319775 -20.43960339  -0.48454276  -6.09049644   7.25787174 \n",
              "         325          326          327          328          329          330 \n",
              " -8.01624065   4.86977909  20.69640547  -4.85448758 -14.83603118 -19.81445455 \n",
              "         331          332          333          334          335          336 \n",
              "-21.58706764 -20.39659352   7.17454203  -2.07308738 -12.09004447   0.93093679 \n",
              "         337          338          339          340          341          342 \n",
              " -5.55210611  -3.66310953   1.78718815   8.39283327   8.91531384  -2.16534760 \n",
              "         343          344          345          346          347          348 \n",
              " 12.49878694  12.59016499   7.46680225  -4.53469705  -8.31504991 -26.85879855 \n",
              "         349          350          351          352          353          354 \n",
              " 12.42214968   6.52691262   3.18495009 -12.82874337 -12.10731014 -10.10359453 \n",
              "         355          356          357          358          359          360 \n",
              " -9.26653833  19.22095895   5.45563367   2.46530295   2.94194021 -16.32636190 \n",
              "         361          362          363          364          365          366 \n",
              " 12.93927194  31.27692350   1.86575492  13.68837889  -0.45715585  -8.58394740 \n",
              "         367          368          369          370          371          372 \n",
              "-14.06356150 -17.76237076   5.24239218 -14.55463098   3.66396882  10.29640547 \n",
              "         373          374          375          376          377          378 \n",
              "  7.59076036   9.76530295   8.42334042 -13.17739835  -8.23781729  15.34610779 \n",
              "         379          380          381          382          383          384 \n",
              "  4.34582099  27.26530295  14.41128966   6.87721031  -9.03543582   5.18361595 \n",
              "         385          386          387          388          389          390 \n",
              "-25.48573350   8.76754102  12.86530295 -12.76058466 -12.51921749  35.55117929 \n",
              "         391          392          393          394          395          396 \n",
              "  4.41412310  -9.57546885   3.60385845   2.11545724  -9.53617458   5.39685744 \n",
              "         397          398          399          400          401          402 \n",
              " -1.20447670  -6.94019876 -15.73781729  -1.94079412  -0.19480741 -12.82338506 \n",
              "         403          404          405          406          407          408 \n",
              "-10.74079412   5.03629510   2.88971303   0.54953659  -1.45686905 -18.82695727 \n",
              "         409          410          411          412          413          414 \n",
              " -9.68216129 -23.58930570   8.97363810   2.89328523  12.10235915  23.09997768 "
            ]
          },
          "metadata": {}
        }
      ]
    },
    {
      "cell_type": "code",
      "source": [
        "coef(lm.fit) #coefficents"
      ],
      "metadata": {
        "colab": {
          "base_uri": "https://localhost:8080/",
          "height": 34
        },
        "id": "JDg-x62mEFWt",
        "outputId": "f5b7b554-4138-4397-e97d-478bc8a4a2b5"
      },
      "execution_count": 52,
      "outputs": [
        {
          "output_type": "display_data",
          "data": {
            "text/html": [
              "<style>\n",
              ".dl-inline {width: auto; margin:0; padding: 0}\n",
              ".dl-inline>dt, .dl-inline>dd {float: none; width: auto; display: inline-block}\n",
              ".dl-inline>dt::after {content: \":\\0020\"; padding-right: .5ex}\n",
              ".dl-inline>dt:not(:first-of-type) {padding-left: .5ex}\n",
              "</style><dl class=dl-inline><dt>(Intercept)</dt><dd>42.4346970462629</dd><dt>House.age</dt><dd>-0.251488419085345</dd></dl>\n"
            ],
            "text/markdown": "(Intercept)\n:   42.4346970462629House.age\n:   -0.251488419085345\n\n",
            "text/latex": "\\begin{description*}\n\\item[(Intercept)] 42.4346970462629\n\\item[House.age] -0.251488419085345\n\\end{description*}\n",
            "text/plain": [
              "(Intercept)   House.age \n",
              " 42.4346970  -0.2514884 "
            ]
          },
          "metadata": {}
        }
      ]
    },
    {
      "cell_type": "code",
      "source": [
        "confint(lm.fit) #confidence intervals"
      ],
      "metadata": {
        "colab": {
          "base_uri": "https://localhost:8080/",
          "height": 128
        },
        "id": "flSmF1GBED5z",
        "outputId": "37a34828-a09c-4f82-db76-6d2249309788"
      },
      "execution_count": 53,
      "outputs": [
        {
          "output_type": "display_data",
          "data": {
            "text/html": [
              "<table class=\"dataframe\">\n",
              "<caption>A matrix: 2 × 2 of type dbl</caption>\n",
              "<thead>\n",
              "\t<tr><th></th><th scope=col>2.5 %</th><th scope=col>97.5 %</th></tr>\n",
              "</thead>\n",
              "<tbody>\n",
              "\t<tr><th scope=row>(Intercept)</th><td>40.0542333</td><td>44.815161</td></tr>\n",
              "\t<tr><th scope=row>House.age</th><td>-0.3645609</td><td>-0.138416</td></tr>\n",
              "</tbody>\n",
              "</table>\n"
            ],
            "text/markdown": "\nA matrix: 2 × 2 of type dbl\n\n| <!--/--> | 2.5 % | 97.5 % |\n|---|---|---|\n| (Intercept) | 40.0542333 | 44.815161 |\n| House.age | -0.3645609 | -0.138416 |\n\n",
            "text/latex": "A matrix: 2 × 2 of type dbl\n\\begin{tabular}{r|ll}\n  & 2.5 \\% & 97.5 \\%\\\\\n\\hline\n\t(Intercept) & 40.0542333 & 44.815161\\\\\n\tHouse.age & -0.3645609 & -0.138416\\\\\n\\end{tabular}\n",
            "text/plain": [
              "            2.5 %      97.5 %   \n",
              "(Intercept) 40.0542333 44.815161\n",
              "House.age   -0.3645609 -0.138416"
            ]
          },
          "metadata": {}
        }
      ]
    },
    {
      "cell_type": "markdown",
      "source": [
        "Make some predictions"
      ],
      "metadata": {
        "id": "y9lOOVgfGJsg"
      }
    },
    {
      "cell_type": "code",
      "source": [
        "new_listings <- data.frame(c(2,5,25))\n",
        "colnames(new_listings) <- \"House.age\"\n",
        "new_listings"
      ],
      "metadata": {
        "colab": {
          "base_uri": "https://localhost:8080/",
          "height": 207
        },
        "id": "-9lG5YgaEzpA",
        "outputId": "6896be3a-b66a-42f6-e2fb-26ec4b274dbb"
      },
      "execution_count": 58,
      "outputs": [
        {
          "output_type": "display_data",
          "data": {
            "text/html": [
              "<table class=\"dataframe\">\n",
              "<caption>A data.frame: 3 × 1</caption>\n",
              "<thead>\n",
              "\t<tr><th scope=col>House.age</th></tr>\n",
              "\t<tr><th scope=col>&lt;dbl&gt;</th></tr>\n",
              "</thead>\n",
              "<tbody>\n",
              "\t<tr><td> 2</td></tr>\n",
              "\t<tr><td> 5</td></tr>\n",
              "\t<tr><td>25</td></tr>\n",
              "</tbody>\n",
              "</table>\n"
            ],
            "text/markdown": "\nA data.frame: 3 × 1\n\n| House.age &lt;dbl&gt; |\n|---|\n|  2 |\n|  5 |\n| 25 |\n\n",
            "text/latex": "A data.frame: 3 × 1\n\\begin{tabular}{l}\n House.age\\\\\n <dbl>\\\\\n\\hline\n\t  2\\\\\n\t  5\\\\\n\t 25\\\\\n\\end{tabular}\n",
            "text/plain": [
              "  House.age\n",
              "1  2       \n",
              "2  5       \n",
              "3 25       "
            ]
          },
          "metadata": {}
        }
      ]
    },
    {
      "cell_type": "code",
      "source": [
        "?predict"
      ],
      "metadata": {
        "id": "TJXrgY7QHUE5"
      },
      "execution_count": 61,
      "outputs": []
    },
    {
      "cell_type": "code",
      "source": [
        "predict(lm.fit,newdata= new_listings)"
      ],
      "metadata": {
        "colab": {
          "base_uri": "https://localhost:8080/",
          "height": 34
        },
        "id": "dlK-aSQ4HG7W",
        "outputId": "8e7ef7a6-a638-4fe3-fddf-80766b79da95"
      },
      "execution_count": 62,
      "outputs": [
        {
          "output_type": "display_data",
          "data": {
            "text/html": [
              "<style>\n",
              ".dl-inline {width: auto; margin:0; padding: 0}\n",
              ".dl-inline>dt, .dl-inline>dd {float: none; width: auto; display: inline-block}\n",
              ".dl-inline>dt::after {content: \":\\0020\"; padding-right: .5ex}\n",
              ".dl-inline>dt:not(:first-of-type) {padding-left: .5ex}\n",
              "</style><dl class=dl-inline><dt>1</dt><dd>41.9317202080922</dd><dt>2</dt><dd>41.1772549508362</dd><dt>3</dt><dd>36.1474865691293</dd></dl>\n"
            ],
            "text/markdown": "1\n:   41.93172020809222\n:   41.17725495083623\n:   36.1474865691293\n\n",
            "text/latex": "\\begin{description*}\n\\item[1] 41.9317202080922\n\\item[2] 41.1772549508362\n\\item[3] 36.1474865691293\n\\end{description*}\n",
            "text/plain": [
              "       1        2        3 \n",
              "41.93172 41.17725 36.14749 "
            ]
          },
          "metadata": {}
        }
      ]
    },
    {
      "cell_type": "code",
      "source": [
        "predict(lm.fit,interval = \"confidence\",newdata= new_listings)"
      ],
      "metadata": {
        "colab": {
          "base_uri": "https://localhost:8080/",
          "height": 159
        },
        "id": "Qi8vWOx0HlDp",
        "outputId": "22152e42-a559-4486-c795-5d7c89ca8ea6"
      },
      "execution_count": 63,
      "outputs": [
        {
          "output_type": "display_data",
          "data": {
            "text/html": [
              "<table class=\"dataframe\">\n",
              "<caption>A matrix: 3 × 3 of type dbl</caption>\n",
              "<thead>\n",
              "\t<tr><th></th><th scope=col>fit</th><th scope=col>lwr</th><th scope=col>upr</th></tr>\n",
              "</thead>\n",
              "<tbody>\n",
              "\t<tr><th scope=row>1</th><td>41.93172</td><td>39.73812</td><td>44.12532</td></tr>\n",
              "\t<tr><th scope=row>2</th><td>41.17725</td><td>39.24810</td><td>43.10641</td></tr>\n",
              "\t<tr><th scope=row>3</th><td>36.14749</td><td>34.61962</td><td>37.67535</td></tr>\n",
              "</tbody>\n",
              "</table>\n"
            ],
            "text/markdown": "\nA matrix: 3 × 3 of type dbl\n\n| <!--/--> | fit | lwr | upr |\n|---|---|---|---|\n| 1 | 41.93172 | 39.73812 | 44.12532 |\n| 2 | 41.17725 | 39.24810 | 43.10641 |\n| 3 | 36.14749 | 34.61962 | 37.67535 |\n\n",
            "text/latex": "A matrix: 3 × 3 of type dbl\n\\begin{tabular}{r|lll}\n  & fit & lwr & upr\\\\\n\\hline\n\t1 & 41.93172 & 39.73812 & 44.12532\\\\\n\t2 & 41.17725 & 39.24810 & 43.10641\\\\\n\t3 & 36.14749 & 34.61962 & 37.67535\\\\\n\\end{tabular}\n",
            "text/plain": [
              "  fit      lwr      upr     \n",
              "1 41.93172 39.73812 44.12532\n",
              "2 41.17725 39.24810 43.10641\n",
              "3 36.14749 34.61962 37.67535"
            ]
          },
          "metadata": {}
        }
      ]
    },
    {
      "cell_type": "markdown",
      "source": [
        "MULTIPLE REGRESSION"
      ],
      "metadata": {
        "id": "_2ox_MTWHvve"
      }
    },
    {
      "cell_type": "code",
      "source": [
        "lm.fit2 <-lm(PriceUnit ~House.age + Trans.date,data = datsn)"
      ],
      "metadata": {
        "id": "rT3zSl0-HyPO"
      },
      "execution_count": 67,
      "outputs": []
    },
    {
      "cell_type": "code",
      "source": [
        "coef(lm.fit2)"
      ],
      "metadata": {
        "colab": {
          "base_uri": "https://localhost:8080/",
          "height": 51
        },
        "id": "aHqkpXy9IUtX",
        "outputId": "3854e838-9630-4d70-e860-e39f5b99f55f"
      },
      "execution_count": 68,
      "outputs": [
        {
          "output_type": "display_data",
          "data": {
            "text/html": [
              "<style>\n",
              ".dl-inline {width: auto; margin:0; padding: 0}\n",
              ".dl-inline>dt, .dl-inline>dd {float: none; width: auto; display: inline-block}\n",
              ".dl-inline>dt::after {content: \":\\0020\"; padding-right: .5ex}\n",
              ".dl-inline>dt:not(:first-of-type) {padding-left: .5ex}\n",
              "</style><dl class=dl-inline><dt>(Intercept)</dt><dd>-8818.56260972661</dd><dt>House.age</dt><dd>-0.253400187021483</dd><dt>Trans.date</dt><dd>4.40157747720603</dd></dl>\n"
            ],
            "text/markdown": "(Intercept)\n:   -8818.56260972661House.age\n:   -0.253400187021483Trans.date\n:   4.40157747720603\n\n",
            "text/latex": "\\begin{description*}\n\\item[(Intercept)] -8818.56260972661\n\\item[House.age] -0.253400187021483\n\\item[Trans.date] 4.40157747720603\n\\end{description*}\n",
            "text/plain": [
              "  (Intercept)     House.age    Trans.date \n",
              "-8818.5626097    -0.2534002     4.4015775 "
            ]
          },
          "metadata": {}
        }
      ]
    },
    {
      "cell_type": "code",
      "source": [
        "lm.fit2 <-lm(PriceUnit ~. ,data = datsn) #shorthand representation"
      ],
      "metadata": {
        "id": "smgCLNMlIrdc"
      },
      "execution_count": 70,
      "outputs": []
    },
    {
      "cell_type": "code",
      "source": [
        "coef(lm.fit2)"
      ],
      "metadata": {
        "colab": {
          "base_uri": "https://localhost:8080/",
          "height": 68
        },
        "id": "BwUwRkFlIyPl",
        "outputId": "bbbb3fad-fa9d-4067-e426-87f9762b512f"
      },
      "execution_count": 71,
      "outputs": [
        {
          "output_type": "display_data",
          "data": {
            "text/html": [
              "<style>\n",
              ".dl-inline {width: auto; margin:0; padding: 0}\n",
              ".dl-inline>dt, .dl-inline>dd {float: none; width: auto; display: inline-block}\n",
              ".dl-inline>dt::after {content: \":\\0020\"; padding-right: .5ex}\n",
              ".dl-inline>dt:not(:first-of-type) {padding-left: .5ex}\n",
              "</style><dl class=dl-inline><dt>(Intercept)</dt><dd>-14437.1008022541</dd><dt>Trans.date</dt><dd>5.1462274629778</dd><dt>House.age</dt><dd>-0.269695447580451</dd><dt>Dist.2.Transp</dt><dd>-0.00448746107404586</dd><dt>No.stores</dt><dd>1.13327690464906</dd><dt>Lat</dt><dd>225.472975563107</dd><dt>Long</dt><dd>-12.423601173518</dd></dl>\n"
            ],
            "text/markdown": "(Intercept)\n:   -14437.1008022541Trans.date\n:   5.1462274629778House.age\n:   -0.269695447580451Dist.2.Transp\n:   -0.00448746107404586No.stores\n:   1.13327690464906Lat\n:   225.472975563107Long\n:   -12.423601173518\n\n",
            "text/latex": "\\begin{description*}\n\\item[(Intercept)] -14437.1008022541\n\\item[Trans.date] 5.1462274629778\n\\item[House.age] -0.269695447580451\n\\item[Dist.2.Transp] -0.00448746107404586\n\\item[No.stores] 1.13327690464906\n\\item[Lat] 225.472975563107\n\\item[Long] -12.423601173518\n\\end{description*}\n",
            "text/plain": [
              "  (Intercept)    Trans.date     House.age Dist.2.Transp     No.stores \n",
              "-1.443710e+04  5.146227e+00 -2.696954e-01 -4.487461e-03  1.133277e+00 \n",
              "          Lat          Long \n",
              " 2.254730e+02 -1.242360e+01 "
            ]
          },
          "metadata": {}
        }
      ]
    },
    {
      "cell_type": "code",
      "source": [
        "summary(lm.fit2)"
      ],
      "metadata": {
        "colab": {
          "base_uri": "https://localhost:8080/",
          "height": 408
        },
        "id": "T0tzjAp2I135",
        "outputId": "3c475c6d-43d4-4134-80d5-7d2cc1305037"
      },
      "execution_count": 72,
      "outputs": [
        {
          "output_type": "display_data",
          "data": {
            "text/plain": [
              "\n",
              "Call:\n",
              "lm(formula = PriceUnit ~ ., data = datsn)\n",
              "\n",
              "Residuals:\n",
              "    Min      1Q  Median      3Q     Max \n",
              "-35.664  -5.410  -0.966   4.217  75.193 \n",
              "\n",
              "Coefficients:\n",
              "                Estimate Std. Error t value Pr(>|t|)    \n",
              "(Intercept)   -1.444e+04  6.776e+03  -2.131  0.03371 *  \n",
              "Trans.date     5.146e+00  1.557e+00   3.305  0.00103 ** \n",
              "House.age     -2.697e-01  3.853e-02  -7.000 1.06e-11 ***\n",
              "Dist.2.Transp -4.488e-03  7.180e-04  -6.250 1.04e-09 ***\n",
              "No.stores      1.133e+00  1.882e-01   6.023 3.84e-09 ***\n",
              "Lat            2.255e+02  4.457e+01   5.059 6.38e-07 ***\n",
              "Long          -1.242e+01  4.858e+01  -0.256  0.79829    \n",
              "---\n",
              "Signif. codes:  0 ‘***’ 0.001 ‘**’ 0.01 ‘*’ 0.05 ‘.’ 0.1 ‘ ’ 1\n",
              "\n",
              "Residual standard error: 8.858 on 407 degrees of freedom\n",
              "Multiple R-squared:  0.5824,\tAdjusted R-squared:  0.5762 \n",
              "F-statistic: 94.59 on 6 and 407 DF,  p-value: < 2.2e-16\n"
            ]
          },
          "metadata": {}
        }
      ]
    },
    {
      "cell_type": "code",
      "source": [
        "lm.fit3 <-lm(PriceUnit ~.  -Long,data = datsn)"
      ],
      "metadata": {
        "id": "a_rOEj3dJv0l"
      },
      "execution_count": 74,
      "outputs": []
    },
    {
      "cell_type": "code",
      "source": [
        "summary(lm.fit3)"
      ],
      "metadata": {
        "colab": {
          "base_uri": "https://localhost:8080/",
          "height": 391
        },
        "id": "-0fW4ZcMJ4XH",
        "outputId": "a7b78c40-ee89-421e-ce01-84fec12606f8"
      },
      "execution_count": 75,
      "outputs": [
        {
          "output_type": "display_data",
          "data": {
            "text/plain": [
              "\n",
              "Call:\n",
              "lm(formula = PriceUnit ~ . - Long, data = datsn)\n",
              "\n",
              "Residuals:\n",
              "    Min      1Q  Median      3Q     Max \n",
              "-35.623  -5.371  -1.020   4.244  75.346 \n",
              "\n",
              "Coefficients:\n",
              "                Estimate Std. Error t value Pr(>|t|)    \n",
              "(Intercept)   -1.596e+04  3.233e+03  -4.936 1.17e-06 ***\n",
              "Trans.date     5.135e+00  1.555e+00   3.303  0.00104 ** \n",
              "House.age     -2.694e-01  3.847e-02  -7.003 1.04e-11 ***\n",
              "Dist.2.Transp -4.353e-03  4.899e-04  -8.887  < 2e-16 ***\n",
              "No.stores      1.136e+00  1.876e-01   6.056 3.17e-09 ***\n",
              "Lat            2.269e+02  4.417e+01   5.136 4.36e-07 ***\n",
              "---\n",
              "Signif. codes:  0 ‘***’ 0.001 ‘**’ 0.01 ‘*’ 0.05 ‘.’ 0.1 ‘ ’ 1\n",
              "\n",
              "Residual standard error: 8.848 on 408 degrees of freedom\n",
              "Multiple R-squared:  0.5823,\tAdjusted R-squared:  0.5772 \n",
              "F-statistic: 113.8 on 5 and 408 DF,  p-value: < 2.2e-16\n"
            ]
          },
          "metadata": {}
        }
      ]
    },
    {
      "cell_type": "code",
      "source": [
        "install.packages(\"car\")"
      ],
      "metadata": {
        "colab": {
          "base_uri": "https://localhost:8080/"
        },
        "id": "t8Xul5uCKDQn",
        "outputId": "b81d1e09-dc6e-4ca4-cd55-fe83535cf142"
      },
      "execution_count": 76,
      "outputs": [
        {
          "output_type": "stream",
          "name": "stderr",
          "text": [
            "Installing package into ‘/usr/local/lib/R/site-library’\n",
            "(as ‘lib’ is unspecified)\n",
            "\n",
            "also installing the dependencies ‘numDeriv’, ‘SparseM’, ‘MatrixModels’, ‘minqa’, ‘nloptr’, ‘Rcpp’, ‘RcppEigen’, ‘carData’, ‘abind’, ‘pbkrtest’, ‘quantreg’, ‘lme4’\n",
            "\n",
            "\n"
          ]
        }
      ]
    },
    {
      "cell_type": "code",
      "source": [
        "library(car)"
      ],
      "metadata": {
        "colab": {
          "base_uri": "https://localhost:8080/"
        },
        "id": "GQDg6kYYKGMX",
        "outputId": "6ac0d69a-d624-415a-8c02-dd9962975f48"
      },
      "execution_count": 81,
      "outputs": [
        {
          "output_type": "stream",
          "name": "stderr",
          "text": [
            "Loading required package: carData\n",
            "\n"
          ]
        }
      ]
    },
    {
      "cell_type": "code",
      "source": [
        "vif(lm.fit3) #check for multicollinearity (above 2.5 , above5)"
      ],
      "metadata": {
        "colab": {
          "base_uri": "https://localhost:8080/",
          "height": 51
        },
        "id": "qcq8OVQ9KwMS",
        "outputId": "8fb5b8bc-0747-4cde-edba-0c257d433176"
      },
      "execution_count": 82,
      "outputs": [
        {
          "output_type": "display_data",
          "data": {
            "text/html": [
              "<style>\n",
              ".dl-inline {width: auto; margin:0; padding: 0}\n",
              ".dl-inline>dt, .dl-inline>dd {float: none; width: auto; display: inline-block}\n",
              ".dl-inline>dt::after {content: \":\\0020\"; padding-right: .5ex}\n",
              ".dl-inline>dt:not(:first-of-type) {padding-left: .5ex}\n",
              "</style><dl class=dl-inline><dt>Trans.date</dt><dd>1.01383425744015</dd><dt>House.age</dt><dd>1.01324303448116</dd><dt>Dist.2.Transp</dt><dd>2.01685466161603</dd><dt>No.stores</dt><dd>1.61129853693469</dd><dt>Lat</dt><dd>1.58563500488978</dd></dl>\n"
            ],
            "text/markdown": "Trans.date\n:   1.01383425744015House.age\n:   1.01324303448116Dist.2.Transp\n:   2.01685466161603No.stores\n:   1.61129853693469Lat\n:   1.58563500488978\n\n",
            "text/latex": "\\begin{description*}\n\\item[Trans.date] 1.01383425744015\n\\item[House.age] 1.01324303448116\n\\item[Dist.2.Transp] 2.01685466161603\n\\item[No.stores] 1.61129853693469\n\\item[Lat] 1.58563500488978\n\\end{description*}\n",
            "text/plain": [
              "   Trans.date     House.age Dist.2.Transp     No.stores           Lat \n",
              "     1.013834      1.013243      2.016855      1.611299      1.585635 "
            ]
          },
          "metadata": {}
        }
      ]
    },
    {
      "cell_type": "code",
      "source": [
        "lm.fit4 <-lm(PriceUnit ~ . +Dist.2.Transp*No.stores,data=datsn)"
      ],
      "metadata": {
        "id": "7BvXCFEsLAkq"
      },
      "execution_count": 77,
      "outputs": []
    },
    {
      "cell_type": "code",
      "source": [
        "summary(lm.fit4)"
      ],
      "metadata": {
        "colab": {
          "base_uri": "https://localhost:8080/",
          "height": 425
        },
        "id": "QfB__gCdLfYq",
        "outputId": "8d38d222-d382-4364-c6e3-3a986ce3a7e0"
      },
      "execution_count": 79,
      "outputs": [
        {
          "output_type": "display_data",
          "data": {
            "text/plain": [
              "\n",
              "Call:\n",
              "lm(formula = PriceUnit ~ . + Dist.2.Transp * No.stores, data = datsn)\n",
              "\n",
              "Residuals:\n",
              "    Min      1Q  Median      3Q     Max \n",
              "-35.043  -4.637  -0.429   3.283  72.960 \n",
              "\n",
              "Coefficients:\n",
              "                          Estimate Std. Error t value Pr(>|t|)    \n",
              "(Intercept)             -3.675e+03  6.460e+03  -0.569 0.569752    \n",
              "Trans.date               5.535e+00  1.452e+00   3.812 0.000159 ***\n",
              "House.age               -2.792e-01  3.593e-02  -7.772 6.40e-14 ***\n",
              "Dist.2.Transp           -3.772e-03  6.753e-04  -5.585 4.28e-08 ***\n",
              "No.stores                1.691e+00  1.890e-01   8.948  < 2e-16 ***\n",
              "Lat                      2.903e+02  4.234e+01   6.858 2.62e-11 ***\n",
              "Long                    -1.207e+02  4.730e+01  -2.552 0.011065 *  \n",
              "Dist.2.Transp:No.stores -1.918e-03  2.424e-04  -7.912 2.43e-14 ***\n",
              "---\n",
              "Signif. codes:  0 ‘***’ 0.001 ‘**’ 0.01 ‘*’ 0.05 ‘.’ 0.1 ‘ ’ 1\n",
              "\n",
              "Residual standard error: 8.255 on 406 degrees of freedom\n",
              "Multiple R-squared:  0.6382,\tAdjusted R-squared:  0.6319 \n",
              "F-statistic: 102.3 on 7 and 406 DF,  p-value: < 2.2e-16\n"
            ]
          },
          "metadata": {}
        }
      ]
    },
    {
      "cell_type": "code",
      "source": [
        "lm.fit5 <- lm(PriceUnit ~ Dist.2.Transp*No.stores,data=datsn)"
      ],
      "metadata": {
        "id": "T-6_OOKaLTyx"
      },
      "execution_count": 78,
      "outputs": []
    },
    {
      "cell_type": "code",
      "source": [
        "summary(lm.fit5)"
      ],
      "metadata": {
        "colab": {
          "base_uri": "https://localhost:8080/",
          "height": 357
        },
        "id": "ZUS09XuWLkI4",
        "outputId": "43578b4f-5bbd-45f1-d798-b6eea77c2057"
      },
      "execution_count": 80,
      "outputs": [
        {
          "output_type": "display_data",
          "data": {
            "text/plain": [
              "\n",
              "Call:\n",
              "lm(formula = PriceUnit ~ Dist.2.Transp * No.stores, data = datsn)\n",
              "\n",
              "Residuals:\n",
              "    Min      1Q  Median      3Q     Max \n",
              "-36.417  -5.747  -0.844   4.856  78.205 \n",
              "\n",
              "Coefficients:\n",
              "                          Estimate Std. Error t value Pr(>|t|)    \n",
              "(Intercept)             39.1439079  1.2605696  31.053  < 2e-16 ***\n",
              "Dist.2.Transp           -0.0045362  0.0005008  -9.058  < 2e-16 ***\n",
              "No.stores                1.6328694  0.2137367   7.640 1.55e-13 ***\n",
              "Dist.2.Transp:No.stores -0.0013310  0.0002572  -5.176 3.56e-07 ***\n",
              "---\n",
              "Signif. codes:  0 ‘***’ 0.001 ‘**’ 0.01 ‘*’ 0.05 ‘.’ 0.1 ‘ ’ 1\n",
              "\n",
              "Residual standard error: 9.388 on 410 degrees of freedom\n",
              "Multiple R-squared:  0.5274,\tAdjusted R-squared:  0.524 \n",
              "F-statistic: 152.5 on 3 and 410 DF,  p-value: < 2.2e-16\n"
            ]
          },
          "metadata": {}
        }
      ]
    },
    {
      "cell_type": "code",
      "source": [],
      "metadata": {
        "id": "qu8FvrthLyo7"
      },
      "execution_count": null,
      "outputs": []
    },
    {
      "cell_type": "markdown",
      "source": [
        "Qualitative Predictors"
      ],
      "metadata": {
        "id": "EEiYFj2cUZFL"
      }
    },
    {
      "cell_type": "code",
      "source": [
        "install.packages(\"ISLR2\")"
      ],
      "metadata": {
        "colab": {
          "base_uri": "https://localhost:8080/"
        },
        "id": "n5bpToQUUhob",
        "outputId": "52f55038-26e2-4572-bf16-b9105208bbc8"
      },
      "execution_count": 84,
      "outputs": [
        {
          "output_type": "stream",
          "name": "stderr",
          "text": [
            "Installing package into ‘/usr/local/lib/R/site-library’\n",
            "(as ‘lib’ is unspecified)\n",
            "\n"
          ]
        }
      ]
    },
    {
      "cell_type": "code",
      "source": [
        "library(ISLR2)"
      ],
      "metadata": {
        "id": "iF5OiGGMUd1f"
      },
      "execution_count": 85,
      "outputs": []
    },
    {
      "cell_type": "code",
      "source": [
        "dim(Wage)"
      ],
      "metadata": {
        "colab": {
          "base_uri": "https://localhost:8080/",
          "height": 34
        },
        "id": "gVLYceZFVQU7",
        "outputId": "b4d09447-850f-4bb4-ad97-99c6acf2ff21"
      },
      "execution_count": 87,
      "outputs": [
        {
          "output_type": "display_data",
          "data": {
            "text/html": [
              "<style>\n",
              ".list-inline {list-style: none; margin:0; padding: 0}\n",
              ".list-inline>li {display: inline-block}\n",
              ".list-inline>li:not(:last-child)::after {content: \"\\00b7\"; padding: 0 .5ex}\n",
              "</style>\n",
              "<ol class=list-inline><li>3000</li><li>11</li></ol>\n"
            ],
            "text/markdown": "1. 3000\n2. 11\n\n\n",
            "text/latex": "\\begin{enumerate*}\n\\item 3000\n\\item 11\n\\end{enumerate*}\n",
            "text/plain": [
              "[1] 3000   11"
            ]
          },
          "metadata": {}
        }
      ]
    },
    {
      "cell_type": "code",
      "source": [
        "head(Wage)"
      ],
      "metadata": {
        "colab": {
          "base_uri": "https://localhost:8080/",
          "height": 507
        },
        "id": "Nl3s30yoVXZD",
        "outputId": "f8261182-edce-43b9-c575-ad93ec29eaf5"
      },
      "execution_count": 88,
      "outputs": [
        {
          "output_type": "display_data",
          "data": {
            "text/html": [
              "<table class=\"dataframe\">\n",
              "<caption>A data.frame: 6 × 11</caption>\n",
              "<thead>\n",
              "\t<tr><th></th><th scope=col>year</th><th scope=col>age</th><th scope=col>maritl</th><th scope=col>race</th><th scope=col>education</th><th scope=col>region</th><th scope=col>jobclass</th><th scope=col>health</th><th scope=col>health_ins</th><th scope=col>logwage</th><th scope=col>wage</th></tr>\n",
              "\t<tr><th></th><th scope=col>&lt;int&gt;</th><th scope=col>&lt;int&gt;</th><th scope=col>&lt;fct&gt;</th><th scope=col>&lt;fct&gt;</th><th scope=col>&lt;fct&gt;</th><th scope=col>&lt;fct&gt;</th><th scope=col>&lt;fct&gt;</th><th scope=col>&lt;fct&gt;</th><th scope=col>&lt;fct&gt;</th><th scope=col>&lt;dbl&gt;</th><th scope=col>&lt;dbl&gt;</th></tr>\n",
              "</thead>\n",
              "<tbody>\n",
              "\t<tr><th scope=row>231655</th><td>2006</td><td>18</td><td>1. Never Married</td><td>1. White</td><td><span style=white-space:pre-wrap>1. &lt; HS Grad   </span></td><td>2. Middle Atlantic</td><td>1. Industrial </td><td><span style=white-space:pre-wrap>1. &lt;=Good     </span></td><td>2. No </td><td>4.318063</td><td> 75.04315</td></tr>\n",
              "\t<tr><th scope=row>86582</th><td>2004</td><td>24</td><td>1. Never Married</td><td>1. White</td><td>4. College Grad</td><td>2. Middle Atlantic</td><td>2. Information</td><td>2. &gt;=Very Good</td><td>2. No </td><td>4.255273</td><td> 70.47602</td></tr>\n",
              "\t<tr><th scope=row>161300</th><td>2003</td><td>45</td><td><span style=white-space:pre-wrap>2. Married      </span></td><td>1. White</td><td>3. Some College</td><td>2. Middle Atlantic</td><td>1. Industrial </td><td><span style=white-space:pre-wrap>1. &lt;=Good     </span></td><td>1. Yes</td><td>4.875061</td><td>130.98218</td></tr>\n",
              "\t<tr><th scope=row>155159</th><td>2003</td><td>43</td><td><span style=white-space:pre-wrap>2. Married      </span></td><td>3. Asian</td><td>4. College Grad</td><td>2. Middle Atlantic</td><td>2. Information</td><td>2. &gt;=Very Good</td><td>1. Yes</td><td>5.041393</td><td>154.68529</td></tr>\n",
              "\t<tr><th scope=row>11443</th><td>2005</td><td>50</td><td><span style=white-space:pre-wrap>4. Divorced     </span></td><td>1. White</td><td><span style=white-space:pre-wrap>2. HS Grad     </span></td><td>2. Middle Atlantic</td><td>2. Information</td><td><span style=white-space:pre-wrap>1. &lt;=Good     </span></td><td>1. Yes</td><td>4.318063</td><td> 75.04315</td></tr>\n",
              "\t<tr><th scope=row>376662</th><td>2008</td><td>54</td><td><span style=white-space:pre-wrap>2. Married      </span></td><td>1. White</td><td>4. College Grad</td><td>2. Middle Atlantic</td><td>2. Information</td><td>2. &gt;=Very Good</td><td>1. Yes</td><td>4.845098</td><td>127.11574</td></tr>\n",
              "</tbody>\n",
              "</table>\n"
            ],
            "text/markdown": "\nA data.frame: 6 × 11\n\n| <!--/--> | year &lt;int&gt; | age &lt;int&gt; | maritl &lt;fct&gt; | race &lt;fct&gt; | education &lt;fct&gt; | region &lt;fct&gt; | jobclass &lt;fct&gt; | health &lt;fct&gt; | health_ins &lt;fct&gt; | logwage &lt;dbl&gt; | wage &lt;dbl&gt; |\n|---|---|---|---|---|---|---|---|---|---|---|---|\n| 231655 | 2006 | 18 | 1. Never Married | 1. White | 1. &lt; HS Grad    | 2. Middle Atlantic | 1. Industrial  | 1. &lt;=Good      | 2. No  | 4.318063 |  75.04315 |\n| 86582 | 2004 | 24 | 1. Never Married | 1. White | 4. College Grad | 2. Middle Atlantic | 2. Information | 2. &gt;=Very Good | 2. No  | 4.255273 |  70.47602 |\n| 161300 | 2003 | 45 | 2. Married       | 1. White | 3. Some College | 2. Middle Atlantic | 1. Industrial  | 1. &lt;=Good      | 1. Yes | 4.875061 | 130.98218 |\n| 155159 | 2003 | 43 | 2. Married       | 3. Asian | 4. College Grad | 2. Middle Atlantic | 2. Information | 2. &gt;=Very Good | 1. Yes | 5.041393 | 154.68529 |\n| 11443 | 2005 | 50 | 4. Divorced      | 1. White | 2. HS Grad      | 2. Middle Atlantic | 2. Information | 1. &lt;=Good      | 1. Yes | 4.318063 |  75.04315 |\n| 376662 | 2008 | 54 | 2. Married       | 1. White | 4. College Grad | 2. Middle Atlantic | 2. Information | 2. &gt;=Very Good | 1. Yes | 4.845098 | 127.11574 |\n\n",
            "text/latex": "A data.frame: 6 × 11\n\\begin{tabular}{r|lllllllllll}\n  & year & age & maritl & race & education & region & jobclass & health & health\\_ins & logwage & wage\\\\\n  & <int> & <int> & <fct> & <fct> & <fct> & <fct> & <fct> & <fct> & <fct> & <dbl> & <dbl>\\\\\n\\hline\n\t231655 & 2006 & 18 & 1. Never Married & 1. White & 1. < HS Grad    & 2. Middle Atlantic & 1. Industrial  & 1. <=Good      & 2. No  & 4.318063 &  75.04315\\\\\n\t86582 & 2004 & 24 & 1. Never Married & 1. White & 4. College Grad & 2. Middle Atlantic & 2. Information & 2. >=Very Good & 2. No  & 4.255273 &  70.47602\\\\\n\t161300 & 2003 & 45 & 2. Married       & 1. White & 3. Some College & 2. Middle Atlantic & 1. Industrial  & 1. <=Good      & 1. Yes & 4.875061 & 130.98218\\\\\n\t155159 & 2003 & 43 & 2. Married       & 3. Asian & 4. College Grad & 2. Middle Atlantic & 2. Information & 2. >=Very Good & 1. Yes & 5.041393 & 154.68529\\\\\n\t11443 & 2005 & 50 & 4. Divorced      & 1. White & 2. HS Grad      & 2. Middle Atlantic & 2. Information & 1. <=Good      & 1. Yes & 4.318063 &  75.04315\\\\\n\t376662 & 2008 & 54 & 2. Married       & 1. White & 4. College Grad & 2. Middle Atlantic & 2. Information & 2. >=Very Good & 1. Yes & 4.845098 & 127.11574\\\\\n\\end{tabular}\n",
            "text/plain": [
              "       year age maritl           race     education       region            \n",
              "231655 2006 18  1. Never Married 1. White 1. < HS Grad    2. Middle Atlantic\n",
              "86582  2004 24  1. Never Married 1. White 4. College Grad 2. Middle Atlantic\n",
              "161300 2003 45  2. Married       1. White 3. Some College 2. Middle Atlantic\n",
              "155159 2003 43  2. Married       3. Asian 4. College Grad 2. Middle Atlantic\n",
              "11443  2005 50  4. Divorced      1. White 2. HS Grad      2. Middle Atlantic\n",
              "376662 2008 54  2. Married       1. White 4. College Grad 2. Middle Atlantic\n",
              "       jobclass       health         health_ins logwage  wage     \n",
              "231655 1. Industrial  1. <=Good      2. No      4.318063  75.04315\n",
              "86582  2. Information 2. >=Very Good 2. No      4.255273  70.47602\n",
              "161300 1. Industrial  1. <=Good      1. Yes     4.875061 130.98218\n",
              "155159 2. Information 2. >=Very Good 1. Yes     5.041393 154.68529\n",
              "11443  2. Information 1. <=Good      1. Yes     4.318063  75.04315\n",
              "376662 2. Information 2. >=Very Good 1. Yes     4.845098 127.11574"
            ]
          },
          "metadata": {}
        }
      ]
    },
    {
      "cell_type": "code",
      "source": [
        "Wage <- Wage[,-c(4,6,10)]"
      ],
      "metadata": {
        "id": "awf3u7awVvb-"
      },
      "execution_count": 89,
      "outputs": []
    },
    {
      "cell_type": "code",
      "source": [
        "head(Wage)"
      ],
      "metadata": {
        "colab": {
          "base_uri": "https://localhost:8080/",
          "height": 456
        },
        "id": "yila65BuVvdv",
        "outputId": "54881551-05b0-4a2b-f868-15fecb2531e1"
      },
      "execution_count": 91,
      "outputs": [
        {
          "output_type": "display_data",
          "data": {
            "text/html": [
              "<table class=\"dataframe\">\n",
              "<caption>A data.frame: 6 × 8</caption>\n",
              "<thead>\n",
              "\t<tr><th></th><th scope=col>year</th><th scope=col>age</th><th scope=col>maritl</th><th scope=col>education</th><th scope=col>jobclass</th><th scope=col>health</th><th scope=col>health_ins</th><th scope=col>wage</th></tr>\n",
              "\t<tr><th></th><th scope=col>&lt;int&gt;</th><th scope=col>&lt;int&gt;</th><th scope=col>&lt;fct&gt;</th><th scope=col>&lt;fct&gt;</th><th scope=col>&lt;fct&gt;</th><th scope=col>&lt;fct&gt;</th><th scope=col>&lt;fct&gt;</th><th scope=col>&lt;dbl&gt;</th></tr>\n",
              "</thead>\n",
              "<tbody>\n",
              "\t<tr><th scope=row>231655</th><td>2006</td><td>18</td><td>1. Never Married</td><td><span style=white-space:pre-wrap>1. &lt; HS Grad   </span></td><td>1. Industrial </td><td><span style=white-space:pre-wrap>1. &lt;=Good     </span></td><td>2. No </td><td> 75.04315</td></tr>\n",
              "\t<tr><th scope=row>86582</th><td>2004</td><td>24</td><td>1. Never Married</td><td>4. College Grad</td><td>2. Information</td><td>2. &gt;=Very Good</td><td>2. No </td><td> 70.47602</td></tr>\n",
              "\t<tr><th scope=row>161300</th><td>2003</td><td>45</td><td><span style=white-space:pre-wrap>2. Married      </span></td><td>3. Some College</td><td>1. Industrial </td><td><span style=white-space:pre-wrap>1. &lt;=Good     </span></td><td>1. Yes</td><td>130.98218</td></tr>\n",
              "\t<tr><th scope=row>155159</th><td>2003</td><td>43</td><td><span style=white-space:pre-wrap>2. Married      </span></td><td>4. College Grad</td><td>2. Information</td><td>2. &gt;=Very Good</td><td>1. Yes</td><td>154.68529</td></tr>\n",
              "\t<tr><th scope=row>11443</th><td>2005</td><td>50</td><td><span style=white-space:pre-wrap>4. Divorced     </span></td><td><span style=white-space:pre-wrap>2. HS Grad     </span></td><td>2. Information</td><td><span style=white-space:pre-wrap>1. &lt;=Good     </span></td><td>1. Yes</td><td> 75.04315</td></tr>\n",
              "\t<tr><th scope=row>376662</th><td>2008</td><td>54</td><td><span style=white-space:pre-wrap>2. Married      </span></td><td>4. College Grad</td><td>2. Information</td><td>2. &gt;=Very Good</td><td>1. Yes</td><td>127.11574</td></tr>\n",
              "</tbody>\n",
              "</table>\n"
            ],
            "text/markdown": "\nA data.frame: 6 × 8\n\n| <!--/--> | year &lt;int&gt; | age &lt;int&gt; | maritl &lt;fct&gt; | education &lt;fct&gt; | jobclass &lt;fct&gt; | health &lt;fct&gt; | health_ins &lt;fct&gt; | wage &lt;dbl&gt; |\n|---|---|---|---|---|---|---|---|---|\n| 231655 | 2006 | 18 | 1. Never Married | 1. &lt; HS Grad    | 1. Industrial  | 1. &lt;=Good      | 2. No  |  75.04315 |\n| 86582 | 2004 | 24 | 1. Never Married | 4. College Grad | 2. Information | 2. &gt;=Very Good | 2. No  |  70.47602 |\n| 161300 | 2003 | 45 | 2. Married       | 3. Some College | 1. Industrial  | 1. &lt;=Good      | 1. Yes | 130.98218 |\n| 155159 | 2003 | 43 | 2. Married       | 4. College Grad | 2. Information | 2. &gt;=Very Good | 1. Yes | 154.68529 |\n| 11443 | 2005 | 50 | 4. Divorced      | 2. HS Grad      | 2. Information | 1. &lt;=Good      | 1. Yes |  75.04315 |\n| 376662 | 2008 | 54 | 2. Married       | 4. College Grad | 2. Information | 2. &gt;=Very Good | 1. Yes | 127.11574 |\n\n",
            "text/latex": "A data.frame: 6 × 8\n\\begin{tabular}{r|llllllll}\n  & year & age & maritl & education & jobclass & health & health\\_ins & wage\\\\\n  & <int> & <int> & <fct> & <fct> & <fct> & <fct> & <fct> & <dbl>\\\\\n\\hline\n\t231655 & 2006 & 18 & 1. Never Married & 1. < HS Grad    & 1. Industrial  & 1. <=Good      & 2. No  &  75.04315\\\\\n\t86582 & 2004 & 24 & 1. Never Married & 4. College Grad & 2. Information & 2. >=Very Good & 2. No  &  70.47602\\\\\n\t161300 & 2003 & 45 & 2. Married       & 3. Some College & 1. Industrial  & 1. <=Good      & 1. Yes & 130.98218\\\\\n\t155159 & 2003 & 43 & 2. Married       & 4. College Grad & 2. Information & 2. >=Very Good & 1. Yes & 154.68529\\\\\n\t11443 & 2005 & 50 & 4. Divorced      & 2. HS Grad      & 2. Information & 1. <=Good      & 1. Yes &  75.04315\\\\\n\t376662 & 2008 & 54 & 2. Married       & 4. College Grad & 2. Information & 2. >=Very Good & 1. Yes & 127.11574\\\\\n\\end{tabular}\n",
            "text/plain": [
              "       year age maritl           education       jobclass       health        \n",
              "231655 2006 18  1. Never Married 1. < HS Grad    1. Industrial  1. <=Good     \n",
              "86582  2004 24  1. Never Married 4. College Grad 2. Information 2. >=Very Good\n",
              "161300 2003 45  2. Married       3. Some College 1. Industrial  1. <=Good     \n",
              "155159 2003 43  2. Married       4. College Grad 2. Information 2. >=Very Good\n",
              "11443  2005 50  4. Divorced      2. HS Grad      2. Information 1. <=Good     \n",
              "376662 2008 54  2. Married       4. College Grad 2. Information 2. >=Very Good\n",
              "       health_ins wage     \n",
              "231655 2. No       75.04315\n",
              "86582  2. No       70.47602\n",
              "161300 1. Yes     130.98218\n",
              "155159 1. Yes     154.68529\n",
              "11443  1. Yes      75.04315\n",
              "376662 1. Yes     127.11574"
            ]
          },
          "metadata": {}
        }
      ]
    },
    {
      "cell_type": "code",
      "source": [
        "lm.fit <-lm(wage~.,data=Wage)"
      ],
      "metadata": {
        "id": "HKYtIHsmWCAD"
      },
      "execution_count": 92,
      "outputs": []
    },
    {
      "cell_type": "code",
      "source": [
        "summary(lm.fit)"
      ],
      "metadata": {
        "colab": {
          "base_uri": "https://localhost:8080/",
          "height": 527
        },
        "id": "1E2pUkVMWNHT",
        "outputId": "c7add0f3-946e-4390-b22a-4e7ae6d4292a"
      },
      "execution_count": 93,
      "outputs": [
        {
          "output_type": "display_data",
          "data": {
            "text/plain": [
              "\n",
              "Call:\n",
              "lm(formula = wage ~ ., data = Wage)\n",
              "\n",
              "Residuals:\n",
              "    Min      1Q  Median      3Q     Max \n",
              "-99.816 -18.755  -3.178  13.436 214.025 \n",
              "\n",
              "Coefficients:\n",
              "                              Estimate Std. Error t value Pr(>|t|)    \n",
              "(Intercept)                 -2.373e+03  6.166e+02  -3.849 0.000121 ***\n",
              "year                         1.216e+00  3.075e-01   3.954 7.86e-05 ***\n",
              "age                          2.639e-01  6.203e-02   4.254 2.17e-05 ***\n",
              "maritl2. Married             1.761e+01  1.710e+00  10.299  < 2e-16 ***\n",
              "maritl3. Widowed             1.430e+00  8.005e+00   0.179 0.858202    \n",
              "maritl4. Divorced            4.444e+00  2.882e+00   1.542 0.123144    \n",
              "maritl5. Separated           1.155e+01  4.845e+00   2.384 0.017199 *  \n",
              "education2. HS Grad          8.016e+00  2.365e+00   3.389 0.000710 ***\n",
              "education3. Some College     1.847e+01  2.516e+00   7.341 2.72e-13 ***\n",
              "education4. College Grad     3.168e+01  2.535e+00  12.498  < 2e-16 ***\n",
              "education5. Advanced Degree  5.429e+01  2.792e+00  19.446  < 2e-16 ***\n",
              "jobclass2. Information       3.204e+00  1.316e+00   2.435 0.014970 *  \n",
              "health2. >=Very Good         6.599e+00  1.421e+00   4.643 3.57e-06 ***\n",
              "health_ins2. No             -1.764e+01  1.403e+00 -12.570  < 2e-16 ***\n",
              "---\n",
              "Signif. codes:  0 ‘***’ 0.001 ‘**’ 0.01 ‘*’ 0.05 ‘.’ 0.1 ‘ ’ 1\n",
              "\n",
              "Residual standard error: 34.03 on 2986 degrees of freedom\n",
              "Multiple R-squared:  0.338,\tAdjusted R-squared:  0.3351 \n",
              "F-statistic: 117.3 on 13 and 2986 DF,  p-value: < 2.2e-16\n"
            ]
          },
          "metadata": {}
        }
      ]
    },
    {
      "cell_type": "code",
      "source": [
        "contrasts(Wage$education)"
      ],
      "metadata": {
        "colab": {
          "base_uri": "https://localhost:8080/",
          "height": 255
        },
        "id": "KbQS8LdxWbiC",
        "outputId": "afe896e7-569c-4d54-82f1-9fe5c2126a87"
      },
      "execution_count": 94,
      "outputs": [
        {
          "output_type": "display_data",
          "data": {
            "text/html": [
              "<table class=\"dataframe\">\n",
              "<caption>A matrix: 5 × 4 of type dbl</caption>\n",
              "<thead>\n",
              "\t<tr><th></th><th scope=col>2. HS Grad</th><th scope=col>3. Some College</th><th scope=col>4. College Grad</th><th scope=col>5. Advanced Degree</th></tr>\n",
              "</thead>\n",
              "<tbody>\n",
              "\t<tr><th scope=row>1. &lt; HS Grad</th><td>0</td><td>0</td><td>0</td><td>0</td></tr>\n",
              "\t<tr><th scope=row>2. HS Grad</th><td>1</td><td>0</td><td>0</td><td>0</td></tr>\n",
              "\t<tr><th scope=row>3. Some College</th><td>0</td><td>1</td><td>0</td><td>0</td></tr>\n",
              "\t<tr><th scope=row>4. College Grad</th><td>0</td><td>0</td><td>1</td><td>0</td></tr>\n",
              "\t<tr><th scope=row>5. Advanced Degree</th><td>0</td><td>0</td><td>0</td><td>1</td></tr>\n",
              "</tbody>\n",
              "</table>\n"
            ],
            "text/markdown": "\nA matrix: 5 × 4 of type dbl\n\n| <!--/--> | 2. HS Grad | 3. Some College | 4. College Grad | 5. Advanced Degree |\n|---|---|---|---|---|\n| 1. &lt; HS Grad | 0 | 0 | 0 | 0 |\n| 2. HS Grad | 1 | 0 | 0 | 0 |\n| 3. Some College | 0 | 1 | 0 | 0 |\n| 4. College Grad | 0 | 0 | 1 | 0 |\n| 5. Advanced Degree | 0 | 0 | 0 | 1 |\n\n",
            "text/latex": "A matrix: 5 × 4 of type dbl\n\\begin{tabular}{r|llll}\n  & 2. HS Grad & 3. Some College & 4. College Grad & 5. Advanced Degree\\\\\n\\hline\n\t1. < HS Grad & 0 & 0 & 0 & 0\\\\\n\t2. HS Grad & 1 & 0 & 0 & 0\\\\\n\t3. Some College & 0 & 1 & 0 & 0\\\\\n\t4. College Grad & 0 & 0 & 1 & 0\\\\\n\t5. Advanced Degree & 0 & 0 & 0 & 1\\\\\n\\end{tabular}\n",
            "text/plain": [
              "                   2. HS Grad 3. Some College 4. College Grad\n",
              "1. < HS Grad       0          0               0              \n",
              "2. HS Grad         1          0               0              \n",
              "3. Some College    0          1               0              \n",
              "4. College Grad    0          0               1              \n",
              "5. Advanced Degree 0          0               0              \n",
              "                   5. Advanced Degree\n",
              "1. < HS Grad       0                 \n",
              "2. HS Grad         0                 \n",
              "3. Some College    0                 \n",
              "4. College Grad    0                 \n",
              "5. Advanced Degree 1                 "
            ]
          },
          "metadata": {}
        }
      ]
    }
  ]
}