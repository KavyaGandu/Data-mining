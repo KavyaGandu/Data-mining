{
  "nbformat": 4,
  "nbformat_minor": 0,
  "metadata": {
    "colab": {
      "provenance": [],
      "authorship_tag": "ABX9TyO8ypLJwifk9Dd4Qk7ZYIcS",
      "include_colab_link": true
    },
    "kernelspec": {
      "name": "ir",
      "display_name": "R"
    },
    "language_info": {
      "name": "R"
    }
  },
  "cells": [
    {
      "cell_type": "markdown",
      "metadata": {
        "id": "view-in-github",
        "colab_type": "text"
      },
      "source": [
        "<a href=\"https://colab.research.google.com/github/KavyaGandu/Data-mining/blob/main/Logistic_regression.ipynb\" target=\"_parent\"><img src=\"https://colab.research.google.com/assets/colab-badge.svg\" alt=\"Open In Colab\"/></a>"
      ]
    },
    {
      "cell_type": "markdown",
      "source": [],
      "metadata": {
        "id": "gAG-PL-g4blC"
      }
    },
    {
      "cell_type": "markdown",
      "source": [
        "Logistic regression is used to predict the class of individuals based on one or multiple predictor varibles(x) .it can only have two possible values 0 or 1"
      ],
      "metadata": {
        "id": "gxlxuTFR4e-E"
      }
    },
    {
      "cell_type": "code",
      "source": [
        "install.packages(\"caret\")"
      ],
      "metadata": {
        "colab": {
          "base_uri": "https://localhost:8080/"
        },
        "id": "4jHcr4roI9A2",
        "outputId": "64649152-18bd-46c8-ee3d-5da0ca8fbe53"
      },
      "execution_count": 29,
      "outputs": [
        {
          "output_type": "stream",
          "name": "stderr",
          "text": [
            "Installing package into ‘/usr/local/lib/R/site-library’\n",
            "(as ‘lib’ is unspecified)\n",
            "\n"
          ]
        }
      ]
    },
    {
      "cell_type": "code",
      "source": [
        "load(\"/content/pima.RData\")"
      ],
      "metadata": {
        "id": "5op9BEvK4u4o"
      },
      "execution_count": 30,
      "outputs": []
    },
    {
      "cell_type": "code",
      "source": [
        "head(pima)"
      ],
      "metadata": {
        "colab": {
          "base_uri": "https://localhost:8080/",
          "height": 303
        },
        "id": "6CFTtMOi6fC4",
        "outputId": "957fcb13-f551-40a6-92f5-1aaa99027a51"
      },
      "execution_count": 31,
      "outputs": [
        {
          "output_type": "display_data",
          "data": {
            "text/html": [
              "<table class=\"dataframe\">\n",
              "<caption>A data.frame: 6 × 9</caption>\n",
              "<thead>\n",
              "\t<tr><th></th><th scope=col>npregnant</th><th scope=col>glucose</th><th scope=col>diastolic.bp</th><th scope=col>skinfold.thickness</th><th scope=col>bmi</th><th scope=col>pedigree</th><th scope=col>age</th><th scope=col>classdigit</th><th scope=col>class</th></tr>\n",
              "\t<tr><th></th><th scope=col>&lt;int&gt;</th><th scope=col>&lt;int&gt;</th><th scope=col>&lt;int&gt;</th><th scope=col>&lt;int&gt;</th><th scope=col>&lt;dbl&gt;</th><th scope=col>&lt;dbl&gt;</th><th scope=col>&lt;int&gt;</th><th scope=col>&lt;fct&gt;</th><th scope=col>&lt;fct&gt;</th></tr>\n",
              "</thead>\n",
              "<tbody>\n",
              "\t<tr><th scope=row>1</th><td>6</td><td>148</td><td>72</td><td>35</td><td>33.6</td><td>0.627</td><td>50</td><td>1</td><td>diabetic</td></tr>\n",
              "\t<tr><th scope=row>2</th><td>1</td><td> 85</td><td>66</td><td>29</td><td>26.6</td><td>0.351</td><td>31</td><td>0</td><td>normal  </td></tr>\n",
              "\t<tr><th scope=row>3</th><td>1</td><td> 89</td><td>66</td><td>23</td><td>28.1</td><td>0.167</td><td>21</td><td>0</td><td>normal  </td></tr>\n",
              "\t<tr><th scope=row>4</th><td>0</td><td>137</td><td>40</td><td>35</td><td>43.1</td><td>2.288</td><td>33</td><td>1</td><td>diabetic</td></tr>\n",
              "\t<tr><th scope=row>5</th><td>3</td><td> 78</td><td>50</td><td>32</td><td>31.0</td><td>0.248</td><td>26</td><td>1</td><td>diabetic</td></tr>\n",
              "\t<tr><th scope=row>6</th><td>2</td><td>197</td><td>70</td><td>45</td><td>30.5</td><td>0.158</td><td>53</td><td>1</td><td>diabetic</td></tr>\n",
              "</tbody>\n",
              "</table>\n"
            ],
            "text/markdown": "\nA data.frame: 6 × 9\n\n| <!--/--> | npregnant &lt;int&gt; | glucose &lt;int&gt; | diastolic.bp &lt;int&gt; | skinfold.thickness &lt;int&gt; | bmi &lt;dbl&gt; | pedigree &lt;dbl&gt; | age &lt;int&gt; | classdigit &lt;fct&gt; | class &lt;fct&gt; |\n|---|---|---|---|---|---|---|---|---|---|\n| 1 | 6 | 148 | 72 | 35 | 33.6 | 0.627 | 50 | 1 | diabetic |\n| 2 | 1 |  85 | 66 | 29 | 26.6 | 0.351 | 31 | 0 | normal   |\n| 3 | 1 |  89 | 66 | 23 | 28.1 | 0.167 | 21 | 0 | normal   |\n| 4 | 0 | 137 | 40 | 35 | 43.1 | 2.288 | 33 | 1 | diabetic |\n| 5 | 3 |  78 | 50 | 32 | 31.0 | 0.248 | 26 | 1 | diabetic |\n| 6 | 2 | 197 | 70 | 45 | 30.5 | 0.158 | 53 | 1 | diabetic |\n\n",
            "text/latex": "A data.frame: 6 × 9\n\\begin{tabular}{r|lllllllll}\n  & npregnant & glucose & diastolic.bp & skinfold.thickness & bmi & pedigree & age & classdigit & class\\\\\n  & <int> & <int> & <int> & <int> & <dbl> & <dbl> & <int> & <fct> & <fct>\\\\\n\\hline\n\t1 & 6 & 148 & 72 & 35 & 33.6 & 0.627 & 50 & 1 & diabetic\\\\\n\t2 & 1 &  85 & 66 & 29 & 26.6 & 0.351 & 31 & 0 & normal  \\\\\n\t3 & 1 &  89 & 66 & 23 & 28.1 & 0.167 & 21 & 0 & normal  \\\\\n\t4 & 0 & 137 & 40 & 35 & 43.1 & 2.288 & 33 & 1 & diabetic\\\\\n\t5 & 3 &  78 & 50 & 32 & 31.0 & 0.248 & 26 & 1 & diabetic\\\\\n\t6 & 2 & 197 & 70 & 45 & 30.5 & 0.158 & 53 & 1 & diabetic\\\\\n\\end{tabular}\n",
            "text/plain": [
              "  npregnant glucose diastolic.bp skinfold.thickness bmi  pedigree age\n",
              "1 6         148     72           35                 33.6 0.627    50 \n",
              "2 1          85     66           29                 26.6 0.351    31 \n",
              "3 1          89     66           23                 28.1 0.167    21 \n",
              "4 0         137     40           35                 43.1 2.288    33 \n",
              "5 3          78     50           32                 31.0 0.248    26 \n",
              "6 2         197     70           45                 30.5 0.158    53 \n",
              "  classdigit class   \n",
              "1 1          diabetic\n",
              "2 0          normal  \n",
              "3 0          normal  \n",
              "4 1          diabetic\n",
              "5 1          diabetic\n",
              "6 1          diabetic"
            ]
          },
          "metadata": {}
        }
      ]
    },
    {
      "cell_type": "code",
      "source": [
        "mypima <- pima[,-8]"
      ],
      "metadata": {
        "id": "9ZaD51Rg642t"
      },
      "execution_count": 32,
      "outputs": []
    },
    {
      "cell_type": "code",
      "source": [
        "head(mypima)"
      ],
      "metadata": {
        "colab": {
          "base_uri": "https://localhost:8080/",
          "height": 303
        },
        "id": "ijGtCmXxLby3",
        "outputId": "9da3ae20-86a6-4ba3-887f-8d5affe21a71"
      },
      "execution_count": 33,
      "outputs": [
        {
          "output_type": "display_data",
          "data": {
            "text/html": [
              "<table class=\"dataframe\">\n",
              "<caption>A data.frame: 6 × 8</caption>\n",
              "<thead>\n",
              "\t<tr><th></th><th scope=col>npregnant</th><th scope=col>glucose</th><th scope=col>diastolic.bp</th><th scope=col>skinfold.thickness</th><th scope=col>bmi</th><th scope=col>pedigree</th><th scope=col>age</th><th scope=col>class</th></tr>\n",
              "\t<tr><th></th><th scope=col>&lt;int&gt;</th><th scope=col>&lt;int&gt;</th><th scope=col>&lt;int&gt;</th><th scope=col>&lt;int&gt;</th><th scope=col>&lt;dbl&gt;</th><th scope=col>&lt;dbl&gt;</th><th scope=col>&lt;int&gt;</th><th scope=col>&lt;fct&gt;</th></tr>\n",
              "</thead>\n",
              "<tbody>\n",
              "\t<tr><th scope=row>1</th><td>6</td><td>148</td><td>72</td><td>35</td><td>33.6</td><td>0.627</td><td>50</td><td>diabetic</td></tr>\n",
              "\t<tr><th scope=row>2</th><td>1</td><td> 85</td><td>66</td><td>29</td><td>26.6</td><td>0.351</td><td>31</td><td>normal  </td></tr>\n",
              "\t<tr><th scope=row>3</th><td>1</td><td> 89</td><td>66</td><td>23</td><td>28.1</td><td>0.167</td><td>21</td><td>normal  </td></tr>\n",
              "\t<tr><th scope=row>4</th><td>0</td><td>137</td><td>40</td><td>35</td><td>43.1</td><td>2.288</td><td>33</td><td>diabetic</td></tr>\n",
              "\t<tr><th scope=row>5</th><td>3</td><td> 78</td><td>50</td><td>32</td><td>31.0</td><td>0.248</td><td>26</td><td>diabetic</td></tr>\n",
              "\t<tr><th scope=row>6</th><td>2</td><td>197</td><td>70</td><td>45</td><td>30.5</td><td>0.158</td><td>53</td><td>diabetic</td></tr>\n",
              "</tbody>\n",
              "</table>\n"
            ],
            "text/markdown": "\nA data.frame: 6 × 8\n\n| <!--/--> | npregnant &lt;int&gt; | glucose &lt;int&gt; | diastolic.bp &lt;int&gt; | skinfold.thickness &lt;int&gt; | bmi &lt;dbl&gt; | pedigree &lt;dbl&gt; | age &lt;int&gt; | class &lt;fct&gt; |\n|---|---|---|---|---|---|---|---|---|\n| 1 | 6 | 148 | 72 | 35 | 33.6 | 0.627 | 50 | diabetic |\n| 2 | 1 |  85 | 66 | 29 | 26.6 | 0.351 | 31 | normal   |\n| 3 | 1 |  89 | 66 | 23 | 28.1 | 0.167 | 21 | normal   |\n| 4 | 0 | 137 | 40 | 35 | 43.1 | 2.288 | 33 | diabetic |\n| 5 | 3 |  78 | 50 | 32 | 31.0 | 0.248 | 26 | diabetic |\n| 6 | 2 | 197 | 70 | 45 | 30.5 | 0.158 | 53 | diabetic |\n\n",
            "text/latex": "A data.frame: 6 × 8\n\\begin{tabular}{r|llllllll}\n  & npregnant & glucose & diastolic.bp & skinfold.thickness & bmi & pedigree & age & class\\\\\n  & <int> & <int> & <int> & <int> & <dbl> & <dbl> & <int> & <fct>\\\\\n\\hline\n\t1 & 6 & 148 & 72 & 35 & 33.6 & 0.627 & 50 & diabetic\\\\\n\t2 & 1 &  85 & 66 & 29 & 26.6 & 0.351 & 31 & normal  \\\\\n\t3 & 1 &  89 & 66 & 23 & 28.1 & 0.167 & 21 & normal  \\\\\n\t4 & 0 & 137 & 40 & 35 & 43.1 & 2.288 & 33 & diabetic\\\\\n\t5 & 3 &  78 & 50 & 32 & 31.0 & 0.248 & 26 & diabetic\\\\\n\t6 & 2 & 197 & 70 & 45 & 30.5 & 0.158 & 53 & diabetic\\\\\n\\end{tabular}\n",
            "text/plain": [
              "  npregnant glucose diastolic.bp skinfold.thickness bmi  pedigree age class   \n",
              "1 6         148     72           35                 33.6 0.627    50  diabetic\n",
              "2 1          85     66           29                 26.6 0.351    31  normal  \n",
              "3 1          89     66           23                 28.1 0.167    21  normal  \n",
              "4 0         137     40           35                 43.1 2.288    33  diabetic\n",
              "5 3          78     50           32                 31.0 0.248    26  diabetic\n",
              "6 2         197     70           45                 30.5 0.158    53  diabetic"
            ]
          },
          "metadata": {}
        }
      ]
    },
    {
      "cell_type": "code",
      "source": [
        "#Create a test and training set"
      ],
      "metadata": {
        "id": "MVVA5rCmJIHv"
      },
      "execution_count": 34,
      "outputs": []
    },
    {
      "cell_type": "code",
      "source": [
        "set.seed(123)\n",
        "indis <- sample(1:nrow(pima), .66*nrow(pima),replace=FALSE)"
      ],
      "metadata": {
        "id": "7M0X2r9lKrpK"
      },
      "execution_count": 35,
      "outputs": []
    },
    {
      "cell_type": "code",
      "source": [
        "indis"
      ],
      "metadata": {
        "colab": {
          "base_uri": "https://localhost:8080/",
          "height": 340
        },
        "id": "dXWyvUC-K7S-",
        "outputId": "b71a60ac-f7ba-484c-a1ea-1f3bec38e1b6"
      },
      "execution_count": 36,
      "outputs": [
        {
          "output_type": "display_data",
          "data": {
            "text/html": [
              "<style>\n",
              ".list-inline {list-style: none; margin:0; padding: 0}\n",
              ".list-inline>li {display: inline-block}\n",
              ".list-inline>li:not(:last-child)::after {content: \"\\00b7\"; padding: 0 .5ex}\n",
              "</style>\n",
              "<ol class=list-inline><li>415</li><li>463</li><li>179</li><li>526</li><li>195</li><li>118</li><li>299</li><li>229</li><li>244</li><li>14</li><li>374</li><li>91</li><li>348</li><li>355</li><li>26</li><li>426</li><li>211</li><li>373</li><li>143</li><li>490</li><li>109</li><li>263</li><li>393</li><li>425</li><li>330</li><li>23</li><li>411</li><li>444</li><li>309</li><li>135</li><li>504</li><li>506</li><li>224</li><li>166</li><li>217</li><li>290</li><li>477</li><li>69</li><li>72</li><li>76</li><li>63</li><li>141</li><li>210</li><li>353</li><li>347</li><li>153</li><li>294</li><li>277</li><li>531</li><li>41</li><li>431</li><li>90</li><li>316</li><li>223</li><li>16</li><li>116</li><li>94</li><li>262</li><li>235</li><li>456</li><li>86</li><li>342</li><li>39</li><li>159</li><li>240</li><li>209</li><li>522</li><li>306</li><li>34</li><li>4</li><li>13</li><li>495</li><li>383</li><li>243</li><li>409</li><li>308</li><li>278</li><li>89</li><li>416</li><li>25</li><li>291</li><li>424</li><li>368</li><li>286</li><li>396</li><li>469</li><li>121</li><li>110</li><li>158</li><li>64</li><li>398</li><li>199</li><li>67</li><li>151</li><li>378</li><li>335</li><li>85</li><li>165</li><li>136</li><li>51</li><li>74</li><li>178</li><li>362</li><li>236</li><li>98</li><li>508</li><li>214</li><li>127</li><li>212</li><li>174</li><li>273</li><li>302</li><li>310</li><li>419</li><li>232</li><li>366</li><li>459</li><li>350</li><li>437</li><li>280</li><li>113</li><li>107</li><li>391</li><li>439</li><li>154</li><li>102</li><li>255</li><li>160</li><li>410</li><li>155</li><li>5</li><li>326</li><li>272</li><li>413</li><li>288</li><li>485</li><li>55</li><li>331</li><li>238</li><li>252</li><li>339</li><li>470</li><li>420</li><li>137</li><li>226</li><li>48</li><li>77</li><li>83</li><li>184</li><li>367</li><li>404</li><li>196</li><li>257</li><li>168</li><li>449</li><li>476</li><li>400</li><li>344</li><li>390</li><li>20</li><li>360</li><li>528</li><li>349</li><li>164</li><li>52</li><li>364</li><li>22</li><li>177</li><li>42</li><li>315</li><li>84</li><li>11</li><li>446</li><li>421</li><li>436</li><li>194</li><li>501</li><li>386</li><li>198</li><li>249</li><li>200</li><li>405</li><li>250</li><li>292</li><li>478</li><li>33</li><li>40</li><li>10</li><li>352</li><li>125</li><li>265</li><li>511</li><li>186</li><li>61</li><li>510</li><li>152</li><li>319</li><li>54</li><li>518</li><li>474</li><li>289</li><li>185</li><li>253</li><li>115</li><li>345</li><li>502</li><li>414</li><li>205</li><li>267</li><li>453</li><li>450</li><li>282</li><li>215</li><li>351</li><li>57</li><li>105</li><li>279</li><li>270</li><li>134</li><li>129</li><li>218</li><li>106</li><li>340</li><li>285</li><li>334</li><li>27</li><li>7</li><li>245</li><li>408</li><li>483</li><li>451</li><li>222</li><li>447</li><li>145</li><li>318</li><li>148</li><li>163</li><li>394</li><li>161</li><li>66</li><li>484</li><li>225</li><li>117</li><li>323</li><li>434</li><li>448</li><li>498</li><li>358</li><li>45</li><li>146</li><li>170</li><li>314</li><li>441</li><li>176</li><li>305</li><li>104</li><li>399</li><li>513</li><li>452</li><li>258</li><li>365</li><li>491</li><li>24</li><li>130</li><li>435</li><li>191</li><li>493</li><li>321</li><li>354</li><li>234</li><li>443</li><li>80</li><li>36</li><li>427</li><li>387</li><li>111</li><li>507</li><li>371</li><li>389</li><li>392</li><li>382</li><li>301</li><li>31</li><li>251</li><li>73</li><li>260</li><li>388</li><li>417</li><li>122</li><li>172</li><li>303</li><li>92</li><li>93</li><li>343</li><li>43</li><li>338</li><li>268</li><li>356</li><li>488</li><li>385</li><li>140</li><li>428</li><li>21</li><li>467</li><li>266</li><li>377</li><li>35</li><li>30</li><li>438</li><li>482</li><li>175</li><li>527</li><li>440</li><li>329</li><li>372</li><li>82</li><li>96</li><li>525</li><li>407</li><li>471</li><li>379</li><li>213</li><li>216</li><li>457</li><li>271</li><li>297</li><li>207</li><li>227</li><li>169</li><li>442</li><li>167</li><li>81</li><li>324</li><li>500</li><li>311</li><li>119</li><li>361</li><li>412</li><li>108</li><li>269</li><li>147</li><li>208</li><li>532</li><li>505</li><li>219</li><li>473</li><li>325</li><li>520</li><li>369</li><li>479</li><li>486</li></ol>\n"
            ],
            "text/markdown": "1. 415\n2. 463\n3. 179\n4. 526\n5. 195\n6. 118\n7. 299\n8. 229\n9. 244\n10. 14\n11. 374\n12. 91\n13. 348\n14. 355\n15. 26\n16. 426\n17. 211\n18. 373\n19. 143\n20. 490\n21. 109\n22. 263\n23. 393\n24. 425\n25. 330\n26. 23\n27. 411\n28. 444\n29. 309\n30. 135\n31. 504\n32. 506\n33. 224\n34. 166\n35. 217\n36. 290\n37. 477\n38. 69\n39. 72\n40. 76\n41. 63\n42. 141\n43. 210\n44. 353\n45. 347\n46. 153\n47. 294\n48. 277\n49. 531\n50. 41\n51. 431\n52. 90\n53. 316\n54. 223\n55. 16\n56. 116\n57. 94\n58. 262\n59. 235\n60. 456\n61. 86\n62. 342\n63. 39\n64. 159\n65. 240\n66. 209\n67. 522\n68. 306\n69. 34\n70. 4\n71. 13\n72. 495\n73. 383\n74. 243\n75. 409\n76. 308\n77. 278\n78. 89\n79. 416\n80. 25\n81. 291\n82. 424\n83. 368\n84. 286\n85. 396\n86. 469\n87. 121\n88. 110\n89. 158\n90. 64\n91. 398\n92. 199\n93. 67\n94. 151\n95. 378\n96. 335\n97. 85\n98. 165\n99. 136\n100. 51\n101. 74\n102. 178\n103. 362\n104. 236\n105. 98\n106. 508\n107. 214\n108. 127\n109. 212\n110. 174\n111. 273\n112. 302\n113. 310\n114. 419\n115. 232\n116. 366\n117. 459\n118. 350\n119. 437\n120. 280\n121. 113\n122. 107\n123. 391\n124. 439\n125. 154\n126. 102\n127. 255\n128. 160\n129. 410\n130. 155\n131. 5\n132. 326\n133. 272\n134. 413\n135. 288\n136. 485\n137. 55\n138. 331\n139. 238\n140. 252\n141. 339\n142. 470\n143. 420\n144. 137\n145. 226\n146. 48\n147. 77\n148. 83\n149. 184\n150. 367\n151. 404\n152. 196\n153. 257\n154. 168\n155. 449\n156. 476\n157. 400\n158. 344\n159. 390\n160. 20\n161. 360\n162. 528\n163. 349\n164. 164\n165. 52\n166. 364\n167. 22\n168. 177\n169. 42\n170. 315\n171. 84\n172. 11\n173. 446\n174. 421\n175. 436\n176. 194\n177. 501\n178. 386\n179. 198\n180. 249\n181. 200\n182. 405\n183. 250\n184. 292\n185. 478\n186. 33\n187. 40\n188. 10\n189. 352\n190. 125\n191. 265\n192. 511\n193. 186\n194. 61\n195. 510\n196. 152\n197. 319\n198. 54\n199. 518\n200. 474\n201. 289\n202. 185\n203. 253\n204. 115\n205. 345\n206. 502\n207. 414\n208. 205\n209. 267\n210. 453\n211. 450\n212. 282\n213. 215\n214. 351\n215. 57\n216. 105\n217. 279\n218. 270\n219. 134\n220. 129\n221. 218\n222. 106\n223. 340\n224. 285\n225. 334\n226. 27\n227. 7\n228. 245\n229. 408\n230. 483\n231. 451\n232. 222\n233. 447\n234. 145\n235. 318\n236. 148\n237. 163\n238. 394\n239. 161\n240. 66\n241. 484\n242. 225\n243. 117\n244. 323\n245. 434\n246. 448\n247. 498\n248. 358\n249. 45\n250. 146\n251. 170\n252. 314\n253. 441\n254. 176\n255. 305\n256. 104\n257. 399\n258. 513\n259. 452\n260. 258\n261. 365\n262. 491\n263. 24\n264. 130\n265. 435\n266. 191\n267. 493\n268. 321\n269. 354\n270. 234\n271. 443\n272. 80\n273. 36\n274. 427\n275. 387\n276. 111\n277. 507\n278. 371\n279. 389\n280. 392\n281. 382\n282. 301\n283. 31\n284. 251\n285. 73\n286. 260\n287. 388\n288. 417\n289. 122\n290. 172\n291. 303\n292. 92\n293. 93\n294. 343\n295. 43\n296. 338\n297. 268\n298. 356\n299. 488\n300. 385\n301. 140\n302. 428\n303. 21\n304. 467\n305. 266\n306. 377\n307. 35\n308. 30\n309. 438\n310. 482\n311. 175\n312. 527\n313. 440\n314. 329\n315. 372\n316. 82\n317. 96\n318. 525\n319. 407\n320. 471\n321. 379\n322. 213\n323. 216\n324. 457\n325. 271\n326. 297\n327. 207\n328. 227\n329. 169\n330. 442\n331. 167\n332. 81\n333. 324\n334. 500\n335. 311\n336. 119\n337. 361\n338. 412\n339. 108\n340. 269\n341. 147\n342. 208\n343. 532\n344. 505\n345. 219\n346. 473\n347. 325\n348. 520\n349. 369\n350. 479\n351. 486\n\n\n",
            "text/latex": "\\begin{enumerate*}\n\\item 415\n\\item 463\n\\item 179\n\\item 526\n\\item 195\n\\item 118\n\\item 299\n\\item 229\n\\item 244\n\\item 14\n\\item 374\n\\item 91\n\\item 348\n\\item 355\n\\item 26\n\\item 426\n\\item 211\n\\item 373\n\\item 143\n\\item 490\n\\item 109\n\\item 263\n\\item 393\n\\item 425\n\\item 330\n\\item 23\n\\item 411\n\\item 444\n\\item 309\n\\item 135\n\\item 504\n\\item 506\n\\item 224\n\\item 166\n\\item 217\n\\item 290\n\\item 477\n\\item 69\n\\item 72\n\\item 76\n\\item 63\n\\item 141\n\\item 210\n\\item 353\n\\item 347\n\\item 153\n\\item 294\n\\item 277\n\\item 531\n\\item 41\n\\item 431\n\\item 90\n\\item 316\n\\item 223\n\\item 16\n\\item 116\n\\item 94\n\\item 262\n\\item 235\n\\item 456\n\\item 86\n\\item 342\n\\item 39\n\\item 159\n\\item 240\n\\item 209\n\\item 522\n\\item 306\n\\item 34\n\\item 4\n\\item 13\n\\item 495\n\\item 383\n\\item 243\n\\item 409\n\\item 308\n\\item 278\n\\item 89\n\\item 416\n\\item 25\n\\item 291\n\\item 424\n\\item 368\n\\item 286\n\\item 396\n\\item 469\n\\item 121\n\\item 110\n\\item 158\n\\item 64\n\\item 398\n\\item 199\n\\item 67\n\\item 151\n\\item 378\n\\item 335\n\\item 85\n\\item 165\n\\item 136\n\\item 51\n\\item 74\n\\item 178\n\\item 362\n\\item 236\n\\item 98\n\\item 508\n\\item 214\n\\item 127\n\\item 212\n\\item 174\n\\item 273\n\\item 302\n\\item 310\n\\item 419\n\\item 232\n\\item 366\n\\item 459\n\\item 350\n\\item 437\n\\item 280\n\\item 113\n\\item 107\n\\item 391\n\\item 439\n\\item 154\n\\item 102\n\\item 255\n\\item 160\n\\item 410\n\\item 155\n\\item 5\n\\item 326\n\\item 272\n\\item 413\n\\item 288\n\\item 485\n\\item 55\n\\item 331\n\\item 238\n\\item 252\n\\item 339\n\\item 470\n\\item 420\n\\item 137\n\\item 226\n\\item 48\n\\item 77\n\\item 83\n\\item 184\n\\item 367\n\\item 404\n\\item 196\n\\item 257\n\\item 168\n\\item 449\n\\item 476\n\\item 400\n\\item 344\n\\item 390\n\\item 20\n\\item 360\n\\item 528\n\\item 349\n\\item 164\n\\item 52\n\\item 364\n\\item 22\n\\item 177\n\\item 42\n\\item 315\n\\item 84\n\\item 11\n\\item 446\n\\item 421\n\\item 436\n\\item 194\n\\item 501\n\\item 386\n\\item 198\n\\item 249\n\\item 200\n\\item 405\n\\item 250\n\\item 292\n\\item 478\n\\item 33\n\\item 40\n\\item 10\n\\item 352\n\\item 125\n\\item 265\n\\item 511\n\\item 186\n\\item 61\n\\item 510\n\\item 152\n\\item 319\n\\item 54\n\\item 518\n\\item 474\n\\item 289\n\\item 185\n\\item 253\n\\item 115\n\\item 345\n\\item 502\n\\item 414\n\\item 205\n\\item 267\n\\item 453\n\\item 450\n\\item 282\n\\item 215\n\\item 351\n\\item 57\n\\item 105\n\\item 279\n\\item 270\n\\item 134\n\\item 129\n\\item 218\n\\item 106\n\\item 340\n\\item 285\n\\item 334\n\\item 27\n\\item 7\n\\item 245\n\\item 408\n\\item 483\n\\item 451\n\\item 222\n\\item 447\n\\item 145\n\\item 318\n\\item 148\n\\item 163\n\\item 394\n\\item 161\n\\item 66\n\\item 484\n\\item 225\n\\item 117\n\\item 323\n\\item 434\n\\item 448\n\\item 498\n\\item 358\n\\item 45\n\\item 146\n\\item 170\n\\item 314\n\\item 441\n\\item 176\n\\item 305\n\\item 104\n\\item 399\n\\item 513\n\\item 452\n\\item 258\n\\item 365\n\\item 491\n\\item 24\n\\item 130\n\\item 435\n\\item 191\n\\item 493\n\\item 321\n\\item 354\n\\item 234\n\\item 443\n\\item 80\n\\item 36\n\\item 427\n\\item 387\n\\item 111\n\\item 507\n\\item 371\n\\item 389\n\\item 392\n\\item 382\n\\item 301\n\\item 31\n\\item 251\n\\item 73\n\\item 260\n\\item 388\n\\item 417\n\\item 122\n\\item 172\n\\item 303\n\\item 92\n\\item 93\n\\item 343\n\\item 43\n\\item 338\n\\item 268\n\\item 356\n\\item 488\n\\item 385\n\\item 140\n\\item 428\n\\item 21\n\\item 467\n\\item 266\n\\item 377\n\\item 35\n\\item 30\n\\item 438\n\\item 482\n\\item 175\n\\item 527\n\\item 440\n\\item 329\n\\item 372\n\\item 82\n\\item 96\n\\item 525\n\\item 407\n\\item 471\n\\item 379\n\\item 213\n\\item 216\n\\item 457\n\\item 271\n\\item 297\n\\item 207\n\\item 227\n\\item 169\n\\item 442\n\\item 167\n\\item 81\n\\item 324\n\\item 500\n\\item 311\n\\item 119\n\\item 361\n\\item 412\n\\item 108\n\\item 269\n\\item 147\n\\item 208\n\\item 532\n\\item 505\n\\item 219\n\\item 473\n\\item 325\n\\item 520\n\\item 369\n\\item 479\n\\item 486\n\\end{enumerate*}\n",
            "text/plain": [
              "  [1] 415 463 179 526 195 118 299 229 244  14 374  91 348 355  26 426 211 373\n",
              " [19] 143 490 109 263 393 425 330  23 411 444 309 135 504 506 224 166 217 290\n",
              " [37] 477  69  72  76  63 141 210 353 347 153 294 277 531  41 431  90 316 223\n",
              " [55]  16 116  94 262 235 456  86 342  39 159 240 209 522 306  34   4  13 495\n",
              " [73] 383 243 409 308 278  89 416  25 291 424 368 286 396 469 121 110 158  64\n",
              " [91] 398 199  67 151 378 335  85 165 136  51  74 178 362 236  98 508 214 127\n",
              "[109] 212 174 273 302 310 419 232 366 459 350 437 280 113 107 391 439 154 102\n",
              "[127] 255 160 410 155   5 326 272 413 288 485  55 331 238 252 339 470 420 137\n",
              "[145] 226  48  77  83 184 367 404 196 257 168 449 476 400 344 390  20 360 528\n",
              "[163] 349 164  52 364  22 177  42 315  84  11 446 421 436 194 501 386 198 249\n",
              "[181] 200 405 250 292 478  33  40  10 352 125 265 511 186  61 510 152 319  54\n",
              "[199] 518 474 289 185 253 115 345 502 414 205 267 453 450 282 215 351  57 105\n",
              "[217] 279 270 134 129 218 106 340 285 334  27   7 245 408 483 451 222 447 145\n",
              "[235] 318 148 163 394 161  66 484 225 117 323 434 448 498 358  45 146 170 314\n",
              "[253] 441 176 305 104 399 513 452 258 365 491  24 130 435 191 493 321 354 234\n",
              "[271] 443  80  36 427 387 111 507 371 389 392 382 301  31 251  73 260 388 417\n",
              "[289] 122 172 303  92  93 343  43 338 268 356 488 385 140 428  21 467 266 377\n",
              "[307]  35  30 438 482 175 527 440 329 372  82  96 525 407 471 379 213 216 457\n",
              "[325] 271 297 207 227 169 442 167  81 324 500 311 119 361 412 108 269 147 208\n",
              "[343] 532 505 219 473 325 520 369 479 486"
            ]
          },
          "metadata": {}
        }
      ]
    },
    {
      "cell_type": "code",
      "source": [
        "table(pima$class)"
      ],
      "metadata": {
        "colab": {
          "base_uri": "https://localhost:8080/",
          "height": 68
        },
        "id": "6AYmpJwpK_e6",
        "outputId": "10698a57-a9b2-4bbb-c116-47375324e06e"
      },
      "execution_count": 37,
      "outputs": [
        {
          "output_type": "display_data",
          "data": {
            "text/plain": [
              "\n",
              "diabetic   normal \n",
              "     177      355 "
            ]
          },
          "metadata": {}
        }
      ]
    },
    {
      "cell_type": "code",
      "source": [
        "dim(mypima)"
      ],
      "metadata": {
        "colab": {
          "base_uri": "https://localhost:8080/",
          "height": 34
        },
        "id": "Xekdak9PLDzm",
        "outputId": "ff81ac88-2446-4a7e-d23f-9043f69d900d"
      },
      "execution_count": 38,
      "outputs": [
        {
          "output_type": "display_data",
          "data": {
            "text/html": [
              "<style>\n",
              ".list-inline {list-style: none; margin:0; padding: 0}\n",
              ".list-inline>li {display: inline-block}\n",
              ".list-inline>li:not(:last-child)::after {content: \"\\00b7\"; padding: 0 .5ex}\n",
              "</style>\n",
              "<ol class=list-inline><li>532</li><li>8</li></ol>\n"
            ],
            "text/markdown": "1. 532\n2. 8\n\n\n",
            "text/latex": "\\begin{enumerate*}\n\\item 532\n\\item 8\n\\end{enumerate*}\n",
            "text/plain": [
              "[1] 532   8"
            ]
          },
          "metadata": {}
        }
      ]
    },
    {
      "cell_type": "code",
      "source": [
        "pima_train <- mypima[indis,]"
      ],
      "metadata": {
        "id": "HooDyIjB0fHm"
      },
      "execution_count": 43,
      "outputs": []
    },
    {
      "cell_type": "code",
      "source": [
        "pima_test <- mypima[-indis,]"
      ],
      "metadata": {
        "id": "W0bT5q2k0kAW"
      },
      "execution_count": 44,
      "outputs": []
    },
    {
      "cell_type": "code",
      "source": [
        "head(pima_train)"
      ],
      "metadata": {
        "colab": {
          "base_uri": "https://localhost:8080/",
          "height": 303
        },
        "id": "A24Qf4qO0nGU",
        "outputId": "70b3975e-c342-42c8-add4-9d9455b3893a"
      },
      "execution_count": 45,
      "outputs": [
        {
          "output_type": "display_data",
          "data": {
            "text/html": [
              "<table class=\"dataframe\">\n",
              "<caption>A data.frame: 6 × 8</caption>\n",
              "<thead>\n",
              "\t<tr><th></th><th scope=col>npregnant</th><th scope=col>glucose</th><th scope=col>diastolic.bp</th><th scope=col>skinfold.thickness</th><th scope=col>bmi</th><th scope=col>pedigree</th><th scope=col>age</th><th scope=col>class</th></tr>\n",
              "\t<tr><th></th><th scope=col>&lt;int&gt;</th><th scope=col>&lt;int&gt;</th><th scope=col>&lt;int&gt;</th><th scope=col>&lt;int&gt;</th><th scope=col>&lt;dbl&gt;</th><th scope=col>&lt;dbl&gt;</th><th scope=col>&lt;int&gt;</th><th scope=col>&lt;fct&gt;</th></tr>\n",
              "</thead>\n",
              "<tbody>\n",
              "\t<tr><th scope=row>415</th><td> 1</td><td> 89</td><td>24</td><td>19</td><td>27.8</td><td>0.559</td><td>21</td><td>normal  </td></tr>\n",
              "\t<tr><th scope=row>463</th><td>10</td><td>111</td><td>70</td><td>27</td><td>27.5</td><td>0.141</td><td>40</td><td>diabetic</td></tr>\n",
              "\t<tr><th scope=row>179</th><td> 4</td><td> 95</td><td>70</td><td>32</td><td>32.1</td><td>0.612</td><td>24</td><td>normal  </td></tr>\n",
              "\t<tr><th scope=row>526</th><td> 7</td><td>137</td><td>90</td><td>41</td><td>32.0</td><td>0.391</td><td>39</td><td>normal  </td></tr>\n",
              "\t<tr><th scope=row>195</th><td> 4</td><td> 96</td><td>56</td><td>17</td><td>20.8</td><td>0.340</td><td>26</td><td>normal  </td></tr>\n",
              "\t<tr><th scope=row>118</th><td> 8</td><td>179</td><td>72</td><td>42</td><td>32.7</td><td>0.719</td><td>36</td><td>diabetic</td></tr>\n",
              "</tbody>\n",
              "</table>\n"
            ],
            "text/markdown": "\nA data.frame: 6 × 8\n\n| <!--/--> | npregnant &lt;int&gt; | glucose &lt;int&gt; | diastolic.bp &lt;int&gt; | skinfold.thickness &lt;int&gt; | bmi &lt;dbl&gt; | pedigree &lt;dbl&gt; | age &lt;int&gt; | class &lt;fct&gt; |\n|---|---|---|---|---|---|---|---|---|\n| 415 |  1 |  89 | 24 | 19 | 27.8 | 0.559 | 21 | normal   |\n| 463 | 10 | 111 | 70 | 27 | 27.5 | 0.141 | 40 | diabetic |\n| 179 |  4 |  95 | 70 | 32 | 32.1 | 0.612 | 24 | normal   |\n| 526 |  7 | 137 | 90 | 41 | 32.0 | 0.391 | 39 | normal   |\n| 195 |  4 |  96 | 56 | 17 | 20.8 | 0.340 | 26 | normal   |\n| 118 |  8 | 179 | 72 | 42 | 32.7 | 0.719 | 36 | diabetic |\n\n",
            "text/latex": "A data.frame: 6 × 8\n\\begin{tabular}{r|llllllll}\n  & npregnant & glucose & diastolic.bp & skinfold.thickness & bmi & pedigree & age & class\\\\\n  & <int> & <int> & <int> & <int> & <dbl> & <dbl> & <int> & <fct>\\\\\n\\hline\n\t415 &  1 &  89 & 24 & 19 & 27.8 & 0.559 & 21 & normal  \\\\\n\t463 & 10 & 111 & 70 & 27 & 27.5 & 0.141 & 40 & diabetic\\\\\n\t179 &  4 &  95 & 70 & 32 & 32.1 & 0.612 & 24 & normal  \\\\\n\t526 &  7 & 137 & 90 & 41 & 32.0 & 0.391 & 39 & normal  \\\\\n\t195 &  4 &  96 & 56 & 17 & 20.8 & 0.340 & 26 & normal  \\\\\n\t118 &  8 & 179 & 72 & 42 & 32.7 & 0.719 & 36 & diabetic\\\\\n\\end{tabular}\n",
            "text/plain": [
              "    npregnant glucose diastolic.bp skinfold.thickness bmi  pedigree age\n",
              "415  1         89     24           19                 27.8 0.559    21 \n",
              "463 10        111     70           27                 27.5 0.141    40 \n",
              "179  4         95     70           32                 32.1 0.612    24 \n",
              "526  7        137     90           41                 32.0 0.391    39 \n",
              "195  4         96     56           17                 20.8 0.340    26 \n",
              "118  8        179     72           42                 32.7 0.719    36 \n",
              "    class   \n",
              "415 normal  \n",
              "463 diabetic\n",
              "179 normal  \n",
              "526 normal  \n",
              "195 normal  \n",
              "118 diabetic"
            ]
          },
          "metadata": {}
        }
      ]
    },
    {
      "cell_type": "code",
      "source": [
        "head(pima_test)"
      ],
      "metadata": {
        "colab": {
          "base_uri": "https://localhost:8080/",
          "height": 303
        },
        "id": "smIYibGO1lE3",
        "outputId": "a181900a-3240-4d73-a6e8-0f86077f160b"
      },
      "execution_count": 46,
      "outputs": [
        {
          "output_type": "display_data",
          "data": {
            "text/html": [
              "<table class=\"dataframe\">\n",
              "<caption>A data.frame: 6 × 8</caption>\n",
              "<thead>\n",
              "\t<tr><th></th><th scope=col>npregnant</th><th scope=col>glucose</th><th scope=col>diastolic.bp</th><th scope=col>skinfold.thickness</th><th scope=col>bmi</th><th scope=col>pedigree</th><th scope=col>age</th><th scope=col>class</th></tr>\n",
              "\t<tr><th></th><th scope=col>&lt;int&gt;</th><th scope=col>&lt;int&gt;</th><th scope=col>&lt;int&gt;</th><th scope=col>&lt;int&gt;</th><th scope=col>&lt;dbl&gt;</th><th scope=col>&lt;dbl&gt;</th><th scope=col>&lt;int&gt;</th><th scope=col>&lt;fct&gt;</th></tr>\n",
              "</thead>\n",
              "<tbody>\n",
              "\t<tr><th scope=row>1</th><td>6</td><td>148</td><td>72</td><td>35</td><td>33.6</td><td>0.627</td><td>50</td><td>diabetic</td></tr>\n",
              "\t<tr><th scope=row>2</th><td>1</td><td> 85</td><td>66</td><td>29</td><td>26.6</td><td>0.351</td><td>31</td><td>normal  </td></tr>\n",
              "\t<tr><th scope=row>3</th><td>1</td><td> 89</td><td>66</td><td>23</td><td>28.1</td><td>0.167</td><td>21</td><td>normal  </td></tr>\n",
              "\t<tr><th scope=row>6</th><td>2</td><td>197</td><td>70</td><td>45</td><td>30.5</td><td>0.158</td><td>53</td><td>diabetic</td></tr>\n",
              "\t<tr><th scope=row>8</th><td>5</td><td>166</td><td>72</td><td>19</td><td>25.8</td><td>0.587</td><td>51</td><td>diabetic</td></tr>\n",
              "\t<tr><th scope=row>9</th><td>0</td><td>118</td><td>84</td><td>47</td><td>45.8</td><td>0.551</td><td>31</td><td>diabetic</td></tr>\n",
              "</tbody>\n",
              "</table>\n"
            ],
            "text/markdown": "\nA data.frame: 6 × 8\n\n| <!--/--> | npregnant &lt;int&gt; | glucose &lt;int&gt; | diastolic.bp &lt;int&gt; | skinfold.thickness &lt;int&gt; | bmi &lt;dbl&gt; | pedigree &lt;dbl&gt; | age &lt;int&gt; | class &lt;fct&gt; |\n|---|---|---|---|---|---|---|---|---|\n| 1 | 6 | 148 | 72 | 35 | 33.6 | 0.627 | 50 | diabetic |\n| 2 | 1 |  85 | 66 | 29 | 26.6 | 0.351 | 31 | normal   |\n| 3 | 1 |  89 | 66 | 23 | 28.1 | 0.167 | 21 | normal   |\n| 6 | 2 | 197 | 70 | 45 | 30.5 | 0.158 | 53 | diabetic |\n| 8 | 5 | 166 | 72 | 19 | 25.8 | 0.587 | 51 | diabetic |\n| 9 | 0 | 118 | 84 | 47 | 45.8 | 0.551 | 31 | diabetic |\n\n",
            "text/latex": "A data.frame: 6 × 8\n\\begin{tabular}{r|llllllll}\n  & npregnant & glucose & diastolic.bp & skinfold.thickness & bmi & pedigree & age & class\\\\\n  & <int> & <int> & <int> & <int> & <dbl> & <dbl> & <int> & <fct>\\\\\n\\hline\n\t1 & 6 & 148 & 72 & 35 & 33.6 & 0.627 & 50 & diabetic\\\\\n\t2 & 1 &  85 & 66 & 29 & 26.6 & 0.351 & 31 & normal  \\\\\n\t3 & 1 &  89 & 66 & 23 & 28.1 & 0.167 & 21 & normal  \\\\\n\t6 & 2 & 197 & 70 & 45 & 30.5 & 0.158 & 53 & diabetic\\\\\n\t8 & 5 & 166 & 72 & 19 & 25.8 & 0.587 & 51 & diabetic\\\\\n\t9 & 0 & 118 & 84 & 47 & 45.8 & 0.551 & 31 & diabetic\\\\\n\\end{tabular}\n",
            "text/plain": [
              "  npregnant glucose diastolic.bp skinfold.thickness bmi  pedigree age class   \n",
              "1 6         148     72           35                 33.6 0.627    50  diabetic\n",
              "2 1          85     66           29                 26.6 0.351    31  normal  \n",
              "3 1          89     66           23                 28.1 0.167    21  normal  \n",
              "6 2         197     70           45                 30.5 0.158    53  diabetic\n",
              "8 5         166     72           19                 25.8 0.587    51  diabetic\n",
              "9 0         118     84           47                 45.8 0.551    31  diabetic"
            ]
          },
          "metadata": {}
        }
      ]
    },
    {
      "cell_type": "markdown",
      "source": [
        "### LOGISTIC REGRESSION"
      ],
      "metadata": {
        "id": "FPqsD2gP1p5g"
      }
    },
    {
      "cell_type": "code",
      "source": [
        "glm.fit <- glm(class~. , data = pima_train, family =\"binomial\")  #generalised linear model"
      ],
      "metadata": {
        "id": "3zNF32aH1u43"
      },
      "execution_count": 48,
      "outputs": []
    },
    {
      "cell_type": "code",
      "source": [
        "summary(glm.fit)"
      ],
      "metadata": {
        "colab": {
          "base_uri": "https://localhost:8080/",
          "height": 425
        },
        "id": "sO2bnF842IZm",
        "outputId": "1ea9a5e1-2696-40c8-8563-7fd1ed705c72"
      },
      "execution_count": 49,
      "outputs": [
        {
          "output_type": "display_data",
          "data": {
            "text/plain": [
              "\n",
              "Call:\n",
              "glm(formula = class ~ ., family = \"binomial\", data = pima_train)\n",
              "\n",
              "Coefficients:\n",
              "                    Estimate Std. Error z value Pr(>|z|)    \n",
              "(Intercept)         9.514051   1.180984   8.056 7.88e-16 ***\n",
              "npregnant          -0.113847   0.057386  -1.984  0.04727 *  \n",
              "glucose            -0.030433   0.005055  -6.020 1.74e-09 ***\n",
              "diastolic.bp        0.009645   0.012150   0.794  0.42728    \n",
              "skinfold.thickness -0.005787   0.019202  -0.301  0.76314    \n",
              "bmi                -0.082207   0.027730  -2.965  0.00303 ** \n",
              "pedigree           -1.386633   0.440116  -3.151  0.00163 ** \n",
              "age                -0.051579   0.018724  -2.755  0.00588 ** \n",
              "---\n",
              "Signif. codes:  0 ‘***’ 0.001 ‘**’ 0.01 ‘*’ 0.05 ‘.’ 0.1 ‘ ’ 1\n",
              "\n",
              "(Dispersion parameter for binomial family taken to be 1)\n",
              "\n",
              "    Null deviance: 449.55  on 350  degrees of freedom\n",
              "Residual deviance: 309.12  on 343  degrees of freedom\n",
              "AIC: 325.12\n",
              "\n",
              "Number of Fisher Scoring iterations: 5\n"
            ]
          },
          "metadata": {}
        }
      ]
    },
    {
      "cell_type": "code",
      "source": [
        "names(glm.fit)"
      ],
      "metadata": {
        "colab": {
          "base_uri": "https://localhost:8080/",
          "height": 85
        },
        "id": "b0LD7Tl42Nd5",
        "outputId": "00dc7f5e-37f3-4455-915b-1a79c90c6210"
      },
      "execution_count": 50,
      "outputs": [
        {
          "output_type": "display_data",
          "data": {
            "text/html": [
              "<style>\n",
              ".list-inline {list-style: none; margin:0; padding: 0}\n",
              ".list-inline>li {display: inline-block}\n",
              ".list-inline>li:not(:last-child)::after {content: \"\\00b7\"; padding: 0 .5ex}\n",
              "</style>\n",
              "<ol class=list-inline><li>'coefficients'</li><li>'residuals'</li><li>'fitted.values'</li><li>'effects'</li><li>'R'</li><li>'rank'</li><li>'qr'</li><li>'family'</li><li>'linear.predictors'</li><li>'deviance'</li><li>'aic'</li><li>'null.deviance'</li><li>'iter'</li><li>'weights'</li><li>'prior.weights'</li><li>'df.residual'</li><li>'df.null'</li><li>'y'</li><li>'converged'</li><li>'boundary'</li><li>'model'</li><li>'call'</li><li>'formula'</li><li>'terms'</li><li>'data'</li><li>'offset'</li><li>'control'</li><li>'method'</li><li>'contrasts'</li><li>'xlevels'</li></ol>\n"
            ],
            "text/markdown": "1. 'coefficients'\n2. 'residuals'\n3. 'fitted.values'\n4. 'effects'\n5. 'R'\n6. 'rank'\n7. 'qr'\n8. 'family'\n9. 'linear.predictors'\n10. 'deviance'\n11. 'aic'\n12. 'null.deviance'\n13. 'iter'\n14. 'weights'\n15. 'prior.weights'\n16. 'df.residual'\n17. 'df.null'\n18. 'y'\n19. 'converged'\n20. 'boundary'\n21. 'model'\n22. 'call'\n23. 'formula'\n24. 'terms'\n25. 'data'\n26. 'offset'\n27. 'control'\n28. 'method'\n29. 'contrasts'\n30. 'xlevels'\n\n\n",
            "text/latex": "\\begin{enumerate*}\n\\item 'coefficients'\n\\item 'residuals'\n\\item 'fitted.values'\n\\item 'effects'\n\\item 'R'\n\\item 'rank'\n\\item 'qr'\n\\item 'family'\n\\item 'linear.predictors'\n\\item 'deviance'\n\\item 'aic'\n\\item 'null.deviance'\n\\item 'iter'\n\\item 'weights'\n\\item 'prior.weights'\n\\item 'df.residual'\n\\item 'df.null'\n\\item 'y'\n\\item 'converged'\n\\item 'boundary'\n\\item 'model'\n\\item 'call'\n\\item 'formula'\n\\item 'terms'\n\\item 'data'\n\\item 'offset'\n\\item 'control'\n\\item 'method'\n\\item 'contrasts'\n\\item 'xlevels'\n\\end{enumerate*}\n",
            "text/plain": [
              " [1] \"coefficients\"      \"residuals\"         \"fitted.values\"    \n",
              " [4] \"effects\"           \"R\"                 \"rank\"             \n",
              " [7] \"qr\"                \"family\"            \"linear.predictors\"\n",
              "[10] \"deviance\"          \"aic\"               \"null.deviance\"    \n",
              "[13] \"iter\"              \"weights\"           \"prior.weights\"    \n",
              "[16] \"df.residual\"       \"df.null\"           \"y\"                \n",
              "[19] \"converged\"         \"boundary\"          \"model\"            \n",
              "[22] \"call\"              \"formula\"           \"terms\"            \n",
              "[25] \"data\"              \"offset\"            \"control\"          \n",
              "[28] \"method\"            \"contrasts\"         \"xlevels\"          "
            ]
          },
          "metadata": {}
        }
      ]
    },
    {
      "cell_type": "code",
      "source": [
        "glm.fit$coefficients"
      ],
      "metadata": {
        "colab": {
          "base_uri": "https://localhost:8080/",
          "height": 85
        },
        "id": "uQ-_UJij2ZVo",
        "outputId": "8ac161b7-0f1e-4813-fa31-d7bbffc7276a"
      },
      "execution_count": 51,
      "outputs": [
        {
          "output_type": "display_data",
          "data": {
            "text/html": [
              "<style>\n",
              ".dl-inline {width: auto; margin:0; padding: 0}\n",
              ".dl-inline>dt, .dl-inline>dd {float: none; width: auto; display: inline-block}\n",
              ".dl-inline>dt::after {content: \":\\0020\"; padding-right: .5ex}\n",
              ".dl-inline>dt:not(:first-of-type) {padding-left: .5ex}\n",
              "</style><dl class=dl-inline><dt>(Intercept)</dt><dd>9.51405079043419</dd><dt>npregnant</dt><dd>-0.113847392208803</dd><dt>glucose</dt><dd>-0.0304328368897564</dd><dt>diastolic.bp</dt><dd>0.00964520675056756</dd><dt>skinfold.thickness</dt><dd>-0.00578658182806445</dd><dt>bmi</dt><dd>-0.0822067808333133</dd><dt>pedigree</dt><dd>-1.38663337139895</dd><dt>age</dt><dd>-0.0515786715770423</dd></dl>\n"
            ],
            "text/markdown": "(Intercept)\n:   9.51405079043419npregnant\n:   -0.113847392208803glucose\n:   -0.0304328368897564diastolic.bp\n:   0.00964520675056756skinfold.thickness\n:   -0.00578658182806445bmi\n:   -0.0822067808333133pedigree\n:   -1.38663337139895age\n:   -0.0515786715770423\n\n",
            "text/latex": "\\begin{description*}\n\\item[(Intercept)] 9.51405079043419\n\\item[npregnant] -0.113847392208803\n\\item[glucose] -0.0304328368897564\n\\item[diastolic.bp] 0.00964520675056756\n\\item[skinfold.thickness] -0.00578658182806445\n\\item[bmi] -0.0822067808333133\n\\item[pedigree] -1.38663337139895\n\\item[age] -0.0515786715770423\n\\end{description*}\n",
            "text/plain": [
              "       (Intercept)          npregnant            glucose       diastolic.bp \n",
              "       9.514050790       -0.113847392       -0.030432837        0.009645207 \n",
              "skinfold.thickness                bmi           pedigree                age \n",
              "      -0.005786582       -0.082206781       -1.386633371       -0.051578672 "
            ]
          },
          "metadata": {}
        }
      ]
    },
    {
      "cell_type": "code",
      "source": [
        " round(glm.fit$fitted.values)"
      ],
      "metadata": {
        "colab": {
          "base_uri": "https://localhost:8080/",
          "height": 816
        },
        "id": "u_9U6JIY2dC6",
        "outputId": "5d050ddc-377f-4e40-eae1-34f6338862b9"
      },
      "execution_count": 53,
      "outputs": [
        {
          "output_type": "display_data",
          "data": {
            "text/html": [
              "<style>\n",
              ".dl-inline {width: auto; margin:0; padding: 0}\n",
              ".dl-inline>dt, .dl-inline>dd {float: none; width: auto; display: inline-block}\n",
              ".dl-inline>dt::after {content: \":\\0020\"; padding-right: .5ex}\n",
              ".dl-inline>dt:not(:first-of-type) {padding-left: .5ex}\n",
              "</style><dl class=dl-inline><dt>415</dt><dd>1</dd><dt>463</dt><dd>1</dd><dt>179</dt><dd>1</dd><dt>526</dt><dd>0</dd><dt>195</dt><dd>1</dd><dt>118</dt><dd>0</dd><dt>299</dt><dd>1</dd><dt>229</dt><dd>0</dd><dt>244</dt><dd>0</dd><dt>14</dt><dd>0</dd><dt>374</dt><dd>1</dd><dt>91</dt><dd>1</dd><dt>348</dt><dd>0</dd><dt>355</dt><dd>1</dd><dt>26</dt><dd>0</dd><dt>426</dt><dd>0</dd><dt>211</dt><dd>1</dd><dt>373</dt><dd>0</dd><dt>143</dt><dd>1</dd><dt>490</dt><dd>1</dd><dt>109</dt><dd>1</dd><dt>263</dt><dd>1</dd><dt>393</dt><dd>1</dd><dt>425</dt><dd>1</dd><dt>330</dt><dd>1</dd><dt>23</dt><dd>0</dd><dt>411</dt><dd>1</dd><dt>444</dt><dd>1</dd><dt>309</dt><dd>1</dd><dt>135</dt><dd>0</dd><dt>504</dt><dd>1</dd><dt>506</dt><dd>1</dd><dt>224</dt><dd>1</dd><dt>166</dt><dd>0</dd><dt>217</dt><dd>1</dd><dt>290</dt><dd>1</dd><dt>477</dt><dd>0</dd><dt>69</dt><dd>1</dd><dt>72</dt><dd>1</dd><dt>76</dt><dd>0</dd><dt>63</dt><dd>0</dd><dt>141</dt><dd>1</dd><dt>210</dt><dd>1</dd><dt>353</dt><dd>0</dd><dt>347</dt><dd>0</dd><dt>153</dt><dd>0</dd><dt>294</dt><dd>0</dd><dt>277</dt><dd>1</dd><dt>531</dt><dd>1</dd><dt>41</dt><dd>1</dd><dt>431</dt><dd>0</dd><dt>90</dt><dd>1</dd><dt>316</dt><dd>1</dd><dt>223</dt><dd>0</dd><dt>16</dt><dd>1</dd><dt>116</dt><dd>1</dd><dt>94</dt><dd>1</dd><dt>262</dt><dd>1</dd><dt>235</dt><dd>1</dd><dt>456</dt><dd>1</dd><dt>86</dt><dd>0</dd><dt>342</dt><dd>1</dd><dt>39</dt><dd>1</dd><dt>159</dt><dd>0</dd><dt>240</dt><dd>1</dd><dt>209</dt><dd>1</dd><dt>522</dt><dd>1</dd><dt>306</dt><dd>1</dd><dt>34</dt><dd>1</dd><dt>4</dt><dd>0</dd><dt>13</dt><dd>1</dd><dt>495</dt><dd>0</dd><dt>383</dt><dd>1</dd><dt>243</dt><dd>0</dd><dt>409</dt><dd>0</dd><dt>308</dt><dd>1</dd><dt>278</dt><dd>1</dd><dt>89</dt><dd>1</dd><dt>416</dt><dd>1</dd><dt>25</dt><dd>0</dd><dt>291</dt><dd>1</dd><dt>424</dt><dd>1</dd><dt>368</dt><dd>1</dd><dt>286</dt><dd>1</dd><dt>396</dt><dd>0</dd><dt>469</dt><dd>0</dd><dt>121</dt><dd>0</dd><dt>110</dt><dd>1</dd><dt>158</dt><dd>1</dd><dt>64</dt><dd>1</dd><dt>398</dt><dd>1</dd><dt>199</dt><dd>0</dd><dt>67</dt><dd>1</dd><dt>151</dt><dd>1</dd><dt>378</dt><dd>0</dd><dt>335</dt><dd>1</dd><dt>85</dt><dd>1</dd><dt>165</dt><dd>1</dd><dt>136</dt><dd>1</dd><dt>51</dt><dd>1</dd><dt>74</dt><dd>0</dd><dt>178</dt><dd>0</dd><dt>362</dt><dd>1</dd><dt>236</dt><dd>0</dd><dt>98</dt><dd>1</dd><dt>508</dt><dd>1</dd><dt>214</dt><dd>1</dd><dt>127</dt><dd>1</dd><dt>212</dt><dd>1</dd><dt>174</dt><dd>1</dd><dt>273</dt><dd>1</dd><dt>302</dt><dd>1</dd><dt>310</dt><dd>1</dd><dt>419</dt><dd>0</dd><dt>232</dt><dd>0</dd><dt>366</dt><dd>1</dd><dt>459</dt><dd>0</dd><dt>350</dt><dd>1</dd><dt>437</dt><dd>1</dd><dt>280</dt><dd>1</dd><dt>113</dt><dd>1</dd><dt>107</dt><dd>0</dd><dt>391</dt><dd>1</dd><dt>439</dt><dd>1</dd><dt>154</dt><dd>0</dd><dt>102</dt><dd>0</dd><dt>255</dt><dd>0</dd><dt>160</dt><dd>0</dd><dt>410</dt><dd>0</dd><dt>155</dt><dd>1</dd><dt>5</dt><dd>1</dd><dt>326</dt><dd>0</dd><dt>272</dt><dd>1</dd><dt>413</dt><dd>0</dd><dt>288</dt><dd>1</dd><dt>485</dt><dd>0</dd><dt>55</dt><dd>1</dd><dt>331</dt><dd>1</dd><dt>238</dt><dd>1</dd><dt>252</dt><dd>1</dd><dt>339</dt><dd>1</dd><dt>470</dt><dd>1</dd><dt>420</dt><dd>1</dd><dt>137</dt><dd>0</dd><dt>226</dt><dd>1</dd><dt>48</dt><dd>1</dd><dt>77</dt><dd>1</dd><dt>83</dt><dd>1</dd><dt>184</dt><dd>1</dd><dt>367</dt><dd>1</dd><dt>404</dt><dd>1</dd><dt>196</dt><dd>1</dd><dt>257</dt><dd>1</dd><dt>168</dt><dd>1</dd><dt>449</dt><dd>1</dd><dt>476</dt><dd>1</dd><dt>400</dt><dd>1</dd><dt>344</dt><dd>1</dd><dt>390</dt><dd>0</dd><dt>20</dt><dd>1</dd><dt>360</dt><dd>0</dd><dt>528</dt><dd>0</dd><dt>349</dt><dd>1</dd><dt>164</dt><dd>0</dd><dt>52</dt><dd>1</dd><dt>364</dt><dd>1</dd><dt>22</dt><dd>1</dd><dt>177</dt><dd>0</dd><dt>42</dt><dd>1</dd><dt>315</dt><dd>0</dd><dt>84</dt><dd>1</dd><dt>11</dt><dd>1</dd><dt>446</dt><dd>0</dd><dt>421</dt><dd>0</dd><dt>436</dt><dd>1</dd><dt>194</dt><dd>1</dd><dt>501</dt><dd>1</dd><dt>386</dt><dd>1</dd><dt>198</dt><dd>1</dd><dt>249</dt><dd>1</dd><dt>200</dt><dd>1</dd><dt>405</dt><dd>1</dd><dt>250</dt><dd>1</dd><dt>292</dt><dd>1</dd><dt>478</dt><dd>1</dd><dt>33</dt><dd>1</dd><dt>40</dt><dd>1</dd><dt>10</dt><dd>1</dd><dt>352</dt><dd>1</dd><dt>125</dt><dd>1</dd><dt>265</dt><dd>1</dd><dt>511</dt><dd>1</dd><dt>186</dt><dd>1</dd><dt>61</dt><dd>1</dd><dt>510</dt><dd>1</dd><dt>152</dt><dd>1</dd><dt>319</dt><dd>1</dd><dt>54</dt><dd>1</dd><dt>518</dt><dd>0</dd><dt>474</dt><dd>1</dd><dt>289</dt><dd>1</dd><dt>185</dt><dd>1</dd><dt>253</dt><dd>1</dd><dt>115</dt><dd>1</dd><dt>345</dt><dd>0</dd><dt>502</dt><dd>1</dd><dt>414</dt><dd>0</dd><dt>205</dt><dd>1</dd><dt>267</dt><dd>0</dd><dt>453</dt><dd>1</dd><dt>450</dt><dd>1</dd><dt>282</dt><dd>0</dd><dt>215</dt><dd>1</dd><dt>351</dt><dd>1</dd><dt>57</dt><dd>1</dd><dt>105</dt><dd>1</dd><dt>279</dt><dd>0</dd><dt>270</dt><dd>1</dd><dt>134</dt><dd>1</dd><dt>129</dt><dd>1</dd><dt>218</dt><dd>1</dd><dt>106</dt><dd>1</dd><dt>340</dt><dd>0</dd><dt>285</dt><dd>1</dd><dt>334</dt><dd>0</dd><dt>27</dt><dd>1</dd><dt>7</dt><dd>0</dd><dt>245</dt><dd>0</dd><dt>408</dt><dd>1</dd><dt>483</dt><dd>1</dd><dt>451</dt><dd>1</dd><dt>222</dt><dd>1</dd><dt>447</dt><dd>0</dd><dt>145</dt><dd>0</dd><dt>318</dt><dd>0</dd><dt>148</dt><dd>1</dd><dt>163</dt><dd>1</dd><dt>394</dt><dd>1</dd><dt>161</dt><dd>0</dd><dt>66</dt><dd>1</dd><dt>484</dt><dd>1</dd><dt>225</dt><dd>1</dd><dt>117</dt><dd>1</dd><dt>323</dt><dd>1</dd><dt>434</dt><dd>1</dd><dt>448</dt><dd>1</dd><dt>498</dt><dd>1</dd><dt>358</dt><dd>1</dd><dt>45</dt><dd>1</dd><dt>146</dt><dd>1</dd><dt>170</dt><dd>1</dd><dt>314</dt><dd>1</dd><dt>441</dt><dd>1</dd><dt>176</dt><dd>0</dd><dt>305</dt><dd>1</dd><dt>104</dt><dd>1</dd><dt>399</dt><dd>1</dd><dt>513</dt><dd>0</dd><dt>452</dt><dd>1</dd><dt>258</dt><dd>1</dd><dt>365</dt><dd>1</dd><dt>491</dt><dd>1</dd><dt>24</dt><dd>1</dd><dt>130</dt><dd>1</dd><dt>435</dt><dd>1</dd><dt>191</dt><dd>1</dd><dt>493</dt><dd>1</dd><dt>321</dt><dd>1</dd><dt>354</dt><dd>1</dd><dt>234</dt><dd>1</dd><dt>443</dt><dd>1</dd><dt>80</dt><dd>1</dd><dt>36</dt><dd>0</dd><dt>427</dt><dd>0</dd><dt>387</dt><dd>1</dd><dt>111</dt><dd>1</dd><dt>507</dt><dd>0</dd><dt>371</dt><dd>1</dd><dt>389</dt><dd>0</dd><dt>392</dt><dd>1</dd><dt>382</dt><dd>0</dd><dt>301</dt><dd>0</dd><dt>31</dt><dd>1</dd><dt>251</dt><dd>0</dd><dt>73</dt><dd>1</dd><dt>260</dt><dd>1</dd><dt>388</dt><dd>1</dd><dt>417</dt><dd>1</dd><dt>122</dt><dd>0</dd><dt>172</dt><dd>1</dd><dt>303</dt><dd>0</dd><dt>92</dt><dd>1</dd><dt>93</dt><dd>1</dd><dt>343</dt><dd>1</dd><dt>43</dt><dd>1</dd><dt>338</dt><dd>1</dd><dt>268</dt><dd>1</dd><dt>356</dt><dd>1</dd><dt>488</dt><dd>1</dd><dt>385</dt><dd>1</dd><dt>140</dt><dd>1</dd><dt>428</dt><dd>1</dd><dt>21</dt><dd>0</dd><dt>467</dt><dd>1</dd><dt>266</dt><dd>0</dd><dt>377</dt><dd>1</dd><dt>35</dt><dd>0</dd><dt>30</dt><dd>1</dd><dt>438</dt><dd>1</dd><dt>482</dt><dd>1</dd><dt>175</dt><dd>1</dd><dt>527</dt><dd>1</dd><dt>440</dt><dd>1</dd><dt>329</dt><dd>1</dd><dt>372</dt><dd>0</dd><dt>82</dt><dd>1</dd><dt>96</dt><dd>1</dd><dt>525</dt><dd>0</dd><dt>407</dt><dd>0</dd><dt>471</dt><dd>1</dd><dt>379</dt><dd>0</dd><dt>213</dt><dd>1</dd><dt>216</dt><dd>0</dd><dt>457</dt><dd>0</dd><dt>271</dt><dd>1</dd><dt>297</dt><dd>1</dd><dt>207</dt><dd>1</dd><dt>227</dt><dd>1</dd><dt>169</dt><dd>1</dd><dt>442</dt><dd>1</dd><dt>167</dt><dd>0</dd><dt>81</dt><dd>1</dd><dt>324</dt><dd>1</dd><dt>500</dt><dd>1</dd><dt>311</dt><dd>1</dd><dt>119</dt><dd>0</dd><dt>361</dt><dd>1</dd><dt>412</dt><dd>1</dd><dt>108</dt><dd>1</dd><dt>269</dt><dd>1</dd><dt>147</dt><dd>1</dd><dt>208</dt><dd>0</dd><dt>532</dt><dd>1</dd><dt>505</dt><dd>1</dd><dt>219</dt><dd>1</dd><dt>473</dt><dd>1</dd><dt>325</dt><dd>0</dd><dt>520</dt><dd>0</dd><dt>369</dt><dd>1</dd><dt>479</dt><dd>0</dd><dt>486</dt><dd>1</dd></dl>\n"
            ],
            "text/markdown": "415\n:   1463\n:   1179\n:   1526\n:   0195\n:   1118\n:   0299\n:   1229\n:   0244\n:   014\n:   0374\n:   191\n:   1348\n:   0355\n:   126\n:   0426\n:   0211\n:   1373\n:   0143\n:   1490\n:   1109\n:   1263\n:   1393\n:   1425\n:   1330\n:   123\n:   0411\n:   1444\n:   1309\n:   1135\n:   0504\n:   1506\n:   1224\n:   1166\n:   0217\n:   1290\n:   1477\n:   069\n:   172\n:   176\n:   063\n:   0141\n:   1210\n:   1353\n:   0347\n:   0153\n:   0294\n:   0277\n:   1531\n:   141\n:   1431\n:   090\n:   1316\n:   1223\n:   016\n:   1116\n:   194\n:   1262\n:   1235\n:   1456\n:   186\n:   0342\n:   139\n:   1159\n:   0240\n:   1209\n:   1522\n:   1306\n:   134\n:   14\n:   013\n:   1495\n:   0383\n:   1243\n:   0409\n:   0308\n:   1278\n:   189\n:   1416\n:   125\n:   0291\n:   1424\n:   1368\n:   1286\n:   1396\n:   0469\n:   0121\n:   0110\n:   1158\n:   164\n:   1398\n:   1199\n:   067\n:   1151\n:   1378\n:   0335\n:   185\n:   1165\n:   1136\n:   151\n:   174\n:   0178\n:   0362\n:   1236\n:   098\n:   1508\n:   1214\n:   1127\n:   1212\n:   1174\n:   1273\n:   1302\n:   1310\n:   1419\n:   0232\n:   0366\n:   1459\n:   0350\n:   1437\n:   1280\n:   1113\n:   1107\n:   0391\n:   1439\n:   1154\n:   0102\n:   0255\n:   0160\n:   0410\n:   0155\n:   15\n:   1326\n:   0272\n:   1413\n:   0288\n:   1485\n:   055\n:   1331\n:   1238\n:   1252\n:   1339\n:   1470\n:   1420\n:   1137\n:   0226\n:   148\n:   177\n:   183\n:   1184\n:   1367\n:   1404\n:   1196\n:   1257\n:   1168\n:   1449\n:   1476\n:   1400\n:   1344\n:   1390\n:   020\n:   1360\n:   0528\n:   0349\n:   1164\n:   052\n:   1364\n:   122\n:   1177\n:   042\n:   1315\n:   084\n:   111\n:   1446\n:   0421\n:   0436\n:   1194\n:   1501\n:   1386\n:   1198\n:   1249\n:   1200\n:   1405\n:   1250\n:   1292\n:   1478\n:   133\n:   140\n:   110\n:   1352\n:   1125\n:   1265\n:   1511\n:   1186\n:   161\n:   1510\n:   1152\n:   1319\n:   154\n:   1518\n:   0474\n:   1289\n:   1185\n:   1253\n:   1115\n:   1345\n:   0502\n:   1414\n:   0205\n:   1267\n:   0453\n:   1450\n:   1282\n:   0215\n:   1351\n:   157\n:   1105\n:   1279\n:   0270\n:   1134\n:   1129\n:   1218\n:   1106\n:   1340\n:   0285\n:   1334\n:   027\n:   17\n:   0245\n:   0408\n:   1483\n:   1451\n:   1222\n:   1447\n:   0145\n:   0318\n:   0148\n:   1163\n:   1394\n:   1161\n:   066\n:   1484\n:   1225\n:   1117\n:   1323\n:   1434\n:   1448\n:   1498\n:   1358\n:   145\n:   1146\n:   1170\n:   1314\n:   1441\n:   1176\n:   0305\n:   1104\n:   1399\n:   1513\n:   0452\n:   1258\n:   1365\n:   1491\n:   124\n:   1130\n:   1435\n:   1191\n:   1493\n:   1321\n:   1354\n:   1234\n:   1443\n:   180\n:   136\n:   0427\n:   0387\n:   1111\n:   1507\n:   0371\n:   1389\n:   0392\n:   1382\n:   0301\n:   031\n:   1251\n:   073\n:   1260\n:   1388\n:   1417\n:   1122\n:   0172\n:   1303\n:   092\n:   193\n:   1343\n:   143\n:   1338\n:   1268\n:   1356\n:   1488\n:   1385\n:   1140\n:   1428\n:   121\n:   0467\n:   1266\n:   0377\n:   135\n:   030\n:   1438\n:   1482\n:   1175\n:   1527\n:   1440\n:   1329\n:   1372\n:   082\n:   196\n:   1525\n:   0407\n:   0471\n:   1379\n:   0213\n:   1216\n:   0457\n:   0271\n:   1297\n:   1207\n:   1227\n:   1169\n:   1442\n:   1167\n:   081\n:   1324\n:   1500\n:   1311\n:   1119\n:   0361\n:   1412\n:   1108\n:   1269\n:   1147\n:   1208\n:   0532\n:   1505\n:   1219\n:   1473\n:   1325\n:   0520\n:   0369\n:   1479\n:   0486\n:   1\n\n",
            "text/latex": "\\begin{description*}\n\\item[415] 1\n\\item[463] 1\n\\item[179] 1\n\\item[526] 0\n\\item[195] 1\n\\item[118] 0\n\\item[299] 1\n\\item[229] 0\n\\item[244] 0\n\\item[14] 0\n\\item[374] 1\n\\item[91] 1\n\\item[348] 0\n\\item[355] 1\n\\item[26] 0\n\\item[426] 0\n\\item[211] 1\n\\item[373] 0\n\\item[143] 1\n\\item[490] 1\n\\item[109] 1\n\\item[263] 1\n\\item[393] 1\n\\item[425] 1\n\\item[330] 1\n\\item[23] 0\n\\item[411] 1\n\\item[444] 1\n\\item[309] 1\n\\item[135] 0\n\\item[504] 1\n\\item[506] 1\n\\item[224] 1\n\\item[166] 0\n\\item[217] 1\n\\item[290] 1\n\\item[477] 0\n\\item[69] 1\n\\item[72] 1\n\\item[76] 0\n\\item[63] 0\n\\item[141] 1\n\\item[210] 1\n\\item[353] 0\n\\item[347] 0\n\\item[153] 0\n\\item[294] 0\n\\item[277] 1\n\\item[531] 1\n\\item[41] 1\n\\item[431] 0\n\\item[90] 1\n\\item[316] 1\n\\item[223] 0\n\\item[16] 1\n\\item[116] 1\n\\item[94] 1\n\\item[262] 1\n\\item[235] 1\n\\item[456] 1\n\\item[86] 0\n\\item[342] 1\n\\item[39] 1\n\\item[159] 0\n\\item[240] 1\n\\item[209] 1\n\\item[522] 1\n\\item[306] 1\n\\item[34] 1\n\\item[4] 0\n\\item[13] 1\n\\item[495] 0\n\\item[383] 1\n\\item[243] 0\n\\item[409] 0\n\\item[308] 1\n\\item[278] 1\n\\item[89] 1\n\\item[416] 1\n\\item[25] 0\n\\item[291] 1\n\\item[424] 1\n\\item[368] 1\n\\item[286] 1\n\\item[396] 0\n\\item[469] 0\n\\item[121] 0\n\\item[110] 1\n\\item[158] 1\n\\item[64] 1\n\\item[398] 1\n\\item[199] 0\n\\item[67] 1\n\\item[151] 1\n\\item[378] 0\n\\item[335] 1\n\\item[85] 1\n\\item[165] 1\n\\item[136] 1\n\\item[51] 1\n\\item[74] 0\n\\item[178] 0\n\\item[362] 1\n\\item[236] 0\n\\item[98] 1\n\\item[508] 1\n\\item[214] 1\n\\item[127] 1\n\\item[212] 1\n\\item[174] 1\n\\item[273] 1\n\\item[302] 1\n\\item[310] 1\n\\item[419] 0\n\\item[232] 0\n\\item[366] 1\n\\item[459] 0\n\\item[350] 1\n\\item[437] 1\n\\item[280] 1\n\\item[113] 1\n\\item[107] 0\n\\item[391] 1\n\\item[439] 1\n\\item[154] 0\n\\item[102] 0\n\\item[255] 0\n\\item[160] 0\n\\item[410] 0\n\\item[155] 1\n\\item[5] 1\n\\item[326] 0\n\\item[272] 1\n\\item[413] 0\n\\item[288] 1\n\\item[485] 0\n\\item[55] 1\n\\item[331] 1\n\\item[238] 1\n\\item[252] 1\n\\item[339] 1\n\\item[470] 1\n\\item[420] 1\n\\item[137] 0\n\\item[226] 1\n\\item[48] 1\n\\item[77] 1\n\\item[83] 1\n\\item[184] 1\n\\item[367] 1\n\\item[404] 1\n\\item[196] 1\n\\item[257] 1\n\\item[168] 1\n\\item[449] 1\n\\item[476] 1\n\\item[400] 1\n\\item[344] 1\n\\item[390] 0\n\\item[20] 1\n\\item[360] 0\n\\item[528] 0\n\\item[349] 1\n\\item[164] 0\n\\item[52] 1\n\\item[364] 1\n\\item[22] 1\n\\item[177] 0\n\\item[42] 1\n\\item[315] 0\n\\item[84] 1\n\\item[11] 1\n\\item[446] 0\n\\item[421] 0\n\\item[436] 1\n\\item[194] 1\n\\item[501] 1\n\\item[386] 1\n\\item[198] 1\n\\item[249] 1\n\\item[200] 1\n\\item[405] 1\n\\item[250] 1\n\\item[292] 1\n\\item[478] 1\n\\item[33] 1\n\\item[40] 1\n\\item[10] 1\n\\item[352] 1\n\\item[125] 1\n\\item[265] 1\n\\item[511] 1\n\\item[186] 1\n\\item[61] 1\n\\item[510] 1\n\\item[152] 1\n\\item[319] 1\n\\item[54] 1\n\\item[518] 0\n\\item[474] 1\n\\item[289] 1\n\\item[185] 1\n\\item[253] 1\n\\item[115] 1\n\\item[345] 0\n\\item[502] 1\n\\item[414] 0\n\\item[205] 1\n\\item[267] 0\n\\item[453] 1\n\\item[450] 1\n\\item[282] 0\n\\item[215] 1\n\\item[351] 1\n\\item[57] 1\n\\item[105] 1\n\\item[279] 0\n\\item[270] 1\n\\item[134] 1\n\\item[129] 1\n\\item[218] 1\n\\item[106] 1\n\\item[340] 0\n\\item[285] 1\n\\item[334] 0\n\\item[27] 1\n\\item[7] 0\n\\item[245] 0\n\\item[408] 1\n\\item[483] 1\n\\item[451] 1\n\\item[222] 1\n\\item[447] 0\n\\item[145] 0\n\\item[318] 0\n\\item[148] 1\n\\item[163] 1\n\\item[394] 1\n\\item[161] 0\n\\item[66] 1\n\\item[484] 1\n\\item[225] 1\n\\item[117] 1\n\\item[323] 1\n\\item[434] 1\n\\item[448] 1\n\\item[498] 1\n\\item[358] 1\n\\item[45] 1\n\\item[146] 1\n\\item[170] 1\n\\item[314] 1\n\\item[441] 1\n\\item[176] 0\n\\item[305] 1\n\\item[104] 1\n\\item[399] 1\n\\item[513] 0\n\\item[452] 1\n\\item[258] 1\n\\item[365] 1\n\\item[491] 1\n\\item[24] 1\n\\item[130] 1\n\\item[435] 1\n\\item[191] 1\n\\item[493] 1\n\\item[321] 1\n\\item[354] 1\n\\item[234] 1\n\\item[443] 1\n\\item[80] 1\n\\item[36] 0\n\\item[427] 0\n\\item[387] 1\n\\item[111] 1\n\\item[507] 0\n\\item[371] 1\n\\item[389] 0\n\\item[392] 1\n\\item[382] 0\n\\item[301] 0\n\\item[31] 1\n\\item[251] 0\n\\item[73] 1\n\\item[260] 1\n\\item[388] 1\n\\item[417] 1\n\\item[122] 0\n\\item[172] 1\n\\item[303] 0\n\\item[92] 1\n\\item[93] 1\n\\item[343] 1\n\\item[43] 1\n\\item[338] 1\n\\item[268] 1\n\\item[356] 1\n\\item[488] 1\n\\item[385] 1\n\\item[140] 1\n\\item[428] 1\n\\item[21] 0\n\\item[467] 1\n\\item[266] 0\n\\item[377] 1\n\\item[35] 0\n\\item[30] 1\n\\item[438] 1\n\\item[482] 1\n\\item[175] 1\n\\item[527] 1\n\\item[440] 1\n\\item[329] 1\n\\item[372] 0\n\\item[82] 1\n\\item[96] 1\n\\item[525] 0\n\\item[407] 0\n\\item[471] 1\n\\item[379] 0\n\\item[213] 1\n\\item[216] 0\n\\item[457] 0\n\\item[271] 1\n\\item[297] 1\n\\item[207] 1\n\\item[227] 1\n\\item[169] 1\n\\item[442] 1\n\\item[167] 0\n\\item[81] 1\n\\item[324] 1\n\\item[500] 1\n\\item[311] 1\n\\item[119] 0\n\\item[361] 1\n\\item[412] 1\n\\item[108] 1\n\\item[269] 1\n\\item[147] 1\n\\item[208] 0\n\\item[532] 1\n\\item[505] 1\n\\item[219] 1\n\\item[473] 1\n\\item[325] 0\n\\item[520] 0\n\\item[369] 1\n\\item[479] 0\n\\item[486] 1\n\\end{description*}\n",
            "text/plain": [
              "415 463 179 526 195 118 299 229 244  14 374  91 348 355  26 426 211 373 143 490 \n",
              "  1   1   1   0   1   0   1   0   0   0   1   1   0   1   0   0   1   0   1   1 \n",
              "109 263 393 425 330  23 411 444 309 135 504 506 224 166 217 290 477  69  72  76 \n",
              "  1   1   1   1   1   0   1   1   1   0   1   1   1   0   1   1   0   1   1   0 \n",
              " 63 141 210 353 347 153 294 277 531  41 431  90 316 223  16 116  94 262 235 456 \n",
              "  0   1   1   0   0   0   0   1   1   1   0   1   1   0   1   1   1   1   1   1 \n",
              " 86 342  39 159 240 209 522 306  34   4  13 495 383 243 409 308 278  89 416  25 \n",
              "  0   1   1   0   1   1   1   1   1   0   1   0   1   0   0   1   1   1   1   0 \n",
              "291 424 368 286 396 469 121 110 158  64 398 199  67 151 378 335  85 165 136  51 \n",
              "  1   1   1   1   0   0   0   1   1   1   1   0   1   1   0   1   1   1   1   1 \n",
              " 74 178 362 236  98 508 214 127 212 174 273 302 310 419 232 366 459 350 437 280 \n",
              "  0   0   1   0   1   1   1   1   1   1   1   1   1   0   0   1   0   1   1   1 \n",
              "113 107 391 439 154 102 255 160 410 155   5 326 272 413 288 485  55 331 238 252 \n",
              "  1   0   1   1   0   0   0   0   0   1   1   0   1   0   1   0   1   1   1   1 \n",
              "339 470 420 137 226  48  77  83 184 367 404 196 257 168 449 476 400 344 390  20 \n",
              "  1   1   1   0   1   1   1   1   1   1   1   1   1   1   1   1   1   1   0   1 \n",
              "360 528 349 164  52 364  22 177  42 315  84  11 446 421 436 194 501 386 198 249 \n",
              "  0   0   1   0   1   1   1   0   1   0   1   1   0   0   1   1   1   1   1   1 \n",
              "200 405 250 292 478  33  40  10 352 125 265 511 186  61 510 152 319  54 518 474 \n",
              "  1   1   1   1   1   1   1   1   1   1   1   1   1   1   1   1   1   1   0   1 \n",
              "289 185 253 115 345 502 414 205 267 453 450 282 215 351  57 105 279 270 134 129 \n",
              "  1   1   1   1   0   1   0   1   0   1   1   0   1   1   1   1   0   1   1   1 \n",
              "218 106 340 285 334  27   7 245 408 483 451 222 447 145 318 148 163 394 161  66 \n",
              "  1   1   0   1   0   1   0   0   1   1   1   1   0   0   0   1   1   1   0   1 \n",
              "484 225 117 323 434 448 498 358  45 146 170 314 441 176 305 104 399 513 452 258 \n",
              "  1   1   1   1   1   1   1   1   1   1   1   1   1   0   1   1   1   0   1   1 \n",
              "365 491  24 130 435 191 493 321 354 234 443  80  36 427 387 111 507 371 389 392 \n",
              "  1   1   1   1   1   1   1   1   1   1   1   1   0   0   1   1   0   1   0   1 \n",
              "382 301  31 251  73 260 388 417 122 172 303  92  93 343  43 338 268 356 488 385 \n",
              "  0   0   1   0   1   1   1   1   0   1   0   1   1   1   1   1   1   1   1   1 \n",
              "140 428  21 467 266 377  35  30 438 482 175 527 440 329 372  82  96 525 407 471 \n",
              "  1   1   0   1   0   1   0   1   1   1   1   1   1   1   0   1   1   0   0   1 \n",
              "379 213 216 457 271 297 207 227 169 442 167  81 324 500 311 119 361 412 108 269 \n",
              "  0   1   0   0   1   1   1   1   1   1   0   1   1   1   1   0   1   1   1   1 \n",
              "147 208 532 505 219 473 325 520 369 479 486 \n",
              "  1   0   1   1   1   1   0   0   1   0   1 "
            ]
          },
          "metadata": {}
        }
      ]
    },
    {
      "cell_type": "code",
      "source": [
        "#PREDICT"
      ],
      "metadata": {
        "id": "PHlqMqje2obZ"
      },
      "execution_count": null,
      "outputs": []
    },
    {
      "cell_type": "code",
      "source": [
        "glm.probs.train <- predict(glm.fit, newdata= pima_train,type= \"response\")"
      ],
      "metadata": {
        "id": "uEoqXQRP2qyG"
      },
      "execution_count": 54,
      "outputs": []
    },
    {
      "cell_type": "code",
      "source": [
        "glm.probs.train"
      ],
      "metadata": {
        "colab": {
          "base_uri": "https://localhost:8080/",
          "height": 1000
        },
        "id": "3D0nXKOY295B",
        "outputId": "fcd58a3e-7420-4906-8e39-e9f8cf3a34cf"
      },
      "execution_count": 55,
      "outputs": [
        {
          "output_type": "display_data",
          "data": {
            "text/html": [
              "<style>\n",
              ".dl-inline {width: auto; margin:0; padding: 0}\n",
              ".dl-inline>dt, .dl-inline>dd {float: none; width: auto; display: inline-block}\n",
              ".dl-inline>dt::after {content: \":\\0020\"; padding-right: .5ex}\n",
              ".dl-inline>dt:not(:first-of-type) {padding-left: .5ex}\n",
              "</style><dl class=dl-inline><dt>415</dt><dd>0.935208323082014</dd><dt>463</dt><dd>0.730490009640751</dd><dt>179</dt><dd>0.8734916399253</dd><dt>526</dt><dd>0.498570083220459</dd><dt>195</dt><dd>0.955060893574884</dd><dt>118</dt><dd>0.126223441732914</dd><dt>299</dt><dd>0.963875100571682</dd><dt>229</dt><dd>0.327049628793533</dd><dt>244</dt><dd>0.222752662487884</dd><dt>14</dt><dd>0.20327347165895</dd><dt>374</dt><dd>0.732924299267493</dd><dt>91</dt><dd>0.927743926718996</dd><dt>348</dt><dd>0.286850882625908</dd><dt>355</dt><dd>0.89610411543992</dd><dt>26</dt><dd>0.414685964813099</dd><dt>426</dt><dd>0.254567858835128</dd><dt>211</dt><dd>0.632107003312501</dd><dt>373</dt><dd>0.417966988853967</dd><dt>143</dt><dd>0.596861513206946</dd><dt>490</dt><dd>0.666943131189451</dd><dt>109</dt><dd>0.60664852414218</dd><dt>263</dt><dd>0.926820715177871</dd><dt>393</dt><dd>0.925362051991462</dd><dt>425</dt><dd>0.896875148474004</dd><dt>330</dt><dd>0.79414306223482</dd><dt>23</dt><dd>0.476236394299884</dd><dt>411</dt><dd>0.834985248711565</dd><dt>444</dt><dd>0.51187260933895</dd><dt>309</dt><dd>0.91173209846246</dd><dt>135</dt><dd>0.455214530098412</dd><dt>504</dt><dd>0.819003081903096</dd><dt>506</dt><dd>0.785707818697392</dd><dt>224</dt><dd>0.899613929305594</dd><dt>166</dt><dd>0.0451002533959325</dd><dt>217</dt><dd>0.861208201822857</dd><dt>290</dt><dd>0.951614286566859</dd><dt>477</dt><dd>0.252697942322462</dd><dt>69</dt><dd>0.799761853831702</dd><dt>72</dt><dd>0.933589964543378</dd><dt>76</dt><dd>0.240364947545741</dd><dt>63</dt><dd>0.44603770370543</dd><dt>141</dt><dd>0.56745254232847</dd><dt>210</dt><dd>0.608019783192367</dd><dt>353</dt><dd>0.380495349221453</dd><dt>347</dt><dd>0.134782884928492</dd><dt>153</dt><dd>0.337151148976757</dd><dt>294</dt><dd>0.26483416720655</dd><dt>277</dt><dd>0.876526507298761</dd><dt>531</dt><dd>0.856054722047219</dd><dt>41</dt><dd>0.743226627133826</dd><dt>431</dt><dd>0.280526144363753</dd><dt>90</dt><dd>0.809332755389662</dd><dt>316</dt><dd>0.930614820908292</dd><dt>223</dt><dd>0.205985048284013</dd><dt>16</dt><dd>0.963763694233734</dd><dt>116</dt><dd>0.836065967698183</dd><dt>94</dt><dd>0.67535541872552</dd><dt>262</dt><dd>0.885338355067764</dd><dt>235</dt><dd>0.898632252151818</dd><dt>456</dt><dd>0.794746635598609</dd><dt>86</dt><dd>0.436278524857289</dd><dt>342</dt><dd>0.889932778718839</dd><dt>39</dt><dd>0.54790087351074</dd><dt>159</dt><dd>0.0760794340240222</dd><dt>240</dt><dd>0.948419440414512</dd><dt>209</dt><dd>0.930825865785547</dd><dt>522</dt><dd>0.931427370702624</dd><dt>306</dt><dd>0.819173948204404</dd><dt>34</dt><dd>0.940158855548633</dd><dt>4</dt><dd>0.0526603180825658</dd><dt>13</dt><dd>0.767195060209459</dd><dt>495</dt><dd>0.216143214475735</dd><dt>383</dt><dd>0.940735045859975</dd><dt>243</dt><dd>0.148104338500413</dd><dt>409</dt><dd>0.0737698768108913</dd><dt>308</dt><dd>0.927270382022109</dd><dt>278</dt><dd>0.573933008075145</dd><dt>89</dt><dd>0.951325075642978</dd><dt>416</dt><dd>0.926966668816036</dd><dt>25</dt><dd>0.146465545111061</dd><dt>291</dt><dd>0.839227882488177</dd><dt>424</dt><dd>0.960619520723156</dd><dt>368</dt><dd>0.812965391338336</dd><dt>286</dt><dd>0.890265439879071</dd><dt>396</dt><dd>0.487123644084959</dd><dt>469</dt><dd>0.294390116784534</dd><dt>121</dt><dd>0.0577584300330902</dd><dt>110</dt><dd>0.796059967125231</dd><dt>158</dt><dd>0.967079783215356</dd><dt>64</dt><dd>0.9481731515003</dd><dt>398</dt><dd>0.882717381148749</dd><dt>199</dt><dd>0.283623910386213</dd><dt>67</dt><dd>0.531228936802954</dd><dt>151</dt><dd>0.93714934582984</dd><dt>378</dt><dd>0.151512339886288</dd><dt>335</dt><dd>0.851049921669854</dd><dt>85</dt><dd>0.748639173743635</dd><dt>165</dt><dd>0.569885567473154</dd><dt>136</dt><dd>0.898208310961374</dd><dt>51</dt><dd>0.935136232496324</dd><dt>74</dt><dd>0.169826450900528</dd><dt>178</dt><dd>0.314415663730395</dd><dt>362</dt><dd>0.983745224468557</dd><dt>236</dt><dd>0.317116391004376</dd><dt>98</dt><dd>0.567821839472459</dd><dt>508</dt><dd>0.911729383108617</dd><dt>214</dt><dd>0.732021463180557</dd><dt>127</dt><dd>0.888003041634557</dd><dt>212</dt><dd>0.896299365716784</dd><dt>174</dt><dd>0.788311851394268</dd><dt>273</dt><dd>0.776135556876265</dd><dt>302</dt><dd>0.985983899836386</dd><dt>310</dt><dd>0.895497068867542</dd><dt>419</dt><dd>0.129908448410376</dd><dt>232</dt><dd>0.34050537564801</dd><dt>366</dt><dd>0.938251588594656</dd><dt>459</dt><dd>0.185431553896159</dd><dt>350</dt><dd>0.904901114460993</dd><dt>437</dt><dd>0.9259941300657</dd><dt>280</dt><dd>0.741855163685311</dd><dt>113</dt><dd>0.730849835507707</dd><dt>107</dt><dd>0.0209583587486294</dd><dt>391</dt><dd>0.911070293058468</dd><dt>439</dt><dd>0.91455602257297</dd><dt>154</dt><dd>0.0129641735876781</dd><dt>102</dt><dd>0.453962761712081</dd><dt>255</dt><dd>0.074685872509373</dd><dt>160</dt><dd>0.272008691694565</dd><dt>410</dt><dd>0.120411964321102</dd><dt>155</dt><dd>0.81284395141058</dd><dt>5</dt><dd>0.945961050025716</dd><dt>326</dt><dd>0.474095529080773</dd><dt>272</dt><dd>0.514176633247358</dd><dt>413</dt><dd>0.497390341863456</dd><dt>288</dt><dd>0.855452264082889</dd><dt>485</dt><dd>0.136369449524943</dd><dt>55</dt><dd>0.811637337285798</dd><dt>331</dt><dd>0.843011508245866</dd><dt>238</dt><dd>0.958020651181622</dd><dt>252</dt><dd>0.934978823981852</dd><dt>339</dt><dd>0.588698698110214</dd><dt>470</dt><dd>0.933800082126808</dd><dt>420</dt><dd>0.78265210265573</dd><dt>137</dt><dd>0.0251361373252194</dd><dt>226</dt><dd>0.674179869896931</dd><dt>48</dt><dd>0.810690274808902</dd><dt>77</dt><dd>0.923087561841701</dd><dt>83</dt><dd>0.579652217331926</dd><dt>184</dt><dd>0.956068155995119</dd><dt>367</dt><dd>0.886984106712388</dd><dt>404</dt><dd>0.613507424231903</dd><dt>196</dt><dd>0.744454980644994</dd><dt>257</dt><dd>0.90190174968418</dd><dt>168</dt><dd>0.536220012389759</dd><dt>449</dt><dd>0.968464542627338</dd><dt>476</dt><dd>0.800156873619949</dd><dt>400</dt><dd>0.691381851748509</dd><dt>344</dt><dd>0.867869800405234</dd><dt>390</dt><dd>0.168587565461619</dd><dt>20</dt><dd>0.969126546970538</dd><dt>360</dt><dd>0.172940067440207</dd><dt>528</dt><dd>0.0728582137180809</dd><dt>349</dt><dd>0.947601615547185</dd><dt>164</dt><dd>0.45188229398063</dd><dt>52</dt><dd>0.948459453955263</dd><dt>364</dt><dd>0.970928107002452</dd><dt>22</dt><dd>0.785378117747676</dd><dt>177</dt><dd>0.0419483808537804</dd><dt>42</dt><dd>0.897841668571073</dd><dt>315</dt><dd>0.1194911758587</dd><dt>84</dt><dd>0.866981235985753</dd><dt>11</dt><dd>0.763793855520821</dd><dt>446</dt><dd>0.369922595133594</dd><dt>421</dt><dd>0.146010896942923</dd><dt>436</dt><dd>0.967033041570516</dd><dt>194</dt><dd>0.504423997491141</dd><dt>501</dt><dd>0.5731894265203</dd><dt>386</dt><dd>0.900007653097136</dd><dt>198</dt><dd>0.791538834762907</dd><dt>249</dt><dd>0.974033140498202</dd><dt>200</dt><dd>0.572021843331538</dd><dt>405</dt><dd>0.900502621971699</dd><dt>250</dt><dd>0.696889206794168</dd><dt>292</dt><dd>0.888714255522349</dd><dt>478</dt><dd>0.614158139264353</dd><dt>33</dt><dd>0.934754678225475</dd><dt>40</dt><dd>0.871293754655586</dd><dt>10</dt><dd>0.694169175704947</dd><dt>352</dt><dd>0.788869948841085</dd><dt>125</dt><dd>0.71011856756184</dd><dt>265</dt><dd>0.642177714535554</dd><dt>511</dt><dd>0.826008633170269</dd><dt>186</dt><dd>0.74264130094323</dd><dt>61</dt><dd>0.600044356251083</dd><dt>510</dt><dd>0.909127616163283</dd><dt>152</dt><dd>0.961929433525861</dd><dt>319</dt><dd>0.550466168211515</dd><dt>54</dt><dd>0.968311460906939</dd><dt>518</dt><dd>0.414387393725037</dd><dt>474</dt><dd>0.747548867742171</dd><dt>289</dt><dd>0.650716101177016</dd><dt>185</dt><dd>0.964596271562737</dd><dt>253</dt><dd>0.875271080025585</dd><dt>115</dt><dd>0.534341491317056</dd><dt>345</dt><dd>0.387564307806411</dd><dt>502</dt><dd>0.577233763340382</dd><dt>414</dt><dd>0.448073041557961</dd><dt>205</dt><dd>0.690002703368064</dd><dt>267</dt><dd>0.259994512108087</dd><dt>453</dt><dd>0.527701133872988</dd><dt>450</dt><dd>0.812722466594594</dd><dt>282</dt><dd>0.40446328338759</dd><dt>215</dt><dd>0.828551100047829</dd><dt>351</dt><dd>0.611474464451215</dd><dt>57</dt><dd>0.858027904621788</dd><dt>105</dt><dd>0.889795272984821</dd><dt>279</dt><dd>0.203412679274422</dd><dt>270</dt><dd>0.915206409034045</dd><dt>134</dt><dd>0.96954518626973</dd><dt>129</dt><dd>0.919085801625991</dd><dt>218</dt><dd>0.96577144622862</dd><dt>106</dt><dd>0.966939609681853</dd><dt>340</dt><dd>0.0264688611124101</dd><dt>285</dt><dd>0.524880368337524</dd><dt>334</dt><dd>0.417046741980247</dd><dt>27</dt><dd>0.832954095304853</dd><dt>7</dt><dd>0.121807107340491</dd><dt>245</dt><dd>0.410903356026692</dd><dt>408</dt><dd>0.970223855937243</dd><dt>483</dt><dd>0.766443165575327</dd><dt>451</dt><dd>0.743339469300883</dd><dt>222</dt><dd>0.862748593556457</dd><dt>447</dt><dd>0.469350944746273</dd><dt>145</dt><dd>0.0809960518683141</dd><dt>318</dt><dd>0.118087480631284</dd><dt>148</dt><dd>0.770778067805295</dd><dt>163</dt><dd>0.909294680247278</dd><dt>394</dt><dd>0.889001593738403</dd><dt>161</dt><dd>0.240916659398772</dd><dt>66</dt><dd>0.906369421778845</dd><dt>484</dt><dd>0.505023331659318</dd><dt>225</dt><dd>0.843201849985601</dd><dt>117</dt><dd>0.944044501814799</dd><dt>323</dt><dd>0.980403670833098</dd><dt>434</dt><dd>0.884114304541087</dd><dt>448</dt><dd>0.958940012116657</dd><dt>498</dt><dd>0.60750269028985</dd><dt>358</dt><dd>0.953230730222131</dd><dt>45</dt><dd>0.777057090246241</dd><dt>146</dt><dd>0.739464755952937</dd><dt>170</dt><dd>0.974642589167438</dd><dt>314</dt><dd>0.827218537222279</dd><dt>441</dt><dd>0.97696379812357</dd><dt>176</dt><dd>0.411214323659124</dd><dt>305</dt><dd>0.841974845260184</dd><dt>104</dt><dd>0.936999070402566</dd><dt>399</dt><dd>0.925698608666574</dd><dt>513</dt><dd>0.133041707624243</dd><dt>452</dt><dd>0.927193581453446</dd><dt>258</dt><dd>0.653364297746628</dd><dt>365</dt><dd>0.98132370862693</dd><dt>491</dt><dd>0.645922834107492</dd><dt>24</dt><dd>0.849391769396085</dd><dt>130</dt><dd>0.656429055156341</dd><dt>435</dt><dd>0.858097357376608</dd><dt>191</dt><dd>0.621594767129357</dd><dt>493</dt><dd>0.8945642474327</dd><dt>321</dt><dd>0.909733348255912</dd><dt>354</dt><dd>0.81693814749783</dd><dt>234</dt><dd>0.893356684868254</dd><dt>443</dt><dd>0.868185549248724</dd><dt>80</dt><dd>0.80762533163483</dd><dt>36</dt><dd>0.187133968815098</dd><dt>427</dt><dd>0.110604410837516</dd><dt>387</dt><dd>0.768475469350793</dd><dt>111</dt><dd>0.936570728478788</dd><dt>507</dt><dd>0.237553773779568</dd><dt>371</dt><dd>0.715311944880389</dd><dt>389</dt><dd>0.357228141667726</dd><dt>392</dt><dd>0.850158693759141</dd><dt>382</dt><dd>0.267808280301504</dd><dt>301</dt><dd>0.266700601635947</dd><dt>31</dt><dd>0.677809664583268</dd><dt>251</dt><dd>0.0479406389239913</dd><dt>73</dt><dd>0.554946504401879</dd><dt>260</dt><dd>0.976821081143879</dd><dt>388</dt><dd>0.871041036351906</dd><dt>417</dt><dd>0.94437785413841</dd><dt>122</dt><dd>0.053179394935579</dd><dt>172</dt><dd>0.520779682540045</dd><dt>303</dt><dd>0.285585460840822</dd><dt>92</dt><dd>0.947154540853887</dd><dt>93</dt><dd>0.828907219659324</dd><dt>343</dt><dd>0.875138426832881</dd><dt>43</dt><dd>0.741689986017312</dd><dt>338</dt><dd>0.644992392863815</dd><dt>268</dt><dd>0.7848497123361</dd><dt>356</dt><dd>0.706947418809185</dd><dt>488</dt><dd>0.823007143057202</dd><dt>385</dt><dd>0.950347885289858</dd><dt>140</dt><dd>0.964565284928449</dd><dt>428</dt><dd>0.733974257184435</dd><dt>21</dt><dd>0.483957807941337</dd><dt>467</dt><dd>0.950436628057762</dd><dt>266</dt><dd>0.488009374840807</dd><dt>377</dt><dd>0.935481499811722</dd><dt>35</dt><dd>0.076486436337633</dd><dt>30</dt><dd>0.967562459041639</dd><dt>438</dt><dd>0.933544448650964</dd><dt>482</dt><dd>0.704594450099126</dd><dt>175</dt><dd>0.928853519259829</dd><dt>527</dt><dd>0.92313130032008</dd><dt>440</dt><dd>0.523100160432463</dd><dt>329</dt><dd>0.596526473400588</dd><dt>372</dt><dd>0.466396667558357</dd><dt>82</dt><dd>0.55434569965851</dd><dt>96</dt><dd>0.640906126158593</dd><dt>525</dt><dd>0.438629002341299</dd><dt>407</dt><dd>0.361171058159391</dd><dt>471</dt><dd>0.987577274835836</dd><dt>379</dt><dd>0.0194361541919051</dd><dt>213</dt><dd>0.822975733940125</dd><dt>216</dt><dd>0.323076355394324</dd><dt>457</dt><dd>0.0591845182909454</dd><dt>271</dt><dd>0.856470107251838</dd><dt>297</dt><dd>0.850320948428141</dd><dt>207</dt><dd>0.749478129891534</dd><dt>227</dt><dd>0.84560747688742</dd><dt>169</dt><dd>0.946983531332296</dd><dt>442</dt><dd>0.914980671249622</dd><dt>167</dt><dd>0.287394441098613</dd><dt>81</dt><dd>0.887107801211163</dd><dt>324</dt><dd>0.861091526776132</dd><dt>500</dt><dd>0.851087897568352</dd><dt>311</dt><dd>0.902749449133843</dd><dt>119</dt><dd>0.285681438195577</dd><dt>361</dt><dd>0.554704934549241</dd><dt>412</dt><dd>0.764382608027285</dd><dt>108</dt><dd>0.599993390983722</dd><dt>269</dt><dd>0.804255390527076</dd><dt>147</dt><dd>0.678965044025966</dd><dt>208</dt><dd>0.27411574125603</dd><dt>532</dt><dd>0.949957514517388</dd><dt>505</dt><dd>0.815194724559512</dd><dt>219</dt><dd>0.785727785432629</dd><dt>473</dt><dd>0.84630202355047</dd><dt>325</dt><dd>0.211694992484115</dd><dt>520</dt><dd>0.200130709495791</dd><dt>369</dt><dd>0.722359633252821</dd><dt>479</dt><dd>0.304076303565637</dd><dt>486</dt><dd>0.919637638418865</dd></dl>\n"
            ],
            "text/markdown": "415\n:   0.935208323082014463\n:   0.730490009640751179\n:   0.8734916399253526\n:   0.498570083220459195\n:   0.955060893574884118\n:   0.126223441732914299\n:   0.963875100571682229\n:   0.327049628793533244\n:   0.22275266248788414\n:   0.20327347165895374\n:   0.73292429926749391\n:   0.927743926718996348\n:   0.286850882625908355\n:   0.8961041154399226\n:   0.414685964813099426\n:   0.254567858835128211\n:   0.632107003312501373\n:   0.417966988853967143\n:   0.596861513206946490\n:   0.666943131189451109\n:   0.60664852414218263\n:   0.926820715177871393\n:   0.925362051991462425\n:   0.896875148474004330\n:   0.7941430622348223\n:   0.476236394299884411\n:   0.834985248711565444\n:   0.51187260933895309\n:   0.91173209846246135\n:   0.455214530098412504\n:   0.819003081903096506\n:   0.785707818697392224\n:   0.899613929305594166\n:   0.0451002533959325217\n:   0.861208201822857290\n:   0.951614286566859477\n:   0.25269794232246269\n:   0.79976185383170272\n:   0.93358996454337876\n:   0.24036494754574163\n:   0.44603770370543141\n:   0.56745254232847210\n:   0.608019783192367353\n:   0.380495349221453347\n:   0.134782884928492153\n:   0.337151148976757294\n:   0.26483416720655277\n:   0.876526507298761531\n:   0.85605472204721941\n:   0.743226627133826431\n:   0.28052614436375390\n:   0.809332755389662316\n:   0.930614820908292223\n:   0.20598504828401316\n:   0.963763694233734116\n:   0.83606596769818394\n:   0.67535541872552262\n:   0.885338355067764235\n:   0.898632252151818456\n:   0.79474663559860986\n:   0.436278524857289342\n:   0.88993277871883939\n:   0.54790087351074159\n:   0.0760794340240222240\n:   0.948419440414512209\n:   0.930825865785547522\n:   0.931427370702624306\n:   0.81917394820440434\n:   0.9401588555486334\n:   0.052660318082565813\n:   0.767195060209459495\n:   0.216143214475735383\n:   0.940735045859975243\n:   0.148104338500413409\n:   0.0737698768108913308\n:   0.927270382022109278\n:   0.57393300807514589\n:   0.951325075642978416\n:   0.92696666881603625\n:   0.146465545111061291\n:   0.839227882488177424\n:   0.960619520723156368\n:   0.812965391338336286\n:   0.890265439879071396\n:   0.487123644084959469\n:   0.294390116784534121\n:   0.0577584300330902110\n:   0.796059967125231158\n:   0.96707978321535664\n:   0.9481731515003398\n:   0.882717381148749199\n:   0.28362391038621367\n:   0.531228936802954151\n:   0.93714934582984378\n:   0.151512339886288335\n:   0.85104992166985485\n:   0.748639173743635165\n:   0.569885567473154136\n:   0.89820831096137451\n:   0.93513623249632474\n:   0.169826450900528178\n:   0.314415663730395362\n:   0.983745224468557236\n:   0.31711639100437698\n:   0.567821839472459508\n:   0.911729383108617214\n:   0.732021463180557127\n:   0.888003041634557212\n:   0.896299365716784174\n:   0.788311851394268273\n:   0.776135556876265302\n:   0.985983899836386310\n:   0.895497068867542419\n:   0.129908448410376232\n:   0.34050537564801366\n:   0.938251588594656459\n:   0.185431553896159350\n:   0.904901114460993437\n:   0.9259941300657280\n:   0.741855163685311113\n:   0.730849835507707107\n:   0.0209583587486294391\n:   0.911070293058468439\n:   0.91455602257297154\n:   0.0129641735876781102\n:   0.453962761712081255\n:   0.074685872509373160\n:   0.272008691694565410\n:   0.120411964321102155\n:   0.812843951410585\n:   0.945961050025716326\n:   0.474095529080773272\n:   0.514176633247358413\n:   0.497390341863456288\n:   0.855452264082889485\n:   0.13636944952494355\n:   0.811637337285798331\n:   0.843011508245866238\n:   0.958020651181622252\n:   0.934978823981852339\n:   0.588698698110214470\n:   0.933800082126808420\n:   0.78265210265573137\n:   0.0251361373252194226\n:   0.67417986989693148\n:   0.81069027480890277\n:   0.92308756184170183\n:   0.579652217331926184\n:   0.956068155995119367\n:   0.886984106712388404\n:   0.613507424231903196\n:   0.744454980644994257\n:   0.90190174968418168\n:   0.536220012389759449\n:   0.968464542627338476\n:   0.800156873619949400\n:   0.691381851748509344\n:   0.867869800405234390\n:   0.16858756546161920\n:   0.969126546970538360\n:   0.172940067440207528\n:   0.0728582137180809349\n:   0.947601615547185164\n:   0.4518822939806352\n:   0.948459453955263364\n:   0.97092810700245222\n:   0.785378117747676177\n:   0.041948380853780442\n:   0.897841668571073315\n:   0.119491175858784\n:   0.86698123598575311\n:   0.763793855520821446\n:   0.369922595133594421\n:   0.146010896942923436\n:   0.967033041570516194\n:   0.504423997491141501\n:   0.5731894265203386\n:   0.900007653097136198\n:   0.791538834762907249\n:   0.974033140498202200\n:   0.572021843331538405\n:   0.900502621971699250\n:   0.696889206794168292\n:   0.888714255522349478\n:   0.61415813926435333\n:   0.93475467822547540\n:   0.87129375465558610\n:   0.694169175704947352\n:   0.788869948841085125\n:   0.71011856756184265\n:   0.642177714535554511\n:   0.826008633170269186\n:   0.7426413009432361\n:   0.600044356251083510\n:   0.909127616163283152\n:   0.961929433525861319\n:   0.55046616821151554\n:   0.968311460906939518\n:   0.414387393725037474\n:   0.747548867742171289\n:   0.650716101177016185\n:   0.964596271562737253\n:   0.875271080025585115\n:   0.534341491317056345\n:   0.387564307806411502\n:   0.577233763340382414\n:   0.448073041557961205\n:   0.690002703368064267\n:   0.259994512108087453\n:   0.527701133872988450\n:   0.812722466594594282\n:   0.40446328338759215\n:   0.828551100047829351\n:   0.61147446445121557\n:   0.858027904621788105\n:   0.889795272984821279\n:   0.203412679274422270\n:   0.915206409034045134\n:   0.96954518626973129\n:   0.919085801625991218\n:   0.96577144622862106\n:   0.966939609681853340\n:   0.0264688611124101285\n:   0.524880368337524334\n:   0.41704674198024727\n:   0.8329540953048537\n:   0.121807107340491245\n:   0.410903356026692408\n:   0.970223855937243483\n:   0.766443165575327451\n:   0.743339469300883222\n:   0.862748593556457447\n:   0.469350944746273145\n:   0.0809960518683141318\n:   0.118087480631284148\n:   0.770778067805295163\n:   0.909294680247278394\n:   0.889001593738403161\n:   0.24091665939877266\n:   0.906369421778845484\n:   0.505023331659318225\n:   0.843201849985601117\n:   0.944044501814799323\n:   0.980403670833098434\n:   0.884114304541087448\n:   0.958940012116657498\n:   0.60750269028985358\n:   0.95323073022213145\n:   0.777057090246241146\n:   0.739464755952937170\n:   0.974642589167438314\n:   0.827218537222279441\n:   0.97696379812357176\n:   0.411214323659124305\n:   0.841974845260184104\n:   0.936999070402566399\n:   0.925698608666574513\n:   0.133041707624243452\n:   0.927193581453446258\n:   0.653364297746628365\n:   0.98132370862693491\n:   0.64592283410749224\n:   0.849391769396085130\n:   0.656429055156341435\n:   0.858097357376608191\n:   0.621594767129357493\n:   0.8945642474327321\n:   0.909733348255912354\n:   0.81693814749783234\n:   0.893356684868254443\n:   0.86818554924872480\n:   0.8076253316348336\n:   0.187133968815098427\n:   0.110604410837516387\n:   0.768475469350793111\n:   0.936570728478788507\n:   0.237553773779568371\n:   0.715311944880389389\n:   0.357228141667726392\n:   0.850158693759141382\n:   0.267808280301504301\n:   0.26670060163594731\n:   0.677809664583268251\n:   0.047940638923991373\n:   0.554946504401879260\n:   0.976821081143879388\n:   0.871041036351906417\n:   0.94437785413841122\n:   0.053179394935579172\n:   0.520779682540045303\n:   0.28558546084082292\n:   0.94715454085388793\n:   0.828907219659324343\n:   0.87513842683288143\n:   0.741689986017312338\n:   0.644992392863815268\n:   0.7848497123361356\n:   0.706947418809185488\n:   0.823007143057202385\n:   0.950347885289858140\n:   0.964565284928449428\n:   0.73397425718443521\n:   0.483957807941337467\n:   0.950436628057762266\n:   0.488009374840807377\n:   0.93548149981172235\n:   0.07648643633763330\n:   0.967562459041639438\n:   0.933544448650964482\n:   0.704594450099126175\n:   0.928853519259829527\n:   0.92313130032008440\n:   0.523100160432463329\n:   0.596526473400588372\n:   0.46639666755835782\n:   0.5543456996585196\n:   0.640906126158593525\n:   0.438629002341299407\n:   0.361171058159391471\n:   0.987577274835836379\n:   0.0194361541919051213\n:   0.822975733940125216\n:   0.323076355394324457\n:   0.0591845182909454271\n:   0.856470107251838297\n:   0.850320948428141207\n:   0.749478129891534227\n:   0.84560747688742169\n:   0.946983531332296442\n:   0.914980671249622167\n:   0.28739444109861381\n:   0.887107801211163324\n:   0.861091526776132500\n:   0.851087897568352311\n:   0.902749449133843119\n:   0.285681438195577361\n:   0.554704934549241412\n:   0.764382608027285108\n:   0.599993390983722269\n:   0.804255390527076147\n:   0.678965044025966208\n:   0.27411574125603532\n:   0.949957514517388505\n:   0.815194724559512219\n:   0.785727785432629473\n:   0.84630202355047325\n:   0.211694992484115520\n:   0.200130709495791369\n:   0.722359633252821479\n:   0.304076303565637486\n:   0.919637638418865\n\n",
            "text/latex": "\\begin{description*}\n\\item[415] 0.935208323082014\n\\item[463] 0.730490009640751\n\\item[179] 0.8734916399253\n\\item[526] 0.498570083220459\n\\item[195] 0.955060893574884\n\\item[118] 0.126223441732914\n\\item[299] 0.963875100571682\n\\item[229] 0.327049628793533\n\\item[244] 0.222752662487884\n\\item[14] 0.20327347165895\n\\item[374] 0.732924299267493\n\\item[91] 0.927743926718996\n\\item[348] 0.286850882625908\n\\item[355] 0.89610411543992\n\\item[26] 0.414685964813099\n\\item[426] 0.254567858835128\n\\item[211] 0.632107003312501\n\\item[373] 0.417966988853967\n\\item[143] 0.596861513206946\n\\item[490] 0.666943131189451\n\\item[109] 0.60664852414218\n\\item[263] 0.926820715177871\n\\item[393] 0.925362051991462\n\\item[425] 0.896875148474004\n\\item[330] 0.79414306223482\n\\item[23] 0.476236394299884\n\\item[411] 0.834985248711565\n\\item[444] 0.51187260933895\n\\item[309] 0.91173209846246\n\\item[135] 0.455214530098412\n\\item[504] 0.819003081903096\n\\item[506] 0.785707818697392\n\\item[224] 0.899613929305594\n\\item[166] 0.0451002533959325\n\\item[217] 0.861208201822857\n\\item[290] 0.951614286566859\n\\item[477] 0.252697942322462\n\\item[69] 0.799761853831702\n\\item[72] 0.933589964543378\n\\item[76] 0.240364947545741\n\\item[63] 0.44603770370543\n\\item[141] 0.56745254232847\n\\item[210] 0.608019783192367\n\\item[353] 0.380495349221453\n\\item[347] 0.134782884928492\n\\item[153] 0.337151148976757\n\\item[294] 0.26483416720655\n\\item[277] 0.876526507298761\n\\item[531] 0.856054722047219\n\\item[41] 0.743226627133826\n\\item[431] 0.280526144363753\n\\item[90] 0.809332755389662\n\\item[316] 0.930614820908292\n\\item[223] 0.205985048284013\n\\item[16] 0.963763694233734\n\\item[116] 0.836065967698183\n\\item[94] 0.67535541872552\n\\item[262] 0.885338355067764\n\\item[235] 0.898632252151818\n\\item[456] 0.794746635598609\n\\item[86] 0.436278524857289\n\\item[342] 0.889932778718839\n\\item[39] 0.54790087351074\n\\item[159] 0.0760794340240222\n\\item[240] 0.948419440414512\n\\item[209] 0.930825865785547\n\\item[522] 0.931427370702624\n\\item[306] 0.819173948204404\n\\item[34] 0.940158855548633\n\\item[4] 0.0526603180825658\n\\item[13] 0.767195060209459\n\\item[495] 0.216143214475735\n\\item[383] 0.940735045859975\n\\item[243] 0.148104338500413\n\\item[409] 0.0737698768108913\n\\item[308] 0.927270382022109\n\\item[278] 0.573933008075145\n\\item[89] 0.951325075642978\n\\item[416] 0.926966668816036\n\\item[25] 0.146465545111061\n\\item[291] 0.839227882488177\n\\item[424] 0.960619520723156\n\\item[368] 0.812965391338336\n\\item[286] 0.890265439879071\n\\item[396] 0.487123644084959\n\\item[469] 0.294390116784534\n\\item[121] 0.0577584300330902\n\\item[110] 0.796059967125231\n\\item[158] 0.967079783215356\n\\item[64] 0.9481731515003\n\\item[398] 0.882717381148749\n\\item[199] 0.283623910386213\n\\item[67] 0.531228936802954\n\\item[151] 0.93714934582984\n\\item[378] 0.151512339886288\n\\item[335] 0.851049921669854\n\\item[85] 0.748639173743635\n\\item[165] 0.569885567473154\n\\item[136] 0.898208310961374\n\\item[51] 0.935136232496324\n\\item[74] 0.169826450900528\n\\item[178] 0.314415663730395\n\\item[362] 0.983745224468557\n\\item[236] 0.317116391004376\n\\item[98] 0.567821839472459\n\\item[508] 0.911729383108617\n\\item[214] 0.732021463180557\n\\item[127] 0.888003041634557\n\\item[212] 0.896299365716784\n\\item[174] 0.788311851394268\n\\item[273] 0.776135556876265\n\\item[302] 0.985983899836386\n\\item[310] 0.895497068867542\n\\item[419] 0.129908448410376\n\\item[232] 0.34050537564801\n\\item[366] 0.938251588594656\n\\item[459] 0.185431553896159\n\\item[350] 0.904901114460993\n\\item[437] 0.9259941300657\n\\item[280] 0.741855163685311\n\\item[113] 0.730849835507707\n\\item[107] 0.0209583587486294\n\\item[391] 0.911070293058468\n\\item[439] 0.91455602257297\n\\item[154] 0.0129641735876781\n\\item[102] 0.453962761712081\n\\item[255] 0.074685872509373\n\\item[160] 0.272008691694565\n\\item[410] 0.120411964321102\n\\item[155] 0.81284395141058\n\\item[5] 0.945961050025716\n\\item[326] 0.474095529080773\n\\item[272] 0.514176633247358\n\\item[413] 0.497390341863456\n\\item[288] 0.855452264082889\n\\item[485] 0.136369449524943\n\\item[55] 0.811637337285798\n\\item[331] 0.843011508245866\n\\item[238] 0.958020651181622\n\\item[252] 0.934978823981852\n\\item[339] 0.588698698110214\n\\item[470] 0.933800082126808\n\\item[420] 0.78265210265573\n\\item[137] 0.0251361373252194\n\\item[226] 0.674179869896931\n\\item[48] 0.810690274808902\n\\item[77] 0.923087561841701\n\\item[83] 0.579652217331926\n\\item[184] 0.956068155995119\n\\item[367] 0.886984106712388\n\\item[404] 0.613507424231903\n\\item[196] 0.744454980644994\n\\item[257] 0.90190174968418\n\\item[168] 0.536220012389759\n\\item[449] 0.968464542627338\n\\item[476] 0.800156873619949\n\\item[400] 0.691381851748509\n\\item[344] 0.867869800405234\n\\item[390] 0.168587565461619\n\\item[20] 0.969126546970538\n\\item[360] 0.172940067440207\n\\item[528] 0.0728582137180809\n\\item[349] 0.947601615547185\n\\item[164] 0.45188229398063\n\\item[52] 0.948459453955263\n\\item[364] 0.970928107002452\n\\item[22] 0.785378117747676\n\\item[177] 0.0419483808537804\n\\item[42] 0.897841668571073\n\\item[315] 0.1194911758587\n\\item[84] 0.866981235985753\n\\item[11] 0.763793855520821\n\\item[446] 0.369922595133594\n\\item[421] 0.146010896942923\n\\item[436] 0.967033041570516\n\\item[194] 0.504423997491141\n\\item[501] 0.5731894265203\n\\item[386] 0.900007653097136\n\\item[198] 0.791538834762907\n\\item[249] 0.974033140498202\n\\item[200] 0.572021843331538\n\\item[405] 0.900502621971699\n\\item[250] 0.696889206794168\n\\item[292] 0.888714255522349\n\\item[478] 0.614158139264353\n\\item[33] 0.934754678225475\n\\item[40] 0.871293754655586\n\\item[10] 0.694169175704947\n\\item[352] 0.788869948841085\n\\item[125] 0.71011856756184\n\\item[265] 0.642177714535554\n\\item[511] 0.826008633170269\n\\item[186] 0.74264130094323\n\\item[61] 0.600044356251083\n\\item[510] 0.909127616163283\n\\item[152] 0.961929433525861\n\\item[319] 0.550466168211515\n\\item[54] 0.968311460906939\n\\item[518] 0.414387393725037\n\\item[474] 0.747548867742171\n\\item[289] 0.650716101177016\n\\item[185] 0.964596271562737\n\\item[253] 0.875271080025585\n\\item[115] 0.534341491317056\n\\item[345] 0.387564307806411\n\\item[502] 0.577233763340382\n\\item[414] 0.448073041557961\n\\item[205] 0.690002703368064\n\\item[267] 0.259994512108087\n\\item[453] 0.527701133872988\n\\item[450] 0.812722466594594\n\\item[282] 0.40446328338759\n\\item[215] 0.828551100047829\n\\item[351] 0.611474464451215\n\\item[57] 0.858027904621788\n\\item[105] 0.889795272984821\n\\item[279] 0.203412679274422\n\\item[270] 0.915206409034045\n\\item[134] 0.96954518626973\n\\item[129] 0.919085801625991\n\\item[218] 0.96577144622862\n\\item[106] 0.966939609681853\n\\item[340] 0.0264688611124101\n\\item[285] 0.524880368337524\n\\item[334] 0.417046741980247\n\\item[27] 0.832954095304853\n\\item[7] 0.121807107340491\n\\item[245] 0.410903356026692\n\\item[408] 0.970223855937243\n\\item[483] 0.766443165575327\n\\item[451] 0.743339469300883\n\\item[222] 0.862748593556457\n\\item[447] 0.469350944746273\n\\item[145] 0.0809960518683141\n\\item[318] 0.118087480631284\n\\item[148] 0.770778067805295\n\\item[163] 0.909294680247278\n\\item[394] 0.889001593738403\n\\item[161] 0.240916659398772\n\\item[66] 0.906369421778845\n\\item[484] 0.505023331659318\n\\item[225] 0.843201849985601\n\\item[117] 0.944044501814799\n\\item[323] 0.980403670833098\n\\item[434] 0.884114304541087\n\\item[448] 0.958940012116657\n\\item[498] 0.60750269028985\n\\item[358] 0.953230730222131\n\\item[45] 0.777057090246241\n\\item[146] 0.739464755952937\n\\item[170] 0.974642589167438\n\\item[314] 0.827218537222279\n\\item[441] 0.97696379812357\n\\item[176] 0.411214323659124\n\\item[305] 0.841974845260184\n\\item[104] 0.936999070402566\n\\item[399] 0.925698608666574\n\\item[513] 0.133041707624243\n\\item[452] 0.927193581453446\n\\item[258] 0.653364297746628\n\\item[365] 0.98132370862693\n\\item[491] 0.645922834107492\n\\item[24] 0.849391769396085\n\\item[130] 0.656429055156341\n\\item[435] 0.858097357376608\n\\item[191] 0.621594767129357\n\\item[493] 0.8945642474327\n\\item[321] 0.909733348255912\n\\item[354] 0.81693814749783\n\\item[234] 0.893356684868254\n\\item[443] 0.868185549248724\n\\item[80] 0.80762533163483\n\\item[36] 0.187133968815098\n\\item[427] 0.110604410837516\n\\item[387] 0.768475469350793\n\\item[111] 0.936570728478788\n\\item[507] 0.237553773779568\n\\item[371] 0.715311944880389\n\\item[389] 0.357228141667726\n\\item[392] 0.850158693759141\n\\item[382] 0.267808280301504\n\\item[301] 0.266700601635947\n\\item[31] 0.677809664583268\n\\item[251] 0.0479406389239913\n\\item[73] 0.554946504401879\n\\item[260] 0.976821081143879\n\\item[388] 0.871041036351906\n\\item[417] 0.94437785413841\n\\item[122] 0.053179394935579\n\\item[172] 0.520779682540045\n\\item[303] 0.285585460840822\n\\item[92] 0.947154540853887\n\\item[93] 0.828907219659324\n\\item[343] 0.875138426832881\n\\item[43] 0.741689986017312\n\\item[338] 0.644992392863815\n\\item[268] 0.7848497123361\n\\item[356] 0.706947418809185\n\\item[488] 0.823007143057202\n\\item[385] 0.950347885289858\n\\item[140] 0.964565284928449\n\\item[428] 0.733974257184435\n\\item[21] 0.483957807941337\n\\item[467] 0.950436628057762\n\\item[266] 0.488009374840807\n\\item[377] 0.935481499811722\n\\item[35] 0.076486436337633\n\\item[30] 0.967562459041639\n\\item[438] 0.933544448650964\n\\item[482] 0.704594450099126\n\\item[175] 0.928853519259829\n\\item[527] 0.92313130032008\n\\item[440] 0.523100160432463\n\\item[329] 0.596526473400588\n\\item[372] 0.466396667558357\n\\item[82] 0.55434569965851\n\\item[96] 0.640906126158593\n\\item[525] 0.438629002341299\n\\item[407] 0.361171058159391\n\\item[471] 0.987577274835836\n\\item[379] 0.0194361541919051\n\\item[213] 0.822975733940125\n\\item[216] 0.323076355394324\n\\item[457] 0.0591845182909454\n\\item[271] 0.856470107251838\n\\item[297] 0.850320948428141\n\\item[207] 0.749478129891534\n\\item[227] 0.84560747688742\n\\item[169] 0.946983531332296\n\\item[442] 0.914980671249622\n\\item[167] 0.287394441098613\n\\item[81] 0.887107801211163\n\\item[324] 0.861091526776132\n\\item[500] 0.851087897568352\n\\item[311] 0.902749449133843\n\\item[119] 0.285681438195577\n\\item[361] 0.554704934549241\n\\item[412] 0.764382608027285\n\\item[108] 0.599993390983722\n\\item[269] 0.804255390527076\n\\item[147] 0.678965044025966\n\\item[208] 0.27411574125603\n\\item[532] 0.949957514517388\n\\item[505] 0.815194724559512\n\\item[219] 0.785727785432629\n\\item[473] 0.84630202355047\n\\item[325] 0.211694992484115\n\\item[520] 0.200130709495791\n\\item[369] 0.722359633252821\n\\item[479] 0.304076303565637\n\\item[486] 0.919637638418865\n\\end{description*}\n",
            "text/plain": [
              "       415        463        179        526        195        118        299 \n",
              "0.93520832 0.73049001 0.87349164 0.49857008 0.95506089 0.12622344 0.96387510 \n",
              "       229        244         14        374         91        348        355 \n",
              "0.32704963 0.22275266 0.20327347 0.73292430 0.92774393 0.28685088 0.89610412 \n",
              "        26        426        211        373        143        490        109 \n",
              "0.41468596 0.25456786 0.63210700 0.41796699 0.59686151 0.66694313 0.60664852 \n",
              "       263        393        425        330         23        411        444 \n",
              "0.92682072 0.92536205 0.89687515 0.79414306 0.47623639 0.83498525 0.51187261 \n",
              "       309        135        504        506        224        166        217 \n",
              "0.91173210 0.45521453 0.81900308 0.78570782 0.89961393 0.04510025 0.86120820 \n",
              "       290        477         69         72         76         63        141 \n",
              "0.95161429 0.25269794 0.79976185 0.93358996 0.24036495 0.44603770 0.56745254 \n",
              "       210        353        347        153        294        277        531 \n",
              "0.60801978 0.38049535 0.13478288 0.33715115 0.26483417 0.87652651 0.85605472 \n",
              "        41        431         90        316        223         16        116 \n",
              "0.74322663 0.28052614 0.80933276 0.93061482 0.20598505 0.96376369 0.83606597 \n",
              "        94        262        235        456         86        342         39 \n",
              "0.67535542 0.88533836 0.89863225 0.79474664 0.43627852 0.88993278 0.54790087 \n",
              "       159        240        209        522        306         34          4 \n",
              "0.07607943 0.94841944 0.93082587 0.93142737 0.81917395 0.94015886 0.05266032 \n",
              "        13        495        383        243        409        308        278 \n",
              "0.76719506 0.21614321 0.94073505 0.14810434 0.07376988 0.92727038 0.57393301 \n",
              "        89        416         25        291        424        368        286 \n",
              "0.95132508 0.92696667 0.14646555 0.83922788 0.96061952 0.81296539 0.89026544 \n",
              "       396        469        121        110        158         64        398 \n",
              "0.48712364 0.29439012 0.05775843 0.79605997 0.96707978 0.94817315 0.88271738 \n",
              "       199         67        151        378        335         85        165 \n",
              "0.28362391 0.53122894 0.93714935 0.15151234 0.85104992 0.74863917 0.56988557 \n",
              "       136         51         74        178        362        236         98 \n",
              "0.89820831 0.93513623 0.16982645 0.31441566 0.98374522 0.31711639 0.56782184 \n",
              "       508        214        127        212        174        273        302 \n",
              "0.91172938 0.73202146 0.88800304 0.89629937 0.78831185 0.77613556 0.98598390 \n",
              "       310        419        232        366        459        350        437 \n",
              "0.89549707 0.12990845 0.34050538 0.93825159 0.18543155 0.90490111 0.92599413 \n",
              "       280        113        107        391        439        154        102 \n",
              "0.74185516 0.73084984 0.02095836 0.91107029 0.91455602 0.01296417 0.45396276 \n",
              "       255        160        410        155          5        326        272 \n",
              "0.07468587 0.27200869 0.12041196 0.81284395 0.94596105 0.47409553 0.51417663 \n",
              "       413        288        485         55        331        238        252 \n",
              "0.49739034 0.85545226 0.13636945 0.81163734 0.84301151 0.95802065 0.93497882 \n",
              "       339        470        420        137        226         48         77 \n",
              "0.58869870 0.93380008 0.78265210 0.02513614 0.67417987 0.81069027 0.92308756 \n",
              "        83        184        367        404        196        257        168 \n",
              "0.57965222 0.95606816 0.88698411 0.61350742 0.74445498 0.90190175 0.53622001 \n",
              "       449        476        400        344        390         20        360 \n",
              "0.96846454 0.80015687 0.69138185 0.86786980 0.16858757 0.96912655 0.17294007 \n",
              "       528        349        164         52        364         22        177 \n",
              "0.07285821 0.94760162 0.45188229 0.94845945 0.97092811 0.78537812 0.04194838 \n",
              "        42        315         84         11        446        421        436 \n",
              "0.89784167 0.11949118 0.86698124 0.76379386 0.36992260 0.14601090 0.96703304 \n",
              "       194        501        386        198        249        200        405 \n",
              "0.50442400 0.57318943 0.90000765 0.79153883 0.97403314 0.57202184 0.90050262 \n",
              "       250        292        478         33         40         10        352 \n",
              "0.69688921 0.88871426 0.61415814 0.93475468 0.87129375 0.69416918 0.78886995 \n",
              "       125        265        511        186         61        510        152 \n",
              "0.71011857 0.64217771 0.82600863 0.74264130 0.60004436 0.90912762 0.96192943 \n",
              "       319         54        518        474        289        185        253 \n",
              "0.55046617 0.96831146 0.41438739 0.74754887 0.65071610 0.96459627 0.87527108 \n",
              "       115        345        502        414        205        267        453 \n",
              "0.53434149 0.38756431 0.57723376 0.44807304 0.69000270 0.25999451 0.52770113 \n",
              "       450        282        215        351         57        105        279 \n",
              "0.81272247 0.40446328 0.82855110 0.61147446 0.85802790 0.88979527 0.20341268 \n",
              "       270        134        129        218        106        340        285 \n",
              "0.91520641 0.96954519 0.91908580 0.96577145 0.96693961 0.02646886 0.52488037 \n",
              "       334         27          7        245        408        483        451 \n",
              "0.41704674 0.83295410 0.12180711 0.41090336 0.97022386 0.76644317 0.74333947 \n",
              "       222        447        145        318        148        163        394 \n",
              "0.86274859 0.46935094 0.08099605 0.11808748 0.77077807 0.90929468 0.88900159 \n",
              "       161         66        484        225        117        323        434 \n",
              "0.24091666 0.90636942 0.50502333 0.84320185 0.94404450 0.98040367 0.88411430 \n",
              "       448        498        358         45        146        170        314 \n",
              "0.95894001 0.60750269 0.95323073 0.77705709 0.73946476 0.97464259 0.82721854 \n",
              "       441        176        305        104        399        513        452 \n",
              "0.97696380 0.41121432 0.84197485 0.93699907 0.92569861 0.13304171 0.92719358 \n",
              "       258        365        491         24        130        435        191 \n",
              "0.65336430 0.98132371 0.64592283 0.84939177 0.65642906 0.85809736 0.62159477 \n",
              "       493        321        354        234        443         80         36 \n",
              "0.89456425 0.90973335 0.81693815 0.89335668 0.86818555 0.80762533 0.18713397 \n",
              "       427        387        111        507        371        389        392 \n",
              "0.11060441 0.76847547 0.93657073 0.23755377 0.71531194 0.35722814 0.85015869 \n",
              "       382        301         31        251         73        260        388 \n",
              "0.26780828 0.26670060 0.67780966 0.04794064 0.55494650 0.97682108 0.87104104 \n",
              "       417        122        172        303         92         93        343 \n",
              "0.94437785 0.05317939 0.52077968 0.28558546 0.94715454 0.82890722 0.87513843 \n",
              "        43        338        268        356        488        385        140 \n",
              "0.74168999 0.64499239 0.78484971 0.70694742 0.82300714 0.95034789 0.96456528 \n",
              "       428         21        467        266        377         35         30 \n",
              "0.73397426 0.48395781 0.95043663 0.48800937 0.93548150 0.07648644 0.96756246 \n",
              "       438        482        175        527        440        329        372 \n",
              "0.93354445 0.70459445 0.92885352 0.92313130 0.52310016 0.59652647 0.46639667 \n",
              "        82         96        525        407        471        379        213 \n",
              "0.55434570 0.64090613 0.43862900 0.36117106 0.98757727 0.01943615 0.82297573 \n",
              "       216        457        271        297        207        227        169 \n",
              "0.32307636 0.05918452 0.85647011 0.85032095 0.74947813 0.84560748 0.94698353 \n",
              "       442        167         81        324        500        311        119 \n",
              "0.91498067 0.28739444 0.88710780 0.86109153 0.85108790 0.90274945 0.28568144 \n",
              "       361        412        108        269        147        208        532 \n",
              "0.55470493 0.76438261 0.59999339 0.80425539 0.67896504 0.27411574 0.94995751 \n",
              "       505        219        473        325        520        369        479 \n",
              "0.81519472 0.78572779 0.84630202 0.21169499 0.20013071 0.72235963 0.30407630 \n",
              "       486 \n",
              "0.91963764 "
            ]
          },
          "metadata": {}
        }
      ]
    },
    {
      "cell_type": "code",
      "source": [
        "y_hat_train <- round(glm.probs.train)"
      ],
      "metadata": {
        "id": "VEZS_0Pb3Inw"
      },
      "execution_count": 56,
      "outputs": []
    },
    {
      "cell_type": "code",
      "source": [
        "glm.probs.test <- predict(glm.fit,newdata = pima_test,type= \"response\")"
      ],
      "metadata": {
        "id": "U4iz7H7Q3NjC"
      },
      "execution_count": 57,
      "outputs": []
    },
    {
      "cell_type": "code",
      "source": [
        "y_hat_test <- round(glm.probs.test)\n",
        "y_hat_test"
      ],
      "metadata": {
        "colab": {
          "base_uri": "https://localhost:8080/",
          "height": 425
        },
        "id": "LO5vkulE3bg4",
        "outputId": "0c16a32d-9f37-4549-af88-19b86be5e342"
      },
      "execution_count": 59,
      "outputs": [
        {
          "output_type": "display_data",
          "data": {
            "text/html": [
              "<style>\n",
              ".dl-inline {width: auto; margin:0; padding: 0}\n",
              ".dl-inline>dt, .dl-inline>dd {float: none; width: auto; display: inline-block}\n",
              ".dl-inline>dt::after {content: \":\\0020\"; padding-right: .5ex}\n",
              ".dl-inline>dt:not(:first-of-type) {padding-left: .5ex}\n",
              "</style><dl class=dl-inline><dt>1</dt><dd>0</dd><dt>2</dt><dd>1</dd><dt>3</dt><dd>1</dd><dt>6</dt><dd>0</dd><dt>8</dt><dd>0</dd><dt>9</dt><dd>1</dd><dt>12</dt><dd>1</dd><dt>15</dt><dd>1</dd><dt>17</dt><dd>0</dd><dt>18</dt><dd>0</dd><dt>19</dt><dd>0</dd><dt>28</dt><dd>0</dd><dt>29</dt><dd>0</dd><dt>32</dt><dd>1</dd><dt>37</dt><dd>1</dd><dt>38</dt><dd>0</dd><dt>44</dt><dd>1</dd><dt>46</dt><dd>1</dd><dt>47</dt><dd>1</dd><dt>49</dt><dd>1</dd><dt>50</dt><dd>1</dd><dt>53</dt><dd>1</dd><dt>56</dt><dd>0</dd><dt>58</dt><dd>0</dd><dt>59</dt><dd>1</dd><dt>60</dt><dd>1</dd><dt>62</dt><dd>1</dd><dt>65</dt><dd>1</dd><dt>68</dt><dd>1</dd><dt>70</dt><dd>1</dd><dt>71</dt><dd>1</dd><dt>75</dt><dd>1</dd><dt>78</dt><dd>1</dd><dt>79</dt><dd>0</dd><dt>87</dt><dd>0</dd><dt>88</dt><dd>1</dd><dt>95</dt><dd>1</dd><dt>97</dt><dd>1</dd><dt>99</dt><dd>1</dd><dt>100</dt><dd>1</dd><dt>101</dt><dd>0</dd><dt>103</dt><dd>0</dd><dt>112</dt><dd>1</dd><dt>114</dt><dd>1</dd><dt>120</dt><dd>1</dd><dt>123</dt><dd>1</dd><dt>124</dt><dd>1</dd><dt>126</dt><dd>0</dd><dt>128</dt><dd>0</dd><dt>131</dt><dd>1</dd><dt>132</dt><dd>1</dd><dt>133</dt><dd>1</dd><dt>138</dt><dd>1</dd><dt>139</dt><dd>0</dd><dt>142</dt><dd>0</dd><dt>144</dt><dd>1</dd><dt>149</dt><dd>0</dd><dt>150</dt><dd>0</dd><dt>156</dt><dd>0</dd><dt>157</dt><dd>1</dd><dt>162</dt><dd>1</dd><dt>171</dt><dd>1</dd><dt>173</dt><dd>1</dd><dt>180</dt><dd>0</dd><dt>181</dt><dd>1</dd><dt>182</dt><dd>0</dd><dt>183</dt><dd>0</dd><dt>187</dt><dd>1</dd><dt>188</dt><dd>1</dd><dt>189</dt><dd>1</dd><dt>190</dt><dd>0</dd><dt>192</dt><dd>0</dd><dt>193</dt><dd>0</dd><dt>197</dt><dd>1</dd><dt>201</dt><dd>0</dd><dt>202</dt><dd>1</dd><dt>203</dt><dd>1</dd><dt>204</dt><dd>0</dd><dt>206</dt><dd>1</dd><dt>220</dt><dd>1</dd><dt>221</dt><dd>1</dd><dt>228</dt><dd>1</dd><dt>230</dt><dd>1</dd><dt>231</dt><dd>1</dd><dt>233</dt><dd>0</dd><dt>237</dt><dd>1</dd><dt>239</dt><dd>1</dd><dt>241</dt><dd>1</dd><dt>242</dt><dd>1</dd><dt>246</dt><dd>1</dd><dt>247</dt><dd>1</dd><dt>248</dt><dd>1</dd><dt>254</dt><dd>1</dd><dt>256</dt><dd>1</dd><dt>259</dt><dd>1</dd><dt>261</dt><dd>1</dd><dt>264</dt><dd>1</dd><dt>274</dt><dd>1</dd><dt>275</dt><dd>0</dd><dt>276</dt><dd>1</dd><dt>281</dt><dd>1</dd><dt>283</dt><dd>1</dd><dt>284</dt><dd>1</dd><dt>287</dt><dd>0</dd><dt>293</dt><dd>0</dd><dt>295</dt><dd>0</dd><dt>296</dt><dd>1</dd><dt>298</dt><dd>1</dd><dt>300</dt><dd>1</dd><dt>304</dt><dd>1</dd><dt>307</dt><dd>0</dd><dt>312</dt><dd>1</dd><dt>313</dt><dd>1</dd><dt>317</dt><dd>0</dd><dt>320</dt><dd>1</dd><dt>322</dt><dd>1</dd><dt>327</dt><dd>1</dd><dt>328</dt><dd>1</dd><dt>332</dt><dd>1</dd><dt>333</dt><dd>0</dd><dt>336</dt><dd>1</dd><dt>337</dt><dd>1</dd><dt>341</dt><dd>1</dd><dt>346</dt><dd>1</dd><dt>357</dt><dd>1</dd><dt>359</dt><dd>1</dd><dt>363</dt><dd>1</dd><dt>370</dt><dd>1</dd><dt>375</dt><dd>0</dd><dt>376</dt><dd>1</dd><dt>380</dt><dd>1</dd><dt>381</dt><dd>0</dd><dt>384</dt><dd>1</dd><dt>395</dt><dd>1</dd><dt>397</dt><dd>1</dd><dt>401</dt><dd>1</dd><dt>402</dt><dd>1</dd><dt>403</dt><dd>0</dd><dt>406</dt><dd>0</dd><dt>418</dt><dd>1</dd><dt>422</dt><dd>1</dd><dt>423</dt><dd>1</dd><dt>429</dt><dd>0</dd><dt>430</dt><dd>1</dd><dt>432</dt><dd>1</dd><dt>433</dt><dd>1</dd><dt>445</dt><dd>1</dd><dt>454</dt><dd>1</dd><dt>455</dt><dd>0</dd><dt>458</dt><dd>0</dd><dt>460</dt><dd>1</dd><dt>461</dt><dd>1</dd><dt>462</dt><dd>0</dd><dt>464</dt><dd>1</dd><dt>465</dt><dd>0</dd><dt>466</dt><dd>0</dd><dt>468</dt><dd>1</dd><dt>472</dt><dd>0</dd><dt>475</dt><dd>1</dd><dt>480</dt><dd>1</dd><dt>481</dt><dd>1</dd><dt>487</dt><dd>1</dd><dt>489</dt><dd>1</dd><dt>492</dt><dd>0</dd><dt>494</dt><dd>0</dd><dt>496</dt><dd>1</dd><dt>497</dt><dd>1</dd><dt>499</dt><dd>1</dd><dt>503</dt><dd>1</dd><dt>509</dt><dd>1</dd><dt>512</dt><dd>1</dd><dt>514</dt><dd>1</dd><dt>515</dt><dd>1</dd><dt>516</dt><dd>0</dd><dt>517</dt><dd>1</dd><dt>519</dt><dd>1</dd><dt>521</dt><dd>1</dd><dt>523</dt><dd>0</dd><dt>524</dt><dd>0</dd><dt>529</dt><dd>0</dd><dt>530</dt><dd>1</dd></dl>\n"
            ],
            "text/markdown": "1\n:   02\n:   13\n:   16\n:   08\n:   09\n:   112\n:   115\n:   117\n:   018\n:   019\n:   028\n:   029\n:   032\n:   137\n:   138\n:   044\n:   146\n:   147\n:   149\n:   150\n:   153\n:   156\n:   058\n:   059\n:   160\n:   162\n:   165\n:   168\n:   170\n:   171\n:   175\n:   178\n:   179\n:   087\n:   088\n:   195\n:   197\n:   199\n:   1100\n:   1101\n:   0103\n:   0112\n:   1114\n:   1120\n:   1123\n:   1124\n:   1126\n:   0128\n:   0131\n:   1132\n:   1133\n:   1138\n:   1139\n:   0142\n:   0144\n:   1149\n:   0150\n:   0156\n:   0157\n:   1162\n:   1171\n:   1173\n:   1180\n:   0181\n:   1182\n:   0183\n:   0187\n:   1188\n:   1189\n:   1190\n:   0192\n:   0193\n:   0197\n:   1201\n:   0202\n:   1203\n:   1204\n:   0206\n:   1220\n:   1221\n:   1228\n:   1230\n:   1231\n:   1233\n:   0237\n:   1239\n:   1241\n:   1242\n:   1246\n:   1247\n:   1248\n:   1254\n:   1256\n:   1259\n:   1261\n:   1264\n:   1274\n:   1275\n:   0276\n:   1281\n:   1283\n:   1284\n:   1287\n:   0293\n:   0295\n:   0296\n:   1298\n:   1300\n:   1304\n:   1307\n:   0312\n:   1313\n:   1317\n:   0320\n:   1322\n:   1327\n:   1328\n:   1332\n:   1333\n:   0336\n:   1337\n:   1341\n:   1346\n:   1357\n:   1359\n:   1363\n:   1370\n:   1375\n:   0376\n:   1380\n:   1381\n:   0384\n:   1395\n:   1397\n:   1401\n:   1402\n:   1403\n:   0406\n:   0418\n:   1422\n:   1423\n:   1429\n:   0430\n:   1432\n:   1433\n:   1445\n:   1454\n:   1455\n:   0458\n:   0460\n:   1461\n:   1462\n:   0464\n:   1465\n:   0466\n:   0468\n:   1472\n:   0475\n:   1480\n:   1481\n:   1487\n:   1489\n:   1492\n:   0494\n:   0496\n:   1497\n:   1499\n:   1503\n:   1509\n:   1512\n:   1514\n:   1515\n:   1516\n:   0517\n:   1519\n:   1521\n:   1523\n:   0524\n:   0529\n:   0530\n:   1\n\n",
            "text/latex": "\\begin{description*}\n\\item[1] 0\n\\item[2] 1\n\\item[3] 1\n\\item[6] 0\n\\item[8] 0\n\\item[9] 1\n\\item[12] 1\n\\item[15] 1\n\\item[17] 0\n\\item[18] 0\n\\item[19] 0\n\\item[28] 0\n\\item[29] 0\n\\item[32] 1\n\\item[37] 1\n\\item[38] 0\n\\item[44] 1\n\\item[46] 1\n\\item[47] 1\n\\item[49] 1\n\\item[50] 1\n\\item[53] 1\n\\item[56] 0\n\\item[58] 0\n\\item[59] 1\n\\item[60] 1\n\\item[62] 1\n\\item[65] 1\n\\item[68] 1\n\\item[70] 1\n\\item[71] 1\n\\item[75] 1\n\\item[78] 1\n\\item[79] 0\n\\item[87] 0\n\\item[88] 1\n\\item[95] 1\n\\item[97] 1\n\\item[99] 1\n\\item[100] 1\n\\item[101] 0\n\\item[103] 0\n\\item[112] 1\n\\item[114] 1\n\\item[120] 1\n\\item[123] 1\n\\item[124] 1\n\\item[126] 0\n\\item[128] 0\n\\item[131] 1\n\\item[132] 1\n\\item[133] 1\n\\item[138] 1\n\\item[139] 0\n\\item[142] 0\n\\item[144] 1\n\\item[149] 0\n\\item[150] 0\n\\item[156] 0\n\\item[157] 1\n\\item[162] 1\n\\item[171] 1\n\\item[173] 1\n\\item[180] 0\n\\item[181] 1\n\\item[182] 0\n\\item[183] 0\n\\item[187] 1\n\\item[188] 1\n\\item[189] 1\n\\item[190] 0\n\\item[192] 0\n\\item[193] 0\n\\item[197] 1\n\\item[201] 0\n\\item[202] 1\n\\item[203] 1\n\\item[204] 0\n\\item[206] 1\n\\item[220] 1\n\\item[221] 1\n\\item[228] 1\n\\item[230] 1\n\\item[231] 1\n\\item[233] 0\n\\item[237] 1\n\\item[239] 1\n\\item[241] 1\n\\item[242] 1\n\\item[246] 1\n\\item[247] 1\n\\item[248] 1\n\\item[254] 1\n\\item[256] 1\n\\item[259] 1\n\\item[261] 1\n\\item[264] 1\n\\item[274] 1\n\\item[275] 0\n\\item[276] 1\n\\item[281] 1\n\\item[283] 1\n\\item[284] 1\n\\item[287] 0\n\\item[293] 0\n\\item[295] 0\n\\item[296] 1\n\\item[298] 1\n\\item[300] 1\n\\item[304] 1\n\\item[307] 0\n\\item[312] 1\n\\item[313] 1\n\\item[317] 0\n\\item[320] 1\n\\item[322] 1\n\\item[327] 1\n\\item[328] 1\n\\item[332] 1\n\\item[333] 0\n\\item[336] 1\n\\item[337] 1\n\\item[341] 1\n\\item[346] 1\n\\item[357] 1\n\\item[359] 1\n\\item[363] 1\n\\item[370] 1\n\\item[375] 0\n\\item[376] 1\n\\item[380] 1\n\\item[381] 0\n\\item[384] 1\n\\item[395] 1\n\\item[397] 1\n\\item[401] 1\n\\item[402] 1\n\\item[403] 0\n\\item[406] 0\n\\item[418] 1\n\\item[422] 1\n\\item[423] 1\n\\item[429] 0\n\\item[430] 1\n\\item[432] 1\n\\item[433] 1\n\\item[445] 1\n\\item[454] 1\n\\item[455] 0\n\\item[458] 0\n\\item[460] 1\n\\item[461] 1\n\\item[462] 0\n\\item[464] 1\n\\item[465] 0\n\\item[466] 0\n\\item[468] 1\n\\item[472] 0\n\\item[475] 1\n\\item[480] 1\n\\item[481] 1\n\\item[487] 1\n\\item[489] 1\n\\item[492] 0\n\\item[494] 0\n\\item[496] 1\n\\item[497] 1\n\\item[499] 1\n\\item[503] 1\n\\item[509] 1\n\\item[512] 1\n\\item[514] 1\n\\item[515] 1\n\\item[516] 0\n\\item[517] 1\n\\item[519] 1\n\\item[521] 1\n\\item[523] 0\n\\item[524] 0\n\\item[529] 0\n\\item[530] 1\n\\end{description*}\n",
            "text/plain": [
              "  1   2   3   6   8   9  12  15  17  18  19  28  29  32  37  38  44  46  47  49 \n",
              "  0   1   1   0   0   1   1   1   0   0   0   0   0   1   1   0   1   1   1   1 \n",
              " 50  53  56  58  59  60  62  65  68  70  71  75  78  79  87  88  95  97  99 100 \n",
              "  1   1   0   0   1   1   1   1   1   1   1   1   1   0   0   1   1   1   1   1 \n",
              "101 103 112 114 120 123 124 126 128 131 132 133 138 139 142 144 149 150 156 157 \n",
              "  0   0   1   1   1   1   1   0   0   1   1   1   1   0   0   1   0   0   0   1 \n",
              "162 171 173 180 181 182 183 187 188 189 190 192 193 197 201 202 203 204 206 220 \n",
              "  1   1   1   0   1   0   0   1   1   1   0   0   0   1   0   1   1   0   1   1 \n",
              "221 228 230 231 233 237 239 241 242 246 247 248 254 256 259 261 264 274 275 276 \n",
              "  1   1   1   1   0   1   1   1   1   1   1   1   1   1   1   1   1   1   0   1 \n",
              "281 283 284 287 293 295 296 298 300 304 307 312 313 317 320 322 327 328 332 333 \n",
              "  1   1   1   0   0   0   1   1   1   1   0   1   1   0   1   1   1   1   1   0 \n",
              "336 337 341 346 357 359 363 370 375 376 380 381 384 395 397 401 402 403 406 418 \n",
              "  1   1   1   1   1   1   1   1   0   1   1   0   1   1   1   1   1   0   0   1 \n",
              "422 423 429 430 432 433 445 454 455 458 460 461 462 464 465 466 468 472 475 480 \n",
              "  1   1   0   1   1   1   1   1   0   0   1   1   0   1   0   0   1   0   1   1 \n",
              "481 487 489 492 494 496 497 499 503 509 512 514 515 516 517 519 521 523 524 529 \n",
              "  1   1   1   0   0   1   1   1   1   1   1   1   1   0   1   1   1   0   0   0 \n",
              "530 \n",
              "  1 "
            ]
          },
          "metadata": {}
        }
      ]
    },
    {
      "cell_type": "code",
      "source": [
        "#error rate"
      ],
      "metadata": {
        "id": "XOriTiJd3ias"
      },
      "execution_count": null,
      "outputs": []
    },
    {
      "cell_type": "code",
      "source": [
        "y_true_train <- as.numeric(pima_train$class) - 1"
      ],
      "metadata": {
        "id": "vZDtN95s34cH"
      },
      "execution_count": 63,
      "outputs": []
    },
    {
      "cell_type": "code",
      "source": [
        "y_true_train"
      ],
      "metadata": {
        "colab": {
          "base_uri": "https://localhost:8080/",
          "height": 204
        },
        "id": "fAehVH-k4RYX",
        "outputId": "4abf3edd-fd81-456a-fef8-89361ce78f51"
      },
      "execution_count": 64,
      "outputs": [
        {
          "output_type": "display_data",
          "data": {
            "text/html": [
              "<style>\n",
              ".list-inline {list-style: none; margin:0; padding: 0}\n",
              ".list-inline>li {display: inline-block}\n",
              ".list-inline>li:not(:last-child)::after {content: \"\\00b7\"; padding: 0 .5ex}\n",
              "</style>\n",
              "<ol class=list-inline><li>1</li><li>0</li><li>1</li><li>1</li><li>1</li><li>0</li><li>1</li><li>1</li><li>0</li><li>0</li><li>0</li><li>1</li><li>1</li><li>1</li><li>1</li><li>0</li><li>0</li><li>0</li><li>0</li><li>1</li><li>1</li><li>1</li><li>1</li><li>1</li><li>0</li><li>0</li><li>1</li><li>1</li><li>1</li><li>1</li><li>1</li><li>0</li><li>1</li><li>0</li><li>1</li><li>1</li><li>0</li><li>1</li><li>0</li><li>0</li><li>1</li><li>1</li><li>0</li><li>0</li><li>0</li><li>0</li><li>0</li><li>1</li><li>1</li><li>1</li><li>0</li><li>1</li><li>1</li><li>0</li><li>1</li><li>1</li><li>1</li><li>1</li><li>1</li><li>0</li><li>0</li><li>1</li><li>1</li><li>0</li><li>1</li><li>1</li><li>1</li><li>0</li><li>1</li><li>0</li><li>0</li><li>0</li><li>1</li><li>0</li><li>0</li><li>1</li><li>1</li><li>1</li><li>1</li><li>0</li><li>1</li><li>1</li><li>1</li><li>1</li><li>1</li><li>1</li><li>0</li><li>1</li><li>1</li><li>1</li><li>1</li><li>0</li><li>0</li><li>1</li><li>0</li><li>1</li><li>0</li><li>1</li><li>1</li><li>1</li><li>0</li><li>1</li><li>1</li><li>1</li><li>1</li><li>1</li><li>0</li><li>1</li><li>1</li><li>1</li><li>1</li><li>1</li><li>0</li><li>0</li><li>1</li><li>1</li><li>0</li><li>1</li><li>1</li><li>1</li><li>1</li><li>0</li><li>1</li><li>1</li><li>1</li><li>1</li><li>0</li><li>0</li><li>0</li><li>1</li><li>0</li><li>1</li><li>1</li><li>1</li><li>0</li><li>0</li><li>1</li><li>1</li><li>1</li><li>1</li><li>1</li><li>1</li><li>1</li><li>0</li><li>0</li><li>1</li><li>1</li><li>1</li><li>1</li><li>1</li><li>0</li><li>1</li><li>1</li><li>1</li><li>1</li><li>1</li><li>1</li><li>1</li><li>0</li><li>1</li><li>0</li><li>0</li><li>1</li><li>0</li><li>1</li><li>1</li><li>1</li><li>0</li><li>1</li><li>0</li><li>1</li><li>0</li><li>0</li><li>0</li><li>1</li><li>0</li><li>0</li><li>1</li><li>0</li><li>1</li><li>0</li><li>1</li><li>0</li><li>1</li><li>1</li><li>1</li><li>1</li><li>1</li><li>1</li><li>0</li><li>0</li><li>1</li><li>1</li><li>1</li><li>1</li><li>1</li><li>1</li><li>1</li><li>0</li><li>1</li><li>1</li><li>1</li><li>1</li><li>0</li><li>0</li><li>1</li><li>0</li><li>0</li><li>0</li><li>0</li><li>1</li><li>1</li><li>1</li><li>1</li><li>1</li><li>1</li><li>0</li><li>1</li><li>1</li><li>0</li><li>1</li><li>1</li><li>1</li><li>0</li><li>0</li><li>1</li><li>0</li><li>1</li><li>1</li><li>1</li><li>1</li><li>0</li><li>0</li><li>0</li><li>1</li><li>0</li><li>1</li><li>1</li><li>0</li><li>1</li><li>0</li><li>1</li><li>1</li><li>1</li><li>1</li><li>1</li><li>0</li><li>1</li><li>1</li><li>0</li><li>1</li><li>1</li><li>1</li><li>1</li><li>1</li><li>1</li><li>1</li><li>0</li><li>1</li><li>1</li><li>1</li><li>1</li><li>0</li><li>0</li><li>1</li><li>1</li><li>1</li><li>1</li><li>1</li><li>1</li><li>1</li><li>1</li><li>1</li><li>0</li><li>1</li><li>1</li><li>0</li><li>1</li><li>1</li><li>1</li><li>1</li><li>1</li><li>0</li><li>0</li><li>0</li><li>1</li><li>1</li><li>1</li><li>0</li><li>0</li><li>0</li><li>1</li><li>1</li><li>1</li><li>0</li><li>0</li><li>1</li><li>0</li><li>1</li><li>1</li><li>1</li><li>1</li><li>1</li><li>1</li><li>0</li><li>1</li><li>0</li><li>1</li><li>1</li><li>1</li><li>1</li><li>1</li><li>0</li><li>1</li><li>0</li><li>0</li><li>1</li><li>0</li><li>0</li><li>1</li><li>0</li><li>1</li><li>0</li><li>0</li><li>1</li><li>0</li><li>1</li><li>0</li><li>1</li><li>1</li><li>1</li><li>1</li><li>1</li><li>1</li><li>1</li><li>0</li><li>1</li><li>1</li><li>1</li><li>1</li><li>1</li><li>0</li><li>1</li><li>1</li><li>1</li><li>1</li><li>1</li><li>0</li><li>1</li><li>0</li><li>1</li></ol>\n"
            ],
            "text/markdown": "1. 1\n2. 0\n3. 1\n4. 1\n5. 1\n6. 0\n7. 1\n8. 1\n9. 0\n10. 0\n11. 0\n12. 1\n13. 1\n14. 1\n15. 1\n16. 0\n17. 0\n18. 0\n19. 0\n20. 1\n21. 1\n22. 1\n23. 1\n24. 1\n25. 0\n26. 0\n27. 1\n28. 1\n29. 1\n30. 1\n31. 1\n32. 0\n33. 1\n34. 0\n35. 1\n36. 1\n37. 0\n38. 1\n39. 0\n40. 0\n41. 1\n42. 1\n43. 0\n44. 0\n45. 0\n46. 0\n47. 0\n48. 1\n49. 1\n50. 1\n51. 0\n52. 1\n53. 1\n54. 0\n55. 1\n56. 1\n57. 1\n58. 1\n59. 1\n60. 0\n61. 0\n62. 1\n63. 1\n64. 0\n65. 1\n66. 1\n67. 1\n68. 0\n69. 1\n70. 0\n71. 0\n72. 0\n73. 1\n74. 0\n75. 0\n76. 1\n77. 1\n78. 1\n79. 1\n80. 0\n81. 1\n82. 1\n83. 1\n84. 1\n85. 1\n86. 1\n87. 0\n88. 1\n89. 1\n90. 1\n91. 1\n92. 0\n93. 0\n94. 1\n95. 0\n96. 1\n97. 0\n98. 1\n99. 1\n100. 1\n101. 0\n102. 1\n103. 1\n104. 1\n105. 1\n106. 1\n107. 0\n108. 1\n109. 1\n110. 1\n111. 1\n112. 1\n113. 0\n114. 0\n115. 1\n116. 1\n117. 0\n118. 1\n119. 1\n120. 1\n121. 1\n122. 0\n123. 1\n124. 1\n125. 1\n126. 1\n127. 0\n128. 0\n129. 0\n130. 1\n131. 0\n132. 1\n133. 1\n134. 1\n135. 0\n136. 0\n137. 1\n138. 1\n139. 1\n140. 1\n141. 1\n142. 1\n143. 1\n144. 0\n145. 0\n146. 1\n147. 1\n148. 1\n149. 1\n150. 1\n151. 0\n152. 1\n153. 1\n154. 1\n155. 1\n156. 1\n157. 1\n158. 1\n159. 0\n160. 1\n161. 0\n162. 0\n163. 1\n164. 0\n165. 1\n166. 1\n167. 1\n168. 0\n169. 1\n170. 0\n171. 1\n172. 0\n173. 0\n174. 0\n175. 1\n176. 0\n177. 0\n178. 1\n179. 0\n180. 1\n181. 0\n182. 1\n183. 0\n184. 1\n185. 1\n186. 1\n187. 1\n188. 1\n189. 1\n190. 0\n191. 0\n192. 1\n193. 1\n194. 1\n195. 1\n196. 1\n197. 1\n198. 1\n199. 0\n200. 1\n201. 1\n202. 1\n203. 1\n204. 0\n205. 0\n206. 1\n207. 0\n208. 0\n209. 0\n210. 0\n211. 1\n212. 1\n213. 1\n214. 1\n215. 1\n216. 1\n217. 0\n218. 1\n219. 1\n220. 0\n221. 1\n222. 1\n223. 1\n224. 0\n225. 0\n226. 1\n227. 0\n228. 1\n229. 1\n230. 1\n231. 1\n232. 0\n233. 0\n234. 0\n235. 1\n236. 0\n237. 1\n238. 1\n239. 0\n240. 1\n241. 0\n242. 1\n243. 1\n244. 1\n245. 1\n246. 1\n247. 0\n248. 1\n249. 1\n250. 0\n251. 1\n252. 1\n253. 1\n254. 1\n255. 1\n256. 1\n257. 1\n258. 0\n259. 1\n260. 1\n261. 1\n262. 1\n263. 0\n264. 0\n265. 1\n266. 1\n267. 1\n268. 1\n269. 1\n270. 1\n271. 1\n272. 1\n273. 1\n274. 0\n275. 1\n276. 1\n277. 0\n278. 1\n279. 1\n280. 1\n281. 1\n282. 1\n283. 0\n284. 0\n285. 0\n286. 1\n287. 1\n288. 1\n289. 0\n290. 0\n291. 0\n292. 1\n293. 1\n294. 1\n295. 0\n296. 0\n297. 1\n298. 0\n299. 1\n300. 1\n301. 1\n302. 1\n303. 1\n304. 1\n305. 0\n306. 1\n307. 0\n308. 1\n309. 1\n310. 1\n311. 1\n312. 1\n313. 0\n314. 1\n315. 0\n316. 0\n317. 1\n318. 0\n319. 0\n320. 1\n321. 0\n322. 1\n323. 0\n324. 0\n325. 1\n326. 0\n327. 1\n328. 0\n329. 1\n330. 1\n331. 1\n332. 1\n333. 1\n334. 1\n335. 1\n336. 0\n337. 1\n338. 1\n339. 1\n340. 1\n341. 1\n342. 0\n343. 1\n344. 1\n345. 1\n346. 1\n347. 1\n348. 0\n349. 1\n350. 0\n351. 1\n\n\n",
            "text/latex": "\\begin{enumerate*}\n\\item 1\n\\item 0\n\\item 1\n\\item 1\n\\item 1\n\\item 0\n\\item 1\n\\item 1\n\\item 0\n\\item 0\n\\item 0\n\\item 1\n\\item 1\n\\item 1\n\\item 1\n\\item 0\n\\item 0\n\\item 0\n\\item 0\n\\item 1\n\\item 1\n\\item 1\n\\item 1\n\\item 1\n\\item 0\n\\item 0\n\\item 1\n\\item 1\n\\item 1\n\\item 1\n\\item 1\n\\item 0\n\\item 1\n\\item 0\n\\item 1\n\\item 1\n\\item 0\n\\item 1\n\\item 0\n\\item 0\n\\item 1\n\\item 1\n\\item 0\n\\item 0\n\\item 0\n\\item 0\n\\item 0\n\\item 1\n\\item 1\n\\item 1\n\\item 0\n\\item 1\n\\item 1\n\\item 0\n\\item 1\n\\item 1\n\\item 1\n\\item 1\n\\item 1\n\\item 0\n\\item 0\n\\item 1\n\\item 1\n\\item 0\n\\item 1\n\\item 1\n\\item 1\n\\item 0\n\\item 1\n\\item 0\n\\item 0\n\\item 0\n\\item 1\n\\item 0\n\\item 0\n\\item 1\n\\item 1\n\\item 1\n\\item 1\n\\item 0\n\\item 1\n\\item 1\n\\item 1\n\\item 1\n\\item 1\n\\item 1\n\\item 0\n\\item 1\n\\item 1\n\\item 1\n\\item 1\n\\item 0\n\\item 0\n\\item 1\n\\item 0\n\\item 1\n\\item 0\n\\item 1\n\\item 1\n\\item 1\n\\item 0\n\\item 1\n\\item 1\n\\item 1\n\\item 1\n\\item 1\n\\item 0\n\\item 1\n\\item 1\n\\item 1\n\\item 1\n\\item 1\n\\item 0\n\\item 0\n\\item 1\n\\item 1\n\\item 0\n\\item 1\n\\item 1\n\\item 1\n\\item 1\n\\item 0\n\\item 1\n\\item 1\n\\item 1\n\\item 1\n\\item 0\n\\item 0\n\\item 0\n\\item 1\n\\item 0\n\\item 1\n\\item 1\n\\item 1\n\\item 0\n\\item 0\n\\item 1\n\\item 1\n\\item 1\n\\item 1\n\\item 1\n\\item 1\n\\item 1\n\\item 0\n\\item 0\n\\item 1\n\\item 1\n\\item 1\n\\item 1\n\\item 1\n\\item 0\n\\item 1\n\\item 1\n\\item 1\n\\item 1\n\\item 1\n\\item 1\n\\item 1\n\\item 0\n\\item 1\n\\item 0\n\\item 0\n\\item 1\n\\item 0\n\\item 1\n\\item 1\n\\item 1\n\\item 0\n\\item 1\n\\item 0\n\\item 1\n\\item 0\n\\item 0\n\\item 0\n\\item 1\n\\item 0\n\\item 0\n\\item 1\n\\item 0\n\\item 1\n\\item 0\n\\item 1\n\\item 0\n\\item 1\n\\item 1\n\\item 1\n\\item 1\n\\item 1\n\\item 1\n\\item 0\n\\item 0\n\\item 1\n\\item 1\n\\item 1\n\\item 1\n\\item 1\n\\item 1\n\\item 1\n\\item 0\n\\item 1\n\\item 1\n\\item 1\n\\item 1\n\\item 0\n\\item 0\n\\item 1\n\\item 0\n\\item 0\n\\item 0\n\\item 0\n\\item 1\n\\item 1\n\\item 1\n\\item 1\n\\item 1\n\\item 1\n\\item 0\n\\item 1\n\\item 1\n\\item 0\n\\item 1\n\\item 1\n\\item 1\n\\item 0\n\\item 0\n\\item 1\n\\item 0\n\\item 1\n\\item 1\n\\item 1\n\\item 1\n\\item 0\n\\item 0\n\\item 0\n\\item 1\n\\item 0\n\\item 1\n\\item 1\n\\item 0\n\\item 1\n\\item 0\n\\item 1\n\\item 1\n\\item 1\n\\item 1\n\\item 1\n\\item 0\n\\item 1\n\\item 1\n\\item 0\n\\item 1\n\\item 1\n\\item 1\n\\item 1\n\\item 1\n\\item 1\n\\item 1\n\\item 0\n\\item 1\n\\item 1\n\\item 1\n\\item 1\n\\item 0\n\\item 0\n\\item 1\n\\item 1\n\\item 1\n\\item 1\n\\item 1\n\\item 1\n\\item 1\n\\item 1\n\\item 1\n\\item 0\n\\item 1\n\\item 1\n\\item 0\n\\item 1\n\\item 1\n\\item 1\n\\item 1\n\\item 1\n\\item 0\n\\item 0\n\\item 0\n\\item 1\n\\item 1\n\\item 1\n\\item 0\n\\item 0\n\\item 0\n\\item 1\n\\item 1\n\\item 1\n\\item 0\n\\item 0\n\\item 1\n\\item 0\n\\item 1\n\\item 1\n\\item 1\n\\item 1\n\\item 1\n\\item 1\n\\item 0\n\\item 1\n\\item 0\n\\item 1\n\\item 1\n\\item 1\n\\item 1\n\\item 1\n\\item 0\n\\item 1\n\\item 0\n\\item 0\n\\item 1\n\\item 0\n\\item 0\n\\item 1\n\\item 0\n\\item 1\n\\item 0\n\\item 0\n\\item 1\n\\item 0\n\\item 1\n\\item 0\n\\item 1\n\\item 1\n\\item 1\n\\item 1\n\\item 1\n\\item 1\n\\item 1\n\\item 0\n\\item 1\n\\item 1\n\\item 1\n\\item 1\n\\item 1\n\\item 0\n\\item 1\n\\item 1\n\\item 1\n\\item 1\n\\item 1\n\\item 0\n\\item 1\n\\item 0\n\\item 1\n\\end{enumerate*}\n",
            "text/plain": [
              "  [1] 1 0 1 1 1 0 1 1 0 0 0 1 1 1 1 0 0 0 0 1 1 1 1 1 0 0 1 1 1 1 1 0 1 0 1 1 0\n",
              " [38] 1 0 0 1 1 0 0 0 0 0 1 1 1 0 1 1 0 1 1 1 1 1 0 0 1 1 0 1 1 1 0 1 0 0 0 1 0\n",
              " [75] 0 1 1 1 1 0 1 1 1 1 1 1 0 1 1 1 1 0 0 1 0 1 0 1 1 1 0 1 1 1 1 1 0 1 1 1 1\n",
              "[112] 1 0 0 1 1 0 1 1 1 1 0 1 1 1 1 0 0 0 1 0 1 1 1 0 0 1 1 1 1 1 1 1 0 0 1 1 1\n",
              "[149] 1 1 0 1 1 1 1 1 1 1 0 1 0 0 1 0 1 1 1 0 1 0 1 0 0 0 1 0 0 1 0 1 0 1 0 1 1\n",
              "[186] 1 1 1 1 0 0 1 1 1 1 1 1 1 0 1 1 1 1 0 0 1 0 0 0 0 1 1 1 1 1 1 0 1 1 0 1 1\n",
              "[223] 1 0 0 1 0 1 1 1 1 0 0 0 1 0 1 1 0 1 0 1 1 1 1 1 0 1 1 0 1 1 1 1 1 1 1 0 1\n",
              "[260] 1 1 1 0 0 1 1 1 1 1 1 1 1 1 0 1 1 0 1 1 1 1 1 0 0 0 1 1 1 0 0 0 1 1 1 0 0\n",
              "[297] 1 0 1 1 1 1 1 1 0 1 0 1 1 1 1 1 0 1 0 0 1 0 0 1 0 1 0 0 1 0 1 0 1 1 1 1 1\n",
              "[334] 1 1 0 1 1 1 1 1 0 1 1 1 1 1 0 1 0 1"
            ]
          },
          "metadata": {}
        }
      ]
    },
    {
      "cell_type": "code",
      "source": [
        "y_test_train <- as.numeric(pima_test$class) -1"
      ],
      "metadata": {
        "id": "3z0C_f2Y4EGE"
      },
      "execution_count": 67,
      "outputs": []
    },
    {
      "cell_type": "code",
      "source": [
        "y_test_train"
      ],
      "metadata": {
        "colab": {
          "base_uri": "https://localhost:8080/",
          "height": 119
        },
        "id": "mVa5rCd84eJk",
        "outputId": "ebc538ab-199a-4dc2-c567-ce67df3a59df"
      },
      "execution_count": 68,
      "outputs": [
        {
          "output_type": "display_data",
          "data": {
            "text/html": [
              "<style>\n",
              ".list-inline {list-style: none; margin:0; padding: 0}\n",
              ".list-inline>li {display: inline-block}\n",
              ".list-inline>li:not(:last-child)::after {content: \"\\00b7\"; padding: 0 .5ex}\n",
              "</style>\n",
              "<ol class=list-inline><li>0</li><li>1</li><li>1</li><li>0</li><li>0</li><li>0</li><li>1</li><li>0</li><li>1</li><li>1</li><li>0</li><li>0</li><li>0</li><li>1</li><li>1</li><li>0</li><li>1</li><li>0</li><li>1</li><li>1</li><li>1</li><li>1</li><li>1</li><li>0</li><li>1</li><li>1</li><li>1</li><li>1</li><li>1</li><li>1</li><li>1</li><li>1</li><li>1</li><li>0</li><li>0</li><li>1</li><li>1</li><li>1</li><li>1</li><li>1</li><li>0</li><li>0</li><li>0</li><li>1</li><li>1</li><li>0</li><li>0</li><li>1</li><li>0</li><li>0</li><li>1</li><li>1</li><li>1</li><li>0</li><li>1</li><li>0</li><li>0</li><li>1</li><li>0</li><li>1</li><li>1</li><li>1</li><li>0</li><li>1</li><li>1</li><li>1</li><li>0</li><li>0</li><li>1</li><li>1</li><li>1</li><li>1</li><li>1</li><li>1</li><li>1</li><li>0</li><li>1</li><li>0</li><li>1</li><li>1</li><li>0</li><li>1</li><li>1</li><li>1</li><li>0</li><li>1</li><li>1</li><li>0</li><li>1</li><li>1</li><li>1</li><li>1</li><li>1</li><li>1</li><li>1</li><li>1</li><li>1</li><li>0</li><li>0</li><li>0</li><li>1</li><li>1</li><li>0</li><li>0</li><li>0</li><li>0</li><li>1</li><li>1</li><li>1</li><li>1</li><li>0</li><li>1</li><li>1</li><li>0</li><li>1</li><li>1</li><li>1</li><li>1</li><li>1</li><li>1</li><li>1</li><li>1</li><li>1</li><li>1</li><li>1</li><li>0</li><li>1</li><li>1</li><li>0</li><li>1</li><li>1</li><li>1</li><li>1</li><li>1</li><li>0</li><li>1</li><li>1</li><li>0</li><li>1</li><li>1</li><li>1</li><li>1</li><li>0</li><li>1</li><li>1</li><li>1</li><li>0</li><li>1</li><li>1</li><li>0</li><li>0</li><li>1</li><li>0</li><li>1</li><li>1</li><li>1</li><li>1</li><li>0</li><li>1</li><li>0</li><li>0</li><li>1</li><li>0</li><li>0</li><li>0</li><li>1</li><li>1</li><li>1</li><li>1</li><li>1</li><li>1</li><li>1</li><li>1</li><li>1</li><li>1</li><li>1</li><li>1</li><li>0</li><li>0</li><li>1</li><li>1</li></ol>\n"
            ],
            "text/markdown": "1. 0\n2. 1\n3. 1\n4. 0\n5. 0\n6. 0\n7. 1\n8. 0\n9. 1\n10. 1\n11. 0\n12. 0\n13. 0\n14. 1\n15. 1\n16. 0\n17. 1\n18. 0\n19. 1\n20. 1\n21. 1\n22. 1\n23. 1\n24. 0\n25. 1\n26. 1\n27. 1\n28. 1\n29. 1\n30. 1\n31. 1\n32. 1\n33. 1\n34. 0\n35. 0\n36. 1\n37. 1\n38. 1\n39. 1\n40. 1\n41. 0\n42. 0\n43. 0\n44. 1\n45. 1\n46. 0\n47. 0\n48. 1\n49. 0\n50. 0\n51. 1\n52. 1\n53. 1\n54. 0\n55. 1\n56. 0\n57. 0\n58. 1\n59. 0\n60. 1\n61. 1\n62. 1\n63. 0\n64. 1\n65. 1\n66. 1\n67. 0\n68. 0\n69. 1\n70. 1\n71. 1\n72. 1\n73. 1\n74. 1\n75. 1\n76. 0\n77. 1\n78. 0\n79. 1\n80. 1\n81. 0\n82. 1\n83. 1\n84. 1\n85. 0\n86. 1\n87. 1\n88. 0\n89. 1\n90. 1\n91. 1\n92. 1\n93. 1\n94. 1\n95. 1\n96. 1\n97. 1\n98. 0\n99. 0\n100. 0\n101. 1\n102. 1\n103. 0\n104. 0\n105. 0\n106. 0\n107. 1\n108. 1\n109. 1\n110. 1\n111. 0\n112. 1\n113. 1\n114. 0\n115. 1\n116. 1\n117. 1\n118. 1\n119. 1\n120. 1\n121. 1\n122. 1\n123. 1\n124. 1\n125. 1\n126. 0\n127. 1\n128. 1\n129. 0\n130. 1\n131. 1\n132. 1\n133. 1\n134. 1\n135. 0\n136. 1\n137. 1\n138. 0\n139. 1\n140. 1\n141. 1\n142. 1\n143. 0\n144. 1\n145. 1\n146. 1\n147. 0\n148. 1\n149. 1\n150. 0\n151. 0\n152. 1\n153. 0\n154. 1\n155. 1\n156. 1\n157. 1\n158. 0\n159. 1\n160. 0\n161. 0\n162. 1\n163. 0\n164. 0\n165. 0\n166. 1\n167. 1\n168. 1\n169. 1\n170. 1\n171. 1\n172. 1\n173. 1\n174. 1\n175. 1\n176. 1\n177. 1\n178. 0\n179. 0\n180. 1\n181. 1\n\n\n",
            "text/latex": "\\begin{enumerate*}\n\\item 0\n\\item 1\n\\item 1\n\\item 0\n\\item 0\n\\item 0\n\\item 1\n\\item 0\n\\item 1\n\\item 1\n\\item 0\n\\item 0\n\\item 0\n\\item 1\n\\item 1\n\\item 0\n\\item 1\n\\item 0\n\\item 1\n\\item 1\n\\item 1\n\\item 1\n\\item 1\n\\item 0\n\\item 1\n\\item 1\n\\item 1\n\\item 1\n\\item 1\n\\item 1\n\\item 1\n\\item 1\n\\item 1\n\\item 0\n\\item 0\n\\item 1\n\\item 1\n\\item 1\n\\item 1\n\\item 1\n\\item 0\n\\item 0\n\\item 0\n\\item 1\n\\item 1\n\\item 0\n\\item 0\n\\item 1\n\\item 0\n\\item 0\n\\item 1\n\\item 1\n\\item 1\n\\item 0\n\\item 1\n\\item 0\n\\item 0\n\\item 1\n\\item 0\n\\item 1\n\\item 1\n\\item 1\n\\item 0\n\\item 1\n\\item 1\n\\item 1\n\\item 0\n\\item 0\n\\item 1\n\\item 1\n\\item 1\n\\item 1\n\\item 1\n\\item 1\n\\item 1\n\\item 0\n\\item 1\n\\item 0\n\\item 1\n\\item 1\n\\item 0\n\\item 1\n\\item 1\n\\item 1\n\\item 0\n\\item 1\n\\item 1\n\\item 0\n\\item 1\n\\item 1\n\\item 1\n\\item 1\n\\item 1\n\\item 1\n\\item 1\n\\item 1\n\\item 1\n\\item 0\n\\item 0\n\\item 0\n\\item 1\n\\item 1\n\\item 0\n\\item 0\n\\item 0\n\\item 0\n\\item 1\n\\item 1\n\\item 1\n\\item 1\n\\item 0\n\\item 1\n\\item 1\n\\item 0\n\\item 1\n\\item 1\n\\item 1\n\\item 1\n\\item 1\n\\item 1\n\\item 1\n\\item 1\n\\item 1\n\\item 1\n\\item 1\n\\item 0\n\\item 1\n\\item 1\n\\item 0\n\\item 1\n\\item 1\n\\item 1\n\\item 1\n\\item 1\n\\item 0\n\\item 1\n\\item 1\n\\item 0\n\\item 1\n\\item 1\n\\item 1\n\\item 1\n\\item 0\n\\item 1\n\\item 1\n\\item 1\n\\item 0\n\\item 1\n\\item 1\n\\item 0\n\\item 0\n\\item 1\n\\item 0\n\\item 1\n\\item 1\n\\item 1\n\\item 1\n\\item 0\n\\item 1\n\\item 0\n\\item 0\n\\item 1\n\\item 0\n\\item 0\n\\item 0\n\\item 1\n\\item 1\n\\item 1\n\\item 1\n\\item 1\n\\item 1\n\\item 1\n\\item 1\n\\item 1\n\\item 1\n\\item 1\n\\item 1\n\\item 0\n\\item 0\n\\item 1\n\\item 1\n\\end{enumerate*}\n",
            "text/plain": [
              "  [1] 0 1 1 0 0 0 1 0 1 1 0 0 0 1 1 0 1 0 1 1 1 1 1 0 1 1 1 1 1 1 1 1 1 0 0 1 1\n",
              " [38] 1 1 1 0 0 0 1 1 0 0 1 0 0 1 1 1 0 1 0 0 1 0 1 1 1 0 1 1 1 0 0 1 1 1 1 1 1\n",
              " [75] 1 0 1 0 1 1 0 1 1 1 0 1 1 0 1 1 1 1 1 1 1 1 1 0 0 0 1 1 0 0 0 0 1 1 1 1 0\n",
              "[112] 1 1 0 1 1 1 1 1 1 1 1 1 1 1 0 1 1 0 1 1 1 1 1 0 1 1 0 1 1 1 1 0 1 1 1 0 1\n",
              "[149] 1 0 0 1 0 1 1 1 1 0 1 0 0 1 0 0 0 1 1 1 1 1 1 1 1 1 1 1 1 0 0 1 1"
            ]
          },
          "metadata": {}
        }
      ]
    },
    {
      "cell_type": "code",
      "source": [
        "train_err <- (1/length(y_true_train))*sum(abs(y_hat_train -y_true_train))"
      ],
      "metadata": {
        "id": "TjH2iZ8U3kHf"
      },
      "execution_count": 69,
      "outputs": []
    },
    {
      "cell_type": "code",
      "source": [
        "train_err"
      ],
      "metadata": {
        "colab": {
          "base_uri": "https://localhost:8080/",
          "height": 34
        },
        "id": "h9cF3H214htd",
        "outputId": "18acd7da-6e52-435c-c08c-ec0da600a867"
      },
      "execution_count": 70,
      "outputs": [
        {
          "output_type": "display_data",
          "data": {
            "text/html": [
              "0.216524216524217"
            ],
            "text/markdown": "0.216524216524217",
            "text/latex": "0.216524216524217",
            "text/plain": [
              "[1] 0.2165242"
            ]
          },
          "metadata": {}
        }
      ]
    },
    {
      "cell_type": "code",
      "source": [
        "y_true_test <- as.numeric(pima_test$class) - 1"
      ],
      "metadata": {
        "id": "TUgjC9um5KiR"
      },
      "execution_count": 74,
      "outputs": []
    },
    {
      "cell_type": "code",
      "source": [
        "test_err <- (1/length(y_true_test)) * sum(abs(y_hat_test - y_true_test))"
      ],
      "metadata": {
        "id": "CBbdH0G-4skS"
      },
      "execution_count": 75,
      "outputs": []
    },
    {
      "cell_type": "code",
      "source": [
        "test_err"
      ],
      "metadata": {
        "colab": {
          "base_uri": "https://localhost:8080/",
          "height": 34
        },
        "id": "JGJEX7ZL5O2R",
        "outputId": "50ad3718-d45d-4ad9-fded-269dd52014db"
      },
      "execution_count": 76,
      "outputs": [
        {
          "output_type": "display_data",
          "data": {
            "text/html": [
              "0.237569060773481"
            ],
            "text/markdown": "0.237569060773481",
            "text/latex": "0.237569060773481",
            "text/plain": [
              "[1] 0.2375691"
            ]
          },
          "metadata": {}
        }
      ]
    },
    {
      "cell_type": "code",
      "source": [
        "#confusion matrix"
      ],
      "metadata": {
        "id": "lVs5TKZG5Zsa"
      },
      "execution_count": 77,
      "outputs": []
    },
    {
      "cell_type": "code",
      "source": [
        "library(caret)"
      ],
      "metadata": {
        "colab": {
          "base_uri": "https://localhost:8080/"
        },
        "id": "oNI3WP7f7EUt",
        "outputId": "360aed69-0249-4162-d4d3-2307364d740d"
      },
      "execution_count": 86,
      "outputs": [
        {
          "output_type": "stream",
          "name": "stderr",
          "text": [
            "Loading required package: ggplot2\n",
            "\n",
            "Loading required package: lattice\n",
            "\n"
          ]
        }
      ]
    },
    {
      "cell_type": "code",
      "source": [
        "conf <- confusionMatrix(as.factor(y_hat_test), as.factor(y_true_test))"
      ],
      "metadata": {
        "id": "eMaw5Kvq5do1"
      },
      "execution_count": 87,
      "outputs": []
    },
    {
      "cell_type": "code",
      "source": [
        "conf"
      ],
      "metadata": {
        "colab": {
          "base_uri": "https://localhost:8080/",
          "height": 476
        },
        "id": "zEnXGQcg6M22",
        "outputId": "e6af5fad-3745-4374-ae7c-6cc2b0d5eace"
      },
      "execution_count": 88,
      "outputs": [
        {
          "output_type": "display_data",
          "data": {
            "text/plain": [
              "Confusion Matrix and Statistics\n",
              "\n",
              "          Reference\n",
              "Prediction   0   1\n",
              "         0  35  20\n",
              "         1  23 103\n",
              "                                          \n",
              "               Accuracy : 0.7624          \n",
              "                 95% CI : (0.6936, 0.8224)\n",
              "    No Information Rate : 0.6796          \n",
              "    P-Value [Acc > NIR] : 0.009158        \n",
              "                                          \n",
              "                  Kappa : 0.447           \n",
              "                                          \n",
              " Mcnemar's Test P-Value : 0.760368        \n",
              "                                          \n",
              "            Sensitivity : 0.6034          \n",
              "            Specificity : 0.8374          \n",
              "         Pos Pred Value : 0.6364          \n",
              "         Neg Pred Value : 0.8175          \n",
              "             Prevalence : 0.3204          \n",
              "         Detection Rate : 0.1934          \n",
              "   Detection Prevalence : 0.3039          \n",
              "      Balanced Accuracy : 0.7204          \n",
              "                                          \n",
              "       'Positive' Class : 0               \n",
              "                                          "
            ]
          },
          "metadata": {}
        }
      ]
    }
  ]
}